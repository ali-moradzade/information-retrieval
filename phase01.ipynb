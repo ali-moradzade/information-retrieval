{
 "cells": [
  {
   "cell_type": "markdown",
   "id": "20e92535",
   "metadata": {},
   "source": [
    "# Information Retrieval Project (phase 1)\n",
    "### By Ali Moradzade 9831058\n"
   ]
  },
  {
   "cell_type": "code",
   "execution_count": 1,
   "id": "d3e62a74",
   "metadata": {},
   "outputs": [
    {
     "name": "stdout",
     "output_type": "stream",
     "text": [
      "Today's date: 2022-06-08\n"
     ]
    }
   ],
   "source": [
    "from datetime import date\n",
    "\n",
    "today = date.today()\n",
    "print(\"Today's date:\", today)"
   ]
  },
  {
   "cell_type": "markdown",
   "id": "84defcea",
   "metadata": {},
   "source": [
    "# Importing some libraries "
   ]
  },
  {
   "cell_type": "code",
   "execution_count": 2,
   "id": "f20189e2",
   "metadata": {},
   "outputs": [],
   "source": [
    "import numpy as np\n",
    "import pandas as pd\n",
    "import matplotlib.pyplot as plt\n",
    "import seaborn as sns"
   ]
  },
  {
   "cell_type": "markdown",
   "id": "bc3a319c",
   "metadata": {},
   "source": [
    "# Reading the data"
   ]
  },
  {
   "cell_type": "markdown",
   "id": "031e3357",
   "metadata": {},
   "source": [
    "For real purposes we use uncomment the below line:"
   ]
  },
  {
   "cell_type": "code",
   "execution_count": 3,
   "id": "94ab4b7a",
   "metadata": {},
   "outputs": [],
   "source": [
    "df = pd.read_json('data/IR_data_news_12k.json')"
   ]
  },
  {
   "cell_type": "markdown",
   "id": "c3297116",
   "metadata": {},
   "source": [
    "For testing the functionality we use just first 10 entries: (for real use, comment it)"
   ]
  },
  {
   "cell_type": "code",
   "execution_count": 4,
   "id": "9584c280",
   "metadata": {},
   "outputs": [],
   "source": [
    "# df = df.transpose().iloc[:10].transpose()"
   ]
  },
  {
   "cell_type": "markdown",
   "id": "51df5c89",
   "metadata": {},
   "source": [
    "# Doing some EDA"
   ]
  },
  {
   "cell_type": "code",
   "execution_count": 5,
   "id": "6ad802c3",
   "metadata": {},
   "outputs": [
    {
     "data": {
      "text/html": [
       "<div>\n",
       "<style scoped>\n",
       "    .dataframe tbody tr th:only-of-type {\n",
       "        vertical-align: middle;\n",
       "    }\n",
       "\n",
       "    .dataframe tbody tr th {\n",
       "        vertical-align: top;\n",
       "    }\n",
       "\n",
       "    .dataframe thead th {\n",
       "        text-align: right;\n",
       "    }\n",
       "</style>\n",
       "<table border=\"1\" class=\"dataframe\">\n",
       "  <thead>\n",
       "    <tr style=\"text-align: right;\">\n",
       "      <th></th>\n",
       "      <th>0</th>\n",
       "      <th>1</th>\n",
       "      <th>2</th>\n",
       "      <th>3</th>\n",
       "      <th>4</th>\n",
       "      <th>5</th>\n",
       "      <th>6</th>\n",
       "      <th>7</th>\n",
       "      <th>8</th>\n",
       "      <th>9</th>\n",
       "      <th>...</th>\n",
       "      <th>12192</th>\n",
       "      <th>12193</th>\n",
       "      <th>12194</th>\n",
       "      <th>12195</th>\n",
       "      <th>12196</th>\n",
       "      <th>12197</th>\n",
       "      <th>12198</th>\n",
       "      <th>12199</th>\n",
       "      <th>12200</th>\n",
       "      <th>12201</th>\n",
       "    </tr>\n",
       "  </thead>\n",
       "  <tbody>\n",
       "    <tr>\n",
       "      <th>title</th>\n",
       "      <td>اعلام زمان قرعه کشی جام باشگاه های فوتسال آسیا</td>\n",
       "      <td>سجادی :حضور تماشاگران در  لیگ برتر فوتبال تابع...</td>\n",
       "      <td>محل برگزاری نشست‌های خبری سرخابی‌ها؛ مجیدی در ...</td>\n",
       "      <td>ماجدی در نشست با صالحی امیری: امیدوارم در این ...</td>\n",
       "      <td>لیگ‌برتر بسکتبال|‌ نخستین پیروزی شهرداری گرگان...</td>\n",
       "      <td>مسابقات تنیس روی میز فیدر قطر| هر4 بانوی ملی پ...</td>\n",
       "      <td>اعلام برنامه نشست خبری گل محمدی/ مجیدی هم باید...</td>\n",
       "      <td>احضار مدیران پرسپولیس به کمیته انضباطی  پیش از...</td>\n",
       "      <td>مدیر بی‌دستاورد، رئیس شد/ روزگار تلخ‌تر از تلخ...</td>\n",
       "      <td>خبر خوب برای استقلال؛ دانشگر با تیم تمرین کرد</td>\n",
       "      <td>...</td>\n",
       "      <td>کمیته ویژه‌ای از سوی رئیس جمهور مسئول پیگیری م...</td>\n",
       "      <td>مصری: با سفرهای استانی، کُلاه سر رئیس‌جمهور نم...</td>\n",
       "      <td>رئیسی به اردبیل سفر می‌کند/ توضیحاتی درباره مق...</td>\n",
       "      <td>رئیس دفتر رئیس جمهور وضعیت زلزله زرند را بررسی...</td>\n",
       "      <td>جزئیات گزارش سفر نظارتی اعضای کمیسیون فرهنگی م...</td>\n",
       "      <td>دفع حمله دزدان دریایی به دو نفتکش ایرانی توسط ...</td>\n",
       "      <td>نقدی بر یادداشت «مرزبندی گفتمانی با طالبان»/ و...</td>\n",
       "      <td>روند تحقیق و تفحص از سازمان سنجش با جدیت ادامه...</td>\n",
       "      <td>محسن اسلامی مدیرکل دفتر امور سیاسی وزارت کشور شد</td>\n",
       "      <td>جلسه سران قوا به‌ میزبانی رئیس مجلس برگزار شد</td>\n",
       "    </tr>\n",
       "    <tr>\n",
       "      <th>content</th>\n",
       "      <td>\\nبه گزارش خبرگزاری فارس، کنفدراسیون فوتبال آس...</td>\n",
       "      <td>\\nبه گزارش خبرگزاری فارس، سید حمید سجادی در حا...</td>\n",
       "      <td>\\nبه گزارش خبرگزاری فارس، نشست خبری پیش از مسا...</td>\n",
       "      <td>\\nبه گزارش خبرگزاری فارس،  سید رضا صالحی امیری...</td>\n",
       "      <td>\\nبه گزارش خبرنگار ورزشی خبرگزاری فارس، در نخس...</td>\n",
       "      <td>\\nبه گزارش خبرگزاری فارس، چهار بانوی تنیس روی ...</td>\n",
       "      <td>\\nبه گزارش خبرگزاری فارس و به نقل از  سایت باش...</td>\n",
       "      <td>\\nبه گزارش خبرنگار ورزشی خبرگزاری فارس، کمیته ...</td>\n",
       "      <td>\\nبه گزارش خبرنگار ورزشی خبرگزاری فارس، مجمع ا...</td>\n",
       "      <td>\\nبه گزارش خبرنگار ورزشی خبرگزاری فارس، تمرین ...</td>\n",
       "      <td>...</td>\n",
       "      <td>\\nاسماعیلی حسین زهی نماینده مردم خاش در مجلس ش...</td>\n",
       "      <td>\\nعبدالرضا مصری نایب رئیس مجلس شورای اسلامی در...</td>\n",
       "      <td>\\nبه گزارش گروه سیاسی خبرگزاری فارس، سیّد صولت...</td>\n",
       "      <td>\\nبه گزارش گروه سیاسی خبرگزاری فارس غلامحسین ا...</td>\n",
       "      <td>\\nغلامرضا منتظری نماینده مردم گرگان در مجلس شو...</td>\n",
       "      <td>\\nبه گزارش گروه دفاعی خبرگزاری فارس، دریادار ش...</td>\n",
       "      <td>\\nخبرگزاری فارس ـ یادداشت میهمان ـ مسعود مرادی...</td>\n",
       "      <td>\\nبه گزارش خبرنگار پارلمانی خبرگزاری فارس، هیا...</td>\n",
       "      <td>\\nبه گزارش خبرگزاری فارس به نقل از پایگاه اطلا...</td>\n",
       "      <td>\\nبه گزارش خبرنگار پارلمانی خبرگزاری فارس، جلس...</td>\n",
       "    </tr>\n",
       "    <tr>\n",
       "      <th>tags</th>\n",
       "      <td>[اعلام زمان, قرعه‌کشی, قرعه‌کشی جام, قرعه‌کشی ...</td>\n",
       "      <td>[سجادی, لیگ, فدراسیون, وزیر ورزش]</td>\n",
       "      <td>[دربی 94, محل برگزاری, خبری سرخابی‌ها, مجیدی, ...</td>\n",
       "      <td>[کمیته امداد امام خمینی (ره), کمیته ملی المپیک...</td>\n",
       "      <td>[بسکتبال, لیگ برتر بسکتبال, شهرداری گرگان, تیم...</td>\n",
       "      <td>[مهشید اشتری, تنیس روی میز, ملی پوشان تنیس روی...</td>\n",
       "      <td>[باشگاه استقلال, یحیی گل محمدی, فرهاد مجیدی, ن...</td>\n",
       "      <td>[باشگاه پرسپولیس, احضار مدیران پرسپولیس به کمی...</td>\n",
       "      <td>[والیبال, پیمان رضایی, تیم والیبال شهرداری ارو...</td>\n",
       "      <td>[دانشگر با تیم تمرین کرد, محمد دانشگر, استقلال]</td>\n",
       "      <td>...</td>\n",
       "      <td>[مجلس شورای اسلامی, کمیسیون عمران, اسماعیل حسی...</td>\n",
       "      <td>[سید ابراهیم رئیسی, مجلس شورای اسلامی, رئیس‌جم...</td>\n",
       "      <td>[سید ابراهیم رئیسی, صولت مرتضوی, سفر رئیسی به ...</td>\n",
       "      <td>[غلامحسین اسماعیلی, رئیس دفتر رئیس جمهور, زلزل...</td>\n",
       "      <td>[مجلس شورای اسلامی, غلامرضا منتظری, نایب رئیس ...</td>\n",
       "      <td>[ارتش جمهوری اسلامی ایران, شهرام ایرانی, نیروی...</td>\n",
       "      <td>[طالبان, یادداشت, گفتمان, جمهوری اسلامی ایران,...</td>\n",
       "      <td>[مجلس شورای اسلامی, سازمان سنجش و آموزش کشور, ...</td>\n",
       "      <td>[وزارت کشور, احمد وحیدی, وزیر کشور, وزارت علوم...</td>\n",
       "      <td>[سران قوا, رئیس مجلس, رئیس جمهور, رئیس قوه قضا...</td>\n",
       "    </tr>\n",
       "    <tr>\n",
       "      <th>date</th>\n",
       "      <td>3/15/2022 5:59:27 PM</td>\n",
       "      <td>3/15/2022 5:30:07 PM</td>\n",
       "      <td>3/15/2022 5:20:01 PM</td>\n",
       "      <td>3/15/2022 5:18:00 PM</td>\n",
       "      <td>3/15/2022 5:16:41 PM</td>\n",
       "      <td>3/15/2022 5:15:34 PM</td>\n",
       "      <td>3/15/2022 3:57:47 PM</td>\n",
       "      <td>3/15/2022 3:43:18 PM</td>\n",
       "      <td>3/15/2022 3:35:21 PM</td>\n",
       "      <td>3/15/2022 3:21:04 PM</td>\n",
       "      <td>...</td>\n",
       "      <td>10/17/2021 7:17:00 AM</td>\n",
       "      <td>10/17/2021 6:05:00 AM</td>\n",
       "      <td>10/16/2021 8:58:18 PM</td>\n",
       "      <td>10/16/2021 8:47:20 PM</td>\n",
       "      <td>10/16/2021 7:38:13 PM</td>\n",
       "      <td>10/16/2021 6:25:36 PM</td>\n",
       "      <td>10/16/2021 5:03:39 PM</td>\n",
       "      <td>10/16/2021 4:54:47 PM</td>\n",
       "      <td>10/16/2021 4:14:30 PM</td>\n",
       "      <td>10/16/2021 4:05:31 PM</td>\n",
       "    </tr>\n",
       "    <tr>\n",
       "      <th>url</th>\n",
       "      <td>https://www.farsnews.ir/news/14001224001005/اع...</td>\n",
       "      <td>https://www.farsnews.ir/news/14001224000982/سج...</td>\n",
       "      <td>https://www.farsnews.ir/news/14001224000971/مح...</td>\n",
       "      <td>https://www.farsnews.ir/news/14001224000964/ما...</td>\n",
       "      <td>https://www.farsnews.ir/news/14001224000947/لی...</td>\n",
       "      <td>https://www.farsnews.ir/news/14001224000916/مس...</td>\n",
       "      <td>https://www.farsnews.ir/news/14001224000865/اع...</td>\n",
       "      <td>https://www.farsnews.ir/news/14001224000842/اح...</td>\n",
       "      <td>https://www.farsnews.ir/news/14001224000811/مد...</td>\n",
       "      <td>https://www.farsnews.ir/news/14001224000819/خب...</td>\n",
       "      <td>...</td>\n",
       "      <td>https://www.farsnews.ir/news/14000724000586/کم...</td>\n",
       "      <td>https://www.farsnews.ir/news/14000724000679/مص...</td>\n",
       "      <td>https://www.farsnews.ir/news/14000724000905/رئ...</td>\n",
       "      <td>https://www.farsnews.ir/news/14000724000899/رئ...</td>\n",
       "      <td>https://www.farsnews.ir/news/14000724000826/جز...</td>\n",
       "      <td>https://www.farsnews.ir/news/14000724000790/دف...</td>\n",
       "      <td>https://www.farsnews.ir/news/14000724000611/نق...</td>\n",
       "      <td>https://www.farsnews.ir/news/14000724000694/رو...</td>\n",
       "      <td>https://www.farsnews.ir/news/14000724000651/مح...</td>\n",
       "      <td>https://www.farsnews.ir/news/14000724000639/جل...</td>\n",
       "    </tr>\n",
       "    <tr>\n",
       "      <th>category</th>\n",
       "      <td>sports</td>\n",
       "      <td>sports</td>\n",
       "      <td>sports</td>\n",
       "      <td>sports</td>\n",
       "      <td>sports</td>\n",
       "      <td>sports</td>\n",
       "      <td>sports</td>\n",
       "      <td>sports</td>\n",
       "      <td>sports</td>\n",
       "      <td>sports</td>\n",
       "      <td>...</td>\n",
       "      <td>politics</td>\n",
       "      <td>politics</td>\n",
       "      <td>politics</td>\n",
       "      <td>politics</td>\n",
       "      <td>politics</td>\n",
       "      <td>politics</td>\n",
       "      <td>politics</td>\n",
       "      <td>politics</td>\n",
       "      <td>politics</td>\n",
       "      <td>politics</td>\n",
       "    </tr>\n",
       "  </tbody>\n",
       "</table>\n",
       "<p>6 rows × 12202 columns</p>\n",
       "</div>"
      ],
      "text/plain": [
       "                                                      0      \\\n",
       "title        اعلام زمان قرعه کشی جام باشگاه های فوتسال آسیا   \n",
       "content   \\nبه گزارش خبرگزاری فارس، کنفدراسیون فوتبال آس...   \n",
       "tags      [اعلام زمان, قرعه‌کشی, قرعه‌کشی جام, قرعه‌کشی ...   \n",
       "date                                   3/15/2022 5:59:27 PM   \n",
       "url       https://www.farsnews.ir/news/14001224001005/اع...   \n",
       "category                                             sports   \n",
       "\n",
       "                                                      1      \\\n",
       "title     سجادی :حضور تماشاگران در  لیگ برتر فوتبال تابع...   \n",
       "content   \\nبه گزارش خبرگزاری فارس، سید حمید سجادی در حا...   \n",
       "tags                      [سجادی, لیگ, فدراسیون, وزیر ورزش]   \n",
       "date                                   3/15/2022 5:30:07 PM   \n",
       "url       https://www.farsnews.ir/news/14001224000982/سج...   \n",
       "category                                             sports   \n",
       "\n",
       "                                                      2      \\\n",
       "title     محل برگزاری نشست‌های خبری سرخابی‌ها؛ مجیدی در ...   \n",
       "content   \\nبه گزارش خبرگزاری فارس، نشست خبری پیش از مسا...   \n",
       "tags      [دربی 94, محل برگزاری, خبری سرخابی‌ها, مجیدی, ...   \n",
       "date                                   3/15/2022 5:20:01 PM   \n",
       "url       https://www.farsnews.ir/news/14001224000971/مح...   \n",
       "category                                             sports   \n",
       "\n",
       "                                                      3      \\\n",
       "title     ماجدی در نشست با صالحی امیری: امیدوارم در این ...   \n",
       "content   \\nبه گزارش خبرگزاری فارس،  سید رضا صالحی امیری...   \n",
       "tags      [کمیته امداد امام خمینی (ره), کمیته ملی المپیک...   \n",
       "date                                   3/15/2022 5:18:00 PM   \n",
       "url       https://www.farsnews.ir/news/14001224000964/ما...   \n",
       "category                                             sports   \n",
       "\n",
       "                                                      4      \\\n",
       "title     لیگ‌برتر بسکتبال|‌ نخستین پیروزی شهرداری گرگان...   \n",
       "content   \\nبه گزارش خبرنگار ورزشی خبرگزاری فارس، در نخس...   \n",
       "tags      [بسکتبال, لیگ برتر بسکتبال, شهرداری گرگان, تیم...   \n",
       "date                                   3/15/2022 5:16:41 PM   \n",
       "url       https://www.farsnews.ir/news/14001224000947/لی...   \n",
       "category                                             sports   \n",
       "\n",
       "                                                      5      \\\n",
       "title     مسابقات تنیس روی میز فیدر قطر| هر4 بانوی ملی پ...   \n",
       "content   \\nبه گزارش خبرگزاری فارس، چهار بانوی تنیس روی ...   \n",
       "tags      [مهشید اشتری, تنیس روی میز, ملی پوشان تنیس روی...   \n",
       "date                                   3/15/2022 5:15:34 PM   \n",
       "url       https://www.farsnews.ir/news/14001224000916/مس...   \n",
       "category                                             sports   \n",
       "\n",
       "                                                      6      \\\n",
       "title     اعلام برنامه نشست خبری گل محمدی/ مجیدی هم باید...   \n",
       "content   \\nبه گزارش خبرگزاری فارس و به نقل از  سایت باش...   \n",
       "tags      [باشگاه استقلال, یحیی گل محمدی, فرهاد مجیدی, ن...   \n",
       "date                                   3/15/2022 3:57:47 PM   \n",
       "url       https://www.farsnews.ir/news/14001224000865/اع...   \n",
       "category                                             sports   \n",
       "\n",
       "                                                      7      \\\n",
       "title     احضار مدیران پرسپولیس به کمیته انضباطی  پیش از...   \n",
       "content   \\nبه گزارش خبرنگار ورزشی خبرگزاری فارس، کمیته ...   \n",
       "tags      [باشگاه پرسپولیس, احضار مدیران پرسپولیس به کمی...   \n",
       "date                                   3/15/2022 3:43:18 PM   \n",
       "url       https://www.farsnews.ir/news/14001224000842/اح...   \n",
       "category                                             sports   \n",
       "\n",
       "                                                      8      \\\n",
       "title     مدیر بی‌دستاورد، رئیس شد/ روزگار تلخ‌تر از تلخ...   \n",
       "content   \\nبه گزارش خبرنگار ورزشی خبرگزاری فارس، مجمع ا...   \n",
       "tags      [والیبال, پیمان رضایی, تیم والیبال شهرداری ارو...   \n",
       "date                                   3/15/2022 3:35:21 PM   \n",
       "url       https://www.farsnews.ir/news/14001224000811/مد...   \n",
       "category                                             sports   \n",
       "\n",
       "                                                      9      ...  \\\n",
       "title         خبر خوب برای استقلال؛ دانشگر با تیم تمرین کرد  ...   \n",
       "content   \\nبه گزارش خبرنگار ورزشی خبرگزاری فارس، تمرین ...  ...   \n",
       "tags        [دانشگر با تیم تمرین کرد, محمد دانشگر, استقلال]  ...   \n",
       "date                                   3/15/2022 3:21:04 PM  ...   \n",
       "url       https://www.farsnews.ir/news/14001224000819/خب...  ...   \n",
       "category                                             sports  ...   \n",
       "\n",
       "                                                      12192  \\\n",
       "title     کمیته ویژه‌ای از سوی رئیس جمهور مسئول پیگیری م...   \n",
       "content   \\nاسماعیلی حسین زهی نماینده مردم خاش در مجلس ش...   \n",
       "tags      [مجلس شورای اسلامی, کمیسیون عمران, اسماعیل حسی...   \n",
       "date                                  10/17/2021 7:17:00 AM   \n",
       "url       https://www.farsnews.ir/news/14000724000586/کم...   \n",
       "category                                           politics   \n",
       "\n",
       "                                                      12193  \\\n",
       "title     مصری: با سفرهای استانی، کُلاه سر رئیس‌جمهور نم...   \n",
       "content   \\nعبدالرضا مصری نایب رئیس مجلس شورای اسلامی در...   \n",
       "tags      [سید ابراهیم رئیسی, مجلس شورای اسلامی, رئیس‌جم...   \n",
       "date                                  10/17/2021 6:05:00 AM   \n",
       "url       https://www.farsnews.ir/news/14000724000679/مص...   \n",
       "category                                           politics   \n",
       "\n",
       "                                                      12194  \\\n",
       "title     رئیسی به اردبیل سفر می‌کند/ توضیحاتی درباره مق...   \n",
       "content   \\nبه گزارش گروه سیاسی خبرگزاری فارس، سیّد صولت...   \n",
       "tags      [سید ابراهیم رئیسی, صولت مرتضوی, سفر رئیسی به ...   \n",
       "date                                  10/16/2021 8:58:18 PM   \n",
       "url       https://www.farsnews.ir/news/14000724000905/رئ...   \n",
       "category                                           politics   \n",
       "\n",
       "                                                      12195  \\\n",
       "title     رئیس دفتر رئیس جمهور وضعیت زلزله زرند را بررسی...   \n",
       "content   \\nبه گزارش گروه سیاسی خبرگزاری فارس غلامحسین ا...   \n",
       "tags      [غلامحسین اسماعیلی, رئیس دفتر رئیس جمهور, زلزل...   \n",
       "date                                  10/16/2021 8:47:20 PM   \n",
       "url       https://www.farsnews.ir/news/14000724000899/رئ...   \n",
       "category                                           politics   \n",
       "\n",
       "                                                      12196  \\\n",
       "title     جزئیات گزارش سفر نظارتی اعضای کمیسیون فرهنگی م...   \n",
       "content   \\nغلامرضا منتظری نماینده مردم گرگان در مجلس شو...   \n",
       "tags      [مجلس شورای اسلامی, غلامرضا منتظری, نایب رئیس ...   \n",
       "date                                  10/16/2021 7:38:13 PM   \n",
       "url       https://www.farsnews.ir/news/14000724000826/جز...   \n",
       "category                                           politics   \n",
       "\n",
       "                                                      12197  \\\n",
       "title     دفع حمله دزدان دریایی به دو نفتکش ایرانی توسط ...   \n",
       "content   \\nبه گزارش گروه دفاعی خبرگزاری فارس، دریادار ش...   \n",
       "tags      [ارتش جمهوری اسلامی ایران, شهرام ایرانی, نیروی...   \n",
       "date                                  10/16/2021 6:25:36 PM   \n",
       "url       https://www.farsnews.ir/news/14000724000790/دف...   \n",
       "category                                           politics   \n",
       "\n",
       "                                                      12198  \\\n",
       "title     نقدی بر یادداشت «مرزبندی گفتمانی با طالبان»/ و...   \n",
       "content   \\nخبرگزاری فارس ـ یادداشت میهمان ـ مسعود مرادی...   \n",
       "tags      [طالبان, یادداشت, گفتمان, جمهوری اسلامی ایران,...   \n",
       "date                                  10/16/2021 5:03:39 PM   \n",
       "url       https://www.farsnews.ir/news/14000724000611/نق...   \n",
       "category                                           politics   \n",
       "\n",
       "                                                      12199  \\\n",
       "title     روند تحقیق و تفحص از سازمان سنجش با جدیت ادامه...   \n",
       "content   \\nبه گزارش خبرنگار پارلمانی خبرگزاری فارس، هیا...   \n",
       "tags      [مجلس شورای اسلامی, سازمان سنجش و آموزش کشور, ...   \n",
       "date                                  10/16/2021 4:54:47 PM   \n",
       "url       https://www.farsnews.ir/news/14000724000694/رو...   \n",
       "category                                           politics   \n",
       "\n",
       "                                                      12200  \\\n",
       "title      محسن اسلامی مدیرکل دفتر امور سیاسی وزارت کشور شد   \n",
       "content   \\nبه گزارش خبرگزاری فارس به نقل از پایگاه اطلا...   \n",
       "tags      [وزارت کشور, احمد وحیدی, وزیر کشور, وزارت علوم...   \n",
       "date                                  10/16/2021 4:14:30 PM   \n",
       "url       https://www.farsnews.ir/news/14000724000651/مح...   \n",
       "category                                           politics   \n",
       "\n",
       "                                                      12201  \n",
       "title         جلسه سران قوا به‌ میزبانی رئیس مجلس برگزار شد  \n",
       "content   \\nبه گزارش خبرنگار پارلمانی خبرگزاری فارس، جلس...  \n",
       "tags      [سران قوا, رئیس مجلس, رئیس جمهور, رئیس قوه قضا...  \n",
       "date                                  10/16/2021 4:05:31 PM  \n",
       "url       https://www.farsnews.ir/news/14000724000639/جل...  \n",
       "category                                           politics  \n",
       "\n",
       "[6 rows x 12202 columns]"
      ]
     },
     "execution_count": 5,
     "metadata": {},
     "output_type": "execute_result"
    }
   ],
   "source": [
    "df"
   ]
  },
  {
   "cell_type": "code",
   "execution_count": 6,
   "id": "6d814c1a",
   "metadata": {},
   "outputs": [],
   "source": [
    "df = df.transpose()"
   ]
  },
  {
   "cell_type": "code",
   "execution_count": 7,
   "id": "24ed0cc5",
   "metadata": {},
   "outputs": [
    {
     "data": {
      "text/html": [
       "<div>\n",
       "<style scoped>\n",
       "    .dataframe tbody tr th:only-of-type {\n",
       "        vertical-align: middle;\n",
       "    }\n",
       "\n",
       "    .dataframe tbody tr th {\n",
       "        vertical-align: top;\n",
       "    }\n",
       "\n",
       "    .dataframe thead th {\n",
       "        text-align: right;\n",
       "    }\n",
       "</style>\n",
       "<table border=\"1\" class=\"dataframe\">\n",
       "  <thead>\n",
       "    <tr style=\"text-align: right;\">\n",
       "      <th></th>\n",
       "      <th>title</th>\n",
       "      <th>content</th>\n",
       "      <th>tags</th>\n",
       "      <th>date</th>\n",
       "      <th>url</th>\n",
       "      <th>category</th>\n",
       "    </tr>\n",
       "  </thead>\n",
       "  <tbody>\n",
       "    <tr>\n",
       "      <th>0</th>\n",
       "      <td>اعلام زمان قرعه کشی جام باشگاه های فوتسال آسیا</td>\n",
       "      <td>\\nبه گزارش خبرگزاری فارس، کنفدراسیون فوتبال آس...</td>\n",
       "      <td>[اعلام زمان, قرعه‌کشی, قرعه‌کشی جام, قرعه‌کشی ...</td>\n",
       "      <td>3/15/2022 5:59:27 PM</td>\n",
       "      <td>https://www.farsnews.ir/news/14001224001005/اع...</td>\n",
       "      <td>sports</td>\n",
       "    </tr>\n",
       "    <tr>\n",
       "      <th>1</th>\n",
       "      <td>سجادی :حضور تماشاگران در  لیگ برتر فوتبال تابع...</td>\n",
       "      <td>\\nبه گزارش خبرگزاری فارس، سید حمید سجادی در حا...</td>\n",
       "      <td>[سجادی, لیگ, فدراسیون, وزیر ورزش]</td>\n",
       "      <td>3/15/2022 5:30:07 PM</td>\n",
       "      <td>https://www.farsnews.ir/news/14001224000982/سج...</td>\n",
       "      <td>sports</td>\n",
       "    </tr>\n",
       "    <tr>\n",
       "      <th>2</th>\n",
       "      <td>محل برگزاری نشست‌های خبری سرخابی‌ها؛ مجیدی در ...</td>\n",
       "      <td>\\nبه گزارش خبرگزاری فارس، نشست خبری پیش از مسا...</td>\n",
       "      <td>[دربی 94, محل برگزاری, خبری سرخابی‌ها, مجیدی, ...</td>\n",
       "      <td>3/15/2022 5:20:01 PM</td>\n",
       "      <td>https://www.farsnews.ir/news/14001224000971/مح...</td>\n",
       "      <td>sports</td>\n",
       "    </tr>\n",
       "    <tr>\n",
       "      <th>3</th>\n",
       "      <td>ماجدی در نشست با صالحی امیری: امیدوارم در این ...</td>\n",
       "      <td>\\nبه گزارش خبرگزاری فارس،  سید رضا صالحی امیری...</td>\n",
       "      <td>[کمیته امداد امام خمینی (ره), کمیته ملی المپیک...</td>\n",
       "      <td>3/15/2022 5:18:00 PM</td>\n",
       "      <td>https://www.farsnews.ir/news/14001224000964/ما...</td>\n",
       "      <td>sports</td>\n",
       "    </tr>\n",
       "    <tr>\n",
       "      <th>4</th>\n",
       "      <td>لیگ‌برتر بسکتبال|‌ نخستین پیروزی شهرداری گرگان...</td>\n",
       "      <td>\\nبه گزارش خبرنگار ورزشی خبرگزاری فارس، در نخس...</td>\n",
       "      <td>[بسکتبال, لیگ برتر بسکتبال, شهرداری گرگان, تیم...</td>\n",
       "      <td>3/15/2022 5:16:41 PM</td>\n",
       "      <td>https://www.farsnews.ir/news/14001224000947/لی...</td>\n",
       "      <td>sports</td>\n",
       "    </tr>\n",
       "    <tr>\n",
       "      <th>...</th>\n",
       "      <td>...</td>\n",
       "      <td>...</td>\n",
       "      <td>...</td>\n",
       "      <td>...</td>\n",
       "      <td>...</td>\n",
       "      <td>...</td>\n",
       "    </tr>\n",
       "    <tr>\n",
       "      <th>12197</th>\n",
       "      <td>دفع حمله دزدان دریایی به دو نفتکش ایرانی توسط ...</td>\n",
       "      <td>\\nبه گزارش گروه دفاعی خبرگزاری فارس، دریادار ش...</td>\n",
       "      <td>[ارتش جمهوری اسلامی ایران, شهرام ایرانی, نیروی...</td>\n",
       "      <td>10/16/2021 6:25:36 PM</td>\n",
       "      <td>https://www.farsnews.ir/news/14000724000790/دف...</td>\n",
       "      <td>politics</td>\n",
       "    </tr>\n",
       "    <tr>\n",
       "      <th>12198</th>\n",
       "      <td>نقدی بر یادداشت «مرزبندی گفتمانی با طالبان»/ و...</td>\n",
       "      <td>\\nخبرگزاری فارس ـ یادداشت میهمان ـ مسعود مرادی...</td>\n",
       "      <td>[طالبان, یادداشت, گفتمان, جمهوری اسلامی ایران,...</td>\n",
       "      <td>10/16/2021 5:03:39 PM</td>\n",
       "      <td>https://www.farsnews.ir/news/14000724000611/نق...</td>\n",
       "      <td>politics</td>\n",
       "    </tr>\n",
       "    <tr>\n",
       "      <th>12199</th>\n",
       "      <td>روند تحقیق و تفحص از سازمان سنجش با جدیت ادامه...</td>\n",
       "      <td>\\nبه گزارش خبرنگار پارلمانی خبرگزاری فارس، هیا...</td>\n",
       "      <td>[مجلس شورای اسلامی, سازمان سنجش و آموزش کشور, ...</td>\n",
       "      <td>10/16/2021 4:54:47 PM</td>\n",
       "      <td>https://www.farsnews.ir/news/14000724000694/رو...</td>\n",
       "      <td>politics</td>\n",
       "    </tr>\n",
       "    <tr>\n",
       "      <th>12200</th>\n",
       "      <td>محسن اسلامی مدیرکل دفتر امور سیاسی وزارت کشور شد</td>\n",
       "      <td>\\nبه گزارش خبرگزاری فارس به نقل از پایگاه اطلا...</td>\n",
       "      <td>[وزارت کشور, احمد وحیدی, وزیر کشور, وزارت علوم...</td>\n",
       "      <td>10/16/2021 4:14:30 PM</td>\n",
       "      <td>https://www.farsnews.ir/news/14000724000651/مح...</td>\n",
       "      <td>politics</td>\n",
       "    </tr>\n",
       "    <tr>\n",
       "      <th>12201</th>\n",
       "      <td>جلسه سران قوا به‌ میزبانی رئیس مجلس برگزار شد</td>\n",
       "      <td>\\nبه گزارش خبرنگار پارلمانی خبرگزاری فارس، جلس...</td>\n",
       "      <td>[سران قوا, رئیس مجلس, رئیس جمهور, رئیس قوه قضا...</td>\n",
       "      <td>10/16/2021 4:05:31 PM</td>\n",
       "      <td>https://www.farsnews.ir/news/14000724000639/جل...</td>\n",
       "      <td>politics</td>\n",
       "    </tr>\n",
       "  </tbody>\n",
       "</table>\n",
       "<p>12202 rows × 6 columns</p>\n",
       "</div>"
      ],
      "text/plain": [
       "                                                   title  \\\n",
       "0         اعلام زمان قرعه کشی جام باشگاه های فوتسال آسیا   \n",
       "1      سجادی :حضور تماشاگران در  لیگ برتر فوتبال تابع...   \n",
       "2      محل برگزاری نشست‌های خبری سرخابی‌ها؛ مجیدی در ...   \n",
       "3      ماجدی در نشست با صالحی امیری: امیدوارم در این ...   \n",
       "4      لیگ‌برتر بسکتبال|‌ نخستین پیروزی شهرداری گرگان...   \n",
       "...                                                  ...   \n",
       "12197  دفع حمله دزدان دریایی به دو نفتکش ایرانی توسط ...   \n",
       "12198  نقدی بر یادداشت «مرزبندی گفتمانی با طالبان»/ و...   \n",
       "12199  روند تحقیق و تفحص از سازمان سنجش با جدیت ادامه...   \n",
       "12200   محسن اسلامی مدیرکل دفتر امور سیاسی وزارت کشور شد   \n",
       "12201      جلسه سران قوا به‌ میزبانی رئیس مجلس برگزار شد   \n",
       "\n",
       "                                                 content  \\\n",
       "0      \\nبه گزارش خبرگزاری فارس، کنفدراسیون فوتبال آس...   \n",
       "1      \\nبه گزارش خبرگزاری فارس، سید حمید سجادی در حا...   \n",
       "2      \\nبه گزارش خبرگزاری فارس، نشست خبری پیش از مسا...   \n",
       "3      \\nبه گزارش خبرگزاری فارس،  سید رضا صالحی امیری...   \n",
       "4      \\nبه گزارش خبرنگار ورزشی خبرگزاری فارس، در نخس...   \n",
       "...                                                  ...   \n",
       "12197  \\nبه گزارش گروه دفاعی خبرگزاری فارس، دریادار ش...   \n",
       "12198  \\nخبرگزاری فارس ـ یادداشت میهمان ـ مسعود مرادی...   \n",
       "12199  \\nبه گزارش خبرنگار پارلمانی خبرگزاری فارس، هیا...   \n",
       "12200  \\nبه گزارش خبرگزاری فارس به نقل از پایگاه اطلا...   \n",
       "12201  \\nبه گزارش خبرنگار پارلمانی خبرگزاری فارس، جلس...   \n",
       "\n",
       "                                                    tags  \\\n",
       "0      [اعلام زمان, قرعه‌کشی, قرعه‌کشی جام, قرعه‌کشی ...   \n",
       "1                      [سجادی, لیگ, فدراسیون, وزیر ورزش]   \n",
       "2      [دربی 94, محل برگزاری, خبری سرخابی‌ها, مجیدی, ...   \n",
       "3      [کمیته امداد امام خمینی (ره), کمیته ملی المپیک...   \n",
       "4      [بسکتبال, لیگ برتر بسکتبال, شهرداری گرگان, تیم...   \n",
       "...                                                  ...   \n",
       "12197  [ارتش جمهوری اسلامی ایران, شهرام ایرانی, نیروی...   \n",
       "12198  [طالبان, یادداشت, گفتمان, جمهوری اسلامی ایران,...   \n",
       "12199  [مجلس شورای اسلامی, سازمان سنجش و آموزش کشور, ...   \n",
       "12200  [وزارت کشور, احمد وحیدی, وزیر کشور, وزارت علوم...   \n",
       "12201  [سران قوا, رئیس مجلس, رئیس جمهور, رئیس قوه قضا...   \n",
       "\n",
       "                        date  \\\n",
       "0       3/15/2022 5:59:27 PM   \n",
       "1       3/15/2022 5:30:07 PM   \n",
       "2       3/15/2022 5:20:01 PM   \n",
       "3       3/15/2022 5:18:00 PM   \n",
       "4       3/15/2022 5:16:41 PM   \n",
       "...                      ...   \n",
       "12197  10/16/2021 6:25:36 PM   \n",
       "12198  10/16/2021 5:03:39 PM   \n",
       "12199  10/16/2021 4:54:47 PM   \n",
       "12200  10/16/2021 4:14:30 PM   \n",
       "12201  10/16/2021 4:05:31 PM   \n",
       "\n",
       "                                                     url  category  \n",
       "0      https://www.farsnews.ir/news/14001224001005/اع...    sports  \n",
       "1      https://www.farsnews.ir/news/14001224000982/سج...    sports  \n",
       "2      https://www.farsnews.ir/news/14001224000971/مح...    sports  \n",
       "3      https://www.farsnews.ir/news/14001224000964/ما...    sports  \n",
       "4      https://www.farsnews.ir/news/14001224000947/لی...    sports  \n",
       "...                                                  ...       ...  \n",
       "12197  https://www.farsnews.ir/news/14000724000790/دف...  politics  \n",
       "12198  https://www.farsnews.ir/news/14000724000611/نق...  politics  \n",
       "12199  https://www.farsnews.ir/news/14000724000694/رو...  politics  \n",
       "12200  https://www.farsnews.ir/news/14000724000651/مح...  politics  \n",
       "12201  https://www.farsnews.ir/news/14000724000639/جل...  politics  \n",
       "\n",
       "[12202 rows x 6 columns]"
      ]
     },
     "execution_count": 7,
     "metadata": {},
     "output_type": "execute_result"
    }
   ],
   "source": [
    "df"
   ]
  },
  {
   "cell_type": "code",
   "execution_count": 8,
   "id": "ea0a6289",
   "metadata": {},
   "outputs": [
    {
     "name": "stdout",
     "output_type": "stream",
     "text": [
      "<class 'pandas.core.frame.DataFrame'>\n",
      "Int64Index: 12202 entries, 0 to 12201\n",
      "Data columns (total 6 columns):\n",
      " #   Column    Non-Null Count  Dtype \n",
      "---  ------    --------------  ----- \n",
      " 0   title     12202 non-null  object\n",
      " 1   content   12202 non-null  object\n",
      " 2   tags      12202 non-null  object\n",
      " 3   date      12202 non-null  object\n",
      " 4   url       12202 non-null  object\n",
      " 5   category  12202 non-null  object\n",
      "dtypes: object(6)\n",
      "memory usage: 925.3+ KB\n"
     ]
    }
   ],
   "source": [
    "df.info()"
   ]
  },
  {
   "cell_type": "code",
   "execution_count": 9,
   "id": "ecdcd363",
   "metadata": {
    "scrolled": true
   },
   "outputs": [
    {
     "data": {
      "text/html": [
       "<div>\n",
       "<style scoped>\n",
       "    .dataframe tbody tr th:only-of-type {\n",
       "        vertical-align: middle;\n",
       "    }\n",
       "\n",
       "    .dataframe tbody tr th {\n",
       "        vertical-align: top;\n",
       "    }\n",
       "\n",
       "    .dataframe thead th {\n",
       "        text-align: right;\n",
       "    }\n",
       "</style>\n",
       "<table border=\"1\" class=\"dataframe\">\n",
       "  <thead>\n",
       "    <tr style=\"text-align: right;\">\n",
       "      <th></th>\n",
       "      <th>count</th>\n",
       "      <th>unique</th>\n",
       "      <th>top</th>\n",
       "      <th>freq</th>\n",
       "    </tr>\n",
       "  </thead>\n",
       "  <tbody>\n",
       "    <tr>\n",
       "      <th>title</th>\n",
       "      <td>12202</td>\n",
       "      <td>12180</td>\n",
       "      <td>تمرین امروز پرسپولیس تعطیل شد</td>\n",
       "      <td>3</td>\n",
       "    </tr>\n",
       "    <tr>\n",
       "      <th>content</th>\n",
       "      <td>12202</td>\n",
       "      <td>12190</td>\n",
       "      <td>\\nبه گزارش خبرنگار ورزشی خبرگزاری فارس، ظهر ام...</td>\n",
       "      <td>2</td>\n",
       "    </tr>\n",
       "    <tr>\n",
       "      <th>tags</th>\n",
       "      <td>12202</td>\n",
       "      <td>11835</td>\n",
       "      <td>[خبرگزاری فارس, خبر, فارس نیوز]</td>\n",
       "      <td>149</td>\n",
       "    </tr>\n",
       "    <tr>\n",
       "      <th>date</th>\n",
       "      <td>12202</td>\n",
       "      <td>12183</td>\n",
       "      <td>2/13/2022 8:35:19 PM</td>\n",
       "      <td>2</td>\n",
       "    </tr>\n",
       "    <tr>\n",
       "      <th>url</th>\n",
       "      <td>12202</td>\n",
       "      <td>12190</td>\n",
       "      <td>https://www.farsnews.ir/news/14001113000464/پن...</td>\n",
       "      <td>2</td>\n",
       "    </tr>\n",
       "    <tr>\n",
       "      <th>category</th>\n",
       "      <td>12202</td>\n",
       "      <td>2</td>\n",
       "      <td>sports</td>\n",
       "      <td>6842</td>\n",
       "    </tr>\n",
       "  </tbody>\n",
       "</table>\n",
       "</div>"
      ],
      "text/plain": [
       "          count unique                                                top  \\\n",
       "title     12202  12180                      تمرین امروز پرسپولیس تعطیل شد   \n",
       "content   12202  12190  \\nبه گزارش خبرنگار ورزشی خبرگزاری فارس، ظهر ام...   \n",
       "tags      12202  11835                    [خبرگزاری فارس, خبر, فارس نیوز]   \n",
       "date      12202  12183                               2/13/2022 8:35:19 PM   \n",
       "url       12202  12190  https://www.farsnews.ir/news/14001113000464/پن...   \n",
       "category  12202      2                                             sports   \n",
       "\n",
       "          freq  \n",
       "title        3  \n",
       "content      2  \n",
       "tags       149  \n",
       "date         2  \n",
       "url          2  \n",
       "category  6842  "
      ]
     },
     "execution_count": 9,
     "metadata": {},
     "output_type": "execute_result"
    }
   ],
   "source": [
    "df.describe().transpose()"
   ]
  },
  {
   "cell_type": "code",
   "execution_count": 10,
   "id": "5698993d",
   "metadata": {},
   "outputs": [
    {
     "data": {
      "text/plain": [
       "title          اعلام زمان قرعه کشی جام باشگاه های فوتسال آسیا\n",
       "content     \\nبه گزارش خبرگزاری فارس، کنفدراسیون فوتبال آس...\n",
       "tags        [اعلام زمان, قرعه‌کشی, قرعه‌کشی جام, قرعه‌کشی ...\n",
       "date                                     3/15/2022 5:59:27 PM\n",
       "url         https://www.farsnews.ir/news/14001224001005/اع...\n",
       "category                                               sports\n",
       "Name: 0, dtype: object"
      ]
     },
     "execution_count": 10,
     "metadata": {},
     "output_type": "execute_result"
    }
   ],
   "source": [
    "df.iloc[0]"
   ]
  },
  {
   "cell_type": "code",
   "execution_count": 11,
   "id": "530f9cd9",
   "metadata": {},
   "outputs": [
    {
     "data": {
      "text/plain": [
       "'اعلام زمان قرعه کشی جام باشگاه های فوتسال آسیا'"
      ]
     },
     "execution_count": 11,
     "metadata": {},
     "output_type": "execute_result"
    }
   ],
   "source": [
    "df.iloc[0]['title']"
   ]
  },
  {
   "cell_type": "code",
   "execution_count": 12,
   "id": "f378f699",
   "metadata": {
    "scrolled": true
   },
   "outputs": [
    {
     "data": {
      "text/plain": [
       "'\\nبه گزارش خبرگزاری فارس، کنفدراسیون فوتبال آسیا (AFC) در نامه ای رسمی به فدراسیون فوتبال ایران و باشگاه گیتی پسند زمان\\xa0 قرعه کشی جام باشگاه های فوتسال آسیا را رسماً اعلام کرد. بر این اساس 25 فروردین ماه 1401 مراسم قرعه کشی جام باشگاه های فوتسال آسیا در مالزی برگزار می شود. باشگاه گیتی پسند بعنوان قهرمان فوتسال ایران در سال 1400 به این مسابقات راه پیدا کرده است. پیش از این گیتی پسند تجربه 3 دوره حضور در جام باشگاه های فوتسال آسیا را داشته که هر سه دوره به فینال مسابقات راه پیدا کرده و یک عنوان قهرمانی و دو مقام دومی بدست آورده است. انتهای پیام/\\n\\n\\n'"
      ]
     },
     "execution_count": 12,
     "metadata": {},
     "output_type": "execute_result"
    }
   ],
   "source": [
    "df.iloc[0]['content']"
   ]
  },
  {
   "cell_type": "code",
   "execution_count": 13,
   "id": "5178c009",
   "metadata": {
    "scrolled": true
   },
   "outputs": [
    {
     "name": "stdout",
     "output_type": "stream",
     "text": [
      "\n",
      "به گزارش خبرگزاری فارس، کنفدراسیون فوتبال آسیا (AFC) در نامه ای رسمی به فدراسیون فوتبال ایران و باشگاه گیتی پسند زمان  قرعه کشی جام باشگاه های فوتسال آسیا را رسماً اعلام کرد. بر این اساس 25 فروردین ماه 1401 مراسم قرعه کشی جام باشگاه های فوتسال آسیا در مالزی برگزار می شود. باشگاه گیتی پسند بعنوان قهرمان فوتسال ایران در سال 1400 به این مسابقات راه پیدا کرده است. پیش از این گیتی پسند تجربه 3 دوره حضور در جام باشگاه های فوتسال آسیا را داشته که هر سه دوره به فینال مسابقات راه پیدا کرده و یک عنوان قهرمانی و دو مقام دومی بدست آورده است. انتهای پیام/\n",
      "\n",
      "\n",
      "\n"
     ]
    }
   ],
   "source": [
    "print(df.iloc[0]['content'])"
   ]
  },
  {
   "cell_type": "code",
   "execution_count": 14,
   "id": "4a988e05",
   "metadata": {},
   "outputs": [
    {
     "data": {
      "text/plain": [
       "['اعلام زمان',\n",
       " 'قرعه\\u200cکشی',\n",
       " 'قرعه\\u200cکشی جام',\n",
       " 'قرعه\\u200cکشی جام باشگاه\\u200cهای فوتسال',\n",
       " 'ای اف سی',\n",
       " 'گیتی پسند']"
      ]
     },
     "execution_count": 14,
     "metadata": {},
     "output_type": "execute_result"
    }
   ],
   "source": [
    "df.iloc[0]['tags']"
   ]
  },
  {
   "cell_type": "code",
   "execution_count": 15,
   "id": "c4f3c8fb",
   "metadata": {},
   "outputs": [
    {
     "name": "stdout",
     "output_type": "stream",
     "text": [
      "اعلام زمان\n",
      "قرعه‌کشی\n",
      "قرعه‌کشی جام\n",
      "قرعه‌کشی جام باشگاه‌های فوتسال\n",
      "ای اف سی\n",
      "گیتی پسند\n"
     ]
    }
   ],
   "source": [
    "for item in df.iloc[0]['tags']:\n",
    "    print(item)"
   ]
  },
  {
   "cell_type": "code",
   "execution_count": 16,
   "id": "89c9397c",
   "metadata": {},
   "outputs": [
    {
     "data": {
      "text/plain": [
       "'3/15/2022 5:59:27 PM'"
      ]
     },
     "execution_count": 16,
     "metadata": {},
     "output_type": "execute_result"
    }
   ],
   "source": [
    "df.iloc[0]['date']"
   ]
  },
  {
   "cell_type": "code",
   "execution_count": 17,
   "id": "807bf1e9",
   "metadata": {
    "scrolled": true
   },
   "outputs": [
    {
     "data": {
      "text/plain": [
       "'https://www.farsnews.ir/news/14001224001005/اعلام-زمان-قرعه-کشی-جام-باشگاه-های-فوتسال-آسیا'"
      ]
     },
     "execution_count": 17,
     "metadata": {},
     "output_type": "execute_result"
    }
   ],
   "source": [
    "df.iloc[0]['url']"
   ]
  },
  {
   "cell_type": "markdown",
   "id": "b0a60d8e",
   "metadata": {},
   "source": [
    "# 1.1 Preprocessing"
   ]
  },
  {
   "cell_type": "markdown",
   "id": "f1949b84",
   "metadata": {},
   "source": [
    "## Deleting some extra stuff in content"
   ]
  },
  {
   "cell_type": "code",
   "execution_count": 18,
   "id": "b1b2049e",
   "metadata": {},
   "outputs": [],
   "source": [
    "import re\n",
    "\n",
    "def del_end_of_message(message):\n",
    "    return message.replace('انتهای پیام/', '')"
   ]
  },
  {
   "cell_type": "code",
   "execution_count": 19,
   "id": "d5439c5a",
   "metadata": {},
   "outputs": [
    {
     "name": "stdout",
     "output_type": "stream",
     "text": [
      "\n",
      "به گزارش خبرگزاری فارس، کنفدراسیون فوتبال آسیا (AFC) در نامه ای رسمی به فدراسیون فوتبال ایران و باشگاه گیتی پسند زمان  قرعه کشی جام باشگاه های فوتسال آسیا را رسماً اعلام کرد. بر این اساس 25 فروردین ماه 1401 مراسم قرعه کشی جام باشگاه های فوتسال آسیا در مالزی برگزار می شود. باشگاه گیتی پسند بعنوان قهرمان فوتسال ایران در سال 1400 به این مسابقات راه پیدا کرده است. پیش از این گیتی پسند تجربه 3 دوره حضور در جام باشگاه های فوتسال آسیا را داشته که هر سه دوره به فینال مسابقات راه پیدا کرده و یک عنوان قهرمانی و دو مقام دومی بدست آورده است. انتهای پیام/\n",
      "\n",
      "\n",
      "\n"
     ]
    }
   ],
   "source": [
    "print(df['content'].iloc[0])"
   ]
  },
  {
   "cell_type": "code",
   "execution_count": 20,
   "id": "319113b0",
   "metadata": {},
   "outputs": [
    {
     "name": "stdout",
     "output_type": "stream",
     "text": [
      "\n",
      "به گزارش خبرگزاری فارس، کنفدراسیون فوتبال آسیا (AFC) در نامه ای رسمی به فدراسیون فوتبال ایران و باشگاه گیتی پسند زمان  قرعه کشی جام باشگاه های فوتسال آسیا را رسماً اعلام کرد. بر این اساس 25 فروردین ماه 1401 مراسم قرعه کشی جام باشگاه های فوتسال آسیا در مالزی برگزار می شود. باشگاه گیتی پسند بعنوان قهرمان فوتسال ایران در سال 1400 به این مسابقات راه پیدا کرده است. پیش از این گیتی پسند تجربه 3 دوره حضور در جام باشگاه های فوتسال آسیا را داشته که هر سه دوره به فینال مسابقات راه پیدا کرده و یک عنوان قهرمانی و دو مقام دومی بدست آورده است. \n",
      "\n",
      "\n",
      "\n"
     ]
    }
   ],
   "source": [
    "print(del_end_of_message(df['content'].iloc[0]))"
   ]
  },
  {
   "cell_type": "markdown",
   "id": "35530632",
   "metadata": {},
   "source": [
    "## Deleting punctuation "
   ]
  },
  {
   "cell_type": "code",
   "execution_count": 21,
   "id": "4465bc9a",
   "metadata": {},
   "outputs": [],
   "source": [
    "import string\n",
    "\n",
    "def del_punc(content):\n",
    "    puncs = string.punctuation + \"\".join(['؛', '_', '،', '؟', '؛', '»', '«', 'ـ', '،'])\n",
    "    \n",
    "    return content.translate(content.maketrans(\"\", \"\", puncs))"
   ]
  },
  {
   "cell_type": "code",
   "execution_count": 22,
   "id": "af091205",
   "metadata": {},
   "outputs": [
    {
     "name": "stdout",
     "output_type": "stream",
     "text": [
      "\n",
      "به گزارش خبرگزاری فارس، کنفدراسیون فوتبال آسیا (AFC) در نامه ای رسمی به فدراسیون فوتبال ایران و باشگاه گیتی پسند زمان  قرعه کشی جام باشگاه های فوتسال آسیا را رسماً اعلام کرد. بر این اساس 25 فروردین ماه 1401 مراسم قرعه کشی جام باشگاه های فوتسال آسیا در مالزی برگزار می شود. باشگاه گیتی پسند بعنوان قهرمان فوتسال ایران در سال 1400 به این مسابقات راه پیدا کرده است. پیش از این گیتی پسند تجربه 3 دوره حضور در جام باشگاه های فوتسال آسیا را داشته که هر سه دوره به فینال مسابقات راه پیدا کرده و یک عنوان قهرمانی و دو مقام دومی بدست آورده است. انتهای پیام/\n",
      "\n",
      "\n",
      "\n"
     ]
    }
   ],
   "source": [
    "print(df['content'].iloc[0])"
   ]
  },
  {
   "cell_type": "code",
   "execution_count": 23,
   "id": "c51a4f2c",
   "metadata": {},
   "outputs": [
    {
     "name": "stdout",
     "output_type": "stream",
     "text": [
      "\n",
      "به گزارش خبرگزاری فارس کنفدراسیون فوتبال آسیا AFC در نامه ای رسمی به فدراسیون فوتبال ایران و باشگاه گیتی پسند زمان  قرعه کشی جام باشگاه های فوتسال آسیا را رسماً اعلام کرد بر این اساس 25 فروردین ماه 1401 مراسم قرعه کشی جام باشگاه های فوتسال آسیا در مالزی برگزار می شود باشگاه گیتی پسند بعنوان قهرمان فوتسال ایران در سال 1400 به این مسابقات راه پیدا کرده است پیش از این گیتی پسند تجربه 3 دوره حضور در جام باشگاه های فوتسال آسیا را داشته که هر سه دوره به فینال مسابقات راه پیدا کرده و یک عنوان قهرمانی و دو مقام دومی بدست آورده است انتهای پیام\n",
      "\n",
      "\n",
      "\n"
     ]
    }
   ],
   "source": [
    "print(del_punc(df['content'].iloc[0]))"
   ]
  },
  {
   "cell_type": "markdown",
   "id": "e7d0a3cc",
   "metadata": {},
   "source": [
    "## Creating DictList utility class"
   ]
  },
  {
   "cell_type": "code",
   "execution_count": 24,
   "id": "3b80c9e8",
   "metadata": {},
   "outputs": [],
   "source": [
    "class DictList(dict):\n",
    "    def __setitem__(self, key, value):\n",
    "        try:\n",
    "            self[key]\n",
    "        except KeyError:\n",
    "            super(DictList, self).__setitem__(key, [])\n",
    "        self[key].append(value)"
   ]
  },
  {
   "cell_type": "markdown",
   "id": "feaddd1f",
   "metadata": {},
   "source": [
    "## Doing normalization"
   ]
  },
  {
   "cell_type": "code",
   "execution_count": 25,
   "id": "87ef83bc",
   "metadata": {},
   "outputs": [],
   "source": [
    "from parsivar import Normalizer\n",
    "\n",
    "normalizer = Normalizer(statistical_space_correction=True)\n",
    "def normalize(content):\n",
    "    return normalizer.normalize(content)"
   ]
  },
  {
   "cell_type": "code",
   "execution_count": 26,
   "id": "a43cd74f",
   "metadata": {
    "scrolled": true
   },
   "outputs": [
    {
     "name": "stdout",
     "output_type": "stream",
     "text": [
      "\n",
      "به گزارش خبرگزاری فارس، کنفدراسیون فوتبال آسیا (AFC) در نامه ای رسمی به فدراسیون فوتبال ایران و باشگاه گیتی پسند زمان  قرعه کشی جام باشگاه های فوتسال آسیا را رسماً اعلام کرد. بر این اساس 25 فروردین ماه 1401 مراسم قرعه کشی جام باشگاه های فوتسال آسیا در مالزی برگزار می شود. باشگاه گیتی پسند بعنوان قهرمان فوتسال ایران در سال 1400 به این مسابقات راه پیدا کرده است. پیش از این گیتی پسند تجربه 3 دوره حضور در جام باشگاه های فوتسال آسیا را داشته که هر سه دوره به فینال مسابقات راه پیدا کرده و یک عنوان قهرمانی و دو مقام دومی بدست آورده است. انتهای پیام/\n",
      "\n",
      "\n",
      "\n"
     ]
    }
   ],
   "source": [
    "print(df['content'].iloc[0])"
   ]
  },
  {
   "cell_type": "code",
   "execution_count": 27,
   "id": "b0dc18fb",
   "metadata": {},
   "outputs": [
    {
     "name": "stdout",
     "output_type": "stream",
     "text": [
      "به گزارش خبرگزاری فارس ، کنفدراسیون فوتبال آسیا ( AFC ) در نامه‌ای رسمی به فدراسیون فوتبال ایران و باشگاه گیتی پسند زمان قرعه‌کشی جام باشگاه‌های فوتسال آسیا را رسما اعلام کرد . بر این اساس 25 فروردین ماه 1401 مراسم قرعه‌کشی جام باشگاه‌های فوتسال آسیا در مالزی برگزار می‌شود . باشگاه گیتی‌پسند بعنوان قهرمان فوتسال ایران در سال 1400 به این مسابقات راه پیدا کرده است . پیش از این گیتی پسند تجربه 3 دوره حضور در جام باشگاه‌های فوتسال آسیا را داشته که هر سه دوره به فینال مسابقات راه پیدا کرده و یک عنوان قهرمانی و دو مقام دومی بدست‌آورده است . انتهای پیام / \n"
     ]
    }
   ],
   "source": [
    "print(normalize(df['content'].iloc[0]))"
   ]
  },
  {
   "cell_type": "markdown",
   "id": "e22d57e4",
   "metadata": {},
   "source": [
    "## Doing tokenization"
   ]
  },
  {
   "cell_type": "code",
   "execution_count": 28,
   "id": "eb091996",
   "metadata": {},
   "outputs": [],
   "source": [
    "from hazm import word_tokenize\n",
    "\n",
    "def tokenize(sentence):\n",
    "    tokens = word_tokenize(sentence)\n",
    "    \n",
    "    # create dictionary tokens with indexes in sentences\n",
    "    tokens_index_dict = DictList()\n",
    "    for index in range(len(tokens)):\n",
    "        tokens_index_dict[tokens[index]] = index\n",
    "\n",
    "    return tokens_index_dict"
   ]
  },
  {
   "cell_type": "code",
   "execution_count": 29,
   "id": "3634932d",
   "metadata": {
    "scrolled": true
   },
   "outputs": [
    {
     "name": "stdout",
     "output_type": "stream",
     "text": [
      "\n",
      "به گزارش خبرگزاری فارس، کنفدراسیون فوتبال آسیا (AFC) در نامه ای رسمی به فدراسیون فوتبال ایران و باشگاه گیتی پسند زمان  قرعه کشی جام باشگاه های فوتسال آسیا را رسماً اعلام کرد. بر این اساس 25 فروردین ماه 1401 مراسم قرعه کشی جام باشگاه های فوتسال آسیا در مالزی برگزار می شود. باشگاه گیتی پسند بعنوان قهرمان فوتسال ایران در سال 1400 به این مسابقات راه پیدا کرده است. پیش از این گیتی پسند تجربه 3 دوره حضور در جام باشگاه های فوتسال آسیا را داشته که هر سه دوره به فینال مسابقات راه پیدا کرده و یک عنوان قهرمانی و دو مقام دومی بدست آورده است. انتهای پیام/\n",
      "\n",
      "\n",
      "\n"
     ]
    }
   ],
   "source": [
    "print(df['content'].iloc[0])"
   ]
  },
  {
   "cell_type": "code",
   "execution_count": 30,
   "id": "68dddceb",
   "metadata": {},
   "outputs": [
    {
     "data": {
      "text/plain": [
       "{'به': [0, 15, 67, 95],\n",
       " 'گزارش': [1],\n",
       " 'خبرگزاری': [2],\n",
       " 'فارس': [3],\n",
       " '،': [4],\n",
       " 'کنفدراسیون': [5],\n",
       " 'فوتبال': [6, 17],\n",
       " 'آسیا': [7, 30, 50, 88],\n",
       " '(': [8],\n",
       " 'AFC': [9],\n",
       " ')': [10],\n",
       " 'در': [11, 51, 64, 83],\n",
       " 'نامه': [12],\n",
       " 'ای': [13],\n",
       " 'رسمی': [14],\n",
       " 'فدراسیون': [16],\n",
       " 'ایران': [18, 63],\n",
       " 'و': [19, 101, 105],\n",
       " 'باشگاه': [20, 27, 47, 57, 85],\n",
       " 'گیتی': [21, 58, 77],\n",
       " 'پسند': [22, 59, 78],\n",
       " 'زمان\\xa0': [23],\n",
       " 'قرعه': [24, 44],\n",
       " 'کشی': [25, 45],\n",
       " 'جام': [26, 46, 84],\n",
       " 'های': [28, 48, 86],\n",
       " 'فوتسال': [29, 49, 62, 87],\n",
       " 'را': [31, 89],\n",
       " 'رسماً': [32],\n",
       " 'اعلام': [33],\n",
       " 'کرد': [34],\n",
       " '.': [35, 56, 73, 111],\n",
       " 'بر': [36],\n",
       " 'این': [37, 68, 76],\n",
       " 'اساس': [38],\n",
       " '25': [39],\n",
       " 'فروردین': [40],\n",
       " 'ماه': [41],\n",
       " '1401': [42],\n",
       " 'مراسم': [43],\n",
       " 'مالزی': [52],\n",
       " 'برگزار': [53],\n",
       " 'می': [54],\n",
       " 'شود': [55],\n",
       " 'بعنوان': [60],\n",
       " 'قهرمان': [61],\n",
       " 'سال': [65],\n",
       " '1400': [66],\n",
       " 'مسابقات': [69, 97],\n",
       " 'راه': [70, 98],\n",
       " 'پیدا': [71, 99],\n",
       " 'کرده_است': [72],\n",
       " 'پیش': [74],\n",
       " 'از': [75],\n",
       " 'تجربه': [79],\n",
       " '3': [80],\n",
       " 'دوره': [81, 94],\n",
       " 'حضور': [82],\n",
       " 'داشته': [90],\n",
       " 'که': [91],\n",
       " 'هر': [92],\n",
       " 'سه': [93],\n",
       " 'فینال': [96],\n",
       " 'کرده': [100],\n",
       " 'یک': [102],\n",
       " 'عنوان': [103],\n",
       " 'قهرمانی': [104],\n",
       " 'دو': [106],\n",
       " 'مقام': [107],\n",
       " 'دومی': [108],\n",
       " 'بدست': [109],\n",
       " 'آورده_است': [110],\n",
       " 'انتهای': [112],\n",
       " 'پیام/': [113]}"
      ]
     },
     "execution_count": 30,
     "metadata": {},
     "output_type": "execute_result"
    }
   ],
   "source": [
    "tokenize(df['content'].iloc[0])"
   ]
  },
  {
   "cell_type": "markdown",
   "id": "3ac4735a",
   "metadata": {},
   "source": [
    "## Doing stemming"
   ]
  },
  {
   "cell_type": "code",
   "execution_count": 31,
   "id": "0f30389f",
   "metadata": {},
   "outputs": [],
   "source": [
    "from parsivar import FindStems\n",
    "\n",
    "stemmer = FindStems()\n",
    "def stem(words_dict):\n",
    "    new_words_dict = DictList()\n",
    "    \n",
    "    for key, value in words_dict.items():\n",
    "        word_stem = stemmer.convert_to_stem(key)\n",
    "        for i in range(len(value)):\n",
    "            new_words_dict[word_stem] = value[i]\n",
    "\n",
    "    return new_words_dict"
   ]
  },
  {
   "cell_type": "code",
   "execution_count": 32,
   "id": "aa9d7142",
   "metadata": {},
   "outputs": [
    {
     "data": {
      "text/plain": [
       "{'به': [0, 15, 67, 95],\n",
       " 'گزارش': [1],\n",
       " 'خبرگزاری': [2],\n",
       " 'فارس': [3],\n",
       " '،': [4],\n",
       " 'کنفدراسیون': [5],\n",
       " 'فوتبال': [6, 17],\n",
       " 'آسیا': [7, 30, 50, 88],\n",
       " '(': [8],\n",
       " 'AFC': [9],\n",
       " ')': [10],\n",
       " 'در': [11, 51, 64, 83],\n",
       " 'نامه': [12],\n",
       " 'ای': [13],\n",
       " 'رسمی': [14],\n",
       " 'فدراسیون': [16],\n",
       " 'ایران': [18, 63],\n",
       " 'و': [19, 101, 105],\n",
       " 'باشگاه': [20, 27, 47, 57, 85],\n",
       " 'گیتی': [21, 58, 77],\n",
       " 'پسند': [22, 59, 78],\n",
       " 'زمان\\xa0': [23],\n",
       " 'قرعه': [24, 44],\n",
       " 'کشی': [25, 45],\n",
       " 'جام': [26, 46, 84],\n",
       " 'های': [28, 48, 86],\n",
       " 'فوتسال': [29, 49, 62, 87],\n",
       " 'را': [31, 89],\n",
       " 'رسماً': [32],\n",
       " 'اعلام': [33],\n",
       " 'کرد': [34],\n",
       " '.': [35, 56, 73, 111],\n",
       " 'بر': [36],\n",
       " 'این': [37, 68, 76],\n",
       " 'اساس': [38],\n",
       " '25': [39],\n",
       " 'فروردین': [40],\n",
       " 'ماه': [41],\n",
       " '1401': [42],\n",
       " 'مراسم': [43],\n",
       " 'مالزی': [52],\n",
       " 'برگزار': [53],\n",
       " 'می': [54],\n",
       " 'شود': [55],\n",
       " 'بعنوان': [60],\n",
       " 'قهرمان': [61],\n",
       " 'سال': [65],\n",
       " '1400': [66],\n",
       " 'مسابقات': [69, 97],\n",
       " 'راه': [70, 98],\n",
       " 'پیدا': [71, 99],\n",
       " 'کرده_است': [72],\n",
       " 'پیش': [74],\n",
       " 'از': [75],\n",
       " 'تجربه': [79],\n",
       " '3': [80],\n",
       " 'دوره': [81, 94],\n",
       " 'حضور': [82],\n",
       " 'داشته': [90],\n",
       " 'که': [91],\n",
       " 'هر': [92],\n",
       " 'سه': [93],\n",
       " 'فینال': [96],\n",
       " 'کرده': [100],\n",
       " 'یک': [102],\n",
       " 'عنوان': [103],\n",
       " 'قهرمانی': [104],\n",
       " 'دو': [106],\n",
       " 'مقام': [107],\n",
       " 'دومی': [108],\n",
       " 'بدست': [109],\n",
       " 'آورده_است': [110],\n",
       " 'انتهای': [112],\n",
       " 'پیام/': [113]}"
      ]
     },
     "execution_count": 32,
     "metadata": {},
     "output_type": "execute_result"
    }
   ],
   "source": [
    "tokenize(df['content'].iloc[0])"
   ]
  },
  {
   "cell_type": "code",
   "execution_count": 33,
   "id": "a64d88c0",
   "metadata": {},
   "outputs": [
    {
     "data": {
      "text/plain": [
       "{'به': [0, 15, 67, 95],\n",
       " 'گزارش': [1],\n",
       " 'خبرگزاری': [2],\n",
       " 'فارس': [3],\n",
       " '،': [4],\n",
       " 'کنفدراسیون': [5],\n",
       " 'فوتبال': [6, 17],\n",
       " 'آسیا': [7, 30, 50, 88],\n",
       " '(': [8],\n",
       " 'AFC': [9],\n",
       " ')': [10],\n",
       " 'در': [11, 51, 64, 83],\n",
       " 'نامه': [12],\n",
       " 'ای': [13],\n",
       " 'رسمی': [14],\n",
       " 'فدراسیون': [16],\n",
       " 'ایران': [18, 63],\n",
       " 'و': [19, 101, 105],\n",
       " 'باشگاه': [20, 27, 47, 57, 85],\n",
       " 'گیتی': [21, 58, 77],\n",
       " 'پسند': [22, 59, 78],\n",
       " 'زمان\\xa0': [23],\n",
       " 'قرعه': [24, 44],\n",
       " 'کشید&کش': [25, 45],\n",
       " 'جام': [26, 46, 84],\n",
       " 'های': [28, 48, 86],\n",
       " 'فوتسال': [29, 49, 62, 87],\n",
       " 'را': [31, 89],\n",
       " 'رسماً': [32],\n",
       " 'اعلام': [33],\n",
       " 'کرد': [34],\n",
       " '.': [35, 56, 73, 111],\n",
       " 'بر': [36],\n",
       " 'این': [37, 68, 76],\n",
       " 'اساس': [38],\n",
       " '25': [39],\n",
       " 'فروردین': [40],\n",
       " 'ماه': [41],\n",
       " '1401': [42],\n",
       " 'مراسم': [43],\n",
       " 'مالزی': [52],\n",
       " 'برگزار': [53],\n",
       " 'می': [54],\n",
       " 'شد&شو': [55],\n",
       " 'بعنوان': [60],\n",
       " 'قهرمان': [61],\n",
       " 'سال': [65],\n",
       " '1400': [66],\n",
       " 'مسابقات': [69, 97],\n",
       " 'راه': [70, 98],\n",
       " 'پیدا': [71, 99],\n",
       " 'کرده_است': [72],\n",
       " 'پیش': [74],\n",
       " 'از': [75],\n",
       " 'تجربه': [79],\n",
       " '3': [80],\n",
       " 'دوره': [81, 94],\n",
       " 'حضور': [82],\n",
       " 'داشته': [90],\n",
       " 'که': [91],\n",
       " 'هر': [92],\n",
       " 'سه': [93],\n",
       " 'فینال': [96],\n",
       " 'کرده': [100],\n",
       " 'یک': [102],\n",
       " 'عنوان': [103],\n",
       " 'قهرمانی': [104],\n",
       " 'دو': [106],\n",
       " 'مقام': [107],\n",
       " 'دومی': [108],\n",
       " 'بدست': [109],\n",
       " 'آورده_است': [110],\n",
       " 'انتهای': [112],\n",
       " 'پیام/': [113]}"
      ]
     },
     "execution_count": 33,
     "metadata": {},
     "output_type": "execute_result"
    }
   ],
   "source": [
    "stem(tokenize(df['content'].iloc[0]))"
   ]
  },
  {
   "cell_type": "markdown",
   "id": "c93fedf5",
   "metadata": {},
   "source": [
    "## Removing stop words"
   ]
  },
  {
   "cell_type": "code",
   "execution_count": 34,
   "id": "ef7279f2",
   "metadata": {},
   "outputs": [],
   "source": [
    "from hazm import stopwords_list\n",
    "\n",
    "persian_stop_words = stopwords_list()"
   ]
  },
  {
   "cell_type": "code",
   "execution_count": 35,
   "id": "06ddec70",
   "metadata": {},
   "outputs": [],
   "source": [
    "# persian_stop_words"
   ]
  },
  {
   "cell_type": "code",
   "execution_count": 36,
   "id": "40c4a84b",
   "metadata": {},
   "outputs": [],
   "source": [
    "def remove_persian_stop_words(words_dict):\n",
    "    new_dict = {}\n",
    "    \n",
    "    for word, pos in words_dict.items():\n",
    "        if word not in persian_stop_words:\n",
    "            new_dict[word] = pos\n",
    "\n",
    "    return new_dict"
   ]
  },
  {
   "cell_type": "code",
   "execution_count": 37,
   "id": "3f8bb233",
   "metadata": {},
   "outputs": [
    {
     "data": {
      "text/plain": [
       "{'به': [0, 15, 67, 95],\n",
       " 'گزارش': [1],\n",
       " 'خبرگزاری': [2],\n",
       " 'فارس': [3],\n",
       " '،': [4],\n",
       " 'کنفدراسیون': [5],\n",
       " 'فوتبال': [6, 17],\n",
       " 'آسیا': [7, 30, 50, 88],\n",
       " '(': [8],\n",
       " 'AFC': [9],\n",
       " ')': [10],\n",
       " 'در': [11, 51, 64, 83],\n",
       " 'نامه': [12],\n",
       " 'ای': [13],\n",
       " 'رسمی': [14],\n",
       " 'فدراسیون': [16],\n",
       " 'ایران': [18, 63],\n",
       " 'و': [19, 101, 105],\n",
       " 'باشگاه': [20, 27, 47, 57, 85],\n",
       " 'گیتی': [21, 58, 77],\n",
       " 'پسند': [22, 59, 78],\n",
       " 'زمان\\xa0': [23],\n",
       " 'قرعه': [24, 44],\n",
       " 'کشی': [25, 45],\n",
       " 'جام': [26, 46, 84],\n",
       " 'های': [28, 48, 86],\n",
       " 'فوتسال': [29, 49, 62, 87],\n",
       " 'را': [31, 89],\n",
       " 'رسماً': [32],\n",
       " 'اعلام': [33],\n",
       " 'کرد': [34],\n",
       " '.': [35, 56, 73, 111],\n",
       " 'بر': [36],\n",
       " 'این': [37, 68, 76],\n",
       " 'اساس': [38],\n",
       " '25': [39],\n",
       " 'فروردین': [40],\n",
       " 'ماه': [41],\n",
       " '1401': [42],\n",
       " 'مراسم': [43],\n",
       " 'مالزی': [52],\n",
       " 'برگزار': [53],\n",
       " 'می': [54],\n",
       " 'شود': [55],\n",
       " 'بعنوان': [60],\n",
       " 'قهرمان': [61],\n",
       " 'سال': [65],\n",
       " '1400': [66],\n",
       " 'مسابقات': [69, 97],\n",
       " 'راه': [70, 98],\n",
       " 'پیدا': [71, 99],\n",
       " 'کرده_است': [72],\n",
       " 'پیش': [74],\n",
       " 'از': [75],\n",
       " 'تجربه': [79],\n",
       " '3': [80],\n",
       " 'دوره': [81, 94],\n",
       " 'حضور': [82],\n",
       " 'داشته': [90],\n",
       " 'که': [91],\n",
       " 'هر': [92],\n",
       " 'سه': [93],\n",
       " 'فینال': [96],\n",
       " 'کرده': [100],\n",
       " 'یک': [102],\n",
       " 'عنوان': [103],\n",
       " 'قهرمانی': [104],\n",
       " 'دو': [106],\n",
       " 'مقام': [107],\n",
       " 'دومی': [108],\n",
       " 'بدست': [109],\n",
       " 'آورده_است': [110],\n",
       " 'انتهای': [112],\n",
       " 'پیام/': [113]}"
      ]
     },
     "execution_count": 37,
     "metadata": {},
     "output_type": "execute_result"
    }
   ],
   "source": [
    "tokenize(df['content'].iloc[0])"
   ]
  },
  {
   "cell_type": "code",
   "execution_count": 38,
   "id": "738eca39",
   "metadata": {},
   "outputs": [
    {
     "data": {
      "text/plain": [
       "{'گزارش': [1],\n",
       " 'خبرگزاری': [2],\n",
       " 'فارس': [3],\n",
       " '،': [4],\n",
       " 'کنفدراسیون': [5],\n",
       " 'فوتبال': [6, 17],\n",
       " 'آسیا': [7, 30, 50, 88],\n",
       " '(': [8],\n",
       " 'AFC': [9],\n",
       " ')': [10],\n",
       " 'نامه': [12],\n",
       " 'ای': [13],\n",
       " 'رسمی': [14],\n",
       " 'فدراسیون': [16],\n",
       " 'ایران': [18, 63],\n",
       " 'باشگاه': [20, 27, 47, 57, 85],\n",
       " 'گیتی': [21, 58, 77],\n",
       " 'پسند': [22, 59, 78],\n",
       " 'زمان\\xa0': [23],\n",
       " 'قرعه': [24, 44],\n",
       " 'کشی': [25, 45],\n",
       " 'جام': [26, 46, 84],\n",
       " 'های': [28, 48, 86],\n",
       " 'فوتسال': [29, 49, 62, 87],\n",
       " 'رسماً': [32],\n",
       " 'اعلام': [33],\n",
       " '.': [35, 56, 73, 111],\n",
       " 'اساس': [38],\n",
       " '25': [39],\n",
       " 'فروردین': [40],\n",
       " 'ماه': [41],\n",
       " '1401': [42],\n",
       " 'مراسم': [43],\n",
       " 'مالزی': [52],\n",
       " 'برگزار': [53],\n",
       " 'بعنوان': [60],\n",
       " 'قهرمان': [61],\n",
       " 'سال': [65],\n",
       " '1400': [66],\n",
       " 'مسابقات': [69, 97],\n",
       " 'تجربه': [79],\n",
       " '3': [80],\n",
       " 'دوره': [81, 94],\n",
       " 'حضور': [82],\n",
       " 'فینال': [96],\n",
       " 'عنوان': [103],\n",
       " 'قهرمانی': [104],\n",
       " 'مقام': [107],\n",
       " 'دومی': [108],\n",
       " 'بدست': [109],\n",
       " 'آورده_است': [110],\n",
       " 'انتهای': [112],\n",
       " 'پیام/': [113]}"
      ]
     },
     "execution_count": 38,
     "metadata": {},
     "output_type": "execute_result"
    }
   ],
   "source": [
    "remove_persian_stop_words(tokenize(df['content'].iloc[0]))"
   ]
  },
  {
   "cell_type": "markdown",
   "id": "6314c290",
   "metadata": {},
   "source": [
    "## Applying all of our methods:"
   ]
  },
  {
   "cell_type": "code",
   "execution_count": 39,
   "id": "2d17d5ce",
   "metadata": {},
   "outputs": [],
   "source": [
    "def preprocess(contents, remove_stop_words_flag=True, stem_flag=True):\n",
    "#     new_df = df.copy()\n",
    "    \n",
    "#     new_df['content'] = new_df['content'].apply(del_end_of_message)\n",
    "#     new_df['content'] = new_df['content'].apply(del_punc)\n",
    "#     new_df['content'] = new_df['content'].apply(normalize)\n",
    "#     new_df['content'] = new_df['content'].apply(tokenize)\n",
    "    \n",
    "#     if stem_flag:\n",
    "#         new_df['content'] = new_df['content'].apply(stem)\n",
    "        \n",
    "#     if remove_stop_words_flag:\n",
    "#         new_df['content'] = new_df['content'].apply(remove_persian_stop_words)\n",
    "    \n",
    "#     return new_df\n",
    "\n",
    "    contents = del_end_of_message(contents)\n",
    "    contents = del_punc(contents)\n",
    "    contents = normalize(contents)\n",
    "    contents = tokenize(contents)\n",
    "    \n",
    "    if stem_flag:\n",
    "        contents = stem(contents)\n",
    "    if remove_stop_words_flag:\n",
    "        contents = remove_persian_stop_words(contents)\n",
    "        \n",
    "    return contents\n",
    "\n",
    "#     if remove_stop_words_flag and stem_flag:\n",
    "#         return contents.apply(del_end_of_message).apply(del_punc).apply(normalize).apply(tokenize).apply(stem).apply(remove_persian_stop_words)\n",
    "#     elif remove_stop_words_flag:\n",
    "#         return contents.apply(del_end_of_message).apply(del_punc).apply(normalize).apply(tokenize).apply(remove_persian_stop_words)\n",
    "#     else:\n",
    "#         return contents.apply(del_end_of_message).apply(del_punc).apply(normalize).apply(tokenize).apply(stem)"
   ]
  },
  {
   "cell_type": "code",
   "execution_count": 40,
   "id": "ba6caedf",
   "metadata": {},
   "outputs": [
    {
     "name": "stdout",
     "output_type": "stream",
     "text": [
      "\n",
      "به گزارش خبرگزاری فارس، کنفدراسیون فوتبال آسیا (AFC) در نامه ای رسمی به فدراسیون فوتبال ایران و باشگاه گیتی پسند زمان  قرعه کشی جام باشگاه های فوتسال آسیا را رسماً اعلام کرد. بر این اساس 25 فروردین ماه 1401 مراسم قرعه کشی جام باشگاه های فوتسال آسیا در مالزی برگزار می شود. باشگاه گیتی پسند بعنوان قهرمان فوتسال ایران در سال 1400 به این مسابقات راه پیدا کرده است. پیش از این گیتی پسند تجربه 3 دوره حضور در جام باشگاه های فوتسال آسیا را داشته که هر سه دوره به فینال مسابقات راه پیدا کرده و یک عنوان قهرمانی و دو مقام دومی بدست آورده است. انتهای پیام/\n",
      "\n",
      "\n",
      "\n"
     ]
    }
   ],
   "source": [
    "print(df['content'].iloc[0])"
   ]
  },
  {
   "cell_type": "code",
   "execution_count": 41,
   "id": "9defbb21",
   "metadata": {},
   "outputs": [
    {
     "data": {
      "text/plain": [
       "{'گزارش': [1],\n",
       " 'خبرگزاری': [2],\n",
       " 'فارس': [3],\n",
       " 'کنفدراسیون': [4],\n",
       " 'فوتبال': [5, 13],\n",
       " 'آسیا': [6, 24, 41, 74],\n",
       " 'AFC': [7],\n",
       " 'نامه': [9],\n",
       " 'رسمی': [10],\n",
       " 'فدراسیون': [12],\n",
       " 'ایران': [14, 51],\n",
       " 'باشگاه': [16, 46, 22, 39, 72],\n",
       " 'گیتی': [17, 64],\n",
       " 'پسند': [18, 65],\n",
       " 'زمان': [19],\n",
       " 'قرعه\\u200cکشی': [20, 37],\n",
       " 'جام': [21, 38, 71],\n",
       " 'فوتسال': [23, 40, 50, 73],\n",
       " 'رسما': [26],\n",
       " 'اعلام': [27],\n",
       " 'اساس': [31],\n",
       " '25': [32],\n",
       " 'فروردین': [33],\n",
       " 'ماه': [34],\n",
       " '1401': [35],\n",
       " 'مراسم': [36],\n",
       " 'مالزی': [43],\n",
       " 'برگزار': [44],\n",
       " 'شد&شو': [45],\n",
       " 'گیتی\\u200cپسند': [47],\n",
       " 'بعنوان': [48],\n",
       " 'قهرمان': [49],\n",
       " 'سال': [53],\n",
       " '1400': [54],\n",
       " 'مسابقات': [57, 83],\n",
       " 'تجربه': [66],\n",
       " '3': [67],\n",
       " 'دوره': [68, 80],\n",
       " 'حضور': [69],\n",
       " 'فینال': [82],\n",
       " 'عنوان': [89],\n",
       " 'قهرمانی': [90],\n",
       " 'مقام': [93],\n",
       " 'دومی': [94],\n",
       " 'بدست\\u200cآورده': [95],\n",
       " 'اس': [96]}"
      ]
     },
     "execution_count": 41,
     "metadata": {},
     "output_type": "execute_result"
    }
   ],
   "source": [
    "preprocess(df['content'].iloc[0])"
   ]
  },
  {
   "cell_type": "markdown",
   "id": "2ac676a0",
   "metadata": {},
   "source": [
    "## Doing both removing stop words and stemming:"
   ]
  },
  {
   "cell_type": "markdown",
   "id": "d5458a11",
   "metadata": {},
   "source": [
    "Running this cell takes about:\n",
    "\n",
    "$$CPU times: user 17min 6s, sys: 17.4 s, total: 17min 23s $$ \n",
    "$$Wall time: 17min 23s$$"
   ]
  },
  {
   "cell_type": "code",
   "execution_count": 42,
   "id": "a4ca03de",
   "metadata": {
    "scrolled": true
   },
   "outputs": [],
   "source": [
    "# %%time\n",
    "\n",
    "# df['content'] = df['content'].apply(preprocess)"
   ]
  },
  {
   "cell_type": "markdown",
   "id": "c481ee49",
   "metadata": {},
   "source": [
    "### Saving our gotten results "
   ]
  },
  {
   "cell_type": "code",
   "execution_count": 43,
   "id": "ffcaf383",
   "metadata": {},
   "outputs": [],
   "source": [
    "# df.to_pickle('results/preprocessed.pickle')"
   ]
  },
  {
   "cell_type": "markdown",
   "id": "2a365288",
   "metadata": {},
   "source": [
    "## Not removing stop words:"
   ]
  },
  {
   "cell_type": "markdown",
   "id": "3aac1afe",
   "metadata": {},
   "source": [
    "Running this cell takes about:\n",
    "\n",
    "$$CPU times: user 3min 15s, sys: 170 ms, total: 3min 15s$$ \n",
    "$$Wall time: 3min 15s$$"
   ]
  },
  {
   "cell_type": "code",
   "execution_count": 44,
   "id": "b5cb061c",
   "metadata": {},
   "outputs": [],
   "source": [
    "# %%time\n",
    "\n",
    "# df['content'] = np.vectorize(preprocess)(df['content'], remove_stop_words_flag=False, stem_flag=True)"
   ]
  },
  {
   "cell_type": "markdown",
   "id": "bfbb17ac",
   "metadata": {},
   "source": [
    "### Saving our gotten results "
   ]
  },
  {
   "cell_type": "code",
   "execution_count": 45,
   "id": "14a79ab0",
   "metadata": {},
   "outputs": [],
   "source": [
    "# df.to_pickle('results/not_removed_stop_words.pickle')"
   ]
  },
  {
   "cell_type": "markdown",
   "id": "87ac0650",
   "metadata": {},
   "source": [
    "## Not stemming:"
   ]
  },
  {
   "cell_type": "markdown",
   "id": "b2d69ebf",
   "metadata": {},
   "source": [
    "Running this cell takes about:\n",
    "\n",
    "$$CPU times: user 17min 6s, sys: 17.4 s, total: 17min 23s $$ \n",
    "$$Wall time: 17min 23s$$"
   ]
  },
  {
   "cell_type": "code",
   "execution_count": 46,
   "id": "5fd25823",
   "metadata": {},
   "outputs": [],
   "source": [
    "# %%time\n",
    "\n",
    "# df['content'] = np.vectorize(preprocess)(df['content'], remove_stop_words_flag=True, stem_flag=False)"
   ]
  },
  {
   "cell_type": "markdown",
   "id": "7ba903bf",
   "metadata": {},
   "source": [
    "### Saving our gotten results "
   ]
  },
  {
   "cell_type": "code",
   "execution_count": 47,
   "id": "79f70554",
   "metadata": {},
   "outputs": [],
   "source": [
    "# df.to_pickle('results/not_stemmed.pickle')"
   ]
  },
  {
   "cell_type": "markdown",
   "id": "e5303ac3",
   "metadata": {},
   "source": [
    "## Loading the saved result"
   ]
  },
  {
   "cell_type": "code",
   "execution_count": 48,
   "id": "c12c672d",
   "metadata": {},
   "outputs": [],
   "source": [
    "ready_df = pd.read_pickle('results/preprocessed.pickle')"
   ]
  },
  {
   "cell_type": "code",
   "execution_count": 49,
   "id": "f05be148",
   "metadata": {},
   "outputs": [
    {
     "data": {
      "text/html": [
       "<div>\n",
       "<style scoped>\n",
       "    .dataframe tbody tr th:only-of-type {\n",
       "        vertical-align: middle;\n",
       "    }\n",
       "\n",
       "    .dataframe tbody tr th {\n",
       "        vertical-align: top;\n",
       "    }\n",
       "\n",
       "    .dataframe thead th {\n",
       "        text-align: right;\n",
       "    }\n",
       "</style>\n",
       "<table border=\"1\" class=\"dataframe\">\n",
       "  <thead>\n",
       "    <tr style=\"text-align: right;\">\n",
       "      <th></th>\n",
       "      <th>title</th>\n",
       "      <th>content</th>\n",
       "      <th>tags</th>\n",
       "      <th>date</th>\n",
       "      <th>url</th>\n",
       "      <th>category</th>\n",
       "    </tr>\n",
       "  </thead>\n",
       "  <tbody>\n",
       "    <tr>\n",
       "      <th>0</th>\n",
       "      <td>اعلام زمان قرعه کشی جام باشگاه های فوتسال آسیا</td>\n",
       "      <td>{'گزارش': [1], 'خبرگزاری': [2], 'فارس': [3], '...</td>\n",
       "      <td>[اعلام زمان, قرعه‌کشی, قرعه‌کشی جام, قرعه‌کشی ...</td>\n",
       "      <td>3/15/2022 5:59:27 PM</td>\n",
       "      <td>https://www.farsnews.ir/news/14001224001005/اع...</td>\n",
       "      <td>sports</td>\n",
       "    </tr>\n",
       "    <tr>\n",
       "      <th>1</th>\n",
       "      <td>سجادی :حضور تماشاگران در  لیگ برتر فوتبال تابع...</td>\n",
       "      <td>{'گزارش': [1], 'خبرگزاری': [2], 'فارس': [3], '...</td>\n",
       "      <td>[سجادی, لیگ, فدراسیون, وزیر ورزش]</td>\n",
       "      <td>3/15/2022 5:30:07 PM</td>\n",
       "      <td>https://www.farsnews.ir/news/14001224000982/سج...</td>\n",
       "      <td>sports</td>\n",
       "    </tr>\n",
       "    <tr>\n",
       "      <th>2</th>\n",
       "      <td>محل برگزاری نشست‌های خبری سرخابی‌ها؛ مجیدی در ...</td>\n",
       "      <td>{'گزارش': [1], 'خبرگزاری': [2], 'فارس': [3], '...</td>\n",
       "      <td>[دربی 94, محل برگزاری, خبری سرخابی‌ها, مجیدی, ...</td>\n",
       "      <td>3/15/2022 5:20:01 PM</td>\n",
       "      <td>https://www.farsnews.ir/news/14001224000971/مح...</td>\n",
       "      <td>sports</td>\n",
       "    </tr>\n",
       "    <tr>\n",
       "      <th>3</th>\n",
       "      <td>ماجدی در نشست با صالحی امیری: امیدوارم در این ...</td>\n",
       "      <td>{'گزارش': [1], 'خبرگزاری': [2], 'فارس': [3], '...</td>\n",
       "      <td>[کمیته امداد امام خمینی (ره), کمیته ملی المپیک...</td>\n",
       "      <td>3/15/2022 5:18:00 PM</td>\n",
       "      <td>https://www.farsnews.ir/news/14001224000964/ما...</td>\n",
       "      <td>sports</td>\n",
       "    </tr>\n",
       "    <tr>\n",
       "      <th>4</th>\n",
       "      <td>لیگ‌برتر بسکتبال|‌ نخستین پیروزی شهرداری گرگان...</td>\n",
       "      <td>{'گزارش': [1], 'خبرنگار': [2], 'ورزشی': [3], '...</td>\n",
       "      <td>[بسکتبال, لیگ برتر بسکتبال, شهرداری گرگان, تیم...</td>\n",
       "      <td>3/15/2022 5:16:41 PM</td>\n",
       "      <td>https://www.farsnews.ir/news/14001224000947/لی...</td>\n",
       "      <td>sports</td>\n",
       "    </tr>\n",
       "  </tbody>\n",
       "</table>\n",
       "</div>"
      ],
      "text/plain": [
       "                                               title  \\\n",
       "0     اعلام زمان قرعه کشی جام باشگاه های فوتسال آسیا   \n",
       "1  سجادی :حضور تماشاگران در  لیگ برتر فوتبال تابع...   \n",
       "2  محل برگزاری نشست‌های خبری سرخابی‌ها؛ مجیدی در ...   \n",
       "3  ماجدی در نشست با صالحی امیری: امیدوارم در این ...   \n",
       "4  لیگ‌برتر بسکتبال|‌ نخستین پیروزی شهرداری گرگان...   \n",
       "\n",
       "                                             content  \\\n",
       "0  {'گزارش': [1], 'خبرگزاری': [2], 'فارس': [3], '...   \n",
       "1  {'گزارش': [1], 'خبرگزاری': [2], 'فارس': [3], '...   \n",
       "2  {'گزارش': [1], 'خبرگزاری': [2], 'فارس': [3], '...   \n",
       "3  {'گزارش': [1], 'خبرگزاری': [2], 'فارس': [3], '...   \n",
       "4  {'گزارش': [1], 'خبرنگار': [2], 'ورزشی': [3], '...   \n",
       "\n",
       "                                                tags                  date  \\\n",
       "0  [اعلام زمان, قرعه‌کشی, قرعه‌کشی جام, قرعه‌کشی ...  3/15/2022 5:59:27 PM   \n",
       "1                  [سجادی, لیگ, فدراسیون, وزیر ورزش]  3/15/2022 5:30:07 PM   \n",
       "2  [دربی 94, محل برگزاری, خبری سرخابی‌ها, مجیدی, ...  3/15/2022 5:20:01 PM   \n",
       "3  [کمیته امداد امام خمینی (ره), کمیته ملی المپیک...  3/15/2022 5:18:00 PM   \n",
       "4  [بسکتبال, لیگ برتر بسکتبال, شهرداری گرگان, تیم...  3/15/2022 5:16:41 PM   \n",
       "\n",
       "                                                 url category  \n",
       "0  https://www.farsnews.ir/news/14001224001005/اع...   sports  \n",
       "1  https://www.farsnews.ir/news/14001224000982/سج...   sports  \n",
       "2  https://www.farsnews.ir/news/14001224000971/مح...   sports  \n",
       "3  https://www.farsnews.ir/news/14001224000964/ما...   sports  \n",
       "4  https://www.farsnews.ir/news/14001224000947/لی...   sports  "
      ]
     },
     "execution_count": 49,
     "metadata": {},
     "output_type": "execute_result"
    }
   ],
   "source": [
    "ready_df.head()"
   ]
  },
  {
   "cell_type": "code",
   "execution_count": 50,
   "id": "9facabbc",
   "metadata": {},
   "outputs": [
    {
     "name": "stdout",
     "output_type": "stream",
     "text": [
      "<class 'pandas.core.frame.DataFrame'>\n",
      "Int64Index: 12202 entries, 0 to 12201\n",
      "Data columns (total 6 columns):\n",
      " #   Column    Non-Null Count  Dtype \n",
      "---  ------    --------------  ----- \n",
      " 0   title     12202 non-null  object\n",
      " 1   content   12202 non-null  object\n",
      " 2   tags      12202 non-null  object\n",
      " 3   date      12202 non-null  object\n",
      " 4   url       12202 non-null  object\n",
      " 5   category  12202 non-null  object\n",
      "dtypes: object(6)\n",
      "memory usage: 667.3+ KB\n"
     ]
    }
   ],
   "source": [
    "ready_df.info()"
   ]
  },
  {
   "cell_type": "code",
   "execution_count": 51,
   "id": "22766f50",
   "metadata": {},
   "outputs": [],
   "source": [
    "df = ready_df"
   ]
  },
  {
   "cell_type": "markdown",
   "id": "d5c93c2d",
   "metadata": {},
   "source": [
    "Using just first 10 entries"
   ]
  },
  {
   "cell_type": "code",
   "execution_count": 52,
   "id": "5630bf4b",
   "metadata": {},
   "outputs": [],
   "source": [
    "# df = df.iloc[:10]"
   ]
  },
  {
   "cell_type": "markdown",
   "id": "177850ef",
   "metadata": {},
   "source": [
    "# Building the positional postings list "
   ]
  },
  {
   "cell_type": "code",
   "execution_count": 53,
   "id": "b145ec3c",
   "metadata": {},
   "outputs": [],
   "source": [
    "import json\n",
    "import ast\n",
    "\n",
    "class PositionalPosting:\n",
    "    def __init__(self):\n",
    "        self.frequency_in_all_documents = 0\n",
    "        self.document_index_dict = {}\n",
    "        self.document_frequency_dict = {}\n",
    "        self.unique_documents_frequency = 0\n",
    "\n",
    "    def toJson(self):\n",
    "        return json.dumps(self, default=lambda o: o.__dict__,\n",
    "                          sort_keys=True, indent=4)"
   ]
  },
  {
   "cell_type": "code",
   "execution_count": 54,
   "id": "0a68ac51",
   "metadata": {},
   "outputs": [],
   "source": [
    "def update_positional_postings_list(doc_id, tokens_in_document):\n",
    "    for token, indexes in tokens_in_document.items():\n",
    "        if token in positional_postings_list:\n",
    "            positional_posting = positional_postings_list[token]\n",
    "            positional_posting.frequency_in_all_documents += len(indexes)\n",
    "            positional_posting.document_index_dict[doc_id] = indexes\n",
    "            positional_posting.document_frequency_dict[doc_id] = len(indexes)\n",
    "            positional_posting.unique_documents_frequency += 1\n",
    "        else:\n",
    "            new_positional_posting = PositionalPosting()\n",
    "            new_positional_posting.frequency_in_all_documents += len(indexes)\n",
    "            new_positional_posting.document_index_dict[doc_id] = indexes\n",
    "            new_positional_posting.document_frequency_dict[doc_id] = len(indexes)\n",
    "            new_positional_posting.unique_documents_frequency += 1\n",
    "            positional_postings_list[token] = new_positional_posting"
   ]
  },
  {
   "cell_type": "code",
   "execution_count": 55,
   "id": "73951bcd",
   "metadata": {},
   "outputs": [],
   "source": [
    "def create_positional_postings_lists(data_frame):\n",
    "    for doc_id, row in data_frame.iterrows():\n",
    "        tokens_in_document = row['content']\n",
    "        update_positional_postings_list(doc_id, tokens_in_document)\n",
    "\n",
    "    return positional_postings_list"
   ]
  },
  {
   "cell_type": "code",
   "execution_count": 56,
   "id": "34c4cfb2",
   "metadata": {},
   "outputs": [],
   "source": [
    "def save_positional_postings_lists(path):\n",
    "    positional_postings_lists_json = {}\n",
    "    \n",
    "    for term, postings_list in positional_postings_list.items():\n",
    "        positional_postings_lists_json[term] = postings_list.__dict__\n",
    "        \n",
    "    with open(path, 'w', encoding='utf-8') as fp:\n",
    "        json.dump(positional_postings_lists_json, fp, sort_keys=True, indent=4, ensure_ascii=False)"
   ]
  },
  {
   "cell_type": "code",
   "execution_count": 57,
   "id": "f1993e53",
   "metadata": {},
   "outputs": [],
   "source": [
    "# %%time\n",
    "\n",
    "# positional_postings_list = {}\n",
    "# pos_list = create_positional_postings_lists(ready_df)"
   ]
  },
  {
   "cell_type": "code",
   "execution_count": 58,
   "id": "fe959bcc",
   "metadata": {},
   "outputs": [
    {
     "data": {
      "text/html": [
       "<div>\n",
       "<style scoped>\n",
       "    .dataframe tbody tr th:only-of-type {\n",
       "        vertical-align: middle;\n",
       "    }\n",
       "\n",
       "    .dataframe tbody tr th {\n",
       "        vertical-align: top;\n",
       "    }\n",
       "\n",
       "    .dataframe thead th {\n",
       "        text-align: right;\n",
       "    }\n",
       "</style>\n",
       "<table border=\"1\" class=\"dataframe\">\n",
       "  <thead>\n",
       "    <tr style=\"text-align: right;\">\n",
       "      <th></th>\n",
       "      <th>title</th>\n",
       "      <th>content</th>\n",
       "      <th>tags</th>\n",
       "      <th>date</th>\n",
       "      <th>url</th>\n",
       "      <th>category</th>\n",
       "    </tr>\n",
       "  </thead>\n",
       "  <tbody>\n",
       "    <tr>\n",
       "      <th>0</th>\n",
       "      <td>اعلام زمان قرعه کشی جام باشگاه های فوتسال آسیا</td>\n",
       "      <td>{'گزارش': [1], 'خبرگزاری': [2], 'فارس': [3], '...</td>\n",
       "      <td>[اعلام زمان, قرعه‌کشی, قرعه‌کشی جام, قرعه‌کشی ...</td>\n",
       "      <td>3/15/2022 5:59:27 PM</td>\n",
       "      <td>https://www.farsnews.ir/news/14001224001005/اع...</td>\n",
       "      <td>sports</td>\n",
       "    </tr>\n",
       "    <tr>\n",
       "      <th>1</th>\n",
       "      <td>سجادی :حضور تماشاگران در  لیگ برتر فوتبال تابع...</td>\n",
       "      <td>{'گزارش': [1], 'خبرگزاری': [2], 'فارس': [3], '...</td>\n",
       "      <td>[سجادی, لیگ, فدراسیون, وزیر ورزش]</td>\n",
       "      <td>3/15/2022 5:30:07 PM</td>\n",
       "      <td>https://www.farsnews.ir/news/14001224000982/سج...</td>\n",
       "      <td>sports</td>\n",
       "    </tr>\n",
       "    <tr>\n",
       "      <th>2</th>\n",
       "      <td>محل برگزاری نشست‌های خبری سرخابی‌ها؛ مجیدی در ...</td>\n",
       "      <td>{'گزارش': [1], 'خبرگزاری': [2], 'فارس': [3], '...</td>\n",
       "      <td>[دربی 94, محل برگزاری, خبری سرخابی‌ها, مجیدی, ...</td>\n",
       "      <td>3/15/2022 5:20:01 PM</td>\n",
       "      <td>https://www.farsnews.ir/news/14001224000971/مح...</td>\n",
       "      <td>sports</td>\n",
       "    </tr>\n",
       "    <tr>\n",
       "      <th>3</th>\n",
       "      <td>ماجدی در نشست با صالحی امیری: امیدوارم در این ...</td>\n",
       "      <td>{'گزارش': [1], 'خبرگزاری': [2], 'فارس': [3], '...</td>\n",
       "      <td>[کمیته امداد امام خمینی (ره), کمیته ملی المپیک...</td>\n",
       "      <td>3/15/2022 5:18:00 PM</td>\n",
       "      <td>https://www.farsnews.ir/news/14001224000964/ما...</td>\n",
       "      <td>sports</td>\n",
       "    </tr>\n",
       "    <tr>\n",
       "      <th>4</th>\n",
       "      <td>لیگ‌برتر بسکتبال|‌ نخستین پیروزی شهرداری گرگان...</td>\n",
       "      <td>{'گزارش': [1], 'خبرنگار': [2], 'ورزشی': [3], '...</td>\n",
       "      <td>[بسکتبال, لیگ برتر بسکتبال, شهرداری گرگان, تیم...</td>\n",
       "      <td>3/15/2022 5:16:41 PM</td>\n",
       "      <td>https://www.farsnews.ir/news/14001224000947/لی...</td>\n",
       "      <td>sports</td>\n",
       "    </tr>\n",
       "  </tbody>\n",
       "</table>\n",
       "</div>"
      ],
      "text/plain": [
       "                                               title  \\\n",
       "0     اعلام زمان قرعه کشی جام باشگاه های فوتسال آسیا   \n",
       "1  سجادی :حضور تماشاگران در  لیگ برتر فوتبال تابع...   \n",
       "2  محل برگزاری نشست‌های خبری سرخابی‌ها؛ مجیدی در ...   \n",
       "3  ماجدی در نشست با صالحی امیری: امیدوارم در این ...   \n",
       "4  لیگ‌برتر بسکتبال|‌ نخستین پیروزی شهرداری گرگان...   \n",
       "\n",
       "                                             content  \\\n",
       "0  {'گزارش': [1], 'خبرگزاری': [2], 'فارس': [3], '...   \n",
       "1  {'گزارش': [1], 'خبرگزاری': [2], 'فارس': [3], '...   \n",
       "2  {'گزارش': [1], 'خبرگزاری': [2], 'فارس': [3], '...   \n",
       "3  {'گزارش': [1], 'خبرگزاری': [2], 'فارس': [3], '...   \n",
       "4  {'گزارش': [1], 'خبرنگار': [2], 'ورزشی': [3], '...   \n",
       "\n",
       "                                                tags                  date  \\\n",
       "0  [اعلام زمان, قرعه‌کشی, قرعه‌کشی جام, قرعه‌کشی ...  3/15/2022 5:59:27 PM   \n",
       "1                  [سجادی, لیگ, فدراسیون, وزیر ورزش]  3/15/2022 5:30:07 PM   \n",
       "2  [دربی 94, محل برگزاری, خبری سرخابی‌ها, مجیدی, ...  3/15/2022 5:20:01 PM   \n",
       "3  [کمیته امداد امام خمینی (ره), کمیته ملی المپیک...  3/15/2022 5:18:00 PM   \n",
       "4  [بسکتبال, لیگ برتر بسکتبال, شهرداری گرگان, تیم...  3/15/2022 5:16:41 PM   \n",
       "\n",
       "                                                 url category  \n",
       "0  https://www.farsnews.ir/news/14001224001005/اع...   sports  \n",
       "1  https://www.farsnews.ir/news/14001224000982/سج...   sports  \n",
       "2  https://www.farsnews.ir/news/14001224000971/مح...   sports  \n",
       "3  https://www.farsnews.ir/news/14001224000964/ما...   sports  \n",
       "4  https://www.farsnews.ir/news/14001224000947/لی...   sports  "
      ]
     },
     "execution_count": 58,
     "metadata": {},
     "output_type": "execute_result"
    }
   ],
   "source": [
    "df.head()"
   ]
  },
  {
   "cell_type": "code",
   "execution_count": 59,
   "id": "a6dbeda1",
   "metadata": {},
   "outputs": [
    {
     "data": {
      "text/plain": [
       "{'گزارش': [1],\n",
       " 'خبرگزاری': [2],\n",
       " 'فارس': [3],\n",
       " 'کنفدراسیون': [4],\n",
       " 'فوتبال': [5, 13],\n",
       " 'آسیا': [6, 24, 41, 74],\n",
       " 'AFC': [7],\n",
       " 'نامه': [9],\n",
       " 'رسمی': [10],\n",
       " 'فدراسیون': [12],\n",
       " 'ایران': [14, 51],\n",
       " 'باشگاه': [16, 46, 22, 39, 72],\n",
       " 'گیتی': [17, 64],\n",
       " 'پسند': [18, 65],\n",
       " 'زمان': [19],\n",
       " 'قرعه\\u200cکشی': [20, 37],\n",
       " 'جام': [21, 38, 71],\n",
       " 'فوتسال': [23, 40, 50, 73],\n",
       " 'رسما': [26],\n",
       " 'اعلام': [27],\n",
       " 'اساس': [31],\n",
       " '25': [32],\n",
       " 'فروردین': [33],\n",
       " 'ماه': [34],\n",
       " '1401': [35],\n",
       " 'مراسم': [36],\n",
       " 'مالزی': [43],\n",
       " 'برگزار': [44],\n",
       " 'شد&شو': [45],\n",
       " 'گیتی\\u200cپسند': [47],\n",
       " 'بعنوان': [48],\n",
       " 'قهرمان': [49],\n",
       " 'سال': [53],\n",
       " '1400': [54],\n",
       " 'مسابقات': [57, 83],\n",
       " 'تجربه': [66],\n",
       " '3': [67],\n",
       " 'دوره': [68, 80],\n",
       " 'حضور': [69],\n",
       " 'فینال': [82],\n",
       " 'عنوان': [89],\n",
       " 'قهرمانی': [90],\n",
       " 'مقام': [93],\n",
       " 'دومی': [94],\n",
       " 'بدست\\u200cآورده': [95],\n",
       " 'اس': [96]}"
      ]
     },
     "execution_count": 59,
     "metadata": {},
     "output_type": "execute_result"
    }
   ],
   "source": [
    "df['content'].iloc[0]"
   ]
  },
  {
   "cell_type": "markdown",
   "id": "5d1681c3",
   "metadata": {},
   "source": [
    "## Saving our positional posting list"
   ]
  },
  {
   "cell_type": "code",
   "execution_count": 60,
   "id": "6c34f199",
   "metadata": {},
   "outputs": [],
   "source": [
    "# save_positional_postings_lists('results/postings_list.json')"
   ]
  },
  {
   "cell_type": "markdown",
   "id": "fe8ff40d",
   "metadata": {},
   "source": [
    "## Making no stop words/not stemming posting lists"
   ]
  },
  {
   "cell_type": "markdown",
   "id": "3a619736",
   "metadata": {},
   "source": [
    "### Stop words"
   ]
  },
  {
   "cell_type": "code",
   "execution_count": 61,
   "id": "f1244ac5",
   "metadata": {},
   "outputs": [],
   "source": [
    "contain_stop_words_df = pd.read_pickle('results/not_removed_stop_words.pickle')"
   ]
  },
  {
   "cell_type": "code",
   "execution_count": 62,
   "id": "c4d5f43a",
   "metadata": {},
   "outputs": [
    {
     "data": {
      "text/plain": [
       "0        {'به': [[0, 11, 55, 81]], 'گزارش': [[1]], 'خبر...\n",
       "1        {'به': [[0]], 'گزارش': [[1]], 'خبرگزاری': [[2]...\n",
       "2        {'به': [[0, 30]], 'گزارش': [[1]], 'خبرگزاری': ...\n",
       "3        {'به': [[0, 25, 52, 170, 210]], 'گزارش': [[1]]...\n",
       "4        {'به': [[0, 22, 32, 61, 72]], 'گزارش': [[1]], ...\n",
       "                               ...                        \n",
       "12197    {'به': [[0, 20, 90, 115]], 'گزارش': [[1]], 'گر...\n",
       "12198    {'خبرگزاری': [[0]], 'فارس': [[1]], 'یادداشت': ...\n",
       "12199    {'به': [[0, 83, 104, 160, 177]], 'گزارش': [[1]...\n",
       "12200    {'به': [[0, 4, 20, 37, 45, 51, 57, 91, 138]], ...\n",
       "12201    {'به': [[0, 13]], 'گزارش': [[1]], 'خبرنگار': [...\n",
       "Name: content, Length: 12202, dtype: object"
      ]
     },
     "execution_count": 62,
     "metadata": {},
     "output_type": "execute_result"
    }
   ],
   "source": [
    "contain_stop_words_df['content']"
   ]
  },
  {
   "cell_type": "code",
   "execution_count": 63,
   "id": "dad52977",
   "metadata": {},
   "outputs": [],
   "source": [
    "# %%time\n",
    "\n",
    "# positional_postings_list = {}\n",
    "# pos_list = create_positional_postings_lists(contain_stop_words_df)"
   ]
  },
  {
   "cell_type": "code",
   "execution_count": 64,
   "id": "8ca27f6b",
   "metadata": {
    "scrolled": true
   },
   "outputs": [],
   "source": [
    "# save_positional_postings_lists('results/stop_words_posting_list.json')"
   ]
  },
  {
   "cell_type": "markdown",
   "id": "b9f492c6",
   "metadata": {},
   "source": [
    "### No Stemming"
   ]
  },
  {
   "cell_type": "code",
   "execution_count": 65,
   "id": "45c4710e",
   "metadata": {},
   "outputs": [],
   "source": [
    "no_stemming_df = pd.read_pickle('results/not_stemmed.pickle')"
   ]
  },
  {
   "cell_type": "code",
   "execution_count": 66,
   "id": "f0411b55",
   "metadata": {},
   "outputs": [
    {
     "data": {
      "text/plain": [
       "0        {'گزارش': [1], 'خبرگزاری': [2], 'فارس': [3], '...\n",
       "1        {'گزارش': [1], 'خبرگزاری': [2], 'فارس': [3], '...\n",
       "2        {'گزارش': [1], 'خبرگزاری': [2], 'فارس': [3], '...\n",
       "3        {'گزارش': [1], 'خبرگزاری': [2], 'فارس': [3], '...\n",
       "4        {'گزارش': [1], 'خبرنگار': [2], 'ورزشی': [3], '...\n",
       "                               ...                        \n",
       "12197    {'گزارش': [1], 'گروه': [2], 'دفاعی': [3], 'خبر...\n",
       "12198    {'خبرگزاری': [0], 'فارس': [1], 'یادداشت': [2, ...\n",
       "12199    {'گزارش': [1], 'خبرنگار': [2], 'پارلمانی': [3]...\n",
       "12200    {'گزارش': [1], 'خبرگزاری': [2], 'فارس': [3], '...\n",
       "12201    {'گزارش': [1], 'خبرنگار': [2], 'پارلمانی': [3]...\n",
       "Name: content, Length: 12202, dtype: object"
      ]
     },
     "execution_count": 66,
     "metadata": {},
     "output_type": "execute_result"
    }
   ],
   "source": [
    "no_stemming_df['content']"
   ]
  },
  {
   "cell_type": "markdown",
   "id": "f4b0409c",
   "metadata": {},
   "source": [
    "Running below cell takes:\n",
    "$$CPU times: user 2.48 s, sys: 32 ms, total: 2.51 s$$\n",
    "$$Wall time: 2.51 s$$"
   ]
  },
  {
   "cell_type": "code",
   "execution_count": 67,
   "id": "ce738b91",
   "metadata": {},
   "outputs": [],
   "source": [
    "# %%time\n",
    "\n",
    "# positional_postings_list = {}\n",
    "# pos_list = create_positional_postings_lists(no_stemming_df)"
   ]
  },
  {
   "cell_type": "code",
   "execution_count": 68,
   "id": "37c75828",
   "metadata": {
    "scrolled": true
   },
   "outputs": [],
   "source": [
    "# save_positional_postings_lists('results/no_stemming_postings_list.json')"
   ]
  },
  {
   "cell_type": "markdown",
   "id": "38d3b9b2",
   "metadata": {},
   "source": [
    "# Processing queries "
   ]
  },
  {
   "cell_type": "markdown",
   "id": "ea9783e2",
   "metadata": {},
   "source": [
    "## Loading the positional postings list"
   ]
  },
  {
   "cell_type": "code",
   "execution_count": 69,
   "id": "e180c17d",
   "metadata": {},
   "outputs": [],
   "source": [
    "positional_postings_list = {}"
   ]
  },
  {
   "cell_type": "code",
   "execution_count": 70,
   "id": "5ad81c88",
   "metadata": {},
   "outputs": [],
   "source": [
    "def load_positional_postings_list(file_name):\n",
    "    with open(file_name, 'r', encoding='utf-8') as fp:\n",
    "        positional_postings_list_json = json.load(fp)\n",
    "        positional_postings_list = positional_postings_list_json\n",
    "    return positional_postings_list"
   ]
  },
  {
   "cell_type": "code",
   "execution_count": 71,
   "id": "d881752c",
   "metadata": {},
   "outputs": [],
   "source": [
    "positional_postings_list = load_positional_postings_list('results/postings_list.json')"
   ]
  },
  {
   "cell_type": "code",
   "execution_count": 1,
   "id": "942d944d",
   "metadata": {},
   "outputs": [],
   "source": [
    "# positional_postings_list"
   ]
  },
  {
   "cell_type": "code",
   "execution_count": 73,
   "id": "dc78b2e2",
   "metadata": {},
   "outputs": [
    {
     "data": {
      "text/plain": [
       "0"
      ]
     },
     "execution_count": 73,
     "metadata": {},
     "output_type": "execute_result"
    }
   ],
   "source": [
    "positional_postings_list.get('اورشلیم', 0)"
   ]
  },
  {
   "cell_type": "markdown",
   "id": "feacdff4",
   "metadata": {},
   "source": [
    "## Print utility for printing the results"
   ]
  },
  {
   "cell_type": "code",
   "execution_count": 74,
   "id": "c78097f6",
   "metadata": {},
   "outputs": [],
   "source": [
    "original_df = pd.read_json('data/IR_data_news_12k.json').transpose()"
   ]
  },
  {
   "cell_type": "code",
   "execution_count": 75,
   "id": "6d2d395d",
   "metadata": {},
   "outputs": [
    {
     "name": "stdout",
     "output_type": "stream",
     "text": [
      "\n",
      "به گزارش خبرگزاری فارس، نشست خبری پیش از مسابقه سرمربیان دو تیم پرسپولیس و استقلال از هفته بیست و سوم لیگ برتر با  مدیریت سازمان لیگ و هماهنگی باشگاه میزبان( پرسپولیس)  به شرح زیر  برگزار می شود: چهارشنبه ۲۵ اسفند ساعت ۱۵ فرهاد مجیدی سرمربی استقلال در سازمان لیگ فوتبال ایران ساعت ۱۳:۳۰ یحیی گل محمدی سرمربی پرسپولیس در ورزشگاه شهید کاظمی مسابقه دو تیم روز پنجشنبه در ورزشگاه آزادی برگزار می شود. انتهای پیام/\n",
      "\n",
      "\n",
      "\n"
     ]
    }
   ],
   "source": [
    "print(original_df['content'].iloc[2])"
   ]
  },
  {
   "cell_type": "code",
   "execution_count": 2,
   "id": "c40adb8b",
   "metadata": {},
   "outputs": [],
   "source": [
    "# positional_postings_list['استقلال']['document_index_dict']"
   ]
  },
  {
   "cell_type": "code",
   "execution_count": 77,
   "id": "ac39ead1",
   "metadata": {},
   "outputs": [],
   "source": [
    "# width = 10\n",
    "# average_word_length = 9\n",
    "\n",
    "def print_result(doc_index_dict):\n",
    "#     if len(doc_index_dict.keys()) > 5:\n",
    "#         print('There are more than 5 results, so we show just the first five:\\n')\n",
    "    doc_ids = list(doc_index_dict.keys())\n",
    "    if len(doc_ids) > 5:\n",
    "        print('There are more than 5 results, so we show just the first five:\\n')\n",
    "        \n",
    "        for doc_id in doc_ids[:5]:\n",
    "            positions = doc_index_dict[doc_id]\n",
    "            \n",
    "            content = original_df['content'].iloc[int(doc_id)]\n",
    "            print('doc id:', doc_id)\n",
    "            print('title :', original_df['title'].iloc[int(doc_id)])\n",
    "            print('positions:', positions)\n",
    "\n",
    "            print('content:', end='')\n",
    "            print(content)\n",
    "            print()\n",
    "    else:\n",
    "        for doc_id, positions in doc_index_dict.items():\n",
    "            content = original_df['content'].iloc[int(doc_id)]\n",
    "            print('doc id:', doc_id)\n",
    "            print('title :', original_df['title'].iloc[int(doc_id)])\n",
    "            print('positions:', positions)\n",
    "            \n",
    "\n",
    "            print('content:', end='')\n",
    "            print(content)\n",
    "            print()\n",
    "#         if len(positions) <= 5:\n",
    "#             for pos in positions:\n",
    "#                 res = width * average_word_length\n",
    "#                 if pos - res >= 0:\n",
    "#                     left = pos - res\n",
    "#                 else:\n",
    "#                     left = 0\n",
    "                    \n",
    "#                 if pos + res < len(content):\n",
    "#                     right = pos + res\n",
    "#                 else:\n",
    "#                     right = len(content)\n",
    "                \n",
    "#                 print(pos, ':', content[left:right], end='\\n', sep='')\n",
    "\n",
    "#         else:\n",
    "#              for pos in positions[:5]:\n",
    "#                 res = width * average_word_length\n",
    "#                 if pos - res >= 0:\n",
    "#                     left = pos - res\n",
    "#                 else:\n",
    "#                     left = 0\n",
    "                    \n",
    "#                 if pos + res < len(content):\n",
    "#                     right = pos + res\n",
    "#                 else:\n",
    "#                     right = len(content)\n",
    "#                 print(pos,':', content[left:right], end='\\n', sep='')\n",
    "                \n",
    "#              print('...\\n\\n')"
   ]
  },
  {
   "cell_type": "markdown",
   "id": "6c4bc577",
   "metadata": {},
   "source": [
    "## Searching one word with positional index"
   ]
  },
  {
   "cell_type": "code",
   "execution_count": 78,
   "id": "40ade102",
   "metadata": {},
   "outputs": [],
   "source": [
    "def search_word(word):\n",
    "    for processed_word in preprocess(word).keys():\n",
    "        if processed_word in positional_postings_list:\n",
    "            word_info = positional_postings_list[processed_word]\n",
    "\n",
    "            num_of_docs = word_info['unique_documents_frequency']\n",
    "            doc_freq_dict = word_info['document_frequency_dict']\n",
    "            doc_index_dict = word_info['document_index_dict']\n",
    "\n",
    "            doc_ids = list(map(int, doc_freq_dict.keys()))\n",
    "            print(\"Result: \" + str(num_of_docs) + \" documents.\")\n",
    "            print_result(doc_index_dict)\n",
    "        else:\n",
    "            print('No result found :(')"
   ]
  },
  {
   "cell_type": "code",
   "execution_count": 79,
   "id": "e0200451",
   "metadata": {
    "scrolled": true
   },
   "outputs": [
    {
     "name": "stdout",
     "output_type": "stream",
     "text": [
      "Result: 1611 documents.\n",
      "There are more than 5 results, so we show just the first five:\n",
      "\n",
      "doc id: 2\n",
      "title : محل برگزاری نشست‌های خبری سرخابی‌ها؛ مجیدی در سازمان لیگ، گل‌محمدی در تمرین پرسپولیس\n",
      "positions: [13, 43]\n",
      "content:\n",
      "به گزارش خبرگزاری فارس، نشست خبری پیش از مسابقه سرمربیان دو تیم پرسپولیس و استقلال از هفته بیست و سوم لیگ برتر با  مدیریت سازمان لیگ و هماهنگی باشگاه میزبان( پرسپولیس)  به شرح زیر  برگزار می شود: چهارشنبه ۲۵ اسفند ساعت ۱۵ فرهاد مجیدی سرمربی استقلال در سازمان لیگ فوتبال ایران ساعت ۱۳:۳۰ یحیی گل محمدی سرمربی پرسپولیس در ورزشگاه شهید کاظمی مسابقه دو تیم روز پنجشنبه در ورزشگاه آزادی برگزار می شود. انتهای پیام/\n",
      "\n",
      "\n",
      "\n",
      "\n",
      "doc id: 6\n",
      "title : اعلام برنامه نشست خبری گل محمدی/ مجیدی هم باید به محل تمرین پرسپولیس برود!\n",
      "positions: [20, 56, 82]\n",
      "content:\n",
      "به گزارش خبرگزاری فارس و به نقل از  سایت باشگاه پرسپولیس، نشست خبری پیش از مسابقه سرمربیان دو تیم پرسپولیس و استقلال از هفته بیست و سوم لیگ برتر (جام خلیج فارس) با  مدیریت سازمان لیگ و هماهنگی باشگاه میزبان (پرسپولیس) در ورزشگاه شهید کاظمی به شرح زیر  برگزار می‌شود: چهارشنبه ۲۵ اسفند ساعت ۱۳ فرهاد مجیدی سرمربی استقلال ساعت ۱۳:۳۰ یحیی گل محمدی سرمربی پرسپولیس  مسابقه دو تیم روز پنجشنبه در ورزشگاه آزادی برگزار می‌شود.  به گزارش خبرگزاری فارس، پیش از این باشگاه استقلال اعلام کرده بود قرار است نشست خبری فرهاد مجیدی، سرمربی این تیم از ساعت ۱۵ در سازمان لیگ برگزار شود. انتهای پیام /\n",
      "\n",
      "\n",
      "\n",
      "\n",
      "doc id: 7\n",
      "title : احضار مدیران پرسپولیس به کمیته انضباطی  پیش از دربی\n",
      "positions: [27, 33, 85]\n",
      "content:\n",
      "به گزارش خبرنگار ورزشی خبرگزاری فارس، کمیته انضباطی فدراسیون فوتبال در روزهای اخیر با احضار دو مدیر پرسپولیس از آنها درخواست کرده با توجه به شکایت باشگاه استقلال مستندات خود را بابت شکایت استقلال ارائه کنند. مصطفی لشگری، مدیر روابط عمومی و علیرضا اشرف، مدیر رسانه‌ای پرسپولیس دو مدیر این باشگاه هستند که باید توضیحات خود را در آستانه دربی به کمیته انضباطی ارائه کنند.البته رضا درویش، مدیرعامل پرسپولیس هم بابت برخی بیانیه‌های این تیم به کمیته انضباطی احضار شده است. البته گفته می شود این قضیه در مورد مدیران باشگاه استقلال هم اتفاق افتاده است. انتهای پیام /\n",
      "\n",
      "\n",
      "\n",
      "\n",
      "doc id: 9\n",
      "title : خبر خوب برای استقلال؛ دانشگر با تیم تمرین کرد\n",
      "positions: [8, 53]\n",
      "content:\n",
      "به گزارش خبرنگار ورزشی خبرگزاری فارس، تمرین امروز استقلال در شرایطی برگزار شد که محمد دانشگر مدافع مصدوم این تیم در تمرینات گروهی تیمش شرکت کرد. این بازیکن روز گذشته در تمرین تیمش فقط به برنامه‌های اختصاصی پرداخت و به صورت سبک تمرین کرد اما امروز در تمرین گروهی تیمش حضور داشت. تیم فوتبال استقلال برای دربی روز پنجشنبه آماده می‌شود. انتهای پیام/  \n",
      "\n",
      "\n",
      "\n",
      "\n",
      "doc id: 12\n",
      "title : گزارش تمرین پرسپولیس| روحیه بالای شاگردان گل محمدی در آستانه دربی\n",
      "positions: [125]\n",
      "content:\n",
      "به گزارش خبرگزاری فارس، تمرین امروز تیم فوتبال پرسپولیس از ساعت 11:45 در هوای مطبوع ورزشگاه شهید کاظمی زیر نظر کادر فنی با شادابی و روحیه بالای سرخ پوشان برگزار شد. * بازیکنان ابتدا زیر نظر مربی بدنساز تیم با انجام حرکات کششی، نرمشی و دوهای کوتاه، بدن‌ها را گرم و در اختیار کادر فنی قرار گرفتند. * سپس در قالب سه گروه به تمرین پرداخته و در ادامه نیز مرور کارهای تاکتیکی و فوتبال هدفمند در دستور کار قرار گرفت. * تمرین امروز حدود 50 دقیقه به طول انجامید و کلیه سرخپوشان به جز سیامک نعمتی در برنامه‌های کادر فنی حاضر بودند. در پایان نیز بازیکنان بدن‌ها را سرد و راهی رختکن شدند. تیم پرسپولیس از ساعت 17:30 پنجشنبه در چارچوب دیدارهای هفته بیست و سوم لیگ برتر به مصاف استقلال می رود. انتهای پیام/\n",
      "\n",
      "\n",
      "\n",
      "\n"
     ]
    }
   ],
   "source": [
    "search_word('استقلال')"
   ]
  },
  {
   "cell_type": "code",
   "execution_count": 80,
   "id": "db043b85",
   "metadata": {},
   "outputs": [
    {
     "name": "stdout",
     "output_type": "stream",
     "text": [
      "No result found :(\n"
     ]
    }
   ],
   "source": [
    "search_word('اورشلیم')"
   ]
  },
  {
   "cell_type": "markdown",
   "id": "3b9ffdfa",
   "metadata": {},
   "source": [
    "## Find the documents, that contain all the words in the list"
   ]
  },
  {
   "cell_type": "code",
   "execution_count": 81,
   "id": "354a8ec7",
   "metadata": {},
   "outputs": [],
   "source": [
    "def find_docs_intersection(words_list):\n",
    "    doc_id_lists = []\n",
    "    for word in words_list:\n",
    "        word_info = positional_postings_list[word]\n",
    "        \n",
    "        doc_freq_dict = word_info['document_frequency_dict']\n",
    "        doc_ids = list(map(int, doc_freq_dict.keys()))\n",
    "        \n",
    "        doc_id_lists.append(doc_ids)\n",
    "        \n",
    "    intersection_list = doc_id_lists[0]\n",
    "    for id in doc_id_lists:\n",
    "        intersection_list = list(set(intersection_list).intersection(id))\n",
    "\n",
    "    return intersection_list"
   ]
  },
  {
   "cell_type": "code",
   "execution_count": 82,
   "id": "1794a021",
   "metadata": {},
   "outputs": [],
   "source": [
    "def check_words_index(words_list, docs_id_intersection):\n",
    "    result_docs_id_lists = []\n",
    "    for doc_id in docs_id_intersection:\n",
    "        inf_about_word = positional_postings_list[words_list[0]]\n",
    "        \n",
    "        for index in inf_about_word[\"document_index_dict\"][str(doc_id)]:\n",
    "            flag = True\n",
    "            for i in range(1, len(words_list)):\n",
    "                inf_about_next_word = positional_postings_list[words_list[i]]\n",
    "                if int(int(index) + i) not in inf_about_next_word[\"document_index_dict\"][str(doc_id)]:\n",
    "                    flag = False\n",
    "                    break\n",
    "\n",
    "            if flag:\n",
    "                if doc_id not in result_docs_id_lists:\n",
    "                    result_docs_id_lists.append(doc_id)\n",
    "\n",
    "    return result_docs_id_lists"
   ]
  },
  {
   "cell_type": "code",
   "execution_count": 83,
   "id": "cd4a3e55",
   "metadata": {},
   "outputs": [],
   "source": [
    "def create_list_from_dict(result_docs_id_dict):\n",
    "    result_docs_id_list = []\n",
    "    for key, values in sorted(result_docs_id_dict.items(), reverse=True):\n",
    "        for value in sorted(values):\n",
    "            if value not in result_docs_id_list:\n",
    "                result_docs_id_list.append(value)\n",
    "\n",
    "    return result_docs_id_list"
   ]
  },
  {
   "cell_type": "code",
   "execution_count": 84,
   "id": "68fc6a7e",
   "metadata": {},
   "outputs": [
    {
     "data": {
      "text/plain": [
       "'استقلال'"
      ]
     },
     "execution_count": 84,
     "metadata": {},
     "output_type": "execute_result"
    }
   ],
   "source": [
    "list(preprocess('استقلال').keys())[0]"
   ]
  },
  {
   "cell_type": "code",
   "execution_count": 85,
   "id": "d351471f",
   "metadata": {},
   "outputs": [],
   "source": [
    "def print_words_result(doc_id_list):\n",
    "    for doc_id in doc_id_list[0:5]:\n",
    "        print(\"doc id: \", doc_id)\n",
    "        title = original_df['title'][int(doc_id)]\n",
    "        print(\"title: \", title)\n",
    "        print('content:')\n",
    "        print(original_df['content'][int(doc_id)])\n",
    "        print()"
   ]
  },
  {
   "cell_type": "markdown",
   "id": "5953343b",
   "metadata": {},
   "source": [
    "## Preparing user input for our search engine:"
   ]
  },
  {
   "cell_type": "code",
   "execution_count": 86,
   "id": "9a88f151",
   "metadata": {},
   "outputs": [],
   "source": [
    "def prepare_query_input(sentence):\n",
    "        return list(preprocess(sentence).keys())"
   ]
  },
  {
   "cell_type": "code",
   "execution_count": 87,
   "id": "55bad408",
   "metadata": {},
   "outputs": [
    {
     "data": {
      "text/plain": [
       "['دانشگاه', 'صنعتی', 'امیرکبیر', 'جزو', 'ایران', 'بود&باش']"
      ]
     },
     "execution_count": 87,
     "metadata": {},
     "output_type": "execute_result"
    }
   ],
   "source": [
    "prepare_query_input('دانشگاه صنعتی امیرکبیر جزو بهترین دانشگاه های صنعتی ایران می باشد')"
   ]
  },
  {
   "cell_type": "markdown",
   "id": "40286c56",
   "metadata": {},
   "source": [
    "## Implementing multi word search:"
   ]
  },
  {
   "cell_type": "code",
   "execution_count": 88,
   "id": "a2c8525a",
   "metadata": {},
   "outputs": [],
   "source": [
    "def search_words(words):\n",
    "    new_words = []\n",
    "   \n",
    "    for word in words:\n",
    "        pre_processed = preprocess(word)\n",
    "        if pre_processed:\n",
    "            item = list(pre_processed.keys())[0]\n",
    "            if item in positional_postings_list:\n",
    "                new_words.append(item)\n",
    "\n",
    "    result_docs_id_dict = {}\n",
    "    for i in range(len(new_words) - 1, -1, -1):\n",
    "        docs_id_lists = []\n",
    "        for j in range(0, len(new_words) - i):\n",
    "            docs_id_intersection = find_docs_intersection(new_words[j:i + j + 1])\n",
    "            if len(docs_id_intersection) >= 1:\n",
    "                docs_id_lists = list(\n",
    "                    set(docs_id_lists + check_words_index(new_words[j:i + j + 1], docs_id_intersection)))\n",
    "        result_docs_id_dict[i + 1] = docs_id_lists\n",
    "\n",
    "    for key, value in result_docs_id_dict.items():\n",
    "        print(f'We have {len(value)} document(s) that have {key} words of the user query.')\n",
    "    print()\n",
    "\n",
    "    result_docs_id_list = create_list_from_dict(result_docs_id_dict)\n",
    "    print_words_result(result_docs_id_list)"
   ]
  },
  {
   "cell_type": "code",
   "execution_count": 89,
   "id": "95bc38e0",
   "metadata": {},
   "outputs": [
    {
     "name": "stdout",
     "output_type": "stream",
     "text": [
      "We have 4404 document(s) that have 3 words of the user query.\n",
      "We have 11454 document(s) that have 2 words of the user query.\n",
      "We have 12150 document(s) that have 1 words of the user query.\n",
      "\n",
      "doc id:  0\n",
      "title:  اعلام زمان قرعه کشی جام باشگاه های فوتسال آسیا\n",
      "content:\n",
      "\n",
      "به گزارش خبرگزاری فارس، کنفدراسیون فوتبال آسیا (AFC) در نامه ای رسمی به فدراسیون فوتبال ایران و باشگاه گیتی پسند زمان  قرعه کشی جام باشگاه های فوتسال آسیا را رسماً اعلام کرد. بر این اساس 25 فروردین ماه 1401 مراسم قرعه کشی جام باشگاه های فوتسال آسیا در مالزی برگزار می شود. باشگاه گیتی پسند بعنوان قهرمان فوتسال ایران در سال 1400 به این مسابقات راه پیدا کرده است. پیش از این گیتی پسند تجربه 3 دوره حضور در جام باشگاه های فوتسال آسیا را داشته که هر سه دوره به فینال مسابقات راه پیدا کرده و یک عنوان قهرمانی و دو مقام دومی بدست آورده است. انتهای پیام/\n",
      "\n",
      "\n",
      "\n",
      "\n",
      "doc id:  1\n",
      "title:  سجادی :حضور تماشاگران در  لیگ برتر فوتبال تابع نظر فدراسیون  و سازمان لیگ است\n",
      "content:\n",
      "\n",
      "به گزارش خبرگزاری فارس، سید حمید سجادی در حاشیه مراسم گرامیداشت روز جوان در جمع خبرنگاران در رابطه با عرضه سهام سرخابی‌ها در بورس اظهار داشت: منتظر طی روند هستیم و بعدا اطلاع رسانی خواهیم کرد. وی در مورد حضور تماشاگران در مسابقات فوتبال اظهار داشت: حضور تماشاگران در  لیگ برتر فوتبال تابع نظر فدراسیون ،سازمان لیگ و ستاد ملی مبارزه با کرونا است. انتهای پیام/\n",
      "\n",
      "\n",
      "\n",
      "\n",
      "doc id:  2\n",
      "title:  محل برگزاری نشست‌های خبری سرخابی‌ها؛ مجیدی در سازمان لیگ، گل‌محمدی در تمرین پرسپولیس\n",
      "content:\n",
      "\n",
      "به گزارش خبرگزاری فارس، نشست خبری پیش از مسابقه سرمربیان دو تیم پرسپولیس و استقلال از هفته بیست و سوم لیگ برتر با  مدیریت سازمان لیگ و هماهنگی باشگاه میزبان( پرسپولیس)  به شرح زیر  برگزار می شود: چهارشنبه ۲۵ اسفند ساعت ۱۵ فرهاد مجیدی سرمربی استقلال در سازمان لیگ فوتبال ایران ساعت ۱۳:۳۰ یحیی گل محمدی سرمربی پرسپولیس در ورزشگاه شهید کاظمی مسابقه دو تیم روز پنجشنبه در ورزشگاه آزادی برگزار می شود. انتهای پیام/\n",
      "\n",
      "\n",
      "\n",
      "\n",
      "doc id:  3\n",
      "title:  ماجدی در نشست با صالحی امیری: امیدوارم در این دوره تیم  المپیک موفق شود\n",
      "content:\n",
      "\n",
      "به گزارش خبرگزاری فارس،  سید رضا صالحی امیری رئیس کمیته ملی المپیک در دیدار با سید میرشاد ماجدی سرپرست فدراسیون فوتبال بر آمادگی این کمیته به منظور حمایت همه جانبه از تیم المپیک ایران و ضرورت پیش بینی برنامه های آماده سازی مناسب برای این تیم تاکید کرد و گفت: ضمن آرزوی موفقیت برای آقای ماجدی به عنوان چهره با اخلاق فوتبال و ورزش تمام تلاشمان این خواهد بود تا تیم امید و المپیک در محیطی آرام و بدون دغدغه آماده حضور در بازی های آسیایی شود، ضمن اینکه پیش از این هم اعلام کردیم دخالتی در امور فنی تیم ها نداشته و نخواهیم داشت. سرپرست فدراسیون فوتبال نیز با تاکید بر ضرورت تعامل و همکاری همه جانبه در خصوص برنامه ریزی و آماده سازی مناسب تیم المپیک گفت:تیم فوتبال زیر 23 سال ایران با حضور مهدی مهدوی کیا و اعضای کادر فنی همچنین از ظرفیت بسیار خوبی برای موفقیت در این دوره برخوردار است و هماهنگی و همکاری نزدیک کمیته ملی المپیک و فدراسیون فوتبال در راستای حمایت از این تیم با تامین خواسته های مورد نظر اعضای کادر فنی می تواند نتایج ارزشمندی به همراه داشته باشد. امیدواریم در این دوره شاهد موفقیت تیم المپیک و کسب نتایجی در شان و جایگاه فوتبال ملی ایران باشیم. در این نشست که با حضور نصرالله سجادی مشاور رئیس کمیته و  پیمان فخری سرپرست کاروان ورزشی اعزامی ایران به بازی های آسیایی ۲۰۲۲ هانگژو برگزار شد هماهنگی لازم در خصوص همکاری دو جانبه فدراسیون فوتبال و کمیته ملی المپیک در خصوص برنامه ها و اردوهای آماده سازی آتی تیم المپیک صورت پذیرفت. انتهای پیام/\n",
      "\n",
      "\n",
      "\n",
      "\n",
      "doc id:  5\n",
      "title:  مسابقات تنیس روی میز فیدر قطر| هر4 بانوی ملی پوش ایران حذف شدند\n",
      "content:\n",
      "\n",
      "به گزارش خبرگزاری فارس، چهار بانوی تنیس روی میز ایران با باخت در مصاف با رقبای خود در جدول ۶۴ نفره رقابت‌های فیدر دوحه قطر از راهیابی به مرحله بعد بازماندند. ندا شهسواری در مصاف با هوانگ با رنکینگ ۳۸۲ دنیا از چین تایپه با حساب ۴ بر صفر مغلوب شد. شهسواری در گیم اول ۱۱ بر ۷، گیم دوم ۱۱ بر ۲ و در دو گیم متوالی با حساب ۱۱ بر ۶ متوقف و از راهیابی به مرحله بعد بازماند. مهشید اشتری در مصاف با چانگ لی از مالزی با حساب ۴ بر ۲ شکست خورد. حریف اشتری دارنده رنک ۲۳۷ دنیا بود که نماینده کشورمان در دو گیم با حساب ۱۱ بر ۸ شکست خورد و ‌ گیم سوم ۱۱ بر ۷ به سود اشتری خاتمه یافت. گیم چهارم ۱۱ بر ۱۳ به سود حریف به اتمام رسید و اشتری در گیم چهارم ۱۳ بر ۱۱ برابر حریف به برتری دست یافت اما در پایان گیم ششم حریف مالزیایی ۱۲ بر ۱۰ از سد اشتری گذشت. مریم صامت در تقابل با النا از رومانی دارنده رنک ۲۱۵ با نتیجه ۴ بر ۳ شکست خورد. گیم اول ۱۱ بر ۷ به سود حریف به پایان رسید ، صامت در دو گیم متوالی ۱۱ بر ۶ و سپس ۱۱ بر ۷ به پیروزی دست یافت، حریف رومانیایی در گیم چهارم ۱۱ بر ۸ از سد صامت عبور کرد و بازی در گیم پنجم ۱۴ بر ۱۲ به نفع صامت خاتمه یافت. حریف در پایان گیم های ششم و هفتم با برتری ۱۱ بر ۵ از سد نماینده کشورمان عبور کرد. شیما صفایی با قبول شکست ۴ بر صفر مقابل نماینده هند از راهیابی به دور بعد بازماند. ۱۱ بر ۵ در گیم اول ، ۱۳ بر ۱۱ در گیم دوم، ۱۱ بر ۵ و ۱۱ بر ۹ نتایج رقم خورده در این دیدار به نفع حریف هندی صفایی بود. انتهای پیام/\n",
      "\n",
      "\n",
      "\n",
      "\n"
     ]
    }
   ],
   "source": [
    "search_words(prepare_query_input('گزارش خبرگزاری فارس'))"
   ]
  },
  {
   "cell_type": "code",
   "execution_count": 90,
   "id": "d6bfcf0f",
   "metadata": {},
   "outputs": [
    {
     "name": "stdout",
     "output_type": "stream",
     "text": [
      "We have 0 document(s) that have 3 words of the user query.\n",
      "We have 22 document(s) that have 2 words of the user query.\n",
      "We have 3973 document(s) that have 1 words of the user query.\n",
      "\n",
      "doc id:  6929\n",
      "title:  توضیحات یک منبع آگاه درباره وقفه مذاکرات وین\n",
      "content:\n",
      "\n",
      "به گزارش خبرنگار سیاسی خبرگزاری فارس، به نظر می‌رسد مذاکرات وین به روزهای آخر خود نزدیک شده است و براساس اعلام برخی منابع تا رسیدن به توافق راه زیادی باقی نمانده و تنها نیاز است آمریکا به آنچه در برجام برای برداشتن تحریم‌ها وعده داده  عمل کند و تضمین معتبری هم برای انجام این تعهدات داده شود. براساس اعلام مسئولان سیاست خارجه در کنار دریافت تضمین‌ معتبر، برداشتن همه تحریم‌ها از نکات و مطالبات اصلی ایران در مذاکرات است. اما به نظر می‌رسد آمریکا در مقابل عمل به این تعهد برجامی مقاومت می‌کند. * تحریم‌های آمریکا علیه ایران آمریکا پس از تسخیر لانه‌ جاسوسی آمریکا در تهران، «کارتر» در تاریخ 8 نوامبر 1979م. با استناد به قانون‌ «کنترل صدور تسلیحات نظامی»، کشتی حامل‌ لوازم یدکی نظامی متعلق به ایران را توقیف کرد. ارزش این لوازم 300 میلیون دلار بود. با اوج‌گیری کشمکش‌های سیاسی بر سر مسئله‌ تصرف سفارت، دولت موقت، اعلام کرد تمام دارایی‌های‌ خود را از بانک‌های آمریکا خارج خواهد کرد. کارتر با لحاظ این احتمال، در کشور شرایط اضطراری اعلام کرد و با استناد به قانون شرایط اضطراری اقتصاد بین‌الملل (IEEPA) و قانون‌ شرایط اضطراری ملی (NEA)، با صدور دستور ویژه‌ی شماره‌ی (12170)، تمام دارایی‌های ایران در آمریکا را به تصرف خود درآورد.   مجموع پس‌اندازها و اوراق بهادار بلوکه شده‌ی ایران بالغ بر 12 میلیارد دلار بود. حدود 1.4میلیارد دلار در بانک «فدرال رزرو» آمریکا، 5.6میلیارد دلار در شعب مختلف بانک‌های این کشور‌ در خارج از آمریکا، 2 میلیارد دلار در سایر بانک‌های آمریکا و حدود 2 میلیارد دلار در اختیار شهروندان و مؤسسه‌های خصوصی ایالات متحده بود. همچنین 1.6میلیون اونس طلا به حساب بانک‌ مرکزی ایران در بانک «فدرال رزرو» نگاه داشته‌ می‌شد. در تاریخ 7 آوریل 1980م. کارتر با صدور دستور ویژه‌ شماره‌ (12205)، فروش و عرضه‌ هرگونه کالا و خدمات، به‌جز مواد غذایی و دارویی، به ایران را ممنوع کرد. براساس دستور ویژه‌ی (12211) به تاریخ 17 آوریل 1980م.، وارد نمودن هرگونه کالا از ایران‌ نیز ممنوع شد. این دستورات هم با استناد به‌ قانون (IEEPA) صادر شد. پس از پایان داستان‌ گروگان‌گیری در روزهای پایانی ریاست‌جمهوری‌ کارتر، وی با صدور 10 دستور ویژه، تمام‌ تحریم‌ها برضد ایران را لغو کرد، اما دولت بعدی‌ (ریگان) در عمل فقط ممنوعیت مربوط به‌ صادرات و واردات را اجرا نمود و به بهانه‌های‌ مختلف، از آزاد کردن اموال ایران طفره رفت. آمریکا از سال 1983م. تحریمی یک جانبه موسوم به عملیات «استانج» را برضد ایران آغاز کرد.   در این راستا ایالات متحده با 20کشور درباره‌ی ارسال نکردن سلاح به ایران وارد مذاکره شد تا آن‌ها را مجاب کند که سلاح به ایران نفروشند. این تحریم در شرایط درگیری ایران در جنگ تحمیلی با هدف حمایت از عراق بعثی در برابر ایران اسلامی بود.    در ادامه‌ تحریم‌های اعمال شده از سوی آمریکا، بار دیگر در سال 1984م. آمریکا صادرات برخی از مواد شیمیایی را به ایران ممنوع کرد. ممنوعیت برخی از مواد شیمیایی بعد از ماجرای ایران-کنترا در سال 1987م. به 150 نوع کالا که دارای کاربرد نظامی نیز بودند، گسترش یافت. همچنین در تاریخ 6 نوامبر سال‌ 1987م. نمایندگان کنگره در واکنش به خریدهای‌ نفت اداره‌ی انرژی آمریکا از ایران، لایحه‌ای به‌ مجلس برده و با تصویب آن واردات نفت از ایران‌ را ممنوع کردند.   ریگان که نمی‌خواست کمتر از کنگره ضدتروریست جلوه کند، 3هفته بعد با صدور دستور ویژه‌ی (12613) ورود هرگونه کالا و خدمات از ایران را ممنوع کرد. وی برای صدور این دستور به بند 505 «قانون همکاری‌های‌ بین‌المللی امنیتی و توسعه»، مصوب سال‌ 1985م. استناد کرد. در واقع زمانی که ایران درگیر جنگ تحمیلی بود، ایالات متحده به تعریف سیاست‌های تحریمی پرداخت که بتواند بر نتیجه‌ی جنگ ایران و عراق تأثیری شگرف بگذارد و رقیب نوپای اسلامی خود را در جنگی نابرابر از میدان به در کند. اما پایان جنگ، تافته‌ی بافته‌ی آمریکا را ریش ریش کرد. * پایان جنگ، تداوم تحریم با پذیرش قطعنامه‌ی (598) توسط ایران، جنگ تحمیلی، رسمی و فیزیکی برضد جمهوری اسلامی پایان یافت، اما حربه‌ی نرم، جایگزین حربه‌ی سخت جنگ شد. به موازات تحریم‌های قبلی، سیاست اعمال فشار و تحریم برضد ایران تداوم یافت. با آغاز ریاست جمهوری «بیل کلینتون» در سال 1992م. روابط ایران و آمریکا وارد مرحله‌ی تازه‌ای شد. استراتژی جدید آمریکا درباره‌ی ایران و عراق «سیاست مهاردوگانه» بود.   براساس این سیاست، آمریکا در نخستین گام، محدودیت‌هایی برای خرید نظامی ایران، ممنوعیت کمک و تخصیص اعتبار، کنترل صادرات و واردات، جلوگیری از اعطای وام از سوی بانک جهانی و صندوق بین‌المللی پول و ادامه‌ی توقیف اموال ایران اعمال کرد. کلینتون در اسفند ماه 1373 فرمان اجرایی شماره‌ی (12957) مبنی بر ممنوعیت برخی معاملات مربوط به توسعه‌ی منابع نفتی ایران را امضا نمود.   بدین ترتیب شرکت‌های آمریکایی از سرمایه‌گذاری در بخش نفت و گاز ایران منع شدند. رئیس جمهور آمریکا بار دیگر در اردیبهشت 1374 طی فرمان شماره‌ی (12959) تحریم‌های جدیدی را برضد ایران اعمال کرد. بر این اساس شرکت‌های آمریکایی از خرید نفت از ایران منع شدند. در این دوران آمریکا سیاست‌های ضد ایرانی خود را ادامه داد به گونه‌ای که در مرداد 1375 قانون مجازات‌ها برضد ایران و لیبی در کنگره تصویب شد.   طبق این قانون که به «داماتو» معروف شد، شرکت‌های غیرآمریکایی که در بخش نفت و گاز لیبی و ایران سرمایه‌گذاری کنند، مجازات خواهند شد. بنابراین علاوه بر شرکت‌های آمریکایی، تمامی شرکت‌های خارجی دیگر از سرمایه‌گذاری بیش از 20 میلیون دلار در ایران منع شدند. * 11 سپتامبر، موج جدید تحریمها همچنان در دوره‌های بعدی نیز تحریم‌ها برضد ایران توسط رؤسای جمهور آمریکا تمدید می‌شد. با این حال به دنبال رویداد 11 سپتامبر 2001م. «جورج بوش»، رئیس‌جمهور وقت آمریکا قانونی را تصویب کرد که اجازه‌ی بلوکه‌ی اموال و دارایی‌های اشخاص حقوقی و حقیقی حامی تروریسم را ارائه می‌کرد. چندی بعد شماری از اشخاص حقیقی و حقوقی در ایران نیز در فهرست تحریم‌ها قرار گرفتند. به طوری که برخی بانک‌ها مانند بانک سپه و ملی، مقاطعه‌کاران در صنعت دفاعی و شرکت‌های سپاه پاسداران به همراه مقام‌های سپاه و نیروی قدس در فهرست تحریم‌ها قرار گرفتند. در راستای سیاست‌های آمریکا در ژوئن 2008م. اتحادیه‌ی اروپا دارایی بیش از 40 شخص حقیقی و حقوقی که با بانک ملی ایران همکاری داشتند را مسدود کرد. ژاپن و اتحادیه‌ی اروپا همچنین محدودیت‌هایی را در جهت اعطای وام به ایران اعمال کردند. همچنین در جولای 2010م.، «اوباما» تحریم شرکت‌های داخلی و خارجی که به ایران بنزین می‌فروشند یا به ارتقای ظرفیت پالایشگاهی جمهوری اسلامی کمک می‌کنند را تصویب کرد.  * تحریم‌های هسته‌ای پس از 11 سپتامبر و موج جدیدی از تحریم‌ها برضد ایران، ترسیم چهره‌ی «ایران هسته‌ای» در صدر تبلیغات منفی از جمهوری اسلامی قرار گرفت. به دنبال این امر کشورهای غربی در صدد اعمال تحریم‌های گوناگون اقتصادی و تکنولوژیکی برضد ایران برآمدند و با طرح فعالیت‌های هسته‌ای ایران در شورای امنیت به مخاصمه با این کشور پرداختند. در این راستا ایالات متحده پس از 11 سپتامبر 2001م.، جمهوری اسلامی ایران را کشوری در پی «دستیابی به سلاح‌های کشتار جمعی و بر هم زننده‌ی صلح و ثبات بین‌المللی» معرفی کرد و تمام تلاش خود را جهت ناکامی ایران در اجرای فعالیت‌های هسته‌ای و ارجاع پرونده‌ی ایران به شورای امنیت به کار گرفت. قطعنامه‌ی (1737) که در 23 دسامبر 2006م. به تصویب اعضای شورای امنیت رسید، در عمل ایران را به فصل7 و ماده‌ی 41 منشور ملل متحد کشاند. این قطعنامه دارایی‌های برخی مؤسسه‌ها و افراد مرتبط با برنامه‌های هسته‌ای ایران در خارج از کشور را مسدود نمود. همچنین در این قطعنامه ذکر شده بود که در صورت بی‌اعتنایی مجدد ایران به قطعنامه‌ی یاد شده و متوقف نشدن فعالیت‌های هسته‌ای در مدت زمان مقرر (60 روزه) از سوی شورای امنیت، تهران با تحریم‌های سخت‌تری مواجه خواهد شد.  اگر چه قطعنامه‌ی یاد شده لحنی تند داشت و ضرب‌الاجلی 2 ماهه برای ایران تعیین کرده بود، با این حال جمهوری اسلامی ایران ضمن رد و غیرعادلانه خواندن قطعنامه و انتقاد از برخورد دوگانه‌ی شورای امنیت، مصرانه بر ادامه‌ی فعالیت‌های صلح‌آمیز خود جهت دستیابی به فن‌آوری هسته‌ای پای فشرد. بدین ترتیب پس از پایان مهلت 2ماهه، شورای امنیت و اعتنا نکردن ایران به قطعنامه‌ی یاد شده، قطعنامه‌ی سوم شورای امنیت پس از حدود یک ماه رایزنی در 24 مارس 2007م. به تصویب رسید.   قطعنامه‌ی (1747) ضمن مسدود نمودن دارائی‌های 28 فرد و نهاد ایرانی مرتبط با برنامه‌های هسته‌ای ایران و جلوگیری از صادرات تسلیحاتی ایران، تحریم‌های تنبیهی جدیدی را نیز برضد تهران وضع کرد و یک بار دیگر از ایران خواست که طی 60 روز آینده فعالیت‌های هسته‌ای خود را به حالت تعلیق درآورد. در تیرماه 1387 چهار گروه صنعتی ایران شامل مجموعه‌ی صنایع شهید ستاری، هفت تیر، گروه صنایع مهمات و متالورژی و صنایع شیمی پارچین مشمول تحریم‌های آمریکا شدند. وزارت خزانه‌داری ایالات متحده در آذر 1389 اعلام کرد که شرکت‌ها و بانک‌های نفت و گاز پارس، بیمه‌ی معلم، بانک مهر، بانک انصار، شرکت کشتیرانی لاینر ترانسپورت کیش و بنیاد تعاون سپاه را به فهرست سیاه تحریمی خود می‌افزاید. در بهمن 1389 (اوایل سال 2011م.)، وزارت خزانه‌داری آمریکا، تحریم‌های جدیدی را برضد بانک رفاه ایران تحمیل کرد.افزون بر این‌ها، قانون تحریم همه ‌جانبه‌ی ایران در سال 1389 به تصویب کنگره‌ی این کشور رسید. این تحریم‌ها رئیس‌جمهور آمریکا را قادر می‌سازد تا شرکت‌های خارجی که به ایران بنزین و دیگر فرآورده‌های نفتی پالایش شده را صادر می‌کنند، مجازات کند. * تحریم‌های اروپا برضد ایران همراهی اروپا با غرب در اعمال فشار بر جمهوری اسلامی در سال‌های اخیر قابل توجه است. به موازات تحریم‌های تعریف شده‌ی آمریکا برضد ایران، اروپا نیز از این دور عقب نمانده است. دولت انگلیس در ژوئن 2008م. اعلام کرد که در ادامه‌ی سیاست تحریم برضد ایران، دارایی‌های بزرگ‌ترین بانک ایران، یعنی بانک ملی را ضبط و تحریم می‌کند. بانک «بارکلیز» یکی از بزرگ‌ترین بانک‌های انگلستان، حساب‌های ایرانیان از جمله بانک صادرات و بانک ملی ایران را مسدود کرده است. اوایل سال 2008م. برخی از دانشگاه‌های هلند، بر طبق بخشنامه‌های وزارتخانه‌های کشوری، از پذیرش دانشجویان ایرانی به دلیل آنچه مسائل مربوط به فن‌آوری هسته‌ای خواندند؛ ممانعت کردند.   همچنین بانک‌های«لامبرت بروکسل» بلژیک و بانک «دویچ» آلمان معاملات ارزی با ایران را در سال 2008م. قطع کردند. در آوریل 2008م.، سوئیس دارایی‌های 12 شرکت ایرانی را به بهانه‌ی دستورهای تحریمی شورای امنیت سازمان ملل برضد ایران، ضبط و مصادره نمود. اتحادیه‌ی اروپا 180 شرکت تجاری و شخص ایرانی را مشمول تحریم‌های جدید بخش ترابری و انرژی کرد. شرکت‌هایی در این خصوص به فهرست تحریم‌شدگان پرونده‌ی اتمی ایران پیوستند که با شرکت‌های کشتیرانی و سپاه پاسداران انقلاب اسلامی ایران ارتباط دارند. آخرین و جدیدترین تحریم نیز، ممنوعیت خرید نفت ایران است که از اواخر بهار 1391 اعمال شده است. بر این اساس کشورهای اروپایی از خرید نفت ایران ممنوع شدند و دیگر کشورها را نیز برای کاستن از خرید نفت ایران، تحت فشار قرار می‌دهند. بدین ترتیب آمریکا و متحدانش در طول 33 سال گذشته، بارها با انواع تحریم‌ها تلاش کرده‌اند تا جمهوری اسلامی ایران را از دستیابی به اهداف سیاسی خود بازداشته و در راستای اهداف سیاسی خود آن را به راه آورده و به تغییر رابطه با غرب وادارند.  همانطور که گفته شد تحریم به مسائل هسته ای محدود نمی شود و امری باسابقه است و از ابتدای انقلاب وجود داشته است.  بنابراین همان‌طوری که مقام معظم رهبری نیز بارها تأکید فرموده‌اند، وضع تحریم علیه جمهوری اسلامی بیش از آنکه به مسائل هسته‌ای ارتباط پیدا کند، به تخاصم استکبار جهانی با انقلاب اسلامی بازمی‌گردد. حضرت آیت‌الله خامنه ای سرافرازی، روحیه استقلال طلبی، عدم تسلیم ملت ایران و اسلام خواهی را عمده دلیل مخالفت و دشمنی غربی ها با ملت ایران عنوان نمودند. * مقاومت غرب و آمریکا برای عمل به تعهدات خود لغو تحریم‌های ظالمانه آمریکا و غرب علیه ایران، از مطالبات اصلی و مهم مردم و تیم مذاکره کننده در مذاکرات وین است، اما به نظر می‌رسد آمریکا و غرب تلاش دارند بدون لغو این تحریم‌ها به توافق دست یابند.  یک منبع آگاه در باره این موضوع  و همچنین درباره وقفه ایجاد شده در مذاکرات وین به خبرنگار فارس گفت: غرب و امریکا همچنان در مقابل برداشتن همه تحریم‌ها مقاومت می‌کنند و با خواسته ایران در این باره تا این زمان موافقت نکرده اند. وی افزود: طرف مقابل در مذاکرات هسته‌ای درگذشته با برداشتن تعدادی از تحریم ها موافقت کرده، اما برخی از تحریم‌های اصلی همچنان باقی است. انتهای پیام/91\n",
      "\n",
      "\n",
      "\n",
      "\n",
      "doc id:  7406\n",
      "title:  شاید در روزهای آینده توافق هسته‌ای صورت گیرد که جای نقد دارد\n",
      "content:\n",
      "\n",
      "به گزارش خبرنگار پارلمانی خبرگزاری فارس، محمود نبویان نماینده مردم تهران در مجلس شورای اسلامی در نشست علنی صبح امروز شنبه (7 اسفند) مجلس شورای اسلامی در تذکری بیان کرد: شاید روزهای آینده قرار باشد توافق هسته‌ای انجام شود اما اگر دقت کنیم در این توافق آنچه که مطلوب نمایندگان و ملت ایران است، وجود ندارد. اگر به دولت سابق انتقاداتی داشتیم بحث هیکلی و شخصی نداشته‌ایم. وی ادامه داد: مشکلات زیادی در این توافق وجود دارد که ما باید به هوش باشیم، به طور مثال درباره لغو تحریم‌های آیسا و کاتسا مطلقا تعهد ندادند. در لیست (sdn) که لیست رفع تحریم 200 نفر مد نظر بود به 980 مورد رسید اکنون آقایان گفتند تنها تحریم 20 نفر را برمی‌دارند و بر روی همین موضوع توافق می‌کنند. نماینده مردم تهران در مجلس تأکید کرد: درباره کانورشن یعنی تبدیل ارز تعهد نداده‌اند که انجام می‌شود یعنی وقتی نفت می‌فروشیم معلوم نیست درآمدی ارزی آن را بتوانیم به دست بیاوریم. در بحث تحریم‌ها آمریکا مطلقا تعهد نداده است که از برجام خارج نشود. متأسفانه دوستان تیم قبلی مذاکرات مسئولین اصلی این مذاکرات هستند، نمی‌خواهم اسم بیاورم، ما سه گروه داریم؛ گروه تحریم، گروه هسته‌ای و گروه اجرایی. مسئولین این کمیته‌ها همانند کسانی هستند که برجام را فتح‌الفتوح می‌دانستند، باید به این مورد خیلی توجه کنیم. نبویان با تأکید بر اینکه ما می‌توانیم از طرف غربی تضمین بگیریم تا در کنگره آن را تصویب کند، گفت: شاید بگویند کنگره مخالفت کند، این در حالی است که اکثر اعضای کنگره آمریکا دموکرات هستند و بایدن هم از همین جریان است. لازم نیست که مصوبه کنگره به آن صورت باشد، ما سه نوع داریم، یک دستور اجرایی و یک دستور اجرایی کنگره‌ای داریم که برای آن رأی نصف به علاوه یک کافی است. وی افزود: متأسفانه در توافق آماده شده این موارد وجود ندارد، به جای آن که آنها به ما تضمین دهند از برجام خارج نمی‌شوند از زبان ما در این توافق آمده است که ایران می‌گوید بایدن گفته است مادامی که ایران به وظایفش عمل می‌کند، آمریکا از تعهداتش خارج نمی‌شود یعنی به جای اینکه ما از او تعهد بگیریم، از ما تعهد می‌گیرد. این نماینده مردم در مجلس یازدهم بیان داشت: درباره اجرا هم قرار بود آمریکا تحریم‌ها را لغو کند، از سوی ما راستی آزمایی شود سپس در مجلس گزارش داده شود بعدا نمایندگان اجازه توافق را بدهند که متأسفانه هیچ کدام از این مراحل وجود ندارد. آن طور که من اطلاع دارم آمده است که غربی‌ها روی کاغذ خواهند نوشت تحریم‌ها را غیب یا برداشته‌ایم و ایران باید به سمت اجرای تعهدات برود. انتهای پیام/\n",
      "\n",
      "\n",
      "\n",
      "\n",
      "doc id:  7480\n",
      "title:  نفوذی‌های بانک مرکزی و وزارت نفت اجازه رهایی از اسارت دلار را نمی‌دهند\n",
      "content:\n",
      "\n",
      "محمودرضا سجادی سفیر اسبق کشورمان در روسیه، در گفت‌وگو با خبرنگار سیاسی خبرگزاری فارس، با اشاره به مذاکرات ایران و 1+4 برای لغو تحریم‌ها و الزامات توافق نهایی، اظهار داشت: تجربه نشان داده که مسأله غربی‌ها و آمریکایی‌ها موضوع هسته‌ای ما نیست و آنها خودشان هم می‌دانند که با توجه به فتوای تاریخی مقام معظم رهبری درباره حرمت تولید، نگهداری و استفاده از سلاح‌های هسته‌ای، ما دنبال این مباحث نیستیم و اساسا خطری هم از جانب ما آنها را‌‌‌‌‌‌‌‌ تهدید نمی‌کند. وی ادامه داد: آنها از مسأله هسته‌ای صرفا به عنوان یک بهانه برای اعمال تحریم‌های شکننده علیه ما استفاده می‌کنند و امیدوارند که با این تحریم‌ها ما را‌‌‌‌‌‌‌‌ به زانو درآورند و حتی اگر موضوع هسته‌ای نیز به فرض محال برای آنها حل شود، سراغ مباحث حقوق بشری، موشکی و منطقه‌ای می‌روند. * دو مشکل ایران با آمریکا سفیر اسبق کشورمان در روسیه تصریح کرد: ما دو مشکل اساسی با آمریکا داریم؛ اول اینکه آمریکا نباید در منطقه ما حضور داشته باشد و دخالت کند و دوم اینکه رژیم صهیونیستی را فرزند نامشروع غرب در منطقه می‌دانیم که یک خطر جدی برای همه محسوب می‌شود و آنها نیز با این فشارهای به ظاهر هسته‌ای، می‌خواهند ما را‌‌‌‌‌‌‌‌ بشکنند. سجادی خاطرنشان کرد: 70 سال است که بین اعراب و اسرائیل برای بازگشت اعراب به سرزمین‌هایشان مذاکره می‌شود، اما در عمل نتیجه‌ای حاصل نشده و اگر هم نتیجه‌ای به دست آمده ناشی از مقاومت بوده است، لذا آمریکا و غرب هم از مسأله مذاکره برای فرصت خریدن و تحمیل خواسته‌های خودشان به ما استفاده می‌کنند. *  باید مکانیزمی طراحی شود که اگر تحریم‌ها برداشته نشد، طرف مقابل تنبیه شود این کارشناس مسائل بین‌الملل در ادامه، با بیان اینکه با قبول چنین واقعیتی باید به برخی نکات در مذاکره توجه کرد، اظهار داشت: نامه نمایندگان مجلس خطاب به رئیس جمهور حاوی نکات خوبی بود و باید به این مسأله توجه کرد که آن چیزهایی که ما را‌‌‌‌‌‌‌‌ به پای میز مذاکره کشانده، مدنظر داشته باشیم و از آنها عدول نکنیم؛ از جمله این نکات، ضمانت اجرایی عدم خروج از معاهده است. سجادی در توضیح این نکته گفت: در برجام ضمانت اجرایی و تنبیهی برای خروج آمریکا و غربی‌ها از برجام پیش‌بینی نشده بود و امروز باید مکانیزمی طراحی شود که اگر تحریم‌ها برداشته نشد، طرف مقابل تنبیه شود، در حالی که این مکانیزم در برجام دیده نشد و ما هیچ قرار تنبیهی نگذاشتیم و آنها هم اساسا زیر بار نمی‌رفتند. وی خاطرنشان کرد: چون در دولت گذشته عجله می‌کردند که با توافق نهایی یک پیروزی برای خودشان ثبت کنند، با هر شرطی که غربی‌ها گذاشتند، عملا کنار آمدند. * غربی‌ها در نهایت حتی یک برگ هم برای تضمین اجرای تعهداتشان نمی‌دهند سفیر اسبق کشورمان در روسیه،‌ در ادامه تصریح کرد: معتقدم امروز هم آمریکا و غربی‌ها در نهایت حتی یک برگ هم برای تضمین اجرای تعهداتشان و اثبات حسن نیت نخواهند داد، لذا راه حل نهایی این است که خودمان را‌‌‌‌‌‌‌‌ در حوزه‌های مختلف قوی کنیم. سجادی در همین رابطه به ظرفیت‌های کشورمان در سطح منطقه اشاره کرد و افزود: امروز ما در حوزه انرژی قدرت داریم و می‌توانیم با اهرم نفت و گاز مانورهای لازم را‌‌‌‌‌‌‌‌ در برابر غربی‌ها بدهیم تا بدانند که اگر بخواهند بازی دربیاورند، ما هم می‌توانیم عکس‌العمل نشان دهیم. وی به ظرفیت‌های دیگری مانند پیمان‌های پولی دوجانبه با متحدان منطقه‌ای و همسایگان اشاره کرد و گفت: دولت قبل ابدا راهکارهایی مانند انعقاد پیمان‌های پولی دوجانبه و رهایی از اسارت دلار را‌‌‌‌‌‌‌‌ دنبال نکرد و بانک مرکزی هم فقط نمایش رهایی از دلار و ارزهای غربی را‌‌‌‌‌‌‌‌ اجرا کرد و هر گروه فعال اقتصادی هم که می‌خواست کاری در این حوزه انجام دهد، با موانع آنها مواجه شد. سفیر اسبق کشورمان در روسیه اضافه کرد: به عنوان مثال، در عراق می‌توانستیم همکاری‌های پولی و بانکی خیلی خوبی را‌‌‌‌‌‌‌‌ اجرا کنیم، اما متأسفانه با سیاست‌های ناپخته بانک مرکزی این کار را‌‌‌‌‌‌‌‌ نکردیم و باعث شدیم عراقی‌ها به دام آمریکایی‌ها بیفتند. * رد پای نفوذی‌های وزارت نفت و بانک مرکزی در سلطه دلار/ لزوم خانه‌تکانی در این دو دستگاه سجادی اظهار داشت: امروز 28 کشور را‌‌‌‌‌‌‌‌ سراغ داریم که از تحریم‌های آمریکا و غرب خسارت می‌بینند و می‌توان از ظرفیت آنها برای روابط دو و چندجانبه استفاده کنیم؛ مثل چین که امروز اقتصاد دوم دنیا شده و روسیه که اقتصاد قوی و منسجمی دارد. دیگر کشورهای این مجموعه هم در حد خودشان دارای منابع و ظرفیت‌های کافی برای خنثی کردن تحریم‌های غرب هستند. وی تصریح کرد: با وجود این ظرفیت‌ها، اما متأسفانه عوامل نفوذی در وزارت نفت و بانک مرکزی اجازه نمی‌دهند این پیمان‌های پولی و مبادلات دوجانبه و چندجانبه و رهایی از سلطه دلار شکل بگیرد و تمام حرکت‌های ابداعی و خودباورانه را‌‌‌‌‌‌‌‌ سرکوب می‌کنند که امیدواریم در دولت جدید یک خانه‌تکانی جدی در این مجموعه‌ها انجام شود، هر چند که متأسفانه تاکنون انجام نشده است. این کارشناس مسائل سیاسی گفت: با 27 سال سابقه کار اجرایی، معتقدم اگر بخواهیم می‌توانیم ما هم غربی‌ها را‌‌‌‌‌‌‌‌ تحریم و تنبیه کنیم؛ چراکه منابع اولیه در شرق وجود دارد و در حوزه فناوری‌های لازم برای استفاده از این منابع نیز به ظرفیت‌های خوبی دست یافته‌ایم؛ به عنوان مثال، محصولات بیوتکنولوژی و نانوتکنولوژی ما شاخص است و دلیلی وجود ندارد که روس‌ها این محصولات را‌‌‌‌‌‌‌‌ از اروپا بخرند و یا ما هم آن را‌‌‌‌‌‌‌‌ از اروپا بخریم، لذا می‌توان با پیمان‌های دو و چندجانبه بازارهای خوبی برای این محصولات فراهم کرد. سجادی تأکید کرد: اگر رویه عوض شود و کارگزاران ناتوان که با فکرهای بسته اجازه تحول نمی‌دهند کنار گذاشته شوند، درب‌های جدیدی هم باز می‌شود. وی خاطرنشان کرد: همین الان و با وجود این تحریم‌ها، ما در جایگاه اقتصاد بیستم دنیا هستیم، لذا اگر به خودمان بیاییم و دست عوامل فاسد و واداده را‌‌‌‌‌‌‌‌ قطع کنیم، زمینه شکوفایی اقتصادی بیش از پیش فراهم می‌شود. سفیر اسبق کشورمان در روسیه در روسیه در پایان گفت: امروز مهم‌ترین وزارتخانه کشورمان وزارت نفت است که حکم فدک کشور اسلامی را‌‌‌‌‌‌‌‌ دارد، اما ما این بخش را‌‌‌‌‌‌‌‌ در اختیار بدترین ساختارهای اقتصادی و مدیریتی قرار داده‌ایم، لذا یک نوع طرح تحول مدیریتی در حوزه صنعت نفت لازم است تا از این شرایط رها شویم و در مسیر شکوفایی اقتصادی قرار بگیریم. انتهای پیام/\n",
      "\n",
      "\n",
      "\n",
      "\n",
      "doc id:  7501\n",
      "title:  رابطه راهبردی ایران و چین، مهر باطلی بر هژمونی آمریکا است\n",
      "content:\n",
      "\n",
      "به گزارش گروه سیاسی خبرگزاری فارس، احمد وحیدی وزیر کشور در نشست مشترک چانگ‌هوا سفیر چین در تهران با تاکید بر ضرورت گسترش همکاری های مختلف اقتصادی و تجاری میان دو کشور، گفت: از مواضع اصولی چین نسبت به جمهوری اسلامی ایران در سازمان های بین المللی، مقابله با تحریم‌های آمریکا و نقش مثبت آن در دفاع از انرژی صلح آمیز هسته‌ای تشکر می‌کنیم. وحیدی با تاکید بر اینکه روابط ایران و چین صرفا یک رابطه اقتصادی نیست، گفت: اراده سیاسی مسوولان جمهوری اسلامی ایران توسعه روابط دو کشور در همه زمینه ها است. وزیر کشور روابط تهران و پکن را مستحکم و راهبردی دانست و گفت: این رابطه راهبردی، مهر باطلی بر هژمونی آمریکا بر دنیا است. وی با اشاره به همکاری امنیتی ایران و چین در مبارزه با جرایم سازمان یافته فراملی، تاکید کرد: ما آماده هستیم در چارچوب همکاری امنیتی، تعامل در این زمینه را افزایش دهیم. وزیر کشور با اشاره به زمینه‌های مساعد برای همکاری دوجانبه با چین در توسعه مسایل شهری و مترو تاکید کرد که حوزه های فناوری و علمی همچون ایجاد شهر هوشمند یکی از موضوعات برای توسعه این تبادلات است. وحیدی یادآور شد: با توجه به ظرفیتی که حوزه پسماند در تولید انرژی دارد؛ می تواند زمینه و محور دیگر همکاری ها و انتقال دانش و فناوری میان دو کشور باشد. وی با اشاره به همه گیری کووید ۱۹ در جهان، تصریح کرد: مسئولیت فرماندهی قرارگاه عملیاتی مقابله با کرونا در جمهوری اسلامی ایران با وزارت کشور است و با توجه به تجربیات دو کشور در کنترل و مقابله با این بیماری، تعامل نزدیک میان تهران و پکن برای مقابله با کرونا بیش از پیش ادامه یابد. همکاری تهران و پکن در مسائل توسعه ای، دیگر محور مورد اشاره وحیدی در این نشست بود و گفت: وزارت کشور الگوی توسعه استان محور را دنبال می کند و در این راستا مایلیم از تجربیات طرف چینی استفاده کنیم. وحیدی در بخش دیگری از اظهارات خود با تاکید بر همکاری های چند جانبه منطقه ای، گفت: ایران، چین، پاکستان و افغانستان می‌توانند برنامه های مشترکی در حوزه های مختلفی همچون مسایل امنیتی و راهبردی تعریف کنند. وی همچنین خواستار توسعه روابط ایران و چین در چارچوب قرارداد ۲۵ ساله بین دو کشور شد و افزود: در صورت تحقق زمینه های لازم، آماده برقرار روابط بین استانی ایران و چین هستیم.   ** سفیر چین در تهران: اراده چین برای همکاری با ایران تغییرناپذیر است  چانگ هوا سفیر چین با ابراز امیدواری به اینکه مذاکرات وین به نتیجه خوبی برسد، تاکید کرد البته باید توجه داشت که تحریم های آمریکا برداشته شود یا نشود، اراده دولت چین برای همکاری با ایران تغییر نخواهد کرد. چانگ هوا، تماس تلفنی رئیسان جمهوری چین و ایران را نقطه عطفی در روابط دو کشور دانست و گفت: اراده چین در گسترش روابط با ایران تغییرناپذیر است. وی همچنین ایران را یکی از شرکای مهم چین در ابتکار یک کمر بند - یک جاده دانست و از آمادگی کشورش برای ارتقای همکاری ها خبر داد. دیپلمات ارشد چین در تهران به امضای تفاهم همکاری ۲۵ ساله ایران و چین هم اشاره کرد و افزود: این توافق نامه که سال گذشته به امضای طرفین رسید شامل همه بخش ها و حوزه های اقتصادی، سیاسی، فرهنگی، اجتماعی و امنیتی است. چانگ هوا اضافه کرد: در ماه گذشته وزرای خارجه دو کشور ایران و چین دیدار داشته اند و درخصوص عملیاتی شدن هر چه سریعتر  این سند همکاری رایزنی کردند. سفیر چین در تهران با اشاره به تعاملات همه جانبه دو کشور، همکاری در حوزه امنیت و انتظامی را دراز مدت توصیف کرد و گقت: ایران و چین شریک راهبردی هستند و همکاری های دو طرف در حوزه امنیت و انتظامی بخش مهمی از این روابط را تشکیل می دهد. چانگ هوا با یادآوری سند همکاری دو کشور در مبارزه با جرایم فرامرزی، تروریسم را دشمن مشترک کشورها دانست و افزود: امیدواریم همکاری در حوزه هایی چون مبارزه با تروریسم و مواد مخدر تقویت شود. وی همچنین بر علائق چین به تقویت همکاری های چند جانبه اشاره کرد و گفت: ایران و چین می توانند با کشورهای افغانستان و پاکستان در موضوعات مختلف همکاری و تعامل داشته باشند. این دیپلمات بلندپایه چینی همچنین بر ضرورت همکاری در حوزه های فرهنگی و گردشگری و مبارزه با همه گیری کووید-۱۹ تاکید کرد و یادآور شد: دو طرف در این زمینه ها از ظرفیت های بالایی برخوردارند و سفارتخانه های دو کشور می توانند این موضوعات را پیگیری کنند تا تفاهم نامه ها اجرایی شوند. همکاری در توسعه متروی تهران از دیگر محورهای مورد اشاره سفیر چین در تهران بود که گفت: در این زمینه با شهردای تهران تعامل نزدیک داریم. انتهای پیام/\n",
      "\n",
      "\n",
      "\n",
      "\n",
      "doc id:  7532\n",
      "title:  ایران همواره حامی مطالبات استقلال‌طلبانه ملت‌های آمریکای لاتین بوده است\n",
      "content:\n",
      "\n",
      "به گزارش خبرگزاری فارس، آیت‌الله سید ابراهیم رئیسی عصر امروز دوشنبه در جریان سفر به قطر و در حاشیه ششمین اجلاس سران مجمع کشورهای صادرکنندگان گاز، در دیدار «کیت راولی» نخست وزیر ترینیداد و توباگو با تمجید از روحیه استقلال‌طلبی و آزادی‌خواهی ملت‌های منطقه آمریکای لاتین اظهار داشت: جمهوری اسلامی ایران با وجود تحریم‌های گسترده و خواست دشمن برای تحت فشار قرار دادن کشورمان، توانسته در عرصه‌های مختلف از جمله صنایع نفت و گاز توانمندی‌های خوبی به دست آورد و آماده انتقال تجربیات خود به ترینیداد و توباگو انتقال هستیم. وی با اشاره به روحیه آزادی‌خواهی و استقلال‌طلبی ملت‌های منطقه آمریکا‌ی لاتین گفت: جمهوری اسلامی ایران همواره حامی مطالبات آزادی‌خواهانه و استقلال‌طلبانه همه ملت‌های جهان در برابر ظلم کشورهای استکباری بوده است. رئیس جمهور با ابراز علاقمندی کشورمان برای گسترش روابط با ترینیداد و توباگو به ویژه در عرصه بهره‌برداری از منابع نفت و گاز افزود: در دورانی که دشمن قصد داشت با تحریم و اعمال فشار صنعت نفت ایران را به تعطیلی بکشاند، وزارت نفت و فعالان بخش نفت و گاز ایران توانستند به رغم خواست دشمن به سطح بالایی از دانش و توانمندی‌های فنی دست یابند که حاصل آن بالندگی صنعت نفت و گاز کشورمان است. رئیسی با ابراز آمادگی جمهوری اسلامی برای تبادل تجربیات خود با ترینیداد و توباگو اظهار داشت: جمهوری اسلامی ایران به ویژه در دوره فعالیت دولت سیزدهم برنامه ویژه‌ای برای گسترش روابط و تعاملات اقتصادی و سیاسی با همه کشورهای دنیا از جمله کشورهای منطقه آمریکای لاتین دارد و در همین راستا علاقمندیم سطح روابط خود با کشور شما را نیز ارتقا دهیم. رئیس جمهور با اشاره به سخنان نخست وزیر ترینیداد و توباگو مبنی بر تحت تاثیر قرار گرفتن تعاملات و همکاری‌های فنی و تجاری این کشور در نتیجه تحریم‌های آمریکا علیه دیگر کشورهای منطقه آمریکا لاتین تصریح کرد: این مساله گواه ظلم و استکبار آمریکا است که حتی شامل کشورهایی می‌شود که با آن روابط عادی دارند. آیت‌الله رئیسی خاطرنشان کرد: تجربه ۴۳ ساله جمهوری اسلامی ثابت کرده است که هر کس در مقابل ظلم مقاومت و ایستادگی کند حتما می‌تواند حقوق خود را استیفا کند. کیت راولی نخست وزیر ترینیداد و توباگو نیز در این دیدار با اشاره به اینکه کشورش از حجم قابل توجهی از منابع هیدروکربونیک برخوردار است، گفت: ترینیداد و توباگو به دنبال آن است که همچون ونزوئلا و کوبا همکاری‌ها و روابط خود با جمهوری اسلامی ایران را گسترش دهد. وی افزود: ترینیداد و توباگو پس از استقلال از انگلستان، بر روی توسعه صنایع نفت و گاز خود تمرکز کرد و امروز شرکت‌های ملی نفت و گاز ما از توانمندی‌های خوبی برخوردار هستند، اما همچنان شرکت‌های بین‌المللی در صنایع نفت و گاز ما حضور موثری دارند. نخست وزیر ترینیداد و توباگو  با بیان اینکه سعی کرده‌ایم همکاری‌ها و شرکای اقتصادی خود را بیش از پیش متنوع کنیم، تصریح کرد: علاقمندیم تا از تجربیات و توانمندی‌های ایران در عرصه نفت و گاز بهره‌مند شویم. انتهای پیام/\n",
      "\n",
      "\n",
      "\n",
      "\n"
     ]
    }
   ],
   "source": [
    "search_words(prepare_query_input('تحریم های آمریکا علیه ایران'))"
   ]
  },
  {
   "cell_type": "code",
   "execution_count": 91,
   "id": "060207c3",
   "metadata": {},
   "outputs": [
    {
     "name": "stdout",
     "output_type": "stream",
     "text": [
      "We have 20 document(s) that have 2 words of the user query.\n",
      "We have 1195 document(s) that have 1 words of the user query.\n",
      "\n",
      "doc id:  6929\n",
      "title:  توضیحات یک منبع آگاه درباره وقفه مذاکرات وین\n",
      "content:\n",
      "\n",
      "به گزارش خبرنگار سیاسی خبرگزاری فارس، به نظر می‌رسد مذاکرات وین به روزهای آخر خود نزدیک شده است و براساس اعلام برخی منابع تا رسیدن به توافق راه زیادی باقی نمانده و تنها نیاز است آمریکا به آنچه در برجام برای برداشتن تحریم‌ها وعده داده  عمل کند و تضمین معتبری هم برای انجام این تعهدات داده شود. براساس اعلام مسئولان سیاست خارجه در کنار دریافت تضمین‌ معتبر، برداشتن همه تحریم‌ها از نکات و مطالبات اصلی ایران در مذاکرات است. اما به نظر می‌رسد آمریکا در مقابل عمل به این تعهد برجامی مقاومت می‌کند. * تحریم‌های آمریکا علیه ایران آمریکا پس از تسخیر لانه‌ جاسوسی آمریکا در تهران، «کارتر» در تاریخ 8 نوامبر 1979م. با استناد به قانون‌ «کنترل صدور تسلیحات نظامی»، کشتی حامل‌ لوازم یدکی نظامی متعلق به ایران را توقیف کرد. ارزش این لوازم 300 میلیون دلار بود. با اوج‌گیری کشمکش‌های سیاسی بر سر مسئله‌ تصرف سفارت، دولت موقت، اعلام کرد تمام دارایی‌های‌ خود را از بانک‌های آمریکا خارج خواهد کرد. کارتر با لحاظ این احتمال، در کشور شرایط اضطراری اعلام کرد و با استناد به قانون شرایط اضطراری اقتصاد بین‌الملل (IEEPA) و قانون‌ شرایط اضطراری ملی (NEA)، با صدور دستور ویژه‌ی شماره‌ی (12170)، تمام دارایی‌های ایران در آمریکا را به تصرف خود درآورد.   مجموع پس‌اندازها و اوراق بهادار بلوکه شده‌ی ایران بالغ بر 12 میلیارد دلار بود. حدود 1.4میلیارد دلار در بانک «فدرال رزرو» آمریکا، 5.6میلیارد دلار در شعب مختلف بانک‌های این کشور‌ در خارج از آمریکا، 2 میلیارد دلار در سایر بانک‌های آمریکا و حدود 2 میلیارد دلار در اختیار شهروندان و مؤسسه‌های خصوصی ایالات متحده بود. همچنین 1.6میلیون اونس طلا به حساب بانک‌ مرکزی ایران در بانک «فدرال رزرو» نگاه داشته‌ می‌شد. در تاریخ 7 آوریل 1980م. کارتر با صدور دستور ویژه‌ شماره‌ (12205)، فروش و عرضه‌ هرگونه کالا و خدمات، به‌جز مواد غذایی و دارویی، به ایران را ممنوع کرد. براساس دستور ویژه‌ی (12211) به تاریخ 17 آوریل 1980م.، وارد نمودن هرگونه کالا از ایران‌ نیز ممنوع شد. این دستورات هم با استناد به‌ قانون (IEEPA) صادر شد. پس از پایان داستان‌ گروگان‌گیری در روزهای پایانی ریاست‌جمهوری‌ کارتر، وی با صدور 10 دستور ویژه، تمام‌ تحریم‌ها برضد ایران را لغو کرد، اما دولت بعدی‌ (ریگان) در عمل فقط ممنوعیت مربوط به‌ صادرات و واردات را اجرا نمود و به بهانه‌های‌ مختلف، از آزاد کردن اموال ایران طفره رفت. آمریکا از سال 1983م. تحریمی یک جانبه موسوم به عملیات «استانج» را برضد ایران آغاز کرد.   در این راستا ایالات متحده با 20کشور درباره‌ی ارسال نکردن سلاح به ایران وارد مذاکره شد تا آن‌ها را مجاب کند که سلاح به ایران نفروشند. این تحریم در شرایط درگیری ایران در جنگ تحمیلی با هدف حمایت از عراق بعثی در برابر ایران اسلامی بود.    در ادامه‌ تحریم‌های اعمال شده از سوی آمریکا، بار دیگر در سال 1984م. آمریکا صادرات برخی از مواد شیمیایی را به ایران ممنوع کرد. ممنوعیت برخی از مواد شیمیایی بعد از ماجرای ایران-کنترا در سال 1987م. به 150 نوع کالا که دارای کاربرد نظامی نیز بودند، گسترش یافت. همچنین در تاریخ 6 نوامبر سال‌ 1987م. نمایندگان کنگره در واکنش به خریدهای‌ نفت اداره‌ی انرژی آمریکا از ایران، لایحه‌ای به‌ مجلس برده و با تصویب آن واردات نفت از ایران‌ را ممنوع کردند.   ریگان که نمی‌خواست کمتر از کنگره ضدتروریست جلوه کند، 3هفته بعد با صدور دستور ویژه‌ی (12613) ورود هرگونه کالا و خدمات از ایران را ممنوع کرد. وی برای صدور این دستور به بند 505 «قانون همکاری‌های‌ بین‌المللی امنیتی و توسعه»، مصوب سال‌ 1985م. استناد کرد. در واقع زمانی که ایران درگیر جنگ تحمیلی بود، ایالات متحده به تعریف سیاست‌های تحریمی پرداخت که بتواند بر نتیجه‌ی جنگ ایران و عراق تأثیری شگرف بگذارد و رقیب نوپای اسلامی خود را در جنگی نابرابر از میدان به در کند. اما پایان جنگ، تافته‌ی بافته‌ی آمریکا را ریش ریش کرد. * پایان جنگ، تداوم تحریم با پذیرش قطعنامه‌ی (598) توسط ایران، جنگ تحمیلی، رسمی و فیزیکی برضد جمهوری اسلامی پایان یافت، اما حربه‌ی نرم، جایگزین حربه‌ی سخت جنگ شد. به موازات تحریم‌های قبلی، سیاست اعمال فشار و تحریم برضد ایران تداوم یافت. با آغاز ریاست جمهوری «بیل کلینتون» در سال 1992م. روابط ایران و آمریکا وارد مرحله‌ی تازه‌ای شد. استراتژی جدید آمریکا درباره‌ی ایران و عراق «سیاست مهاردوگانه» بود.   براساس این سیاست، آمریکا در نخستین گام، محدودیت‌هایی برای خرید نظامی ایران، ممنوعیت کمک و تخصیص اعتبار، کنترل صادرات و واردات، جلوگیری از اعطای وام از سوی بانک جهانی و صندوق بین‌المللی پول و ادامه‌ی توقیف اموال ایران اعمال کرد. کلینتون در اسفند ماه 1373 فرمان اجرایی شماره‌ی (12957) مبنی بر ممنوعیت برخی معاملات مربوط به توسعه‌ی منابع نفتی ایران را امضا نمود.   بدین ترتیب شرکت‌های آمریکایی از سرمایه‌گذاری در بخش نفت و گاز ایران منع شدند. رئیس جمهور آمریکا بار دیگر در اردیبهشت 1374 طی فرمان شماره‌ی (12959) تحریم‌های جدیدی را برضد ایران اعمال کرد. بر این اساس شرکت‌های آمریکایی از خرید نفت از ایران منع شدند. در این دوران آمریکا سیاست‌های ضد ایرانی خود را ادامه داد به گونه‌ای که در مرداد 1375 قانون مجازات‌ها برضد ایران و لیبی در کنگره تصویب شد.   طبق این قانون که به «داماتو» معروف شد، شرکت‌های غیرآمریکایی که در بخش نفت و گاز لیبی و ایران سرمایه‌گذاری کنند، مجازات خواهند شد. بنابراین علاوه بر شرکت‌های آمریکایی، تمامی شرکت‌های خارجی دیگر از سرمایه‌گذاری بیش از 20 میلیون دلار در ایران منع شدند. * 11 سپتامبر، موج جدید تحریمها همچنان در دوره‌های بعدی نیز تحریم‌ها برضد ایران توسط رؤسای جمهور آمریکا تمدید می‌شد. با این حال به دنبال رویداد 11 سپتامبر 2001م. «جورج بوش»، رئیس‌جمهور وقت آمریکا قانونی را تصویب کرد که اجازه‌ی بلوکه‌ی اموال و دارایی‌های اشخاص حقوقی و حقیقی حامی تروریسم را ارائه می‌کرد. چندی بعد شماری از اشخاص حقیقی و حقوقی در ایران نیز در فهرست تحریم‌ها قرار گرفتند. به طوری که برخی بانک‌ها مانند بانک سپه و ملی، مقاطعه‌کاران در صنعت دفاعی و شرکت‌های سپاه پاسداران به همراه مقام‌های سپاه و نیروی قدس در فهرست تحریم‌ها قرار گرفتند. در راستای سیاست‌های آمریکا در ژوئن 2008م. اتحادیه‌ی اروپا دارایی بیش از 40 شخص حقیقی و حقوقی که با بانک ملی ایران همکاری داشتند را مسدود کرد. ژاپن و اتحادیه‌ی اروپا همچنین محدودیت‌هایی را در جهت اعطای وام به ایران اعمال کردند. همچنین در جولای 2010م.، «اوباما» تحریم شرکت‌های داخلی و خارجی که به ایران بنزین می‌فروشند یا به ارتقای ظرفیت پالایشگاهی جمهوری اسلامی کمک می‌کنند را تصویب کرد.  * تحریم‌های هسته‌ای پس از 11 سپتامبر و موج جدیدی از تحریم‌ها برضد ایران، ترسیم چهره‌ی «ایران هسته‌ای» در صدر تبلیغات منفی از جمهوری اسلامی قرار گرفت. به دنبال این امر کشورهای غربی در صدد اعمال تحریم‌های گوناگون اقتصادی و تکنولوژیکی برضد ایران برآمدند و با طرح فعالیت‌های هسته‌ای ایران در شورای امنیت به مخاصمه با این کشور پرداختند. در این راستا ایالات متحده پس از 11 سپتامبر 2001م.، جمهوری اسلامی ایران را کشوری در پی «دستیابی به سلاح‌های کشتار جمعی و بر هم زننده‌ی صلح و ثبات بین‌المللی» معرفی کرد و تمام تلاش خود را جهت ناکامی ایران در اجرای فعالیت‌های هسته‌ای و ارجاع پرونده‌ی ایران به شورای امنیت به کار گرفت. قطعنامه‌ی (1737) که در 23 دسامبر 2006م. به تصویب اعضای شورای امنیت رسید، در عمل ایران را به فصل7 و ماده‌ی 41 منشور ملل متحد کشاند. این قطعنامه دارایی‌های برخی مؤسسه‌ها و افراد مرتبط با برنامه‌های هسته‌ای ایران در خارج از کشور را مسدود نمود. همچنین در این قطعنامه ذکر شده بود که در صورت بی‌اعتنایی مجدد ایران به قطعنامه‌ی یاد شده و متوقف نشدن فعالیت‌های هسته‌ای در مدت زمان مقرر (60 روزه) از سوی شورای امنیت، تهران با تحریم‌های سخت‌تری مواجه خواهد شد.  اگر چه قطعنامه‌ی یاد شده لحنی تند داشت و ضرب‌الاجلی 2 ماهه برای ایران تعیین کرده بود، با این حال جمهوری اسلامی ایران ضمن رد و غیرعادلانه خواندن قطعنامه و انتقاد از برخورد دوگانه‌ی شورای امنیت، مصرانه بر ادامه‌ی فعالیت‌های صلح‌آمیز خود جهت دستیابی به فن‌آوری هسته‌ای پای فشرد. بدین ترتیب پس از پایان مهلت 2ماهه، شورای امنیت و اعتنا نکردن ایران به قطعنامه‌ی یاد شده، قطعنامه‌ی سوم شورای امنیت پس از حدود یک ماه رایزنی در 24 مارس 2007م. به تصویب رسید.   قطعنامه‌ی (1747) ضمن مسدود نمودن دارائی‌های 28 فرد و نهاد ایرانی مرتبط با برنامه‌های هسته‌ای ایران و جلوگیری از صادرات تسلیحاتی ایران، تحریم‌های تنبیهی جدیدی را نیز برضد تهران وضع کرد و یک بار دیگر از ایران خواست که طی 60 روز آینده فعالیت‌های هسته‌ای خود را به حالت تعلیق درآورد. در تیرماه 1387 چهار گروه صنعتی ایران شامل مجموعه‌ی صنایع شهید ستاری، هفت تیر، گروه صنایع مهمات و متالورژی و صنایع شیمی پارچین مشمول تحریم‌های آمریکا شدند. وزارت خزانه‌داری ایالات متحده در آذر 1389 اعلام کرد که شرکت‌ها و بانک‌های نفت و گاز پارس، بیمه‌ی معلم، بانک مهر، بانک انصار، شرکت کشتیرانی لاینر ترانسپورت کیش و بنیاد تعاون سپاه را به فهرست سیاه تحریمی خود می‌افزاید. در بهمن 1389 (اوایل سال 2011م.)، وزارت خزانه‌داری آمریکا، تحریم‌های جدیدی را برضد بانک رفاه ایران تحمیل کرد.افزون بر این‌ها، قانون تحریم همه ‌جانبه‌ی ایران در سال 1389 به تصویب کنگره‌ی این کشور رسید. این تحریم‌ها رئیس‌جمهور آمریکا را قادر می‌سازد تا شرکت‌های خارجی که به ایران بنزین و دیگر فرآورده‌های نفتی پالایش شده را صادر می‌کنند، مجازات کند. * تحریم‌های اروپا برضد ایران همراهی اروپا با غرب در اعمال فشار بر جمهوری اسلامی در سال‌های اخیر قابل توجه است. به موازات تحریم‌های تعریف شده‌ی آمریکا برضد ایران، اروپا نیز از این دور عقب نمانده است. دولت انگلیس در ژوئن 2008م. اعلام کرد که در ادامه‌ی سیاست تحریم برضد ایران، دارایی‌های بزرگ‌ترین بانک ایران، یعنی بانک ملی را ضبط و تحریم می‌کند. بانک «بارکلیز» یکی از بزرگ‌ترین بانک‌های انگلستان، حساب‌های ایرانیان از جمله بانک صادرات و بانک ملی ایران را مسدود کرده است. اوایل سال 2008م. برخی از دانشگاه‌های هلند، بر طبق بخشنامه‌های وزارتخانه‌های کشوری، از پذیرش دانشجویان ایرانی به دلیل آنچه مسائل مربوط به فن‌آوری هسته‌ای خواندند؛ ممانعت کردند.   همچنین بانک‌های«لامبرت بروکسل» بلژیک و بانک «دویچ» آلمان معاملات ارزی با ایران را در سال 2008م. قطع کردند. در آوریل 2008م.، سوئیس دارایی‌های 12 شرکت ایرانی را به بهانه‌ی دستورهای تحریمی شورای امنیت سازمان ملل برضد ایران، ضبط و مصادره نمود. اتحادیه‌ی اروپا 180 شرکت تجاری و شخص ایرانی را مشمول تحریم‌های جدید بخش ترابری و انرژی کرد. شرکت‌هایی در این خصوص به فهرست تحریم‌شدگان پرونده‌ی اتمی ایران پیوستند که با شرکت‌های کشتیرانی و سپاه پاسداران انقلاب اسلامی ایران ارتباط دارند. آخرین و جدیدترین تحریم نیز، ممنوعیت خرید نفت ایران است که از اواخر بهار 1391 اعمال شده است. بر این اساس کشورهای اروپایی از خرید نفت ایران ممنوع شدند و دیگر کشورها را نیز برای کاستن از خرید نفت ایران، تحت فشار قرار می‌دهند. بدین ترتیب آمریکا و متحدانش در طول 33 سال گذشته، بارها با انواع تحریم‌ها تلاش کرده‌اند تا جمهوری اسلامی ایران را از دستیابی به اهداف سیاسی خود بازداشته و در راستای اهداف سیاسی خود آن را به راه آورده و به تغییر رابطه با غرب وادارند.  همانطور که گفته شد تحریم به مسائل هسته ای محدود نمی شود و امری باسابقه است و از ابتدای انقلاب وجود داشته است.  بنابراین همان‌طوری که مقام معظم رهبری نیز بارها تأکید فرموده‌اند، وضع تحریم علیه جمهوری اسلامی بیش از آنکه به مسائل هسته‌ای ارتباط پیدا کند، به تخاصم استکبار جهانی با انقلاب اسلامی بازمی‌گردد. حضرت آیت‌الله خامنه ای سرافرازی، روحیه استقلال طلبی، عدم تسلیم ملت ایران و اسلام خواهی را عمده دلیل مخالفت و دشمنی غربی ها با ملت ایران عنوان نمودند. * مقاومت غرب و آمریکا برای عمل به تعهدات خود لغو تحریم‌های ظالمانه آمریکا و غرب علیه ایران، از مطالبات اصلی و مهم مردم و تیم مذاکره کننده در مذاکرات وین است، اما به نظر می‌رسد آمریکا و غرب تلاش دارند بدون لغو این تحریم‌ها به توافق دست یابند.  یک منبع آگاه در باره این موضوع  و همچنین درباره وقفه ایجاد شده در مذاکرات وین به خبرنگار فارس گفت: غرب و امریکا همچنان در مقابل برداشتن همه تحریم‌ها مقاومت می‌کنند و با خواسته ایران در این باره تا این زمان موافقت نکرده اند. وی افزود: طرف مقابل در مذاکرات هسته‌ای درگذشته با برداشتن تعدادی از تحریم ها موافقت کرده، اما برخی از تحریم‌های اصلی همچنان باقی است. انتهای پیام/91\n",
      "\n",
      "\n",
      "\n",
      "\n",
      "doc id:  7406\n",
      "title:  شاید در روزهای آینده توافق هسته‌ای صورت گیرد که جای نقد دارد\n",
      "content:\n",
      "\n",
      "به گزارش خبرنگار پارلمانی خبرگزاری فارس، محمود نبویان نماینده مردم تهران در مجلس شورای اسلامی در نشست علنی صبح امروز شنبه (7 اسفند) مجلس شورای اسلامی در تذکری بیان کرد: شاید روزهای آینده قرار باشد توافق هسته‌ای انجام شود اما اگر دقت کنیم در این توافق آنچه که مطلوب نمایندگان و ملت ایران است، وجود ندارد. اگر به دولت سابق انتقاداتی داشتیم بحث هیکلی و شخصی نداشته‌ایم. وی ادامه داد: مشکلات زیادی در این توافق وجود دارد که ما باید به هوش باشیم، به طور مثال درباره لغو تحریم‌های آیسا و کاتسا مطلقا تعهد ندادند. در لیست (sdn) که لیست رفع تحریم 200 نفر مد نظر بود به 980 مورد رسید اکنون آقایان گفتند تنها تحریم 20 نفر را برمی‌دارند و بر روی همین موضوع توافق می‌کنند. نماینده مردم تهران در مجلس تأکید کرد: درباره کانورشن یعنی تبدیل ارز تعهد نداده‌اند که انجام می‌شود یعنی وقتی نفت می‌فروشیم معلوم نیست درآمدی ارزی آن را بتوانیم به دست بیاوریم. در بحث تحریم‌ها آمریکا مطلقا تعهد نداده است که از برجام خارج نشود. متأسفانه دوستان تیم قبلی مذاکرات مسئولین اصلی این مذاکرات هستند، نمی‌خواهم اسم بیاورم، ما سه گروه داریم؛ گروه تحریم، گروه هسته‌ای و گروه اجرایی. مسئولین این کمیته‌ها همانند کسانی هستند که برجام را فتح‌الفتوح می‌دانستند، باید به این مورد خیلی توجه کنیم. نبویان با تأکید بر اینکه ما می‌توانیم از طرف غربی تضمین بگیریم تا در کنگره آن را تصویب کند، گفت: شاید بگویند کنگره مخالفت کند، این در حالی است که اکثر اعضای کنگره آمریکا دموکرات هستند و بایدن هم از همین جریان است. لازم نیست که مصوبه کنگره به آن صورت باشد، ما سه نوع داریم، یک دستور اجرایی و یک دستور اجرایی کنگره‌ای داریم که برای آن رأی نصف به علاوه یک کافی است. وی افزود: متأسفانه در توافق آماده شده این موارد وجود ندارد، به جای آن که آنها به ما تضمین دهند از برجام خارج نمی‌شوند از زبان ما در این توافق آمده است که ایران می‌گوید بایدن گفته است مادامی که ایران به وظایفش عمل می‌کند، آمریکا از تعهداتش خارج نمی‌شود یعنی به جای اینکه ما از او تعهد بگیریم، از ما تعهد می‌گیرد. این نماینده مردم در مجلس یازدهم بیان داشت: درباره اجرا هم قرار بود آمریکا تحریم‌ها را لغو کند، از سوی ما راستی آزمایی شود سپس در مجلس گزارش داده شود بعدا نمایندگان اجازه توافق را بدهند که متأسفانه هیچ کدام از این مراحل وجود ندارد. آن طور که من اطلاع دارم آمده است که غربی‌ها روی کاغذ خواهند نوشت تحریم‌ها را غیب یا برداشته‌ایم و ایران باید به سمت اجرای تعهدات برود. انتهای پیام/\n",
      "\n",
      "\n",
      "\n",
      "\n",
      "doc id:  7480\n",
      "title:  نفوذی‌های بانک مرکزی و وزارت نفت اجازه رهایی از اسارت دلار را نمی‌دهند\n",
      "content:\n",
      "\n",
      "محمودرضا سجادی سفیر اسبق کشورمان در روسیه، در گفت‌وگو با خبرنگار سیاسی خبرگزاری فارس، با اشاره به مذاکرات ایران و 1+4 برای لغو تحریم‌ها و الزامات توافق نهایی، اظهار داشت: تجربه نشان داده که مسأله غربی‌ها و آمریکایی‌ها موضوع هسته‌ای ما نیست و آنها خودشان هم می‌دانند که با توجه به فتوای تاریخی مقام معظم رهبری درباره حرمت تولید، نگهداری و استفاده از سلاح‌های هسته‌ای، ما دنبال این مباحث نیستیم و اساسا خطری هم از جانب ما آنها را‌‌‌‌‌‌‌‌ تهدید نمی‌کند. وی ادامه داد: آنها از مسأله هسته‌ای صرفا به عنوان یک بهانه برای اعمال تحریم‌های شکننده علیه ما استفاده می‌کنند و امیدوارند که با این تحریم‌ها ما را‌‌‌‌‌‌‌‌ به زانو درآورند و حتی اگر موضوع هسته‌ای نیز به فرض محال برای آنها حل شود، سراغ مباحث حقوق بشری، موشکی و منطقه‌ای می‌روند. * دو مشکل ایران با آمریکا سفیر اسبق کشورمان در روسیه تصریح کرد: ما دو مشکل اساسی با آمریکا داریم؛ اول اینکه آمریکا نباید در منطقه ما حضور داشته باشد و دخالت کند و دوم اینکه رژیم صهیونیستی را فرزند نامشروع غرب در منطقه می‌دانیم که یک خطر جدی برای همه محسوب می‌شود و آنها نیز با این فشارهای به ظاهر هسته‌ای، می‌خواهند ما را‌‌‌‌‌‌‌‌ بشکنند. سجادی خاطرنشان کرد: 70 سال است که بین اعراب و اسرائیل برای بازگشت اعراب به سرزمین‌هایشان مذاکره می‌شود، اما در عمل نتیجه‌ای حاصل نشده و اگر هم نتیجه‌ای به دست آمده ناشی از مقاومت بوده است، لذا آمریکا و غرب هم از مسأله مذاکره برای فرصت خریدن و تحمیل خواسته‌های خودشان به ما استفاده می‌کنند. *  باید مکانیزمی طراحی شود که اگر تحریم‌ها برداشته نشد، طرف مقابل تنبیه شود این کارشناس مسائل بین‌الملل در ادامه، با بیان اینکه با قبول چنین واقعیتی باید به برخی نکات در مذاکره توجه کرد، اظهار داشت: نامه نمایندگان مجلس خطاب به رئیس جمهور حاوی نکات خوبی بود و باید به این مسأله توجه کرد که آن چیزهایی که ما را‌‌‌‌‌‌‌‌ به پای میز مذاکره کشانده، مدنظر داشته باشیم و از آنها عدول نکنیم؛ از جمله این نکات، ضمانت اجرایی عدم خروج از معاهده است. سجادی در توضیح این نکته گفت: در برجام ضمانت اجرایی و تنبیهی برای خروج آمریکا و غربی‌ها از برجام پیش‌بینی نشده بود و امروز باید مکانیزمی طراحی شود که اگر تحریم‌ها برداشته نشد، طرف مقابل تنبیه شود، در حالی که این مکانیزم در برجام دیده نشد و ما هیچ قرار تنبیهی نگذاشتیم و آنها هم اساسا زیر بار نمی‌رفتند. وی خاطرنشان کرد: چون در دولت گذشته عجله می‌کردند که با توافق نهایی یک پیروزی برای خودشان ثبت کنند، با هر شرطی که غربی‌ها گذاشتند، عملا کنار آمدند. * غربی‌ها در نهایت حتی یک برگ هم برای تضمین اجرای تعهداتشان نمی‌دهند سفیر اسبق کشورمان در روسیه،‌ در ادامه تصریح کرد: معتقدم امروز هم آمریکا و غربی‌ها در نهایت حتی یک برگ هم برای تضمین اجرای تعهداتشان و اثبات حسن نیت نخواهند داد، لذا راه حل نهایی این است که خودمان را‌‌‌‌‌‌‌‌ در حوزه‌های مختلف قوی کنیم. سجادی در همین رابطه به ظرفیت‌های کشورمان در سطح منطقه اشاره کرد و افزود: امروز ما در حوزه انرژی قدرت داریم و می‌توانیم با اهرم نفت و گاز مانورهای لازم را‌‌‌‌‌‌‌‌ در برابر غربی‌ها بدهیم تا بدانند که اگر بخواهند بازی دربیاورند، ما هم می‌توانیم عکس‌العمل نشان دهیم. وی به ظرفیت‌های دیگری مانند پیمان‌های پولی دوجانبه با متحدان منطقه‌ای و همسایگان اشاره کرد و گفت: دولت قبل ابدا راهکارهایی مانند انعقاد پیمان‌های پولی دوجانبه و رهایی از اسارت دلار را‌‌‌‌‌‌‌‌ دنبال نکرد و بانک مرکزی هم فقط نمایش رهایی از دلار و ارزهای غربی را‌‌‌‌‌‌‌‌ اجرا کرد و هر گروه فعال اقتصادی هم که می‌خواست کاری در این حوزه انجام دهد، با موانع آنها مواجه شد. سفیر اسبق کشورمان در روسیه اضافه کرد: به عنوان مثال، در عراق می‌توانستیم همکاری‌های پولی و بانکی خیلی خوبی را‌‌‌‌‌‌‌‌ اجرا کنیم، اما متأسفانه با سیاست‌های ناپخته بانک مرکزی این کار را‌‌‌‌‌‌‌‌ نکردیم و باعث شدیم عراقی‌ها به دام آمریکایی‌ها بیفتند. * رد پای نفوذی‌های وزارت نفت و بانک مرکزی در سلطه دلار/ لزوم خانه‌تکانی در این دو دستگاه سجادی اظهار داشت: امروز 28 کشور را‌‌‌‌‌‌‌‌ سراغ داریم که از تحریم‌های آمریکا و غرب خسارت می‌بینند و می‌توان از ظرفیت آنها برای روابط دو و چندجانبه استفاده کنیم؛ مثل چین که امروز اقتصاد دوم دنیا شده و روسیه که اقتصاد قوی و منسجمی دارد. دیگر کشورهای این مجموعه هم در حد خودشان دارای منابع و ظرفیت‌های کافی برای خنثی کردن تحریم‌های غرب هستند. وی تصریح کرد: با وجود این ظرفیت‌ها، اما متأسفانه عوامل نفوذی در وزارت نفت و بانک مرکزی اجازه نمی‌دهند این پیمان‌های پولی و مبادلات دوجانبه و چندجانبه و رهایی از سلطه دلار شکل بگیرد و تمام حرکت‌های ابداعی و خودباورانه را‌‌‌‌‌‌‌‌ سرکوب می‌کنند که امیدواریم در دولت جدید یک خانه‌تکانی جدی در این مجموعه‌ها انجام شود، هر چند که متأسفانه تاکنون انجام نشده است. این کارشناس مسائل سیاسی گفت: با 27 سال سابقه کار اجرایی، معتقدم اگر بخواهیم می‌توانیم ما هم غربی‌ها را‌‌‌‌‌‌‌‌ تحریم و تنبیه کنیم؛ چراکه منابع اولیه در شرق وجود دارد و در حوزه فناوری‌های لازم برای استفاده از این منابع نیز به ظرفیت‌های خوبی دست یافته‌ایم؛ به عنوان مثال، محصولات بیوتکنولوژی و نانوتکنولوژی ما شاخص است و دلیلی وجود ندارد که روس‌ها این محصولات را‌‌‌‌‌‌‌‌ از اروپا بخرند و یا ما هم آن را‌‌‌‌‌‌‌‌ از اروپا بخریم، لذا می‌توان با پیمان‌های دو و چندجانبه بازارهای خوبی برای این محصولات فراهم کرد. سجادی تأکید کرد: اگر رویه عوض شود و کارگزاران ناتوان که با فکرهای بسته اجازه تحول نمی‌دهند کنار گذاشته شوند، درب‌های جدیدی هم باز می‌شود. وی خاطرنشان کرد: همین الان و با وجود این تحریم‌ها، ما در جایگاه اقتصاد بیستم دنیا هستیم، لذا اگر به خودمان بیاییم و دست عوامل فاسد و واداده را‌‌‌‌‌‌‌‌ قطع کنیم، زمینه شکوفایی اقتصادی بیش از پیش فراهم می‌شود. سفیر اسبق کشورمان در روسیه در روسیه در پایان گفت: امروز مهم‌ترین وزارتخانه کشورمان وزارت نفت است که حکم فدک کشور اسلامی را‌‌‌‌‌‌‌‌ دارد، اما ما این بخش را‌‌‌‌‌‌‌‌ در اختیار بدترین ساختارهای اقتصادی و مدیریتی قرار داده‌ایم، لذا یک نوع طرح تحول مدیریتی در حوزه صنعت نفت لازم است تا از این شرایط رها شویم و در مسیر شکوفایی اقتصادی قرار بگیریم. انتهای پیام/\n",
      "\n",
      "\n",
      "\n",
      "\n",
      "doc id:  7501\n",
      "title:  رابطه راهبردی ایران و چین، مهر باطلی بر هژمونی آمریکا است\n",
      "content:\n",
      "\n",
      "به گزارش گروه سیاسی خبرگزاری فارس، احمد وحیدی وزیر کشور در نشست مشترک چانگ‌هوا سفیر چین در تهران با تاکید بر ضرورت گسترش همکاری های مختلف اقتصادی و تجاری میان دو کشور، گفت: از مواضع اصولی چین نسبت به جمهوری اسلامی ایران در سازمان های بین المللی، مقابله با تحریم‌های آمریکا و نقش مثبت آن در دفاع از انرژی صلح آمیز هسته‌ای تشکر می‌کنیم. وحیدی با تاکید بر اینکه روابط ایران و چین صرفا یک رابطه اقتصادی نیست، گفت: اراده سیاسی مسوولان جمهوری اسلامی ایران توسعه روابط دو کشور در همه زمینه ها است. وزیر کشور روابط تهران و پکن را مستحکم و راهبردی دانست و گفت: این رابطه راهبردی، مهر باطلی بر هژمونی آمریکا بر دنیا است. وی با اشاره به همکاری امنیتی ایران و چین در مبارزه با جرایم سازمان یافته فراملی، تاکید کرد: ما آماده هستیم در چارچوب همکاری امنیتی، تعامل در این زمینه را افزایش دهیم. وزیر کشور با اشاره به زمینه‌های مساعد برای همکاری دوجانبه با چین در توسعه مسایل شهری و مترو تاکید کرد که حوزه های فناوری و علمی همچون ایجاد شهر هوشمند یکی از موضوعات برای توسعه این تبادلات است. وحیدی یادآور شد: با توجه به ظرفیتی که حوزه پسماند در تولید انرژی دارد؛ می تواند زمینه و محور دیگر همکاری ها و انتقال دانش و فناوری میان دو کشور باشد. وی با اشاره به همه گیری کووید ۱۹ در جهان، تصریح کرد: مسئولیت فرماندهی قرارگاه عملیاتی مقابله با کرونا در جمهوری اسلامی ایران با وزارت کشور است و با توجه به تجربیات دو کشور در کنترل و مقابله با این بیماری، تعامل نزدیک میان تهران و پکن برای مقابله با کرونا بیش از پیش ادامه یابد. همکاری تهران و پکن در مسائل توسعه ای، دیگر محور مورد اشاره وحیدی در این نشست بود و گفت: وزارت کشور الگوی توسعه استان محور را دنبال می کند و در این راستا مایلیم از تجربیات طرف چینی استفاده کنیم. وحیدی در بخش دیگری از اظهارات خود با تاکید بر همکاری های چند جانبه منطقه ای، گفت: ایران، چین، پاکستان و افغانستان می‌توانند برنامه های مشترکی در حوزه های مختلفی همچون مسایل امنیتی و راهبردی تعریف کنند. وی همچنین خواستار توسعه روابط ایران و چین در چارچوب قرارداد ۲۵ ساله بین دو کشور شد و افزود: در صورت تحقق زمینه های لازم، آماده برقرار روابط بین استانی ایران و چین هستیم.   ** سفیر چین در تهران: اراده چین برای همکاری با ایران تغییرناپذیر است  چانگ هوا سفیر چین با ابراز امیدواری به اینکه مذاکرات وین به نتیجه خوبی برسد، تاکید کرد البته باید توجه داشت که تحریم های آمریکا برداشته شود یا نشود، اراده دولت چین برای همکاری با ایران تغییر نخواهد کرد. چانگ هوا، تماس تلفنی رئیسان جمهوری چین و ایران را نقطه عطفی در روابط دو کشور دانست و گفت: اراده چین در گسترش روابط با ایران تغییرناپذیر است. وی همچنین ایران را یکی از شرکای مهم چین در ابتکار یک کمر بند - یک جاده دانست و از آمادگی کشورش برای ارتقای همکاری ها خبر داد. دیپلمات ارشد چین در تهران به امضای تفاهم همکاری ۲۵ ساله ایران و چین هم اشاره کرد و افزود: این توافق نامه که سال گذشته به امضای طرفین رسید شامل همه بخش ها و حوزه های اقتصادی، سیاسی، فرهنگی، اجتماعی و امنیتی است. چانگ هوا اضافه کرد: در ماه گذشته وزرای خارجه دو کشور ایران و چین دیدار داشته اند و درخصوص عملیاتی شدن هر چه سریعتر  این سند همکاری رایزنی کردند. سفیر چین در تهران با اشاره به تعاملات همه جانبه دو کشور، همکاری در حوزه امنیت و انتظامی را دراز مدت توصیف کرد و گقت: ایران و چین شریک راهبردی هستند و همکاری های دو طرف در حوزه امنیت و انتظامی بخش مهمی از این روابط را تشکیل می دهد. چانگ هوا با یادآوری سند همکاری دو کشور در مبارزه با جرایم فرامرزی، تروریسم را دشمن مشترک کشورها دانست و افزود: امیدواریم همکاری در حوزه هایی چون مبارزه با تروریسم و مواد مخدر تقویت شود. وی همچنین بر علائق چین به تقویت همکاری های چند جانبه اشاره کرد و گفت: ایران و چین می توانند با کشورهای افغانستان و پاکستان در موضوعات مختلف همکاری و تعامل داشته باشند. این دیپلمات بلندپایه چینی همچنین بر ضرورت همکاری در حوزه های فرهنگی و گردشگری و مبارزه با همه گیری کووید-۱۹ تاکید کرد و یادآور شد: دو طرف در این زمینه ها از ظرفیت های بالایی برخوردارند و سفارتخانه های دو کشور می توانند این موضوعات را پیگیری کنند تا تفاهم نامه ها اجرایی شوند. همکاری در توسعه متروی تهران از دیگر محورهای مورد اشاره سفیر چین در تهران بود که گفت: در این زمینه با شهردای تهران تعامل نزدیک داریم. انتهای پیام/\n",
      "\n",
      "\n",
      "\n",
      "\n",
      "doc id:  7532\n",
      "title:  ایران همواره حامی مطالبات استقلال‌طلبانه ملت‌های آمریکای لاتین بوده است\n",
      "content:\n",
      "\n",
      "به گزارش خبرگزاری فارس، آیت‌الله سید ابراهیم رئیسی عصر امروز دوشنبه در جریان سفر به قطر و در حاشیه ششمین اجلاس سران مجمع کشورهای صادرکنندگان گاز، در دیدار «کیت راولی» نخست وزیر ترینیداد و توباگو با تمجید از روحیه استقلال‌طلبی و آزادی‌خواهی ملت‌های منطقه آمریکای لاتین اظهار داشت: جمهوری اسلامی ایران با وجود تحریم‌های گسترده و خواست دشمن برای تحت فشار قرار دادن کشورمان، توانسته در عرصه‌های مختلف از جمله صنایع نفت و گاز توانمندی‌های خوبی به دست آورد و آماده انتقال تجربیات خود به ترینیداد و توباگو انتقال هستیم. وی با اشاره به روحیه آزادی‌خواهی و استقلال‌طلبی ملت‌های منطقه آمریکا‌ی لاتین گفت: جمهوری اسلامی ایران همواره حامی مطالبات آزادی‌خواهانه و استقلال‌طلبانه همه ملت‌های جهان در برابر ظلم کشورهای استکباری بوده است. رئیس جمهور با ابراز علاقمندی کشورمان برای گسترش روابط با ترینیداد و توباگو به ویژه در عرصه بهره‌برداری از منابع نفت و گاز افزود: در دورانی که دشمن قصد داشت با تحریم و اعمال فشار صنعت نفت ایران را به تعطیلی بکشاند، وزارت نفت و فعالان بخش نفت و گاز ایران توانستند به رغم خواست دشمن به سطح بالایی از دانش و توانمندی‌های فنی دست یابند که حاصل آن بالندگی صنعت نفت و گاز کشورمان است. رئیسی با ابراز آمادگی جمهوری اسلامی برای تبادل تجربیات خود با ترینیداد و توباگو اظهار داشت: جمهوری اسلامی ایران به ویژه در دوره فعالیت دولت سیزدهم برنامه ویژه‌ای برای گسترش روابط و تعاملات اقتصادی و سیاسی با همه کشورهای دنیا از جمله کشورهای منطقه آمریکای لاتین دارد و در همین راستا علاقمندیم سطح روابط خود با کشور شما را نیز ارتقا دهیم. رئیس جمهور با اشاره به سخنان نخست وزیر ترینیداد و توباگو مبنی بر تحت تاثیر قرار گرفتن تعاملات و همکاری‌های فنی و تجاری این کشور در نتیجه تحریم‌های آمریکا علیه دیگر کشورهای منطقه آمریکا لاتین تصریح کرد: این مساله گواه ظلم و استکبار آمریکا است که حتی شامل کشورهایی می‌شود که با آن روابط عادی دارند. آیت‌الله رئیسی خاطرنشان کرد: تجربه ۴۳ ساله جمهوری اسلامی ثابت کرده است که هر کس در مقابل ظلم مقاومت و ایستادگی کند حتما می‌تواند حقوق خود را استیفا کند. کیت راولی نخست وزیر ترینیداد و توباگو نیز در این دیدار با اشاره به اینکه کشورش از حجم قابل توجهی از منابع هیدروکربونیک برخوردار است، گفت: ترینیداد و توباگو به دنبال آن است که همچون ونزوئلا و کوبا همکاری‌ها و روابط خود با جمهوری اسلامی ایران را گسترش دهد. وی افزود: ترینیداد و توباگو پس از استقلال از انگلستان، بر روی توسعه صنایع نفت و گاز خود تمرکز کرد و امروز شرکت‌های ملی نفت و گاز ما از توانمندی‌های خوبی برخوردار هستند، اما همچنان شرکت‌های بین‌المللی در صنایع نفت و گاز ما حضور موثری دارند. نخست وزیر ترینیداد و توباگو  با بیان اینکه سعی کرده‌ایم همکاری‌ها و شرکای اقتصادی خود را بیش از پیش متنوع کنیم، تصریح کرد: علاقمندیم تا از تجربیات و توانمندی‌های ایران در عرصه نفت و گاز بهره‌مند شویم. انتهای پیام/\n",
      "\n",
      "\n",
      "\n",
      "\n"
     ]
    }
   ],
   "source": [
    "search_words(prepare_query_input('تحریم های آمریکا علیه اورشلیم'))"
   ]
  },
  {
   "cell_type": "markdown",
   "id": "1c2850b6",
   "metadata": {},
   "source": [
    "# Complete Search (also considering Not !)"
   ]
  },
  {
   "cell_type": "code",
   "execution_count": 92,
   "id": "f8da3989",
   "metadata": {},
   "outputs": [],
   "source": [
    "def complete_search_preprocess(contents):\n",
    "    contents = normalize(contents)\n",
    "    contents = tokenize(contents)\n",
    "    \n",
    "    contents = stem(contents)\n",
    "    contents = remove_persian_stop_words(contents)\n",
    "        \n",
    "    list_of_words = list(contents.keys())\n",
    "    result = []\n",
    "    \n",
    "    for i in range(len(list_of_words)):\n",
    "        if list_of_words[i] != '!':\n",
    "            if i == 0:\n",
    "                result.append((list_of_words[i], '+'))\n",
    "            else:\n",
    "                if list_of_words[i - 1] == '!':\n",
    "                    result.append((list_of_words[i], '-'))\n",
    "                else:\n",
    "                    result.append((list_of_words[i], '+'))\n",
    "                    \n",
    "    return [(word, sign) for word, sign in result if word not in string.punctuation]"
   ]
  },
  {
   "cell_type": "code",
   "execution_count": 93,
   "id": "bfc3cc0d",
   "metadata": {},
   "outputs": [
    {
     "data": {
      "text/plain": [
       "[('تحریم', '+'), ('آمریکا', '+'), ('ایران', '-')]"
      ]
     },
     "execution_count": 93,
     "metadata": {},
     "output_type": "execute_result"
    }
   ],
   "source": [
    "complete_search_preprocess('تحریم های آمریکا ! ایران')"
   ]
  },
  {
   "cell_type": "code",
   "execution_count": 94,
   "id": "b41af809",
   "metadata": {},
   "outputs": [],
   "source": [
    "def complete_search(words): # words ==> hello ! iranaian people ==> ('hello', '-'), ('iranian', '+'), 4\n",
    "    new_words = []\n",
    "   \n",
    "    for word, sign in words:\n",
    "        if sign == '+':\n",
    "            if word in positional_postings_list:\n",
    "                new_words.append(word)\n",
    "\n",
    "    \n",
    "\n",
    "    result_docs_id_dict = {}\n",
    "    for i in range(len(new_words) - 1, -1, -1):\n",
    "        docs_id_lists = []\n",
    "        for j in range(0, len(new_words) - i):\n",
    "            docs_id_intersection = find_docs_intersection(new_words[j:i + j + 1])\n",
    "            if len(docs_id_intersection) >= 1:\n",
    "                docs_id_lists = list(\n",
    "                    set(docs_id_lists + check_words_index(new_words[j:i + j + 1], docs_id_intersection)))\n",
    "        result_docs_id_dict[i + 1] = docs_id_lists\n",
    "\n",
    "    for key, value in result_docs_id_dict.items():\n",
    "        print(f'We have {len(value)} document(s) that have {key} words of the user query.')\n",
    "    print()\n",
    "\n",
    "    result_docs_id_list = create_list_from_dict(result_docs_id_dict)\n",
    "    result_docs_id_list = set(result_docs_id_list)\n",
    "                \n",
    "    for word, sign in words:\n",
    "        if sign == '-':\n",
    "            result_docs_id_list.difference_update(set(map(int, positional_postings_list[word]['document_frequency_dict'].keys())))\n",
    "    \n",
    "    if result_docs_id_list:\n",
    "        print_words_result(list(result_docs_id_list))\n",
    "    else:\n",
    "        print('Nothing found!')"
   ]
  },
  {
   "cell_type": "code",
   "execution_count": 95,
   "id": "dcbda056",
   "metadata": {},
   "outputs": [
    {
     "name": "stdout",
     "output_type": "stream",
     "text": [
      "We have 20 document(s) that have 2 words of the user query.\n",
      "We have 1195 document(s) that have 1 words of the user query.\n",
      "\n",
      "doc id:  4101\n",
      "title:  آمریکا میزبان جام جهانی کشتی آزاد شد/ میزبانی آذربایجان در جام جهانی کشتی فرنگی سال 2022\n",
      "content:\n",
      "\n",
      "به گزارش خبرگزاری فارس و به نقل از روابط عمومی فدراسیون کشتی، اتحادیه جهانی کشتی کشورهای میزبان جام های جهانی کشتی آزاد در سال های 2022 و 2023 میلادی و جام جهانی کشتی فرنگی در سال 2022 میلادی را مشخص کرد. بر این اساس جام جهانی کشتی آزاد در سال های 2022 و 2023 میلادی در ماه دسامبر (12 و 13 آذر 1401 و 18 و 19 آذرماه 1402 و در شهر آیوا آمریکا برگزار خواهد شد. همچنین کشور آذربایجان میزبان جام جهانی کشتی فرنگی در سال 2022 میلادی شد که این رقابت ها روزهای 19 و 20 نوامبر (28 و 29 آبان 1401) در شهر باکو برگزار خواهد شد.  *تورنمنت های رنکینگ دار مشخص شدند  اتحادیه جهانی 4 تورنمنت بین المللی را بعنوان تورنمنت رنکینگ این اتحادیه مشخص کرد. بر این اساس میزبانان و تاریخ برگزاری مسابقات بین المللی (آزاد، فرنگی، زنان) رنکینگ اتحادیه جهانی در سال 2022 که بر اساس آن، کشتی گیران امتیازات لازم برای سیدبندی در رقابت های جهانی و المپیک و همچنین مشخص شدن برترین کشتی گیران سال را بدست می آورند به شرح زیر است: 1- رقابت های جام یاشاردوغو، وهبی امره و حامیت کاپلان ترکیه (5 تا 8 اسفندماه 1400) 2- رقابت های بین المللی قزاقستان (12 تا 15 خرداد 1401) 3- رقابت های متئو پلیکونه ایتالیا (1 تا 4 تیرماه 1401) 4- رقابت های بین المللی تونس (23 تا 26 تیرماه 1401) همچنین رقابت های قاره ای، جهانی و المپیک نیز بعنوان رنکینگ اتحادیه جهانی برای مشخص شدن ورزشکار برتر محسوب می شوند. امتیازات چهار تورنمنت بین المللی و مسابقات قاره ای نیز در رنکینگ کشتی گیران برای سیدبندی مسابقات جهانی استفاده می شود. انتهای پیام/\n",
      "\n",
      "\n",
      "\n",
      "\n",
      "doc id:  8202\n",
      "title:  مردم ما در دهه فجر نشان می‌دهند پای آرمان‌های خود ایستاده‌اند\n",
      "content:\n",
      "\n",
      "به گزارش خبرنگار سیاسی خبرگزاری فارس، سید محمد حسینی معاون پارلمانی رئیس جمهور در حاشیه نشست اعضای ستاد مرکزی دهه فجر با نمایندگان مجلس گفت: پیروزی انقلاب اسلامی نقطه عطف و سرآغاز دوران جدیدی در تاریخ منطقه و جهان است، انقلاب اسلامی با حضور پررنگ و ایثارگری های مردم به پیروزی رسید و موجب ریشه‌کن شدن استعمار و سلطه‌گری در کشور ما شد. حسینی تاکید کرد: پس از گذشت چهار دهه با همه مشکلات و تحریم‌ها بر اقتدار این انقلاب افزوده شده و تلاش‌های غرب و هم‌پیمانان منطقه‌ای و داخلی آنها برای شکست یا تغییر ماهیت انقلاب اسلامی، با هوشیاری ملت و تدابیر رهبر معظم انقلاب بی‌نتیجه مانده است. حسینی در ادامه با اشاره به آغاز کار پویش « پرچم افتخار» از سوی پایگاه اطلاع رسانی دفتر حفظ و نشر آثار رهبر معظم انقلاب، گفت: در آستانه چهل و سومین سالگرد پیروزی انقلاب اسلامی مردم انقلابی ما با شور انقلابی خود نشان خواهند داد که پای آرمان‌های خود ایستاده اند. انتهای پیام/\n",
      "\n",
      "\n",
      "\n",
      "\n",
      "doc id:  8208\n",
      "title:  لغو تحریم‌ها تنها ضرورت احیای برجام است\n",
      "content:\n",
      "\n",
      "به گزارش خبرگزاری فارس به نقل از خانه ملت، سیداحمد رسولی نژاد در نشست علنی صبح امروز (یکشنبه، 10 بهمن ماه) مجلس شورای اسلامی در نطق میان دستور خود ضمن تبریک فرا رسیدن ماه رجب و دهه فجر، با بیان اینکه سیاست های منطقه ای آیت الله رئیسی سرآغاز خوبی برای خنثی سازی تحریم ها بود، گفت: توسعه روابط با کشورهای همسایه، اقدامی راهبردی است که انتظار می رود دولت با جدیت تمام نسبت به توسعه روابط تجاری، اقتصادی و سیاسی خود با آنها اهتمام داشته باشد. نماینده مردم دماوند و فیروزکوه در مجلس شورای اسلامی با بیان اینکه اگر دولت گذشته نسبت به اجرای قانون راهبردی مجلس در لغو تحریم ها باور داشت، مذاکرات با کشورهای اروپایی، چین و روسیه سریع تر به نتیجه می رسید، عنوان کرد: دولت قبل با بی تدبیری تمام و وادادگی در سیاست خارجی، با برجام نافرجام، ظرفیت های درونی کشور را به گروگان سیاست های سلطه جویانه آمریکا سپرد. وی ادامه داد: امروز دولت رئیسی با فهم درست نسبت به ضرورت لغو تحریم ها، جهت مذاکرات هسته ای پی برده که انتظار می رود با قاطعیت نسبت به اجرای مصوبه راهبردی مجلس اقدام شود و تضمین های لازم و لغو تحریم ها را تنها ضرورت احیای برجام بداند. رسولی نژاد افزود: گره نزدن اقتصاد کشور به برجام قدم درستی بود که در بودجه 1401 برداشته شد، اما آنچه موجب نگرانی است این است که بدون توجه به شرایط خاص اقتصادی کشور با افزایش سقف بودجه و ایجاد تعهدات جدید برای دولت، سیاست مهار تورم و کاهش رشد نقدینگی بی اثر شود. این نماینده مردم در مجلس یازدهم اضافه کرد: امروز وظیفه همه ما اعم از مجلس و دولت، مهار تورم و فشارهای سنگین اقتصادی و معیشتی بر مردم عزیز است. سیاست های جبران اصلاح نرخ ارز ترجیحی باید به گونه ای باشد که قدرت خرید مردم حفظ شده و این نیازمند برنامه منظم در سیاست های بازتوزیعی دولت است. وی در ادامه با اشاره به نگرانی مجلس عنوان کرد: تا کنون برنامه جامعی برای افزایش قدرت خرید مردم ارائه نشده در حالی که نظام بازتوزیع درآمد حاصل از اصلاح نرخ ارز باید به گونه ای باشد که تولیدکنندگان و مصرف کنندگان دچار آسیب نشوند. سیاست های غلط اقتصادی دولت های گذشته به ویژه 8 سال قبل، سبب سقوط شدید ارزش پول ملی، رشد سرسام آور نقدینگی کشور و هم زمان تورم افسارگسیخته و رکود اقتصادی شد و طبیعی است این دولت راه دشوار و سختی برای جبران سیاست های غلط گذشته دارد. رسولی نژاد افزود: عدم تعهد دولت های یازدهم و دوازدهم در تأمین مسکن مورد نیاز جوانان، حجم انبوه تقاضا را شکل داده و این دولت راه سختی در جبران بی تعهدی دولت گذشته پیش رو دارد و سیاست جسورانه دولت سیزدهم در هدفگذاری 4 میلیون واحد مسکونی در 4 سال نشان از شناخت دقیق شرایط کشور است و مصوبه مجلس در راستای جهش تولید مسکن، ظرفیت بزرگی برای تحقق این شعار فراهم کرده است. عضو مجمع نمایندگان استان تهران در ادامه با بیان اینکه ضروری است با هماهنگی دولت و مجلس، لایحه رتبه بندی معلمان در اسرع وقت اجرایی شود، عنوان کرد: مجلس معتقد است این اقدام از ضروریات حمایت از مقام معلم و جهت گیری صحیح برای حرکت جامعه به سوی پاسداشت مقام علم و دانش است. وی در ادامه با اشاره به این مطلب که نظام عادلانه و یکپارچه حقوق و دستمزد در کشور، کاهش فاصله میان حداقل و حداکثر حقوق دریافتی، رفع تبعیض میان دریافتی دستگاه های مختلف، وزارتخانه ها، دستگاه های اجرایی و شرکت های دولتی در اسرع وقت مورد انتظار است، گفت: دولت با فوریت در این خصوص لایحه جامع و کاملی به مجلس بدهد. نایب رئیس کمیسیون صنایع و معادن مجلس شورای اسلامی در پایان ضمن تشکر از اقدامات بسیار موثر و موفق دولت رئیسی در مقابله با شیوع کرونا، گفت: علیرغم تذکرات درباره شیوع اومیکرون، متأسفانه برنامه مشخصی در این خصوص از سوی ستاد ملی مقابله با کرونا داده نشد که قدری عقب افتادگی احساس می شود. با توجه به گستردگی این بیماری به نظر می رسد باید نسبت به تصمیم قبلی بر مبنی بر بازگشایی مدارس و دانشگاه ها بررسی مجدد شده و بنا به شرایط موجود و پیش بینی های هفته آینده، تصمیم جدید گرفته شود. انتهای پیام/\n",
      "\n",
      "\n",
      "\n",
      "\n",
      "doc id:  10258\n",
      "title:  همایش « انحراف پول» | مسائل اقتصادی قابل حل است/ ۷۵ درصد سپرده‌ها متعلق به ۴ درصد افراد است\n",
      "content:\n",
      "\n",
      "به گزارش خبرنگار تشکل‌های خبرگزاری فارس، همایش « انحراف پول» به همت مرکز مطالعات اقتصادی بسیج دانشجویی علم‌وصنعت به مناسبت روز دانشجو با حضور میثم خسروی اقتصاددان و مسئول گروه پول و بانک مرکز پژوهش های مجلس، محمد امینی رعیا اقتصاددان و مدیر اندیشکده اقتصاد مقاومتی، آرش کبیری حقوقدان و موسس پویش حذف ربا و رسول قهرمانی نماینده دادستان در مبارزه با مفاسد اقتصادی برگزار شد. امینی رعایا: قدرت خلق پول در خدمت تقویت بانک هاست نه رشد اقتصاد! محمد امینی رعیا اقتصاددان و مدیر اندیشکده اقتصاد مقاومتی در این مراسم گفت: خلق پول یک حق عمومی دراختیار بانک ها برای رشد و گسترش اقتصاد است اما بانک ها از این قدرت در راه افزایش قدرت خود استفاده کردند.      وی افزود: بانک‌ها از این حق برای افزایش سهم خود استفاده می کنند، و جای اینکه کیک اقتصاد بزرگ شود سهم یک عده از این کیک بیشتر می شود. اکنون این حق در خدمت رشد و گسترش اقتصاد نیست و به انحراف کشیده شده است. رعایا تصریح کرد: یکی از ریشه انحرافات این است که  پول، تسهیلات و اعتبارات در اقتصاد غیرمولد خرج می شود.  وی تاکید کرد: یکی از راه های مقابله شفافیت ضابطه مندی و جهت دهی این امر در مسیر رشد اقتصاد است. رعایا در بخش دیگری افزود: دو دیدگاه در این زمینه وجود دارد بانک درخدمت بانک و دیگری بانک درخدمت تولید. بانک یک ابزار برای رشد اقتصاد است بانک به تنهایی اصالتی ندارد و وجود آن برای کمک به تولید است درواقع درخدمت آن باید باشد. وی گفت: چرا باید بانک سرخود تصمیم بگیرد که در بازار ارز و سکه و مسکن ورود و با سرمایه گذاری کسب سود کند. درواقع بانک ذی نفع اصلی بازار ملک و ارز است پس هدف اصلی تولید چه شد؟ رعایا گفت:  باید جلوی این اشتباهات و انحرافات گرفته شود. بانک‌ها باید مخصوصا در این دولت که آقای رییسی شعارش بانک مانع تولید بوده و باید در خدمت تولید شود رویکرد خود را عوض کنند و به رسالت اصلی خود بپردازند. خسروی: ۷۵ درصد سپرده‌ها متعلق به ۴ درصد افراد است/ واگذاری سهام شرکت‌های زیرمجموعه بانک ها راهکار خوبی برای حل مشکل نیست میثم خسروی اقتصاددان و مسئول گروه پول و بانک مرکز پژوهش های مجلس هم گفت: بررسی مکانیزم های خلق پول بانک در اقتصاد می تواند انحرافات پول را نشان دهد. پرداخت سود سپرده، تسهیلات، تملک دارایی‌ها و ... توسط بانک ها با خلق پول صورت می گیرد. وی افزود: برای جلوگیری از انحراف پول در مرحله اول مکانیزم های خلق پول باید کنترل شود. حقوق های نجومی مهم هستند اما مسئله اصلی نیستند.      خسروی تصریح کرد: حدود ۷۵% سپرده ها متعلق به ۴% سپرده گذاران است و که باعث ایجاد ثروت برای آن ۴% و افزایش شدید نابرابری می شود.  مسئول گروه پول و بانک مرکز پژوهش های مجلس گفت: نابرابری و ناکارآمدی اصلی ترین مشکل پرداخت تسهیلات بوده است. دهک ده، ۹ برابر دهک اول تسهیلات دریافت کرده و یا مثلا بانک ها تمام تسهیلاتی که پرداخت می کنند به شرکت های زیرمجموعه خودشان پرداخت می شود. وی افزود: تسهیلات در لحظه پرداخت قابل هدایت است اما پس از پرداخت، به تصمیم سرمایه گذار بستگی دارد. خسروی ادامه داد: اساسا تاسیس بانک های مرکزی برای نظارت بر کمیت و کیفیت خلق پول بانکی است اما در کشور ما ما عملا گامی در اجرای این هدف برنداشته است. تقویت بانک مرکزی از راهبردهای حل مشکل است. خسروی در بخش دیگری از سخنانش گفت: کسب و کار بانک‌ها باید سودآور معقول باشد. در حال حاضر کسب و کار پرداخت وام و سود سپرده سودآور نیست و موجبات بروز درآمدهای غیرمولد را فراهم می کند. وی افزود:  به علت وجود تورم سنگین، بانک‌ها به جای این که تسهیلات بپردازند و فردی که تسهیلات را دریافت کرده برود دارایی بخرد خودشان می‌روند این کار را انجام میدهد که درست نیست اما به علت سیاست ها و فضای اشتباه حاکم بر اقتصاد این پدیده رخ می دهد. خسروی تاکید کرد: در این شرایط فساد و رانت هم رخ می دهد چون تنها افرادی که رانت دارند تسهیلات دریافت میکنند و انحراف پول رخ می دهد. وی ادامه داد: ایراداتی در اقتصاد ما پدیدار شده که در نظام حکمرانی مالی تعریف نشده و ما برای حل مشکلات کشور در مرحله اول این ایرادات را باید رفع کنیم. خسروی گفت: برای حل مشکلات شرکت های زیرمجموعه بانک ها یک راهکار افراطی در کشور اتخاذ شد که آن واگذاری اموال و سهام شرکت های زیرمجموعه در بانک ها بود که اصلا راه حل خوبی نبود. کبیری: پول اعتباری به شیوه موجود، خلاف شرع و قانون است  آرش کبیری حقوقدان و موسس پویش حذف ربا هم گفت:  اساسا پول اعتباری به شیوه موجود و خلق آن خلاف شرع و قانون اساسی است. طبق قانون، باید هر یک گرم طلا، معادل مقدار مشخص و ثابتی از ریال باشد. وی افزود: بانک ها به جای بررسی صلاحیت افراد برای پرداخت تسهیلات، به وثیقه‌ها اکتفا کرده‌اند و عملا صلاحیت فرد در بررسی یک پروژه مورد بررسی قرار نمی گیرد.      کبیری ادامه داد: اگر شما یک میلیارد از بانک ها بگیرید و نتوانید سود آن مبلغ را پس دهید عملا پس از ده سال ۱۶ میلیارد تومان باید بازگردانید. وی افزود: بانک ها از این موضوع برای درآمدزایی خود استفاده می کنند و از این روش روزانه بهره می‌برند. قهرمانی: در بدبینانه‌ترین حالت ۶۰ درصد اقتصاد قابل حل است رسول قهرمانی نماینده دادستان در مبارزه با مفاسد اقتصادی هم گفت: بانک ها بخش اعظم تسهیلات را در خرید مسکن و بنگاه داری خرج می کنند در واقع بعد از افزایش تقاضای مسکن و بالطبع بالا رفتن قیمت آن، بعد از دو سه سال بانک با تجدید ارزیابی قیمت مسکن ۳۰۰ درصد سود شناسایی و کسب می‌کند! این فعالیت های سوداگرایانه در بازار مسکن سکه و ارز موجب نتایج مخرب می‌شود. وی افزود: سود ۲۴ درصدی که بانک ها از ارائه تسهیلات می گیرند در این شرایط تحریم منطقی نیست در حالیکه با ترفندهایی عملا به ۳۵% سود می‌رسد.      قهرمانی ادامه داد: در شورای عالی پول و اعتبار، سیاستی وجود داشت که بانک‌ها موظف بودند تسهیلات خود را بطور منطقی میان بخش های کشاورزی صنعت بازرگانی و ... اختصاص دهند ولی این ساختار از بین رفت. وی افزود: اکنون حدود ۵۰% تسهیلات در بخش بازرگانی است درحالیکه بخش‌های مولد مثل کشاورزی و صنعت تنها به‌ترتیب ۷% و ۱۷ % سهم دارند! همین ها هم به اسم کشاورزی و صنعت تسهیلات را در جای دیگر خرج می‌کنند. وی افزود: همه این مسائل قابل حل است شاه کلید این موضوع مدیریت هوشمند کشور است. بنده اعتقاد دارم در بدبینانه ترین حالت ۶۰ درصد اقتصاد درست می شود. قهرمانی گفت: دولت ما همیشه بدنبال سمّت دادن مدیران نخبه است درحالی که در بستر بد این ساختار این مدیر خوب هم ناتوان و ناامید میشود. باید ساختارها اصلاح شود. وی تاکید کرد: اگه درلحظه حساب های بانکی بررسی شوند و موجودی آن ها و رشد و کاهش آن پردازش گردد و با سامانه بانکی و سامانه مالیات با هم متصل شوند جلوی ناهنجاری ها و فرارهای مالیاتی گرفته می‌شود ولی ساختار کنونی آن قدر این چرخه طولانی است که یکسال از شناسایی می‌گذرد زمانی که قضیه تمام شده! قهرمانی تصریح کرد: باید شرکت ها رتبه بندی اعتباری الکترونیک گردد سامانه بانکی و مالیاتی باهم در تعامل باشند، صورت مالی شرکت ها بررسی شود و تعامل بانک ها، دریافت کنندگان تسهیلات در بستر یک سامانه هوشمند باشد. این مهم بخش مهمی از مشکلات ما را حل میکند. انتهای پیام/\n",
      "\n",
      "\n",
      "\n",
      "\n",
      "doc id:  6163\n",
      "title:  تعلیق دوباره در انتظار وزنه‌برداری مصر\n",
      "content:\n",
      "\n",
      "به گزارش خبرگزاری فارس، مصر بعد از تعلیق بحث‌برانگیز 2 ساله به مسابقات جهانی وزنه‌برداری بازگشت اما حالا به دلیل دوپینگی که 2 سال و نیم پیش مشخص شده با محرومیت دیگری روبه‌روست. آژانس بین‌المللی تست (ITA) که کارهای اخذ نمونه‌های دوپینگ فدراسیون جهانی وزنه‌برداری را انجام می‌دهد، تاکید تست دوپینگ 6 وزنه‌بردار مصری در جریان بازی‌های آفریقایی 2019 که در مراکش برگزار شد، مثبت شده است. به محض اینکه این اتفاق بیفتد و تحریم‌ها اجرایی شود، فدراسیون وزنه‌برداری مصر بار دیگر در معرض تعلیق قرار می‌گیرد. وزنه‌برداری جزو رشته‌های موفق مصر محسوب می‌شود اما حالا با مشکل جدی به نام دوپینگ روبه روست. در طول تعلیق دو ساله که اوایل ماه جاری به پایان رسید، یک تحقیق دولتی صورت گرفت، فعالیت فدراسیون ملی متوقف شد و دو مربی برای مدت کوتاهی زندانی شدند اما ورزشکاران در ازبکستان تمرین کردند و عملکرد خوبی داشتند. هنوز اسامی ورزشکاران دوپینگی به طور رسمی اعلام نشده است. براساس اعلام فدراسیون جهانی، کشورهایی که 2 مورد یا بیشتر نمونه مثبت دوپینگ داشته باشند به مدت 2 سال تعلیق می‌شوند. انتهای پیام/\n",
      "\n",
      "\n",
      "\n",
      "\n"
     ]
    }
   ],
   "source": [
    "complete_search(complete_search_preprocess('تحریم های آمریکا ! ایران'))"
   ]
  },
  {
   "cell_type": "code",
   "execution_count": 96,
   "id": "00ccbcae",
   "metadata": {},
   "outputs": [
    {
     "name": "stdout",
     "output_type": "stream",
     "text": [
      "\n",
      "Nothing found!\n"
     ]
    }
   ],
   "source": [
    "complete_search(complete_search_preprocess('اورشلیم ! صهیونیست'))"
   ]
  },
  {
   "cell_type": "markdown",
   "id": "fe545f48",
   "metadata": {},
   "source": [
    "# Plotting zipf and heaps"
   ]
  },
  {
   "cell_type": "code",
   "execution_count": 97,
   "id": "839345b0",
   "metadata": {},
   "outputs": [],
   "source": [
    "import copy\n",
    "import math"
   ]
  },
  {
   "cell_type": "code",
   "execution_count": 98,
   "id": "98601162",
   "metadata": {},
   "outputs": [],
   "source": [
    "def get_word_freq_dict_from_postings_lists(postings_lists):\n",
    "    word_freq_dict = {}\n",
    "    for word, inf_about_word in postings_lists.items():\n",
    "        word_freq_dict[word] = inf_about_word[\"frequency_in_all_documents\"]\n",
    "\n",
    "    return word_freq_dict"
   ]
  },
  {
   "cell_type": "code",
   "execution_count": 99,
   "id": "3bfab5a5",
   "metadata": {},
   "outputs": [],
   "source": [
    "def remove_high_freq(sorted_word_freq_dict, limit):\n",
    "    new_sorted_word_freq_dict = copy.deepcopy(sorted_word_freq_dict)\n",
    "    for i in range(limit):\n",
    "        word = list(new_sorted_word_freq_dict.keys())[0]\n",
    "        del new_sorted_word_freq_dict[word]\n",
    "\n",
    "    return new_sorted_word_freq_dict"
   ]
  },
  {
   "cell_type": "code",
   "execution_count": 100,
   "id": "16039673",
   "metadata": {},
   "outputs": [],
   "source": [
    "def plot_zipf():\n",
    "    positional_postings_list_with_stop_words = pd.read_json('results/postings_list.json')\n",
    "    positional_postings_list_without_stop_words = pd.read_json('results/stop_words_posting_list.json')\n",
    "\n",
    "    word_freq_dict_with_stop_words = get_word_freq_dict_from_postings_lists(\n",
    "        positional_postings_list_with_stop_words)\n",
    "    word_freq_dict_without_stop_words = get_word_freq_dict_from_postings_lists(\n",
    "        positional_postings_list_without_stop_words)\n",
    "\n",
    "    # sorted descending\n",
    "    sorted_descending_word_freq_dict_with_stop_words = dict(\n",
    "        sorted(word_freq_dict_with_stop_words.items(), key=lambda item: item[1], reverse=True))\n",
    "    sorted_descending_word_freq_dict_without_stop_words = dict(\n",
    "        sorted(word_freq_dict_without_stop_words.items(), key=lambda item: item[1], reverse=True))\n",
    "    sorted_descending_word_freq_dict_without_high_freq = remove_high_freq(\n",
    "        sorted_descending_word_freq_dict_with_stop_words, 30)\n",
    "\n",
    "    max_number_with_stop_words = list(sorted_descending_word_freq_dict_with_stop_words.values())[0]\n",
    "    max_number_without_stop_words = list(sorted_descending_word_freq_dict_without_stop_words.values())[0]\n",
    "    max_number_without_high_freq = list(sorted_descending_word_freq_dict_without_high_freq.values())[0]\n",
    "    print(\"max_number_with_stop_words: \", max_number_with_stop_words)\n",
    "    print(\"max_number_without_stop_words: \", max_number_without_stop_words)\n",
    "    print(\"max_number_without_high_freq: \", max_number_without_high_freq)\n",
    "\n",
    "    # when have stop words\n",
    "    L1, L2, L3 = [], [], []\n",
    "\n",
    "    for word, freq in sorted_descending_word_freq_dict_with_stop_words.items():\n",
    "        L3.append(math.log(freq, 10))\n",
    "        word_index = list(sorted_descending_word_freq_dict_with_stop_words.keys()).index(word)\n",
    "        L1.append(math.log(word_index + 1, 10))\n",
    "        L2.append(math.log(max_number_with_stop_words / (word_index + 1), 10))\n",
    "\n",
    "    plt.plot(L1, L2)\n",
    "    plt.plot(L1, L3)\n",
    "    plt.xlabel(\"Log 10 Rank\")\n",
    "    plt.ylabel(\"Log 10 cf\")\n",
    "    plt.title(\"With stop words\")\n",
    "    plt.show()\n",
    "\n",
    "    # when remove stop words\n",
    "    L4, L5, L6 = [], [], []\n",
    "    for word, freq in sorted_descending_word_freq_dict_without_stop_words.items():\n",
    "        L6.append(math.log(freq, 10))\n",
    "        word_index = list(sorted_descending_word_freq_dict_without_stop_words.keys()).index(word)\n",
    "        L4.append(math.log(word_index + 1, 10))\n",
    "        L5.append(math.log(max_number_without_stop_words / (word_index + 1), 10))\n",
    "\n",
    "    plt.plot(L4, L5)\n",
    "    plt.plot(L4, L6)\n",
    "    plt.xlabel(\"Log 10 Rank\")\n",
    "    plt.ylabel(\"Log 10 cf\")\n",
    "    plt.title(\"Without stop words\")\n",
    "    plt.show()\n",
    "\n",
    "    # when remove high freq words\n",
    "    L7, L8, L9 = [], [], []\n",
    "    for word, freq in sorted_descending_word_freq_dict_without_high_freq.items():\n",
    "        L9.append(math.log(freq, 10))\n",
    "        word_index = list(sorted_descending_word_freq_dict_without_high_freq.keys()).index(word)\n",
    "        L7.append(math.log(word_index + 1, 10))\n",
    "        L8.append(math.log(max_number_without_high_freq / (word_index + 1), 10))\n",
    "\n",
    "    plt.plot(L7, L8)\n",
    "    plt.plot(L7, L9)\n",
    "    plt.xlabel(\"Log 10 Rank\")\n",
    "    plt.ylabel(\"Log 10 cf\")\n",
    "    plt.title(\"Without high freq words\")\n",
    "    plt.show()"
   ]
  },
  {
   "cell_type": "code",
   "execution_count": 101,
   "id": "e23141a1",
   "metadata": {},
   "outputs": [],
   "source": [
    "def calculate_tokens_and_words_number(data_frame):\n",
    "    postings_lists = create_positional_postings_lists(data_frame)\n",
    "    number_of_tokens = len(postings_lists)\n",
    "    number_of_words = 0\n",
    "    for token, inf_token in postings_lists.items():\n",
    "        number_of_words += inf_token.frequency_in_all_documents\n",
    "\n",
    "    return number_of_tokens, number_of_words"
   ]
  },
  {
   "cell_type": "code",
   "execution_count": 102,
   "id": "80df63df",
   "metadata": {},
   "outputs": [],
   "source": [
    "def plot_heaps():\n",
    "    df_after_preprocess_with_stemming = pd.read_pickle('results/preprocessed.pickle')\n",
    "    df_after_preprocess_without_stemming = pd.read_pickle('results/not_stemmed.pickle')\n",
    "\n",
    "    result_with_stemming = {}\n",
    "    result_without_stemming = {}\n",
    "    for number_of_documents in [500, 1000, 1500, 2000]:\n",
    "        number_of_tokens_with_stemming, number_of_words_with_stemming = calculate_tokens_and_words_number(\n",
    "            df_after_preprocess_with_stemming.head(number_of_documents))\n",
    "        result_with_stemming[number_of_documents] = [number_of_tokens_with_stemming, number_of_words_with_stemming]\n",
    "        number_of_tokens_without_stemming, number_of_words_without_stemming = calculate_tokens_and_words_number(\n",
    "            df_after_preprocess_without_stemming.head(number_of_documents))\n",
    "        result_without_stemming[number_of_documents] = [number_of_tokens_without_stemming,\n",
    "                                                        number_of_words_without_stemming]\n",
    "\n",
    "    print(\"with stemming\")\n",
    "    print(result_with_stemming)\n",
    "    print(\"without stemming\")\n",
    "    print(result_without_stemming)\n",
    "\n",
    "    number_of_tokens_with_stemming_in_all_documents, number_of_words_with_stemming_in_all_documents = calculate_tokens_and_words_number(\n",
    "        df_after_preprocess_with_stemming)\n",
    "    number_of_tokens_without_stemming_in_all_documents, number_of_words_without_stemming_in_all_documents = calculate_tokens_and_words_number(df_after_preprocess_without_stemming)\n",
    "\n",
    "    print(\"with stemming\")\n",
    "    print(f'all documents: number of words: {number_of_tokens_with_stemming_in_all_documents}, number of tokens: {number_of_words_with_stemming_in_all_documents}')\n",
    "    print(\"without stemming\")\n",
    "    print(\n",
    "        f'all documents: number of words: {number_of_tokens_without_stemming_in_all_documents}, number of tokens: {number_of_words_without_stemming_in_all_documents}')"
   ]
  },
  {
   "cell_type": "code",
   "execution_count": 103,
   "id": "179d7ed1",
   "metadata": {},
   "outputs": [],
   "source": [
    "# plot_heaps()"
   ]
  },
  {
   "cell_type": "markdown",
   "id": "32520c5b",
   "metadata": {},
   "source": [
    "with stemming\\\n",
    "{500: [94833, 2576907], 1000: [94876, 2804809], 1500: [94901, 3188058], 2000: [94928, 3720993]}\\\n",
    "without stemming\\\n",
    "{500: [94833, 2648461], 1000: [94876, 2951349], 1500: [94901, 3409596], 2000: [94928, 4012366]}\\\n",
    "with stemming\\\n",
    "all documents: number of words: 95460, number of tokens: 6672602\\\n",
    "without stemming\\\n",
    "all documents: number of words: 95460, number of tokens: 9173202\\"
   ]
  },
  {
   "cell_type": "code",
   "execution_count": 104,
   "id": "6f06756d",
   "metadata": {},
   "outputs": [],
   "source": [
    "# plot_zipf()"
   ]
  },
  {
   "cell_type": "markdown",
   "id": "9b8dd5d4",
   "metadata": {},
   "source": [
    "max_number_with_stop_words:  43309\\\n",
    "max_number_without_stop_words:  12178\\\n",
    "max_number_without_high_freq:  7898\n",
    "\n",
    "![with stop words](zipf-imgs/with-stop-words.png)\n",
    "![with stop words](zipf-imgs/without-stop-words.png)\n",
    "![with stop words](zipf-imgs/without-high-freq-words.png)"
   ]
  },
  {
   "cell_type": "markdown",
   "id": "b4863a82",
   "metadata": {},
   "source": [
    "# Report"
   ]
  },
  {
   "cell_type": "markdown",
   "id": "ab138ad3",
   "metadata": {},
   "source": [
    "1-\\\n",
    "با ذکر مثال شرح دهید که در گام پیشپردازش چه عملیاتی انجام داده اید .همچنین دلیل انجام هر پردازش\n",
    "را ذکر کنید\n",
    "\n",
    "==> The steps are obvious in the notebook."
   ]
  },
  {
   "cell_type": "markdown",
   "id": "c4906c90",
   "metadata": {},
   "source": [
    "2-\\\n",
    "صحت قانون Zipfرا در دو حالت قبل و بعد از حذف کلمات پرتکرار از واژه نامه بررسی کنید (رسم نمودار\n",
    "برای هر حالت الزامی است).در صورت برقراری /عدم برقراری این قانون در هر حالت ،علت را شرح دهید."
   ]
  },
  {
   "cell_type": "markdown",
   "id": "02ea5726",
   "metadata": {},
   "source": [
    "بعد از رسم نمودار لگاریتمی، تعداد تکرار هر کلمه نسبت به رنکینگ آن بدون حذف کلمات پرتکرار به صورت زیر است:\n",
    "![with stop words](zipf-imgs/without-stop-words.png)\n",
    "\n",
    "می بینیم که شیب نمودار کمی بیش تر از منفی یک است، اما با این حال می توان گفت قانون زیپ اف، با تقریب خوبی برقرار است.\n",
    "\n",
    "  \n",
    "اما با رسم حالتی که کلمات پرتکرار حذف می شوند داریم:\n",
    "![with stop words](zipf-imgs/with-stop-words.png)\n",
    "\n",
    "می بینیم که در این حالت شیب نمودار به منفی یک خیلی نزدیک شده است و قانون زیپ اف کاملا برقرار می باشد."
   ]
  },
  {
   "cell_type": "markdown",
   "id": "dcc1b624",
   "metadata": {},
   "source": [
    "3-\\\n",
    "صحت قانون heapsرا در دو حالت قبل و بعد از ریشهیابی بررسی کنید .برای بررسی این قانون الزم است با\n",
    "استفاده از اندازهی واژهنامه و تعداد توکنها در 1500 ،1000 ،500 و 2000سند اول ،اندازهی واژهنامه مربوط\n",
    "به کل اسناد تخمین زده شود .در نهایت اندازهی واقعی واژهنامه و اندازهی تخمینی در هر دو حالت مقایسه و\n",
    "تحلیل شود .آیا در هر دو حالت قانون برقرار است؟ چرا؟ (رسم نمودار برای هر حالت الزامی است)."
   ]
  },
  {
   "cell_type": "markdown",
   "id": "61ffe984",
   "metadata": {},
   "source": [
    "در حالت استمینگ ابتدا تعداد توکن ها و مجموع طول سند ها را برای مقادیر داده شده به دست می آوریم:\n",
    "    \n",
    "with stemming\\\n",
    "{500: [94833, 2576907], 1000: [94876, 2804809], 1500: [94901, 3188058], 2000: [94928, 3720993]}\\\n",
    "without stemming\\\n",
    "{500: [94833, 2648461], 1000: [94876, 2951349], 1500: [94901, 3409596], 2000: [94928, 4012366]}\\\n",
    "with stemming\\\n",
    "all documents: number of words: 95460, number of tokens: 6672602\\\n",
    "without stemming\\\n",
    "all documents: number of words: 95460, number of tokens: 9173202\n",
    "\n",
    "با قانون هیپز داریم:\n",
    "$$V = kn! → log V = b. log n + log k$$\n",
    "\n",
    "حال مقادیر اول و دوم را جایگزاری می کنیم:\n",
    "\n",
    "$$log 94833 = b * log 2576907 + log K$$\n",
    "$$log 94876 = b * log 2648461 + log K$$\n"
   ]
  },
  {
   "cell_type": "code",
   "execution_count": 105,
   "id": "f570dc56",
   "metadata": {},
   "outputs": [
    {
     "data": {
      "text/plain": [
       "0.9919092137077705"
      ]
     },
     "execution_count": 105,
     "metadata": {},
     "output_type": "execute_result"
    }
   ],
   "source": [
    "from math import log10\n",
    "\n",
    "b = (log10(2576907) - log10(94833)) / (log10(2648461) - log10(94876))\n",
    "b"
   ]
  },
  {
   "cell_type": "markdown",
   "id": "806e4c29",
   "metadata": {},
   "source": [
    "پس مقدار بی را بدست آودیم، حال با جای گذاری در معادله اول مقدار کا را نیز بدست می آوریم:"
   ]
  },
  {
   "cell_type": "code",
   "execution_count": 106,
   "id": "ea5e269d",
   "metadata": {},
   "outputs": [],
   "source": [
    "log_k = log10(94833) - b * log10(2576907)"
   ]
  },
  {
   "cell_type": "code",
   "execution_count": 107,
   "id": "d9bf725e",
   "metadata": {},
   "outputs": [
    {
     "data": {
      "text/plain": [
       "-1.3822684259060578"
      ]
     },
     "execution_count": 107,
     "metadata": {},
     "output_type": "execute_result"
    }
   ],
   "source": [
    "log_k"
   ]
  },
  {
   "cell_type": "code",
   "execution_count": 108,
   "id": "a77a75c2",
   "metadata": {},
   "outputs": [
    {
     "data": {
      "text/plain": [
       "0.041469764978407354"
      ]
     },
     "execution_count": 108,
     "metadata": {},
     "output_type": "execute_result"
    }
   ],
   "source": [
    "k = math.pow(10, log_k)\n",
    "k"
   ]
  },
  {
   "cell_type": "markdown",
   "id": "a6c9bc54",
   "metadata": {},
   "source": [
    "4-\\\n",
    "حداقل سه مورد از مواردی که در ریشهیابی با چالش روبرو بودید را ذکر کنید( .بطور مثال کلماتی که نیازی\n",
    "به ریشهیابی ندارند اما طبق روند ریشهیابی از دست میروند)."
   ]
  },
  {
   "cell_type": "markdown",
   "id": "225aae2b",
   "metadata": {},
   "source": [
    "1.\n",
    "ان در آخر برخی کلمات، ممکن است توسط ریشه یاب به صورت غلط به عنوان نشانه جمع برداشته شود و از آن حذف شود، و در این صورت معنای کلمه به طول کامل تغییر می کند.\n",
    "\n",
    "2.\n",
    "تر در آخر برخی کلمات ممکن است به عنوان وابسته پسین در نظر گرفته شود، در حالی که جزوی از کلمه است و در صورت حذف معنای آن تغییر پیدا می کند.\n",
    "\n",
    "3.\n",
    "یک سری کلمات مانند مات ممکن است توسط ریشه یاب به درستی ریشه یابی نشوند، که احتمالا بخاطر باگ های موجود در ماژول های هضم و پارسیور می باشد."
   ]
  },
  {
   "cell_type": "code",
   "execution_count": null,
   "id": "2c4e90d2",
   "metadata": {},
   "outputs": [],
   "source": []
  },
  {
   "cell_type": "markdown",
   "id": "d873e3dc",
   "metadata": {},
   "source": [
    "5-\\\n",
    "پاسخ به پرسمان در حالتهای زیر:\\\n",
    "\\\n",
    "الف) یک پرسمان از کلمات ساده و متداول (مانند تحریمهای آمریکا علیه ایران ،در نتایج بازیابی شده انتظار می-\n",
    "رود اسنادی که کلمات تحریم ،آمریکا ،علیه و ایران را دارند در باالی لیست و اسنادی که برخی از کلمات را\n",
    "ندارند در رتبههای پایینتر لیست قرار داشته باشند)."
   ]
  },
  {
   "cell_type": "code",
   "execution_count": 109,
   "id": "f38cc2b8",
   "metadata": {},
   "outputs": [
    {
     "name": "stdout",
     "output_type": "stream",
     "text": [
      "We have 0 document(s) that have 3 words of the user query.\n",
      "We have 22 document(s) that have 2 words of the user query.\n",
      "We have 3973 document(s) that have 1 words of the user query.\n",
      "\n",
      "doc id:  6929\n",
      "title:  توضیحات یک منبع آگاه درباره وقفه مذاکرات وین\n",
      "content:\n",
      "\n",
      "به گزارش خبرنگار سیاسی خبرگزاری فارس، به نظر می‌رسد مذاکرات وین به روزهای آخر خود نزدیک شده است و براساس اعلام برخی منابع تا رسیدن به توافق راه زیادی باقی نمانده و تنها نیاز است آمریکا به آنچه در برجام برای برداشتن تحریم‌ها وعده داده  عمل کند و تضمین معتبری هم برای انجام این تعهدات داده شود. براساس اعلام مسئولان سیاست خارجه در کنار دریافت تضمین‌ معتبر، برداشتن همه تحریم‌ها از نکات و مطالبات اصلی ایران در مذاکرات است. اما به نظر می‌رسد آمریکا در مقابل عمل به این تعهد برجامی مقاومت می‌کند. * تحریم‌های آمریکا علیه ایران آمریکا پس از تسخیر لانه‌ جاسوسی آمریکا در تهران، «کارتر» در تاریخ 8 نوامبر 1979م. با استناد به قانون‌ «کنترل صدور تسلیحات نظامی»، کشتی حامل‌ لوازم یدکی نظامی متعلق به ایران را توقیف کرد. ارزش این لوازم 300 میلیون دلار بود. با اوج‌گیری کشمکش‌های سیاسی بر سر مسئله‌ تصرف سفارت، دولت موقت، اعلام کرد تمام دارایی‌های‌ خود را از بانک‌های آمریکا خارج خواهد کرد. کارتر با لحاظ این احتمال، در کشور شرایط اضطراری اعلام کرد و با استناد به قانون شرایط اضطراری اقتصاد بین‌الملل (IEEPA) و قانون‌ شرایط اضطراری ملی (NEA)، با صدور دستور ویژه‌ی شماره‌ی (12170)، تمام دارایی‌های ایران در آمریکا را به تصرف خود درآورد.   مجموع پس‌اندازها و اوراق بهادار بلوکه شده‌ی ایران بالغ بر 12 میلیارد دلار بود. حدود 1.4میلیارد دلار در بانک «فدرال رزرو» آمریکا، 5.6میلیارد دلار در شعب مختلف بانک‌های این کشور‌ در خارج از آمریکا، 2 میلیارد دلار در سایر بانک‌های آمریکا و حدود 2 میلیارد دلار در اختیار شهروندان و مؤسسه‌های خصوصی ایالات متحده بود. همچنین 1.6میلیون اونس طلا به حساب بانک‌ مرکزی ایران در بانک «فدرال رزرو» نگاه داشته‌ می‌شد. در تاریخ 7 آوریل 1980م. کارتر با صدور دستور ویژه‌ شماره‌ (12205)، فروش و عرضه‌ هرگونه کالا و خدمات، به‌جز مواد غذایی و دارویی، به ایران را ممنوع کرد. براساس دستور ویژه‌ی (12211) به تاریخ 17 آوریل 1980م.، وارد نمودن هرگونه کالا از ایران‌ نیز ممنوع شد. این دستورات هم با استناد به‌ قانون (IEEPA) صادر شد. پس از پایان داستان‌ گروگان‌گیری در روزهای پایانی ریاست‌جمهوری‌ کارتر، وی با صدور 10 دستور ویژه، تمام‌ تحریم‌ها برضد ایران را لغو کرد، اما دولت بعدی‌ (ریگان) در عمل فقط ممنوعیت مربوط به‌ صادرات و واردات را اجرا نمود و به بهانه‌های‌ مختلف، از آزاد کردن اموال ایران طفره رفت. آمریکا از سال 1983م. تحریمی یک جانبه موسوم به عملیات «استانج» را برضد ایران آغاز کرد.   در این راستا ایالات متحده با 20کشور درباره‌ی ارسال نکردن سلاح به ایران وارد مذاکره شد تا آن‌ها را مجاب کند که سلاح به ایران نفروشند. این تحریم در شرایط درگیری ایران در جنگ تحمیلی با هدف حمایت از عراق بعثی در برابر ایران اسلامی بود.    در ادامه‌ تحریم‌های اعمال شده از سوی آمریکا، بار دیگر در سال 1984م. آمریکا صادرات برخی از مواد شیمیایی را به ایران ممنوع کرد. ممنوعیت برخی از مواد شیمیایی بعد از ماجرای ایران-کنترا در سال 1987م. به 150 نوع کالا که دارای کاربرد نظامی نیز بودند، گسترش یافت. همچنین در تاریخ 6 نوامبر سال‌ 1987م. نمایندگان کنگره در واکنش به خریدهای‌ نفت اداره‌ی انرژی آمریکا از ایران، لایحه‌ای به‌ مجلس برده و با تصویب آن واردات نفت از ایران‌ را ممنوع کردند.   ریگان که نمی‌خواست کمتر از کنگره ضدتروریست جلوه کند، 3هفته بعد با صدور دستور ویژه‌ی (12613) ورود هرگونه کالا و خدمات از ایران را ممنوع کرد. وی برای صدور این دستور به بند 505 «قانون همکاری‌های‌ بین‌المللی امنیتی و توسعه»، مصوب سال‌ 1985م. استناد کرد. در واقع زمانی که ایران درگیر جنگ تحمیلی بود، ایالات متحده به تعریف سیاست‌های تحریمی پرداخت که بتواند بر نتیجه‌ی جنگ ایران و عراق تأثیری شگرف بگذارد و رقیب نوپای اسلامی خود را در جنگی نابرابر از میدان به در کند. اما پایان جنگ، تافته‌ی بافته‌ی آمریکا را ریش ریش کرد. * پایان جنگ، تداوم تحریم با پذیرش قطعنامه‌ی (598) توسط ایران، جنگ تحمیلی، رسمی و فیزیکی برضد جمهوری اسلامی پایان یافت، اما حربه‌ی نرم، جایگزین حربه‌ی سخت جنگ شد. به موازات تحریم‌های قبلی، سیاست اعمال فشار و تحریم برضد ایران تداوم یافت. با آغاز ریاست جمهوری «بیل کلینتون» در سال 1992م. روابط ایران و آمریکا وارد مرحله‌ی تازه‌ای شد. استراتژی جدید آمریکا درباره‌ی ایران و عراق «سیاست مهاردوگانه» بود.   براساس این سیاست، آمریکا در نخستین گام، محدودیت‌هایی برای خرید نظامی ایران، ممنوعیت کمک و تخصیص اعتبار، کنترل صادرات و واردات، جلوگیری از اعطای وام از سوی بانک جهانی و صندوق بین‌المللی پول و ادامه‌ی توقیف اموال ایران اعمال کرد. کلینتون در اسفند ماه 1373 فرمان اجرایی شماره‌ی (12957) مبنی بر ممنوعیت برخی معاملات مربوط به توسعه‌ی منابع نفتی ایران را امضا نمود.   بدین ترتیب شرکت‌های آمریکایی از سرمایه‌گذاری در بخش نفت و گاز ایران منع شدند. رئیس جمهور آمریکا بار دیگر در اردیبهشت 1374 طی فرمان شماره‌ی (12959) تحریم‌های جدیدی را برضد ایران اعمال کرد. بر این اساس شرکت‌های آمریکایی از خرید نفت از ایران منع شدند. در این دوران آمریکا سیاست‌های ضد ایرانی خود را ادامه داد به گونه‌ای که در مرداد 1375 قانون مجازات‌ها برضد ایران و لیبی در کنگره تصویب شد.   طبق این قانون که به «داماتو» معروف شد، شرکت‌های غیرآمریکایی که در بخش نفت و گاز لیبی و ایران سرمایه‌گذاری کنند، مجازات خواهند شد. بنابراین علاوه بر شرکت‌های آمریکایی، تمامی شرکت‌های خارجی دیگر از سرمایه‌گذاری بیش از 20 میلیون دلار در ایران منع شدند. * 11 سپتامبر، موج جدید تحریمها همچنان در دوره‌های بعدی نیز تحریم‌ها برضد ایران توسط رؤسای جمهور آمریکا تمدید می‌شد. با این حال به دنبال رویداد 11 سپتامبر 2001م. «جورج بوش»، رئیس‌جمهور وقت آمریکا قانونی را تصویب کرد که اجازه‌ی بلوکه‌ی اموال و دارایی‌های اشخاص حقوقی و حقیقی حامی تروریسم را ارائه می‌کرد. چندی بعد شماری از اشخاص حقیقی و حقوقی در ایران نیز در فهرست تحریم‌ها قرار گرفتند. به طوری که برخی بانک‌ها مانند بانک سپه و ملی، مقاطعه‌کاران در صنعت دفاعی و شرکت‌های سپاه پاسداران به همراه مقام‌های سپاه و نیروی قدس در فهرست تحریم‌ها قرار گرفتند. در راستای سیاست‌های آمریکا در ژوئن 2008م. اتحادیه‌ی اروپا دارایی بیش از 40 شخص حقیقی و حقوقی که با بانک ملی ایران همکاری داشتند را مسدود کرد. ژاپن و اتحادیه‌ی اروپا همچنین محدودیت‌هایی را در جهت اعطای وام به ایران اعمال کردند. همچنین در جولای 2010م.، «اوباما» تحریم شرکت‌های داخلی و خارجی که به ایران بنزین می‌فروشند یا به ارتقای ظرفیت پالایشگاهی جمهوری اسلامی کمک می‌کنند را تصویب کرد.  * تحریم‌های هسته‌ای پس از 11 سپتامبر و موج جدیدی از تحریم‌ها برضد ایران، ترسیم چهره‌ی «ایران هسته‌ای» در صدر تبلیغات منفی از جمهوری اسلامی قرار گرفت. به دنبال این امر کشورهای غربی در صدد اعمال تحریم‌های گوناگون اقتصادی و تکنولوژیکی برضد ایران برآمدند و با طرح فعالیت‌های هسته‌ای ایران در شورای امنیت به مخاصمه با این کشور پرداختند. در این راستا ایالات متحده پس از 11 سپتامبر 2001م.، جمهوری اسلامی ایران را کشوری در پی «دستیابی به سلاح‌های کشتار جمعی و بر هم زننده‌ی صلح و ثبات بین‌المللی» معرفی کرد و تمام تلاش خود را جهت ناکامی ایران در اجرای فعالیت‌های هسته‌ای و ارجاع پرونده‌ی ایران به شورای امنیت به کار گرفت. قطعنامه‌ی (1737) که در 23 دسامبر 2006م. به تصویب اعضای شورای امنیت رسید، در عمل ایران را به فصل7 و ماده‌ی 41 منشور ملل متحد کشاند. این قطعنامه دارایی‌های برخی مؤسسه‌ها و افراد مرتبط با برنامه‌های هسته‌ای ایران در خارج از کشور را مسدود نمود. همچنین در این قطعنامه ذکر شده بود که در صورت بی‌اعتنایی مجدد ایران به قطعنامه‌ی یاد شده و متوقف نشدن فعالیت‌های هسته‌ای در مدت زمان مقرر (60 روزه) از سوی شورای امنیت، تهران با تحریم‌های سخت‌تری مواجه خواهد شد.  اگر چه قطعنامه‌ی یاد شده لحنی تند داشت و ضرب‌الاجلی 2 ماهه برای ایران تعیین کرده بود، با این حال جمهوری اسلامی ایران ضمن رد و غیرعادلانه خواندن قطعنامه و انتقاد از برخورد دوگانه‌ی شورای امنیت، مصرانه بر ادامه‌ی فعالیت‌های صلح‌آمیز خود جهت دستیابی به فن‌آوری هسته‌ای پای فشرد. بدین ترتیب پس از پایان مهلت 2ماهه، شورای امنیت و اعتنا نکردن ایران به قطعنامه‌ی یاد شده، قطعنامه‌ی سوم شورای امنیت پس از حدود یک ماه رایزنی در 24 مارس 2007م. به تصویب رسید.   قطعنامه‌ی (1747) ضمن مسدود نمودن دارائی‌های 28 فرد و نهاد ایرانی مرتبط با برنامه‌های هسته‌ای ایران و جلوگیری از صادرات تسلیحاتی ایران، تحریم‌های تنبیهی جدیدی را نیز برضد تهران وضع کرد و یک بار دیگر از ایران خواست که طی 60 روز آینده فعالیت‌های هسته‌ای خود را به حالت تعلیق درآورد. در تیرماه 1387 چهار گروه صنعتی ایران شامل مجموعه‌ی صنایع شهید ستاری، هفت تیر، گروه صنایع مهمات و متالورژی و صنایع شیمی پارچین مشمول تحریم‌های آمریکا شدند. وزارت خزانه‌داری ایالات متحده در آذر 1389 اعلام کرد که شرکت‌ها و بانک‌های نفت و گاز پارس، بیمه‌ی معلم، بانک مهر، بانک انصار، شرکت کشتیرانی لاینر ترانسپورت کیش و بنیاد تعاون سپاه را به فهرست سیاه تحریمی خود می‌افزاید. در بهمن 1389 (اوایل سال 2011م.)، وزارت خزانه‌داری آمریکا، تحریم‌های جدیدی را برضد بانک رفاه ایران تحمیل کرد.افزون بر این‌ها، قانون تحریم همه ‌جانبه‌ی ایران در سال 1389 به تصویب کنگره‌ی این کشور رسید. این تحریم‌ها رئیس‌جمهور آمریکا را قادر می‌سازد تا شرکت‌های خارجی که به ایران بنزین و دیگر فرآورده‌های نفتی پالایش شده را صادر می‌کنند، مجازات کند. * تحریم‌های اروپا برضد ایران همراهی اروپا با غرب در اعمال فشار بر جمهوری اسلامی در سال‌های اخیر قابل توجه است. به موازات تحریم‌های تعریف شده‌ی آمریکا برضد ایران، اروپا نیز از این دور عقب نمانده است. دولت انگلیس در ژوئن 2008م. اعلام کرد که در ادامه‌ی سیاست تحریم برضد ایران، دارایی‌های بزرگ‌ترین بانک ایران، یعنی بانک ملی را ضبط و تحریم می‌کند. بانک «بارکلیز» یکی از بزرگ‌ترین بانک‌های انگلستان، حساب‌های ایرانیان از جمله بانک صادرات و بانک ملی ایران را مسدود کرده است. اوایل سال 2008م. برخی از دانشگاه‌های هلند، بر طبق بخشنامه‌های وزارتخانه‌های کشوری، از پذیرش دانشجویان ایرانی به دلیل آنچه مسائل مربوط به فن‌آوری هسته‌ای خواندند؛ ممانعت کردند.   همچنین بانک‌های«لامبرت بروکسل» بلژیک و بانک «دویچ» آلمان معاملات ارزی با ایران را در سال 2008م. قطع کردند. در آوریل 2008م.، سوئیس دارایی‌های 12 شرکت ایرانی را به بهانه‌ی دستورهای تحریمی شورای امنیت سازمان ملل برضد ایران، ضبط و مصادره نمود. اتحادیه‌ی اروپا 180 شرکت تجاری و شخص ایرانی را مشمول تحریم‌های جدید بخش ترابری و انرژی کرد. شرکت‌هایی در این خصوص به فهرست تحریم‌شدگان پرونده‌ی اتمی ایران پیوستند که با شرکت‌های کشتیرانی و سپاه پاسداران انقلاب اسلامی ایران ارتباط دارند. آخرین و جدیدترین تحریم نیز، ممنوعیت خرید نفت ایران است که از اواخر بهار 1391 اعمال شده است. بر این اساس کشورهای اروپایی از خرید نفت ایران ممنوع شدند و دیگر کشورها را نیز برای کاستن از خرید نفت ایران، تحت فشار قرار می‌دهند. بدین ترتیب آمریکا و متحدانش در طول 33 سال گذشته، بارها با انواع تحریم‌ها تلاش کرده‌اند تا جمهوری اسلامی ایران را از دستیابی به اهداف سیاسی خود بازداشته و در راستای اهداف سیاسی خود آن را به راه آورده و به تغییر رابطه با غرب وادارند.  همانطور که گفته شد تحریم به مسائل هسته ای محدود نمی شود و امری باسابقه است و از ابتدای انقلاب وجود داشته است.  بنابراین همان‌طوری که مقام معظم رهبری نیز بارها تأکید فرموده‌اند، وضع تحریم علیه جمهوری اسلامی بیش از آنکه به مسائل هسته‌ای ارتباط پیدا کند، به تخاصم استکبار جهانی با انقلاب اسلامی بازمی‌گردد. حضرت آیت‌الله خامنه ای سرافرازی، روحیه استقلال طلبی، عدم تسلیم ملت ایران و اسلام خواهی را عمده دلیل مخالفت و دشمنی غربی ها با ملت ایران عنوان نمودند. * مقاومت غرب و آمریکا برای عمل به تعهدات خود لغو تحریم‌های ظالمانه آمریکا و غرب علیه ایران، از مطالبات اصلی و مهم مردم و تیم مذاکره کننده در مذاکرات وین است، اما به نظر می‌رسد آمریکا و غرب تلاش دارند بدون لغو این تحریم‌ها به توافق دست یابند.  یک منبع آگاه در باره این موضوع  و همچنین درباره وقفه ایجاد شده در مذاکرات وین به خبرنگار فارس گفت: غرب و امریکا همچنان در مقابل برداشتن همه تحریم‌ها مقاومت می‌کنند و با خواسته ایران در این باره تا این زمان موافقت نکرده اند. وی افزود: طرف مقابل در مذاکرات هسته‌ای درگذشته با برداشتن تعدادی از تحریم ها موافقت کرده، اما برخی از تحریم‌های اصلی همچنان باقی است. انتهای پیام/91\n",
      "\n",
      "\n",
      "\n",
      "\n",
      "doc id:  7406\n",
      "title:  شاید در روزهای آینده توافق هسته‌ای صورت گیرد که جای نقد دارد\n",
      "content:\n",
      "\n",
      "به گزارش خبرنگار پارلمانی خبرگزاری فارس، محمود نبویان نماینده مردم تهران در مجلس شورای اسلامی در نشست علنی صبح امروز شنبه (7 اسفند) مجلس شورای اسلامی در تذکری بیان کرد: شاید روزهای آینده قرار باشد توافق هسته‌ای انجام شود اما اگر دقت کنیم در این توافق آنچه که مطلوب نمایندگان و ملت ایران است، وجود ندارد. اگر به دولت سابق انتقاداتی داشتیم بحث هیکلی و شخصی نداشته‌ایم. وی ادامه داد: مشکلات زیادی در این توافق وجود دارد که ما باید به هوش باشیم، به طور مثال درباره لغو تحریم‌های آیسا و کاتسا مطلقا تعهد ندادند. در لیست (sdn) که لیست رفع تحریم 200 نفر مد نظر بود به 980 مورد رسید اکنون آقایان گفتند تنها تحریم 20 نفر را برمی‌دارند و بر روی همین موضوع توافق می‌کنند. نماینده مردم تهران در مجلس تأکید کرد: درباره کانورشن یعنی تبدیل ارز تعهد نداده‌اند که انجام می‌شود یعنی وقتی نفت می‌فروشیم معلوم نیست درآمدی ارزی آن را بتوانیم به دست بیاوریم. در بحث تحریم‌ها آمریکا مطلقا تعهد نداده است که از برجام خارج نشود. متأسفانه دوستان تیم قبلی مذاکرات مسئولین اصلی این مذاکرات هستند، نمی‌خواهم اسم بیاورم، ما سه گروه داریم؛ گروه تحریم، گروه هسته‌ای و گروه اجرایی. مسئولین این کمیته‌ها همانند کسانی هستند که برجام را فتح‌الفتوح می‌دانستند، باید به این مورد خیلی توجه کنیم. نبویان با تأکید بر اینکه ما می‌توانیم از طرف غربی تضمین بگیریم تا در کنگره آن را تصویب کند، گفت: شاید بگویند کنگره مخالفت کند، این در حالی است که اکثر اعضای کنگره آمریکا دموکرات هستند و بایدن هم از همین جریان است. لازم نیست که مصوبه کنگره به آن صورت باشد، ما سه نوع داریم، یک دستور اجرایی و یک دستور اجرایی کنگره‌ای داریم که برای آن رأی نصف به علاوه یک کافی است. وی افزود: متأسفانه در توافق آماده شده این موارد وجود ندارد، به جای آن که آنها به ما تضمین دهند از برجام خارج نمی‌شوند از زبان ما در این توافق آمده است که ایران می‌گوید بایدن گفته است مادامی که ایران به وظایفش عمل می‌کند، آمریکا از تعهداتش خارج نمی‌شود یعنی به جای اینکه ما از او تعهد بگیریم، از ما تعهد می‌گیرد. این نماینده مردم در مجلس یازدهم بیان داشت: درباره اجرا هم قرار بود آمریکا تحریم‌ها را لغو کند، از سوی ما راستی آزمایی شود سپس در مجلس گزارش داده شود بعدا نمایندگان اجازه توافق را بدهند که متأسفانه هیچ کدام از این مراحل وجود ندارد. آن طور که من اطلاع دارم آمده است که غربی‌ها روی کاغذ خواهند نوشت تحریم‌ها را غیب یا برداشته‌ایم و ایران باید به سمت اجرای تعهدات برود. انتهای پیام/\n",
      "\n",
      "\n",
      "\n",
      "\n",
      "doc id:  7480\n",
      "title:  نفوذی‌های بانک مرکزی و وزارت نفت اجازه رهایی از اسارت دلار را نمی‌دهند\n",
      "content:\n",
      "\n",
      "محمودرضا سجادی سفیر اسبق کشورمان در روسیه، در گفت‌وگو با خبرنگار سیاسی خبرگزاری فارس، با اشاره به مذاکرات ایران و 1+4 برای لغو تحریم‌ها و الزامات توافق نهایی، اظهار داشت: تجربه نشان داده که مسأله غربی‌ها و آمریکایی‌ها موضوع هسته‌ای ما نیست و آنها خودشان هم می‌دانند که با توجه به فتوای تاریخی مقام معظم رهبری درباره حرمت تولید، نگهداری و استفاده از سلاح‌های هسته‌ای، ما دنبال این مباحث نیستیم و اساسا خطری هم از جانب ما آنها را‌‌‌‌‌‌‌‌ تهدید نمی‌کند. وی ادامه داد: آنها از مسأله هسته‌ای صرفا به عنوان یک بهانه برای اعمال تحریم‌های شکننده علیه ما استفاده می‌کنند و امیدوارند که با این تحریم‌ها ما را‌‌‌‌‌‌‌‌ به زانو درآورند و حتی اگر موضوع هسته‌ای نیز به فرض محال برای آنها حل شود، سراغ مباحث حقوق بشری، موشکی و منطقه‌ای می‌روند. * دو مشکل ایران با آمریکا سفیر اسبق کشورمان در روسیه تصریح کرد: ما دو مشکل اساسی با آمریکا داریم؛ اول اینکه آمریکا نباید در منطقه ما حضور داشته باشد و دخالت کند و دوم اینکه رژیم صهیونیستی را فرزند نامشروع غرب در منطقه می‌دانیم که یک خطر جدی برای همه محسوب می‌شود و آنها نیز با این فشارهای به ظاهر هسته‌ای، می‌خواهند ما را‌‌‌‌‌‌‌‌ بشکنند. سجادی خاطرنشان کرد: 70 سال است که بین اعراب و اسرائیل برای بازگشت اعراب به سرزمین‌هایشان مذاکره می‌شود، اما در عمل نتیجه‌ای حاصل نشده و اگر هم نتیجه‌ای به دست آمده ناشی از مقاومت بوده است، لذا آمریکا و غرب هم از مسأله مذاکره برای فرصت خریدن و تحمیل خواسته‌های خودشان به ما استفاده می‌کنند. *  باید مکانیزمی طراحی شود که اگر تحریم‌ها برداشته نشد، طرف مقابل تنبیه شود این کارشناس مسائل بین‌الملل در ادامه، با بیان اینکه با قبول چنین واقعیتی باید به برخی نکات در مذاکره توجه کرد، اظهار داشت: نامه نمایندگان مجلس خطاب به رئیس جمهور حاوی نکات خوبی بود و باید به این مسأله توجه کرد که آن چیزهایی که ما را‌‌‌‌‌‌‌‌ به پای میز مذاکره کشانده، مدنظر داشته باشیم و از آنها عدول نکنیم؛ از جمله این نکات، ضمانت اجرایی عدم خروج از معاهده است. سجادی در توضیح این نکته گفت: در برجام ضمانت اجرایی و تنبیهی برای خروج آمریکا و غربی‌ها از برجام پیش‌بینی نشده بود و امروز باید مکانیزمی طراحی شود که اگر تحریم‌ها برداشته نشد، طرف مقابل تنبیه شود، در حالی که این مکانیزم در برجام دیده نشد و ما هیچ قرار تنبیهی نگذاشتیم و آنها هم اساسا زیر بار نمی‌رفتند. وی خاطرنشان کرد: چون در دولت گذشته عجله می‌کردند که با توافق نهایی یک پیروزی برای خودشان ثبت کنند، با هر شرطی که غربی‌ها گذاشتند، عملا کنار آمدند. * غربی‌ها در نهایت حتی یک برگ هم برای تضمین اجرای تعهداتشان نمی‌دهند سفیر اسبق کشورمان در روسیه،‌ در ادامه تصریح کرد: معتقدم امروز هم آمریکا و غربی‌ها در نهایت حتی یک برگ هم برای تضمین اجرای تعهداتشان و اثبات حسن نیت نخواهند داد، لذا راه حل نهایی این است که خودمان را‌‌‌‌‌‌‌‌ در حوزه‌های مختلف قوی کنیم. سجادی در همین رابطه به ظرفیت‌های کشورمان در سطح منطقه اشاره کرد و افزود: امروز ما در حوزه انرژی قدرت داریم و می‌توانیم با اهرم نفت و گاز مانورهای لازم را‌‌‌‌‌‌‌‌ در برابر غربی‌ها بدهیم تا بدانند که اگر بخواهند بازی دربیاورند، ما هم می‌توانیم عکس‌العمل نشان دهیم. وی به ظرفیت‌های دیگری مانند پیمان‌های پولی دوجانبه با متحدان منطقه‌ای و همسایگان اشاره کرد و گفت: دولت قبل ابدا راهکارهایی مانند انعقاد پیمان‌های پولی دوجانبه و رهایی از اسارت دلار را‌‌‌‌‌‌‌‌ دنبال نکرد و بانک مرکزی هم فقط نمایش رهایی از دلار و ارزهای غربی را‌‌‌‌‌‌‌‌ اجرا کرد و هر گروه فعال اقتصادی هم که می‌خواست کاری در این حوزه انجام دهد، با موانع آنها مواجه شد. سفیر اسبق کشورمان در روسیه اضافه کرد: به عنوان مثال، در عراق می‌توانستیم همکاری‌های پولی و بانکی خیلی خوبی را‌‌‌‌‌‌‌‌ اجرا کنیم، اما متأسفانه با سیاست‌های ناپخته بانک مرکزی این کار را‌‌‌‌‌‌‌‌ نکردیم و باعث شدیم عراقی‌ها به دام آمریکایی‌ها بیفتند. * رد پای نفوذی‌های وزارت نفت و بانک مرکزی در سلطه دلار/ لزوم خانه‌تکانی در این دو دستگاه سجادی اظهار داشت: امروز 28 کشور را‌‌‌‌‌‌‌‌ سراغ داریم که از تحریم‌های آمریکا و غرب خسارت می‌بینند و می‌توان از ظرفیت آنها برای روابط دو و چندجانبه استفاده کنیم؛ مثل چین که امروز اقتصاد دوم دنیا شده و روسیه که اقتصاد قوی و منسجمی دارد. دیگر کشورهای این مجموعه هم در حد خودشان دارای منابع و ظرفیت‌های کافی برای خنثی کردن تحریم‌های غرب هستند. وی تصریح کرد: با وجود این ظرفیت‌ها، اما متأسفانه عوامل نفوذی در وزارت نفت و بانک مرکزی اجازه نمی‌دهند این پیمان‌های پولی و مبادلات دوجانبه و چندجانبه و رهایی از سلطه دلار شکل بگیرد و تمام حرکت‌های ابداعی و خودباورانه را‌‌‌‌‌‌‌‌ سرکوب می‌کنند که امیدواریم در دولت جدید یک خانه‌تکانی جدی در این مجموعه‌ها انجام شود، هر چند که متأسفانه تاکنون انجام نشده است. این کارشناس مسائل سیاسی گفت: با 27 سال سابقه کار اجرایی، معتقدم اگر بخواهیم می‌توانیم ما هم غربی‌ها را‌‌‌‌‌‌‌‌ تحریم و تنبیه کنیم؛ چراکه منابع اولیه در شرق وجود دارد و در حوزه فناوری‌های لازم برای استفاده از این منابع نیز به ظرفیت‌های خوبی دست یافته‌ایم؛ به عنوان مثال، محصولات بیوتکنولوژی و نانوتکنولوژی ما شاخص است و دلیلی وجود ندارد که روس‌ها این محصولات را‌‌‌‌‌‌‌‌ از اروپا بخرند و یا ما هم آن را‌‌‌‌‌‌‌‌ از اروپا بخریم، لذا می‌توان با پیمان‌های دو و چندجانبه بازارهای خوبی برای این محصولات فراهم کرد. سجادی تأکید کرد: اگر رویه عوض شود و کارگزاران ناتوان که با فکرهای بسته اجازه تحول نمی‌دهند کنار گذاشته شوند، درب‌های جدیدی هم باز می‌شود. وی خاطرنشان کرد: همین الان و با وجود این تحریم‌ها، ما در جایگاه اقتصاد بیستم دنیا هستیم، لذا اگر به خودمان بیاییم و دست عوامل فاسد و واداده را‌‌‌‌‌‌‌‌ قطع کنیم، زمینه شکوفایی اقتصادی بیش از پیش فراهم می‌شود. سفیر اسبق کشورمان در روسیه در روسیه در پایان گفت: امروز مهم‌ترین وزارتخانه کشورمان وزارت نفت است که حکم فدک کشور اسلامی را‌‌‌‌‌‌‌‌ دارد، اما ما این بخش را‌‌‌‌‌‌‌‌ در اختیار بدترین ساختارهای اقتصادی و مدیریتی قرار داده‌ایم، لذا یک نوع طرح تحول مدیریتی در حوزه صنعت نفت لازم است تا از این شرایط رها شویم و در مسیر شکوفایی اقتصادی قرار بگیریم. انتهای پیام/\n",
      "\n",
      "\n",
      "\n",
      "\n",
      "doc id:  7501\n",
      "title:  رابطه راهبردی ایران و چین، مهر باطلی بر هژمونی آمریکا است\n",
      "content:\n",
      "\n",
      "به گزارش گروه سیاسی خبرگزاری فارس، احمد وحیدی وزیر کشور در نشست مشترک چانگ‌هوا سفیر چین در تهران با تاکید بر ضرورت گسترش همکاری های مختلف اقتصادی و تجاری میان دو کشور، گفت: از مواضع اصولی چین نسبت به جمهوری اسلامی ایران در سازمان های بین المللی، مقابله با تحریم‌های آمریکا و نقش مثبت آن در دفاع از انرژی صلح آمیز هسته‌ای تشکر می‌کنیم. وحیدی با تاکید بر اینکه روابط ایران و چین صرفا یک رابطه اقتصادی نیست، گفت: اراده سیاسی مسوولان جمهوری اسلامی ایران توسعه روابط دو کشور در همه زمینه ها است. وزیر کشور روابط تهران و پکن را مستحکم و راهبردی دانست و گفت: این رابطه راهبردی، مهر باطلی بر هژمونی آمریکا بر دنیا است. وی با اشاره به همکاری امنیتی ایران و چین در مبارزه با جرایم سازمان یافته فراملی، تاکید کرد: ما آماده هستیم در چارچوب همکاری امنیتی، تعامل در این زمینه را افزایش دهیم. وزیر کشور با اشاره به زمینه‌های مساعد برای همکاری دوجانبه با چین در توسعه مسایل شهری و مترو تاکید کرد که حوزه های فناوری و علمی همچون ایجاد شهر هوشمند یکی از موضوعات برای توسعه این تبادلات است. وحیدی یادآور شد: با توجه به ظرفیتی که حوزه پسماند در تولید انرژی دارد؛ می تواند زمینه و محور دیگر همکاری ها و انتقال دانش و فناوری میان دو کشور باشد. وی با اشاره به همه گیری کووید ۱۹ در جهان، تصریح کرد: مسئولیت فرماندهی قرارگاه عملیاتی مقابله با کرونا در جمهوری اسلامی ایران با وزارت کشور است و با توجه به تجربیات دو کشور در کنترل و مقابله با این بیماری، تعامل نزدیک میان تهران و پکن برای مقابله با کرونا بیش از پیش ادامه یابد. همکاری تهران و پکن در مسائل توسعه ای، دیگر محور مورد اشاره وحیدی در این نشست بود و گفت: وزارت کشور الگوی توسعه استان محور را دنبال می کند و در این راستا مایلیم از تجربیات طرف چینی استفاده کنیم. وحیدی در بخش دیگری از اظهارات خود با تاکید بر همکاری های چند جانبه منطقه ای، گفت: ایران، چین، پاکستان و افغانستان می‌توانند برنامه های مشترکی در حوزه های مختلفی همچون مسایل امنیتی و راهبردی تعریف کنند. وی همچنین خواستار توسعه روابط ایران و چین در چارچوب قرارداد ۲۵ ساله بین دو کشور شد و افزود: در صورت تحقق زمینه های لازم، آماده برقرار روابط بین استانی ایران و چین هستیم.   ** سفیر چین در تهران: اراده چین برای همکاری با ایران تغییرناپذیر است  چانگ هوا سفیر چین با ابراز امیدواری به اینکه مذاکرات وین به نتیجه خوبی برسد، تاکید کرد البته باید توجه داشت که تحریم های آمریکا برداشته شود یا نشود، اراده دولت چین برای همکاری با ایران تغییر نخواهد کرد. چانگ هوا، تماس تلفنی رئیسان جمهوری چین و ایران را نقطه عطفی در روابط دو کشور دانست و گفت: اراده چین در گسترش روابط با ایران تغییرناپذیر است. وی همچنین ایران را یکی از شرکای مهم چین در ابتکار یک کمر بند - یک جاده دانست و از آمادگی کشورش برای ارتقای همکاری ها خبر داد. دیپلمات ارشد چین در تهران به امضای تفاهم همکاری ۲۵ ساله ایران و چین هم اشاره کرد و افزود: این توافق نامه که سال گذشته به امضای طرفین رسید شامل همه بخش ها و حوزه های اقتصادی، سیاسی، فرهنگی، اجتماعی و امنیتی است. چانگ هوا اضافه کرد: در ماه گذشته وزرای خارجه دو کشور ایران و چین دیدار داشته اند و درخصوص عملیاتی شدن هر چه سریعتر  این سند همکاری رایزنی کردند. سفیر چین در تهران با اشاره به تعاملات همه جانبه دو کشور، همکاری در حوزه امنیت و انتظامی را دراز مدت توصیف کرد و گقت: ایران و چین شریک راهبردی هستند و همکاری های دو طرف در حوزه امنیت و انتظامی بخش مهمی از این روابط را تشکیل می دهد. چانگ هوا با یادآوری سند همکاری دو کشور در مبارزه با جرایم فرامرزی، تروریسم را دشمن مشترک کشورها دانست و افزود: امیدواریم همکاری در حوزه هایی چون مبارزه با تروریسم و مواد مخدر تقویت شود. وی همچنین بر علائق چین به تقویت همکاری های چند جانبه اشاره کرد و گفت: ایران و چین می توانند با کشورهای افغانستان و پاکستان در موضوعات مختلف همکاری و تعامل داشته باشند. این دیپلمات بلندپایه چینی همچنین بر ضرورت همکاری در حوزه های فرهنگی و گردشگری و مبارزه با همه گیری کووید-۱۹ تاکید کرد و یادآور شد: دو طرف در این زمینه ها از ظرفیت های بالایی برخوردارند و سفارتخانه های دو کشور می توانند این موضوعات را پیگیری کنند تا تفاهم نامه ها اجرایی شوند. همکاری در توسعه متروی تهران از دیگر محورهای مورد اشاره سفیر چین در تهران بود که گفت: در این زمینه با شهردای تهران تعامل نزدیک داریم. انتهای پیام/\n",
      "\n",
      "\n",
      "\n",
      "\n",
      "doc id:  7532\n",
      "title:  ایران همواره حامی مطالبات استقلال‌طلبانه ملت‌های آمریکای لاتین بوده است\n",
      "content:\n",
      "\n",
      "به گزارش خبرگزاری فارس، آیت‌الله سید ابراهیم رئیسی عصر امروز دوشنبه در جریان سفر به قطر و در حاشیه ششمین اجلاس سران مجمع کشورهای صادرکنندگان گاز، در دیدار «کیت راولی» نخست وزیر ترینیداد و توباگو با تمجید از روحیه استقلال‌طلبی و آزادی‌خواهی ملت‌های منطقه آمریکای لاتین اظهار داشت: جمهوری اسلامی ایران با وجود تحریم‌های گسترده و خواست دشمن برای تحت فشار قرار دادن کشورمان، توانسته در عرصه‌های مختلف از جمله صنایع نفت و گاز توانمندی‌های خوبی به دست آورد و آماده انتقال تجربیات خود به ترینیداد و توباگو انتقال هستیم. وی با اشاره به روحیه آزادی‌خواهی و استقلال‌طلبی ملت‌های منطقه آمریکا‌ی لاتین گفت: جمهوری اسلامی ایران همواره حامی مطالبات آزادی‌خواهانه و استقلال‌طلبانه همه ملت‌های جهان در برابر ظلم کشورهای استکباری بوده است. رئیس جمهور با ابراز علاقمندی کشورمان برای گسترش روابط با ترینیداد و توباگو به ویژه در عرصه بهره‌برداری از منابع نفت و گاز افزود: در دورانی که دشمن قصد داشت با تحریم و اعمال فشار صنعت نفت ایران را به تعطیلی بکشاند، وزارت نفت و فعالان بخش نفت و گاز ایران توانستند به رغم خواست دشمن به سطح بالایی از دانش و توانمندی‌های فنی دست یابند که حاصل آن بالندگی صنعت نفت و گاز کشورمان است. رئیسی با ابراز آمادگی جمهوری اسلامی برای تبادل تجربیات خود با ترینیداد و توباگو اظهار داشت: جمهوری اسلامی ایران به ویژه در دوره فعالیت دولت سیزدهم برنامه ویژه‌ای برای گسترش روابط و تعاملات اقتصادی و سیاسی با همه کشورهای دنیا از جمله کشورهای منطقه آمریکای لاتین دارد و در همین راستا علاقمندیم سطح روابط خود با کشور شما را نیز ارتقا دهیم. رئیس جمهور با اشاره به سخنان نخست وزیر ترینیداد و توباگو مبنی بر تحت تاثیر قرار گرفتن تعاملات و همکاری‌های فنی و تجاری این کشور در نتیجه تحریم‌های آمریکا علیه دیگر کشورهای منطقه آمریکا لاتین تصریح کرد: این مساله گواه ظلم و استکبار آمریکا است که حتی شامل کشورهایی می‌شود که با آن روابط عادی دارند. آیت‌الله رئیسی خاطرنشان کرد: تجربه ۴۳ ساله جمهوری اسلامی ثابت کرده است که هر کس در مقابل ظلم مقاومت و ایستادگی کند حتما می‌تواند حقوق خود را استیفا کند. کیت راولی نخست وزیر ترینیداد و توباگو نیز در این دیدار با اشاره به اینکه کشورش از حجم قابل توجهی از منابع هیدروکربونیک برخوردار است، گفت: ترینیداد و توباگو به دنبال آن است که همچون ونزوئلا و کوبا همکاری‌ها و روابط خود با جمهوری اسلامی ایران را گسترش دهد. وی افزود: ترینیداد و توباگو پس از استقلال از انگلستان، بر روی توسعه صنایع نفت و گاز خود تمرکز کرد و امروز شرکت‌های ملی نفت و گاز ما از توانمندی‌های خوبی برخوردار هستند، اما همچنان شرکت‌های بین‌المللی در صنایع نفت و گاز ما حضور موثری دارند. نخست وزیر ترینیداد و توباگو  با بیان اینکه سعی کرده‌ایم همکاری‌ها و شرکای اقتصادی خود را بیش از پیش متنوع کنیم، تصریح کرد: علاقمندیم تا از تجربیات و توانمندی‌های ایران در عرصه نفت و گاز بهره‌مند شویم. انتهای پیام/\n",
      "\n",
      "\n",
      "\n",
      "\n"
     ]
    }
   ],
   "source": [
    "search_words(prepare_query_input('تحریم های آمریکا علیه ایران'))"
   ]
  },
  {
   "cell_type": "markdown",
   "id": "0d2ed9db",
   "metadata": {},
   "source": [
    "البته کلمه علیه، به عنوان کلمات اضافی از کوئری حذف می شود، به خاطر همین ۳ کلمه ی تحریم، آمریکا و ایران در نظر گرفته شده اند"
   ]
  },
  {
   "cell_type": "markdown",
   "id": "a08e3050",
   "metadata": {},
   "source": [
    "  \n",
    "  "
   ]
  },
  {
   "cell_type": "markdown",
   "id": "8d34bdf3",
   "metadata": {},
   "source": [
    "ب) یک پرسمان با عملگر (نات، مانند تحریمهای آمریکا ! ایران ،انتظار میرود اسنادی که شامل دو کلمه\n",
    "تحریم و آمریکا هستند اما کلمهی ایران را ندارند در نتایج بازیابیشده وجود داشته باشند).\n"
   ]
  },
  {
   "cell_type": "code",
   "execution_count": 110,
   "id": "7ebf6dd5",
   "metadata": {},
   "outputs": [
    {
     "name": "stdout",
     "output_type": "stream",
     "text": [
      "We have 20 document(s) that have 2 words of the user query.\n",
      "We have 1195 document(s) that have 1 words of the user query.\n",
      "\n",
      "doc id:  4101\n",
      "title:  آمریکا میزبان جام جهانی کشتی آزاد شد/ میزبانی آذربایجان در جام جهانی کشتی فرنگی سال 2022\n",
      "content:\n",
      "\n",
      "به گزارش خبرگزاری فارس و به نقل از روابط عمومی فدراسیون کشتی، اتحادیه جهانی کشتی کشورهای میزبان جام های جهانی کشتی آزاد در سال های 2022 و 2023 میلادی و جام جهانی کشتی فرنگی در سال 2022 میلادی را مشخص کرد. بر این اساس جام جهانی کشتی آزاد در سال های 2022 و 2023 میلادی در ماه دسامبر (12 و 13 آذر 1401 و 18 و 19 آذرماه 1402 و در شهر آیوا آمریکا برگزار خواهد شد. همچنین کشور آذربایجان میزبان جام جهانی کشتی فرنگی در سال 2022 میلادی شد که این رقابت ها روزهای 19 و 20 نوامبر (28 و 29 آبان 1401) در شهر باکو برگزار خواهد شد.  *تورنمنت های رنکینگ دار مشخص شدند  اتحادیه جهانی 4 تورنمنت بین المللی را بعنوان تورنمنت رنکینگ این اتحادیه مشخص کرد. بر این اساس میزبانان و تاریخ برگزاری مسابقات بین المللی (آزاد، فرنگی، زنان) رنکینگ اتحادیه جهانی در سال 2022 که بر اساس آن، کشتی گیران امتیازات لازم برای سیدبندی در رقابت های جهانی و المپیک و همچنین مشخص شدن برترین کشتی گیران سال را بدست می آورند به شرح زیر است: 1- رقابت های جام یاشاردوغو، وهبی امره و حامیت کاپلان ترکیه (5 تا 8 اسفندماه 1400) 2- رقابت های بین المللی قزاقستان (12 تا 15 خرداد 1401) 3- رقابت های متئو پلیکونه ایتالیا (1 تا 4 تیرماه 1401) 4- رقابت های بین المللی تونس (23 تا 26 تیرماه 1401) همچنین رقابت های قاره ای، جهانی و المپیک نیز بعنوان رنکینگ اتحادیه جهانی برای مشخص شدن ورزشکار برتر محسوب می شوند. امتیازات چهار تورنمنت بین المللی و مسابقات قاره ای نیز در رنکینگ کشتی گیران برای سیدبندی مسابقات جهانی استفاده می شود. انتهای پیام/\n",
      "\n",
      "\n",
      "\n",
      "\n",
      "doc id:  8202\n",
      "title:  مردم ما در دهه فجر نشان می‌دهند پای آرمان‌های خود ایستاده‌اند\n",
      "content:\n",
      "\n",
      "به گزارش خبرنگار سیاسی خبرگزاری فارس، سید محمد حسینی معاون پارلمانی رئیس جمهور در حاشیه نشست اعضای ستاد مرکزی دهه فجر با نمایندگان مجلس گفت: پیروزی انقلاب اسلامی نقطه عطف و سرآغاز دوران جدیدی در تاریخ منطقه و جهان است، انقلاب اسلامی با حضور پررنگ و ایثارگری های مردم به پیروزی رسید و موجب ریشه‌کن شدن استعمار و سلطه‌گری در کشور ما شد. حسینی تاکید کرد: پس از گذشت چهار دهه با همه مشکلات و تحریم‌ها بر اقتدار این انقلاب افزوده شده و تلاش‌های غرب و هم‌پیمانان منطقه‌ای و داخلی آنها برای شکست یا تغییر ماهیت انقلاب اسلامی، با هوشیاری ملت و تدابیر رهبر معظم انقلاب بی‌نتیجه مانده است. حسینی در ادامه با اشاره به آغاز کار پویش « پرچم افتخار» از سوی پایگاه اطلاع رسانی دفتر حفظ و نشر آثار رهبر معظم انقلاب، گفت: در آستانه چهل و سومین سالگرد پیروزی انقلاب اسلامی مردم انقلابی ما با شور انقلابی خود نشان خواهند داد که پای آرمان‌های خود ایستاده اند. انتهای پیام/\n",
      "\n",
      "\n",
      "\n",
      "\n",
      "doc id:  8208\n",
      "title:  لغو تحریم‌ها تنها ضرورت احیای برجام است\n",
      "content:\n",
      "\n",
      "به گزارش خبرگزاری فارس به نقل از خانه ملت، سیداحمد رسولی نژاد در نشست علنی صبح امروز (یکشنبه، 10 بهمن ماه) مجلس شورای اسلامی در نطق میان دستور خود ضمن تبریک فرا رسیدن ماه رجب و دهه فجر، با بیان اینکه سیاست های منطقه ای آیت الله رئیسی سرآغاز خوبی برای خنثی سازی تحریم ها بود، گفت: توسعه روابط با کشورهای همسایه، اقدامی راهبردی است که انتظار می رود دولت با جدیت تمام نسبت به توسعه روابط تجاری، اقتصادی و سیاسی خود با آنها اهتمام داشته باشد. نماینده مردم دماوند و فیروزکوه در مجلس شورای اسلامی با بیان اینکه اگر دولت گذشته نسبت به اجرای قانون راهبردی مجلس در لغو تحریم ها باور داشت، مذاکرات با کشورهای اروپایی، چین و روسیه سریع تر به نتیجه می رسید، عنوان کرد: دولت قبل با بی تدبیری تمام و وادادگی در سیاست خارجی، با برجام نافرجام، ظرفیت های درونی کشور را به گروگان سیاست های سلطه جویانه آمریکا سپرد. وی ادامه داد: امروز دولت رئیسی با فهم درست نسبت به ضرورت لغو تحریم ها، جهت مذاکرات هسته ای پی برده که انتظار می رود با قاطعیت نسبت به اجرای مصوبه راهبردی مجلس اقدام شود و تضمین های لازم و لغو تحریم ها را تنها ضرورت احیای برجام بداند. رسولی نژاد افزود: گره نزدن اقتصاد کشور به برجام قدم درستی بود که در بودجه 1401 برداشته شد، اما آنچه موجب نگرانی است این است که بدون توجه به شرایط خاص اقتصادی کشور با افزایش سقف بودجه و ایجاد تعهدات جدید برای دولت، سیاست مهار تورم و کاهش رشد نقدینگی بی اثر شود. این نماینده مردم در مجلس یازدهم اضافه کرد: امروز وظیفه همه ما اعم از مجلس و دولت، مهار تورم و فشارهای سنگین اقتصادی و معیشتی بر مردم عزیز است. سیاست های جبران اصلاح نرخ ارز ترجیحی باید به گونه ای باشد که قدرت خرید مردم حفظ شده و این نیازمند برنامه منظم در سیاست های بازتوزیعی دولت است. وی در ادامه با اشاره به نگرانی مجلس عنوان کرد: تا کنون برنامه جامعی برای افزایش قدرت خرید مردم ارائه نشده در حالی که نظام بازتوزیع درآمد حاصل از اصلاح نرخ ارز باید به گونه ای باشد که تولیدکنندگان و مصرف کنندگان دچار آسیب نشوند. سیاست های غلط اقتصادی دولت های گذشته به ویژه 8 سال قبل، سبب سقوط شدید ارزش پول ملی، رشد سرسام آور نقدینگی کشور و هم زمان تورم افسارگسیخته و رکود اقتصادی شد و طبیعی است این دولت راه دشوار و سختی برای جبران سیاست های غلط گذشته دارد. رسولی نژاد افزود: عدم تعهد دولت های یازدهم و دوازدهم در تأمین مسکن مورد نیاز جوانان، حجم انبوه تقاضا را شکل داده و این دولت راه سختی در جبران بی تعهدی دولت گذشته پیش رو دارد و سیاست جسورانه دولت سیزدهم در هدفگذاری 4 میلیون واحد مسکونی در 4 سال نشان از شناخت دقیق شرایط کشور است و مصوبه مجلس در راستای جهش تولید مسکن، ظرفیت بزرگی برای تحقق این شعار فراهم کرده است. عضو مجمع نمایندگان استان تهران در ادامه با بیان اینکه ضروری است با هماهنگی دولت و مجلس، لایحه رتبه بندی معلمان در اسرع وقت اجرایی شود، عنوان کرد: مجلس معتقد است این اقدام از ضروریات حمایت از مقام معلم و جهت گیری صحیح برای حرکت جامعه به سوی پاسداشت مقام علم و دانش است. وی در ادامه با اشاره به این مطلب که نظام عادلانه و یکپارچه حقوق و دستمزد در کشور، کاهش فاصله میان حداقل و حداکثر حقوق دریافتی، رفع تبعیض میان دریافتی دستگاه های مختلف، وزارتخانه ها، دستگاه های اجرایی و شرکت های دولتی در اسرع وقت مورد انتظار است، گفت: دولت با فوریت در این خصوص لایحه جامع و کاملی به مجلس بدهد. نایب رئیس کمیسیون صنایع و معادن مجلس شورای اسلامی در پایان ضمن تشکر از اقدامات بسیار موثر و موفق دولت رئیسی در مقابله با شیوع کرونا، گفت: علیرغم تذکرات درباره شیوع اومیکرون، متأسفانه برنامه مشخصی در این خصوص از سوی ستاد ملی مقابله با کرونا داده نشد که قدری عقب افتادگی احساس می شود. با توجه به گستردگی این بیماری به نظر می رسد باید نسبت به تصمیم قبلی بر مبنی بر بازگشایی مدارس و دانشگاه ها بررسی مجدد شده و بنا به شرایط موجود و پیش بینی های هفته آینده، تصمیم جدید گرفته شود. انتهای پیام/\n",
      "\n",
      "\n",
      "\n",
      "\n",
      "doc id:  10258\n",
      "title:  همایش « انحراف پول» | مسائل اقتصادی قابل حل است/ ۷۵ درصد سپرده‌ها متعلق به ۴ درصد افراد است\n",
      "content:\n",
      "\n",
      "به گزارش خبرنگار تشکل‌های خبرگزاری فارس، همایش « انحراف پول» به همت مرکز مطالعات اقتصادی بسیج دانشجویی علم‌وصنعت به مناسبت روز دانشجو با حضور میثم خسروی اقتصاددان و مسئول گروه پول و بانک مرکز پژوهش های مجلس، محمد امینی رعیا اقتصاددان و مدیر اندیشکده اقتصاد مقاومتی، آرش کبیری حقوقدان و موسس پویش حذف ربا و رسول قهرمانی نماینده دادستان در مبارزه با مفاسد اقتصادی برگزار شد. امینی رعایا: قدرت خلق پول در خدمت تقویت بانک هاست نه رشد اقتصاد! محمد امینی رعیا اقتصاددان و مدیر اندیشکده اقتصاد مقاومتی در این مراسم گفت: خلق پول یک حق عمومی دراختیار بانک ها برای رشد و گسترش اقتصاد است اما بانک ها از این قدرت در راه افزایش قدرت خود استفاده کردند.      وی افزود: بانک‌ها از این حق برای افزایش سهم خود استفاده می کنند، و جای اینکه کیک اقتصاد بزرگ شود سهم یک عده از این کیک بیشتر می شود. اکنون این حق در خدمت رشد و گسترش اقتصاد نیست و به انحراف کشیده شده است. رعایا تصریح کرد: یکی از ریشه انحرافات این است که  پول، تسهیلات و اعتبارات در اقتصاد غیرمولد خرج می شود.  وی تاکید کرد: یکی از راه های مقابله شفافیت ضابطه مندی و جهت دهی این امر در مسیر رشد اقتصاد است. رعایا در بخش دیگری افزود: دو دیدگاه در این زمینه وجود دارد بانک درخدمت بانک و دیگری بانک درخدمت تولید. بانک یک ابزار برای رشد اقتصاد است بانک به تنهایی اصالتی ندارد و وجود آن برای کمک به تولید است درواقع درخدمت آن باید باشد. وی گفت: چرا باید بانک سرخود تصمیم بگیرد که در بازار ارز و سکه و مسکن ورود و با سرمایه گذاری کسب سود کند. درواقع بانک ذی نفع اصلی بازار ملک و ارز است پس هدف اصلی تولید چه شد؟ رعایا گفت:  باید جلوی این اشتباهات و انحرافات گرفته شود. بانک‌ها باید مخصوصا در این دولت که آقای رییسی شعارش بانک مانع تولید بوده و باید در خدمت تولید شود رویکرد خود را عوض کنند و به رسالت اصلی خود بپردازند. خسروی: ۷۵ درصد سپرده‌ها متعلق به ۴ درصد افراد است/ واگذاری سهام شرکت‌های زیرمجموعه بانک ها راهکار خوبی برای حل مشکل نیست میثم خسروی اقتصاددان و مسئول گروه پول و بانک مرکز پژوهش های مجلس هم گفت: بررسی مکانیزم های خلق پول بانک در اقتصاد می تواند انحرافات پول را نشان دهد. پرداخت سود سپرده، تسهیلات، تملک دارایی‌ها و ... توسط بانک ها با خلق پول صورت می گیرد. وی افزود: برای جلوگیری از انحراف پول در مرحله اول مکانیزم های خلق پول باید کنترل شود. حقوق های نجومی مهم هستند اما مسئله اصلی نیستند.      خسروی تصریح کرد: حدود ۷۵% سپرده ها متعلق به ۴% سپرده گذاران است و که باعث ایجاد ثروت برای آن ۴% و افزایش شدید نابرابری می شود.  مسئول گروه پول و بانک مرکز پژوهش های مجلس گفت: نابرابری و ناکارآمدی اصلی ترین مشکل پرداخت تسهیلات بوده است. دهک ده، ۹ برابر دهک اول تسهیلات دریافت کرده و یا مثلا بانک ها تمام تسهیلاتی که پرداخت می کنند به شرکت های زیرمجموعه خودشان پرداخت می شود. وی افزود: تسهیلات در لحظه پرداخت قابل هدایت است اما پس از پرداخت، به تصمیم سرمایه گذار بستگی دارد. خسروی ادامه داد: اساسا تاسیس بانک های مرکزی برای نظارت بر کمیت و کیفیت خلق پول بانکی است اما در کشور ما ما عملا گامی در اجرای این هدف برنداشته است. تقویت بانک مرکزی از راهبردهای حل مشکل است. خسروی در بخش دیگری از سخنانش گفت: کسب و کار بانک‌ها باید سودآور معقول باشد. در حال حاضر کسب و کار پرداخت وام و سود سپرده سودآور نیست و موجبات بروز درآمدهای غیرمولد را فراهم می کند. وی افزود:  به علت وجود تورم سنگین، بانک‌ها به جای این که تسهیلات بپردازند و فردی که تسهیلات را دریافت کرده برود دارایی بخرد خودشان می‌روند این کار را انجام میدهد که درست نیست اما به علت سیاست ها و فضای اشتباه حاکم بر اقتصاد این پدیده رخ می دهد. خسروی تاکید کرد: در این شرایط فساد و رانت هم رخ می دهد چون تنها افرادی که رانت دارند تسهیلات دریافت میکنند و انحراف پول رخ می دهد. وی ادامه داد: ایراداتی در اقتصاد ما پدیدار شده که در نظام حکمرانی مالی تعریف نشده و ما برای حل مشکلات کشور در مرحله اول این ایرادات را باید رفع کنیم. خسروی گفت: برای حل مشکلات شرکت های زیرمجموعه بانک ها یک راهکار افراطی در کشور اتخاذ شد که آن واگذاری اموال و سهام شرکت های زیرمجموعه در بانک ها بود که اصلا راه حل خوبی نبود. کبیری: پول اعتباری به شیوه موجود، خلاف شرع و قانون است  آرش کبیری حقوقدان و موسس پویش حذف ربا هم گفت:  اساسا پول اعتباری به شیوه موجود و خلق آن خلاف شرع و قانون اساسی است. طبق قانون، باید هر یک گرم طلا، معادل مقدار مشخص و ثابتی از ریال باشد. وی افزود: بانک ها به جای بررسی صلاحیت افراد برای پرداخت تسهیلات، به وثیقه‌ها اکتفا کرده‌اند و عملا صلاحیت فرد در بررسی یک پروژه مورد بررسی قرار نمی گیرد.      کبیری ادامه داد: اگر شما یک میلیارد از بانک ها بگیرید و نتوانید سود آن مبلغ را پس دهید عملا پس از ده سال ۱۶ میلیارد تومان باید بازگردانید. وی افزود: بانک ها از این موضوع برای درآمدزایی خود استفاده می کنند و از این روش روزانه بهره می‌برند. قهرمانی: در بدبینانه‌ترین حالت ۶۰ درصد اقتصاد قابل حل است رسول قهرمانی نماینده دادستان در مبارزه با مفاسد اقتصادی هم گفت: بانک ها بخش اعظم تسهیلات را در خرید مسکن و بنگاه داری خرج می کنند در واقع بعد از افزایش تقاضای مسکن و بالطبع بالا رفتن قیمت آن، بعد از دو سه سال بانک با تجدید ارزیابی قیمت مسکن ۳۰۰ درصد سود شناسایی و کسب می‌کند! این فعالیت های سوداگرایانه در بازار مسکن سکه و ارز موجب نتایج مخرب می‌شود. وی افزود: سود ۲۴ درصدی که بانک ها از ارائه تسهیلات می گیرند در این شرایط تحریم منطقی نیست در حالیکه با ترفندهایی عملا به ۳۵% سود می‌رسد.      قهرمانی ادامه داد: در شورای عالی پول و اعتبار، سیاستی وجود داشت که بانک‌ها موظف بودند تسهیلات خود را بطور منطقی میان بخش های کشاورزی صنعت بازرگانی و ... اختصاص دهند ولی این ساختار از بین رفت. وی افزود: اکنون حدود ۵۰% تسهیلات در بخش بازرگانی است درحالیکه بخش‌های مولد مثل کشاورزی و صنعت تنها به‌ترتیب ۷% و ۱۷ % سهم دارند! همین ها هم به اسم کشاورزی و صنعت تسهیلات را در جای دیگر خرج می‌کنند. وی افزود: همه این مسائل قابل حل است شاه کلید این موضوع مدیریت هوشمند کشور است. بنده اعتقاد دارم در بدبینانه ترین حالت ۶۰ درصد اقتصاد درست می شود. قهرمانی گفت: دولت ما همیشه بدنبال سمّت دادن مدیران نخبه است درحالی که در بستر بد این ساختار این مدیر خوب هم ناتوان و ناامید میشود. باید ساختارها اصلاح شود. وی تاکید کرد: اگه درلحظه حساب های بانکی بررسی شوند و موجودی آن ها و رشد و کاهش آن پردازش گردد و با سامانه بانکی و سامانه مالیات با هم متصل شوند جلوی ناهنجاری ها و فرارهای مالیاتی گرفته می‌شود ولی ساختار کنونی آن قدر این چرخه طولانی است که یکسال از شناسایی می‌گذرد زمانی که قضیه تمام شده! قهرمانی تصریح کرد: باید شرکت ها رتبه بندی اعتباری الکترونیک گردد سامانه بانکی و مالیاتی باهم در تعامل باشند، صورت مالی شرکت ها بررسی شود و تعامل بانک ها، دریافت کنندگان تسهیلات در بستر یک سامانه هوشمند باشد. این مهم بخش مهمی از مشکلات ما را حل میکند. انتهای پیام/\n",
      "\n",
      "\n",
      "\n",
      "\n",
      "doc id:  6163\n",
      "title:  تعلیق دوباره در انتظار وزنه‌برداری مصر\n",
      "content:\n",
      "\n",
      "به گزارش خبرگزاری فارس، مصر بعد از تعلیق بحث‌برانگیز 2 ساله به مسابقات جهانی وزنه‌برداری بازگشت اما حالا به دلیل دوپینگی که 2 سال و نیم پیش مشخص شده با محرومیت دیگری روبه‌روست. آژانس بین‌المللی تست (ITA) که کارهای اخذ نمونه‌های دوپینگ فدراسیون جهانی وزنه‌برداری را انجام می‌دهد، تاکید تست دوپینگ 6 وزنه‌بردار مصری در جریان بازی‌های آفریقایی 2019 که در مراکش برگزار شد، مثبت شده است. به محض اینکه این اتفاق بیفتد و تحریم‌ها اجرایی شود، فدراسیون وزنه‌برداری مصر بار دیگر در معرض تعلیق قرار می‌گیرد. وزنه‌برداری جزو رشته‌های موفق مصر محسوب می‌شود اما حالا با مشکل جدی به نام دوپینگ روبه روست. در طول تعلیق دو ساله که اوایل ماه جاری به پایان رسید، یک تحقیق دولتی صورت گرفت، فعالیت فدراسیون ملی متوقف شد و دو مربی برای مدت کوتاهی زندانی شدند اما ورزشکاران در ازبکستان تمرین کردند و عملکرد خوبی داشتند. هنوز اسامی ورزشکاران دوپینگی به طور رسمی اعلام نشده است. براساس اعلام فدراسیون جهانی، کشورهایی که 2 مورد یا بیشتر نمونه مثبت دوپینگ داشته باشند به مدت 2 سال تعلیق می‌شوند. انتهای پیام/\n",
      "\n",
      "\n",
      "\n",
      "\n"
     ]
    }
   ],
   "source": [
    "complete_search(complete_search_preprocess('تحریم های آمریکا ! ایران'))"
   ]
  },
  {
   "cell_type": "markdown",
   "id": "6a81ec95",
   "metadata": {},
   "source": [
    "پ) یک پرسمان با عملگر عبارت (مانند \"کنگره ضدتروریست\" ،انتظار میرود اسنادی که شامل عبارت کنگره\n",
    "ضدتروریست در نتایج بازیابی شده وجود داشته باشند؛ بعبارت دیگر موقیت مکانی کلمات در این حالت مهم\n",
    "است)."
   ]
  },
  {
   "cell_type": "code",
   "execution_count": 111,
   "id": "17741db7",
   "metadata": {},
   "outputs": [
    {
     "name": "stdout",
     "output_type": "stream",
     "text": [
      "We have 101 document(s) that have 1 words of the user query.\n",
      "\n",
      "doc id:  8707\n",
      "title:  نباید مانند دولت گذشته در مذاکرات افراط کرد/ «توافق موقت» راهبرد اصلی غرب و آمریکا در وین\n",
      "content:\n",
      "\n",
      "گروه سیاسی خبرگزاری فارس- حمید بوجاریان: ابوالفضل ظهره‌وند سفیر سابق کشورمان در ایتالیا بوده است. او با تحلیل وضعیت پیش‌روی مذاکرات وین، می‌گوید، همانطور که ما بر روی مواضع ملی و به حق خود ایستادگی می کنیم، طرف‌های غربی تلاش دارند در بازگشت به برجام، کم‌ترین هزینه ممکن را بپردازند. ظهره‌وند، غربی‌ها را نیازمند رسیدن به توافق می‌داند و معتقد است، تنها پلی که غرب و آمریکا برای ماندن در منطقه در اختیار دارند برجام است و اگر برجام به نتیجه نرسید این کشورها باید از منطقه خداحافظی کرده و آن را به شکل کامل ترک کنند، اتفاقی که پروژه های سنگین آمریکا در منطقه را با خطر رو به رو می کند. گفت و گوی فارس با این دیپلمات سابق را در ادامه بخوانید.      توافق موقت جان مایه راهبرد طرف غربی و آمریکایی در مذاکرات وین آقای ظهره‌وند همانطور که می‌دانید مذاکرات لغو تحریم ادامه دارد و طرف غربی با وجود ادعای خود در سرعت دادن به مذاکرات و رسیدن به توافق، اقدامی برای تحقق آن انجام نمی‌دهد، چرا تفاوت در گفتار و عمل طرف‌های غربی حاضر در مذاکرات تا این اندازه زیاد است؟ ظهره‌وند: موضوع توافق موقت جان مایه راهبرد طرف غربی و آمریکایی  در مذاکرات وین است. آن‌ها علاقه ندارند که موضوع برجام و مسئله هسته‌‌ای ایران را با نگاه کارشناسی حل و فصل کنند. بهانه‌هایی هم  از جمله در دادن تضمین‌های مورد انتظار ایران دارند تا این روند به شکل طبیعی و کارشناسی شده به سرانجام نرسد. درهر توافقی نیاز به ارایه تضمین برای عمل به توافق از سوی مذاکره کنندگان وجود دارد اما، آمریکایی‌ها برای ندادن تضمین در مذاکرات لغو تحریم‌ها، انتخابات سال آینده آمریکا را بهانه می‌کنند. واقعیت این است که آمریکایی‌ها و طرف‌های غربی موضوع برجام را یک پروژه و نه یک توافق سیاسی می‌بینند و حاضر نیستند به عنوان نقطه حل و فصل شده مسئله‌شان با ایران بپذیرند. می‌خواهند قدرت دفاعی و حضور منطقه‌ای ایران را محدود کنند یعنی معتقد هستید در مذاکرات وین، غربی‌ها دنبال موضوعی جز لغو تحریم‌ها هستند؟ ظهره‌وند: طرف‌های غربی مذاکرات برجام به دنبال اهداف دیگری جز لغو تحریم‌ها هستند. آن‌ها دنبال این هستند که از برجام، پلی به دیگر ظرفیت‌های ما بزنند. یعنی  دنبال آن هستند که هم ظرفیت هسته‌ای ما را ساقط کنند و هم دستیابی به سایر ظرفیت‌های ملی ما که بقا و دورنمای توسعه و رشد ایران را در خود دارد دنبال می‌کنند. علاوه بر این، آن‌ها می‌کوشند در این فرایند، هم قدرت دفاعی و هم حضور و توسعه منطقه‌ای ما را با هدف مهار و کنترل قدرت ایران هدف قرار دهند تا نهایتا تسلیم‌سازی ایران در برجام اتفاق بیفتد. بنابراین تیم مذاکره کننده هسته‌ای باید به این مسئله توجه کند و برای مقابله با آن برنامه داشته باشد. برای همین است که توافق موقت جان مایه خواسته‌های طرف غربی و اراده او برای احیای برجام و خصوصا فراهم کردم زمینه‌ای برای بازگرداندن ایران به موقعیت 8 سال قبل خود و جدا کردن پیشرفت های ایران و بازگشت ایالات متحده به داخل برجام است. مکانیسم ماشه با بازگشت آمریکا به برجام فعال می‌شود چرا غربی‌‌ها اصرار دارند که آمریکایی‌ها به برجام بازگردد؟ ظهره وند: عملی شدن مکانیسم ماشه تنها در صورت بازگشت آمریکایی‌ها به برجام قابل انجام است. یک سر توافق تامین مطالبات ایران و در مقابل آن، بازگشت آمریکا به برجام است. پذیرش این وضعیت یعنی دور جدیدی از تداوم فشارها و مشروعیت یافتن تحریم‌ها و اینکه ایران باید در چنین زمینی بازی را ادامه دهد تا غربی‌ها بتوانند برجام یک، دو، سه و چهار را دنبال کنند. ترامپ امنیت ملی آمریکا را با با خروج از برجام به خطر انداخت به نظر می‌رسد طرف‌های غربی عجله زیادی برای رسیدن به توافق با ایران دارند. دلیل این عجله چیست؟ ظهره وند: ترامپ ضربه اساسی را به استراتژی آمریکا در برجام زد. برای همین است که شاهد هستیم سخنگوی وزارت امور خارجه آمریکا ترامپ را به دلیل خروج از برجام محکوم می کند. این محکومیت با 2 انگیزه رخ داده است.      یکی به این دلیل که ترامپ منافع امنیت ملی آمریکا را با بر هم زدن استراتژی این کشور در برجام به خطر انداخته است و دوم اینکه ، به موقعیت جمهوریخواهان در رقابت های انتخاباتی سال 2022  ضربه وارد کند. براساس نظرسنجی‌هایی که در آمریکا انجام شده است، میزان محبوبیت بایدن به 30 درصد کاهش یافته است و این موضوع دورنمای موفقیت دموکرات‌ها را در انتخابات آینده آمریکا تضعیف می‌کند و این نوید را به بخشی از آمریکایی‌ها می‌دهد که دوران ترامپیسم در حال احیا شدن درآمریکا است. وقوع چنین اتفاقی در ایالات متحده، منجر به دو قطبی شدن آمریکا و در نهایت فروپاشی آن خواهد شد. بنابراین ما باید بدانیم که مذاکرات پیش‌رو چه دورنمایی دارد و چه دستاوردهایی می‌تواند برای ما داشته باشد. غربی‌ها مدعی هستند ایران بیشتر از غرب به توافق نیاز دارد. برخی نیز همین خط را در داخل ترویج می‌کنند. آیا این ایران است که به توافق نیاز دارد یا غربی‌ها؟ ظهره وند: تحریم‌ها باید برای ما به شکل فرصت دیده شود. اگر قرار است حل و فصل مسائل خود را از طریق آمریکایی‌ها دنبال کنیم، فرجامی برای ما ندارد. اما چرا داریم مذاکره می‌کنیم؟ چون عضوی ازجامعه بین‌الملل هستیم و گریزی از مذاکره کردن نداریم. اتفاقا در جریان مذاکرات، ما دست بالا را داریم. ما هستیم که یک سال بعد از خروج ترامپ پایبند به توافق‌نامه سیاسی برجام بودیم و پای آن ایستادیم. این طرف مقابل بود که از برجام خارج شد و به تعهداتش عمل نکرد.ما باید از فرصت مذاکره در این دوران استفاده می‌کردیم و پیام تفکرشهید سلیمانی، انقلاب اسلامی و در کنار آن بد‌عهدی و کج فهمی غربی‌ها را در اثنای مذاکرات به بیرون منعکس می‌کردیم. نیازمند رسیدن به توافق به هر قیمتی نیستیم  متاسفانه ما تحرک رسانه‌ای برای تبیین این موضوع نداشتیم. مذاکرات دور هفتم و هشتم فرصت طلایی برای ما بود که نشان دهیم غربی‌ها چقدر غیرقابل اعتماد، زیاده خواه و بدعهد هستند و این هم برای محیط بین‌الملل و هم در داخل برای ما مهم بود که این فرصت را به راحتی از دست دادیم. برخی تصور می‌کنند برای حل و فصل مسایل کشور و گرفتاری و کمبود بودجه ما نیازمند رسیدن به توافق و رفع مشکل برجام هستیم. غربی‌ها هم از این فرصت استفاده کرده و دارند همین خط را دنبال می‌کنند و مدعی هستند اگر ایران می‌خواهد مشکلات اقتصادی و داخلی خود را برطرف کند باید تن به خواسته‌های آنان بدهد. خروجی توافق مهم است و اینکه چه چیزی در توافق به ما می‌رسد تیم مذاکره کننده هسته‌ای اعلام کرده بود که با هدف لغو همه تحریم‌ها به وین می‌رود. همزمان برخی رسانه‌ها سعی دارند بحث توافق موقت را پیش بکشند. به نظر شما چنین توافقی می تواند منافع ایران را تأمین کند؟ ظهره وند: ما باید با شناخت طرف مقابلمان مسیر مذاکرات را دنبال کنیم. سر میز مذاکره باید حتما مطالبات ما حداکثری باشد. یک فروشنده سعی دارد بالاترین قیمت را برای فروش محصول خود اعمال کند و یک خریدار هم در تلاش است با کمترین قیمت خرید خود را انجام دهد. ایرادی ندارد که بگوییم همه تحریم‌ها باید لغو شود اما، واقعیت این است که همه تحریم‌ها لغو نمی‌شود.      حتی اگر لغو موقت هم نتیجه نهایی مذاکرات باشد، لغو همه تحریم‌ها شدنی نیست. حتی در برجام نیز لغو همه تحریم‌ها انجام نشد. تحریم‌‌هایی که آمریکا بر علیه ایران وضع کرده است، یک مجموعه درهم تنیده و مهندسی شده است که حتی در دوره بایدن نیز آن را رشد داده و به هم مرتبط کرده‌اند. تحریم‌ها مانند ساختمان است و اگر ستون این ساختمان را مسایل هسته‌ای بدانیم، سایر تحریم‌های آمریکا در حوزه‌های گوناگون فروخواهد ریخت. آمریکایی‌ها، تمام بضاعت و سرمایه خود را در وزارت خزانه‌داری خود تعریف کرده‌اند. قدرت تروریستی داعش آن‌ها در منطقه از بین رفته است و قدرت نظامی آنان هم رو به افول است. اگر این واقعیت را بتوانیم به افکار عمومی خودمان منتقل کنیم، مردم در قابل مذاکرات و نتایج شرطی نخواهند شد.  در همه حال، خروجی توافق مهم است و اینکه چه چیزی در توافق به ما می‌رسد. لغو همه تحریم‌ها از سوی آمریکایی‌ها پذیرفته نمی شود. مشاهده می‌کنیم که آمریکایی‌ها برای فشار وارد کردن به ما از فشار جمهوریخواهان در کنگره استفاده کردند و گفتند که 100 نماینده اعلام کردند که باید از توافق بیرون برود. مسایل سیاست خارجی یک کل در هم تنیده برخی معتقدند که آمریکایی‌ها فراتر از برجام، اهداف دیگری را در منطقه دنبال می کنند و راه ورود آمریکا به منطقه از برجام می گذرد. چطور این موضوع را تحلیل می کنید؟ ظهره‌وند: آمریکایی‌ها نیاز به برجام، خرید زمان و نیز استفاده از مذاکرات هسته‌ای برای رسیدن به مذاکرات جامع دارند تا از طریق ادامه این مذاکرات به شورش های منطقه ای برسند. ویلیام برنز در حال طراحی است که کل منطقه را هدف قرار دهد تا از این طریق معادلات منطقه‌ای را به نفع خود و به ضرر کشورهای منطقه تغییر دهند. ما نمی‌توانیم به شکل مجزا مسایل سیاست خارجی را دنبال کنیم. مسایل سیاست خارجی یک کل در هم تنیده و به هم پیوسته است.  اروپایی‌ها مدام از آخرین فرصت ایران برای رسیدن به توافق سخن می‌گویند. نقش آ‌ن‌ها در برجام با توجه به اینکه هنوز در این توافق هستند اما عملا از آن پیروی نمی‌کنند چیست؟ ظهره‌وند: اروپایی‌ها در خلال 6 سال گذشته نشان دادند هیچ عددی نیستند. کشورهای اروپایی نشان دادند تنها نقشی که در برجام ایفا می‌کنند نقش دورچین و تسهیل‌کننده منافع آمریکا است. منافع اروپایی‌ها ذیل منافع آمریکا تعریف می‌شود      منافع اروپایی‌ها ذیل منافع آمریکا تعریف می‌شود و آنان از خود اراده‌ای ندارند. تا آمریکایی‌ها برجام و توافقات خود را نپذیرند و به آن عمل نکنند، اتفاقی رخ نمی‌دهد. آنچه الان می‌گوییم تحریم، تحریم‌های در واقع غیرقانونی و نه ظالمانه است.چرا می‌گوییم تحریم‌های غیرقانونی؛ چون آمریکایی‌ها ازطریق تحریم‌های ثانویه دارند ایران را تحریم می‌کنند.  آمریکایی‌ها در این قالب، قوانین داخلی خود را به قوانین بین‌الملل تحمیل می‌کنند و اگر کسی بخواهد با ما وارد معامله شود تحت تاثیر قوانین داخلی آمریکا قرار می‌گیرد و تحریم می‌شود که این رویه و اقدام غیرقانونی است. ازسوی دیگر، این آمریکایی‌ها و اروپایی‌ها هستند که همه عرصه های بازی را در منطقه واگذار کرده اند و الان تنها پلی که برای بازگشت به زمین بازی دارند، پل فعالیت‌های هسته‌ای ایران و برجام است و کاپیتان این بازی هم آمریکا است. آن ها دنبال احیای برجام هستند تا به این زمین باز گردند. اما عملا افکار عمومی در جهان نگاه دیگری به موضوع برجام دارد و تصور می‌کند ایران است که از برجام خارج شده است. ما در رسانه باید بگوییم و تیم مذاکره کننده در وین باید مصاحبه کند و دائما این را بیان کند در برجام سرمان کلاه رفت. بدعهدی دیدم و چک برگشتی گرفتیم. ازسوی دیگر، ما مسئول احیای برجام نیستیم و کسی که زیر میز زده است باید به این برجام کپسول اکسیژن وصل کند و به آن تنفس مصنوعی بدهد. در حوزه رسانه‌ای خیلی غفلت کرده‌ایم و باید این غفلت را به سرعت جبران کنیم. ما در این حوزه، استراتژی رسانه‌ای نداریم. اگر ما می‌دانستیم در پس ذهن دشمن چیست اینطور نمی شد. این دشمن شناسی است که ما را سر میز مذاکره جلو می برد و به موفقیت می‌رساند. با این وضعیت چرا اصرار دارند که به زمین بازی منطقه برگردند؟ ظهره‌وند: آن‌ها در منطقه ما منافع زیادی دارند. پروژه شورش‌های اجتماعی، نفود در منطقه و بازی با ظرفیت منطقه از برنامه‌های آنان است که تحقق آن زمان می‌برد. به این دلیل، این غربی‌ها هستند که تلاش دارند ایران را منفعل نگه دارند تا در سایه انفعال ایران پروژه‌های سرمایه گذاری شده خودشان را به ثمر برسانند. پروژه هایی که در افغانستان، عراق، قزاقستان و به ویژه ایران دنبال می‌کنند نیاز به زمان برای به ثمر رسیدن دارد. غرب و اروپا به توافق نیاز دارند اما نمی خواهند امتیازی در برجام به ایران بدهند  این غرب و اروپا است که نیاز به برجام و حفظ آن دارد اما نمی‌خواهد چیزی در راه رسیدن به توافق برجام به ایران بدهد. آنان نگرانند که اگر نتوانستند پلی در منطقه برای بازگشت خود ایجاد کنند، آب هم به گلوی ایران نریخته باشند. غربی‌ها به این باور رسیده‌اند که ایران بر اثر تحریم‌ها قوی تر شده است و اگر امکانات هم در راستای توافق برجام به ایران بدهند، این قدرت دو چندان خواهد شد. اخیرا شاهد هستیم کره جنوبی اعلام کرده است دنبال آزادسازی پول‌های ایران در این کشور است. فکر می‌کنید این اتفاق و برخی مسایل دیگر خبر از رویدادی در آینده نزدیک می‌دهد یا تنها یک بازی سیاسی جدید دیگری به راه افتاده است؟ ظهره‌وند: این سیاست چماق و هویجی است که آمریکایی‌ها آن را بارها اعمال کرده‌اند. به نظر می‌رسد آمریکایی‌ها می‌خواهند با این سیاست زمان بخرند و  تیم مذاکره کننده هسته‌ای ایران را هم زیر فشار حداکثری افکار عمومی قرار دهند و افکار عمومی را در داخل نسبت به مذاکرات شرطی کنند و بگویند که همه چیز در گرو اراده آمریکا و بازگشت او به برجام است. آمادگی کره برای بازگردان وجوه بلوکه شده نفت ایران در این کشور، یک بازی سیاسی است این سناریو آمریکا با مشارکت کره‌جنوبی و کشورهای سرسپرده خود به مرحله اجرا در آورده است. اعلام آمادگی کره برای بازگردان وجوه بلوکه شده نفت ایران در این کشور، یک بازی سیاسی است. کره حتی قصد بازگرداندن پول نقد به ایران را ندارد و می‌گوید از ما به جای طلبی که دارید کالا بگیرید. در واقع این کار شارلاتانیزم سیاسی است. انتهای پیام/\n",
      "\n",
      "\n",
      "\n",
      "\n",
      "doc id:  7685\n",
      "title:  کنگره انتخاباتی حزب ندای ایرانیان 13 اسفند برگزار می‌شود\n",
      "content:\n",
      "\n",
      "به گزارش گروه سیاسی خبرگزاری فارس، کنگره سالیانه حزب ندای ایرانیان جمعه(13اسفندماه) با حضور شخصیت‌های برجسته سیاسی جریان اصلاحات برگزار خواهد شد. این کنگره سالیانه که ماهیتی انتخاباتی دارد، از ساعت 9 صبح 13 اسفندماه در «هتل فردوسی» تهران آغاز خواهد شد و در نوبت صبح با حضور خبرنگاران و سخنرانی مدعوین و در نوبت عصر با رای‌گیری برای انتخاب اعضای شورای مرکزی این حزب به کار خود پایان خواهد داد. به گزارش فارس، بنا بود که کنگره حزب ندا 29بهمن ماه برگزار شود ولی به دلیل پاره‌ای از مشکلات به 13 اسفند موکول شد. انتهای پیام/  \n",
      "\n",
      "\n",
      "\n",
      "\n",
      "doc id:  10763\n",
      "title:  قالیباف: شفاف‌سازی فقط برای مجلس نیست/ در ابتدایی‌ترین صنایع دچار «ما نمی‌توانیم» شده‌ایم\n",
      "content:\n",
      "\n",
      "به گزارش خبرنگار پارلمانی خبرگزاری فارس، محمدباقر قالیباف رئیس مجلس شورای اسلامی امروز (دوشنبه اول آذر) در هفتمین اجلاسیه کنگره همفکری بسیج دانش‌آموزی اظهار داشت: در یک جلسه‌ای که جای مهمی بود اشاره کردم که اگر روزی مسؤولیتی داشته باشم که در دولت اثرگذار باشم حتماً تمشیت امور وزارتخانه آموزش و پرورش را به صورت جزئی و دقیق شخصا پیگیری خواهم کرد. وی افزود: در طول سال‌های گذشته در حالی که سند تحول بنیادین داشتیم متأسفانه بی‌ثبات‌ترین وزارتخانه در عدم حضور باثبات وزیر، آموزش و پرورش بوده است. رئیس مجلس تصریح کرد: قریب به 17 سال است مدیریت با ثباتی در وزارتخانه آموزش و پرورش نداشته‌ایم و چه توقعی می‌توانیم داشته باشیم که بتوانیم آموزش و پرورش را متحول کنیم. قالیباف گفت: برای داشتن حکمرانی و تعلیم و تربیت مناسب بایستی در وزارت آموزش و پرورش ثبات وجود داشته باشد این در حالی است که خواسته یا ناخواسته به تعلیم و تربیت ضربه زده‌ایم چرا که روند بی‌ثبات 17 سال گذشته در آموزش و پرورش این را نشان داده است ولی بایستی آن را جبران کنیم. وی گفت: همه مسؤولان موظف به جبران اقدامات برای تحول در آموزش و پرورش هستند. وی گفت: در گام دوم انقلاب و بیانیه رهبر معظم انقلاب نباید تردید کنیم زیرا پیش‌قراولان اجرای من و امثال من نیستند بلکه پیش‌قراولان این حرکت دانش‌آموزان هستند لذا بایستی ایمان و باور داشته باشند. رئیس مجلس گفت: روزهای پیش از انقلاب و اوایل پیروزی انقلاب اسلامی مصمم به اجرای راه مستقیم انقلاب اسلامی که اهداف سیاسی امام بوده و مبتنی بر سنت‌های الهی بود پایدار است و ما بایستی در این مسیر پایدار باشیم. قالیباف گفت: جوانان و دانش‌آموزان در گام دوم انقلاب اسلامی پیش‌قراولان حرکت در انقلاب اسلامی هستند و نبایستی تردید داشته باشیم موفقیت و پیروزی از آن کسانی است که باور به سنت‌های الهی، مردم‌مداری داشته باشند و خودشان ما می‌توانیم را باور بکنند. وی تأکید کرد: دانش‌آموزان پیش‌قراولان حرکت در گام دوم انقلاب اسلامی هستند و ما هم به عنوان مسؤولان قدیمی وظیفه داریم و مکلف هستیم که هم تجارب خود را منتقل کنیم و هم از جوان‌ترها استفاده کنیم. رئیس مجلس گفت: دشمنان در داخل و خارج از انقلاب باید این احساس را داشته باشند که دین توان اداره جامعه را دارد و آنها باید بفهمند که قطعاً دین می‌تواند جامعه را اداره کند و انقلاب اسلامی می‌تواند تحول عظیمی را پیش ببرد. وی با اشاره به تأکید رهبر معظم انقلاب بر جوانگرایی عنوان کرد: با این حال در طی 40 ساله بعد از انقلاب به صورت اساسی به جوانگرای و نوجوانگرایی پرداخته نشده است لذا شما باید عملکرد نامناسب در حوزه جوانگرایی را فراموش کنید و خود را دستم کم نگیرید و به سن پایین خود فکرنکنید. رئیس مجلس شورای اسلامی ادامه داد: زمانی که 20 سال داشتم وقتی به فردی 50 ساله نگاه می کردم، تصور می کردم نمی‌تواند کار طراحی انجام دهد و تصور می کردم هر کاری می‌توانسته، تاکنون انجام داده است، حتی در انتخاب افراد در جبهه، افراد 50 ساله را تمام شده محسوب می‌کردم در حالی که اکنون که 50 سالگی را گذرانده‌ایم، به فرد 20 ساله به گونه‌ای می‌نگریم که جوان و بی‌تجریه است و قدرت تصمیم‌گیری ندارد؛ لذا قصد دارم نگاه خود را در زمان‌های مختلف به گروه‌های سنی متفاوت بگویم. وی در ادامه با اشاره به زمانی که فرماندهی نیروی انتظامی را بر عهده داشت، اظهار کرد: آن زمان وارد یکی از ستادهای مهم ناجا شدم و دیدم جوانی را به نگهبانی آن گذاشته‌اند که به خود گفتم چگونه یک فرد کم سن و سال را به نگهبان جای حساسی گذاشته‌اند و با مسئول مربوطه تماس گرفتم و گفتم باید فردی در اینجا قرار گیرد که پخته‌تر باشد ؛ زمانی که تلفن را قطع کردم به خودم گفتم قالیباف! خیلی بی‌انصافی! مگر زمانی که در جبهه مسئولیت داشتی چند سال با این نگهبان اختلاف سنی داشتی؟ حداکثر دو سال. پس چرا آن روز به تو اعتماد شد و اکنون که خودت دست پروده همین انقلاب هستی به این جوان بی‌اعتمادی می‌کنی؟ لذا خودم را نبخشید من و تماس گرفتم و دستوری را که داده بودم لغو کردم که این موضوع در ذهنم ماند که باید به زن و مرد و جوان فرصت داده شود و ما مکلف هستیم ظرفیت‌های آنها را بالفعل کنیم. قالیباف در ادامه با تأکید بر اینکه بسیج مستضعفین به معنای جایی است که باید برای بالفعل کردن ظرفیت‌های بالقوه تلاش کند و موانع را بردارد، گفت: اگر زندگی مرا تاکنون رصد کنید هر کس با من کار کرده گفته نسبت به میانگین جامعه در سمت خود کم سن و سالتر بوده‌ام و همواره تلاش کرده‌ام، تیم اصلی که با آنها کار می‌کنم از من جوانتر باشند که در سطوح مختلف اینگونه رفتار کرده‌ایم. وی خطاب به دانش آموزان بسیجی بیان کرد: شما در این مقطع حساس می‌توانید اثربخش‌ترین بخش جامعه باشید و ما مسئولین نیز باید توجه کنیم که مبنای پیشرفت ما، توسعه منابع انسانی، مهارت آموزی، ایجاد ظرفیت و بالفعل کردن استعدادها است. رئیس مجلس شورای اسلامی با یادآوری این مطلب که امروز امکانات مادی و پول سرمایه نبوده و جوانان و نیروی انسانی به عنوان ظرفیت ما هستند، عنوان کرد: قسم می‌خورم همه مشکلاتی که امروز در حوزه اقتصاد باعث رنج ما شده به دلیل نبود امکانات نیست بلکه به دلیل ضعف در حوزه تربیت، مدیریت و نداشتن باور به سنت‌های الهی است. وی اضافه کرد: برخی مدیران نیز به «ما می‌توانیم» باور ندارند چنانچه در مراسم سالروز شهادت شهید طهرانی مقدم فاصله تاثیر تفکر «می‌توانیم» تا «نمی‌توانیم» عرض اتوبان تهران- کرج است که در قسمت ابتدایی آن توان سنگین و تکنولوژی و به روز دیده می شود که بدون شک در حوزه صنایع نظامی و بخش‌های پیچیده هوا – فضا و الکترونیک بین 5 کشور اول دنیا هستیم اما چند کیلومتر آن طرف‌تر در ابتدایی‌ترین صنایع دچار «ما نمی‌توانیم» شده‌ایم. قالیباف با بیان اینکه باید به سنت‌های الهی ایمان و باور داشته باشیم و وعده خدا را صادقانه ببینیم، چنانچه آنها که در جنگ احزاب کنار پیامبر (ص) بودند از دشمن نترسیده و با ایمان موجب پیروزی خود شدند، گفت: تعلیم، تربیت، تزکیه و مهارت آموزی آغاز کار است که بروز و ظهور آن از سن دانش‌آموزی است که باید به همه ابعاد اجتماعی و فرهنگی آن توجه شود. در حکمرانی و نظام آموزش و پرورش باید به نوگرایی، تحمل مخالف، افزایش ظرفیت‌ها، مردم باوری و خودباوری توجه کنیم تا در مسیر تعلیم و تربیت انسان‌هایی باشیم که قرار است تمدن‌سازی کنند لذا همگرایی و کار جمعی خوب است و آموزش و پرورش پیشانی عقلانیت، نوسازی و انقلابی‌گری است که متأسفانه در این بخش دچار آسیب هستیم. رئیس قوه مقننه همچنین با بیان اینکه در شرایطی قرار داریم که شما دانش‌آموزان نباید خودسازی را فراموش کنید، تأکید کرد: روحیه جوش و خروش، تلاش و اثرگذاری را فراموش نکنید؛ زمانی که کمتر از 30 سال سن داشتم حضرت امام (ره) یادداشتی را به عروس خود، همسر مرحوم حاج احمد آقا نوشتند که «فاطی جان! قدر جوانی را بدان. عبادت و بندگی هم در جوانی است» لذا تصور نکنید هر چه سن شما بیشتر شود به خدا نزدیک‌تر می‌شوید؛ البته ما نیز اکنون این موضوع را درک می‌کنیم که هر چه جوانی گذشت، تعلقات دنیا بر ما حاکم شد لذا قدر جوانی و دوری از اشرافی‌گری را بدانید. وی تأکید کرد: سبک و روش زندگی که بسیار مهم است، سلامت جسمی، مهارت آموزی، دیانت، کار گروهی، روحیه تحمل مخالف و نقدپذیری در این سن شکل می‌گیرد و بسیج بهترین مدرسه و بستر برای چنین تربیتی است لذا هر جا دیدید اشکالی وجود دارد، خودتان بایستید و اصلاح کنید. قالیباف در ادامه بسیج را یک نوآوری اجتماعی دانست و افزود: آنچه امروز از بسیجی می‌بینیم از بستر دفاع مقدس ظهور و بروز پیدا کرد و شما باید آن را حفظ کنید و افتخار امروز من به بسیجی بودن و فرهنگ بسیجی است که برخاسته از دفاع مقدس است چنانچه حاج قاسم نیز می‌گفت اگر بخواهیم قطعه‌ای از بهشت را نام ببریم، آن قطعه، دوران دفاع مقدس است. وی ادامه داد: امروز در عرصه‌های مختلف حکمرانی همه بسیجی هستند و بسیج متبلور از همه مردم است که باید همگان را در آغوش بگیرد؛ زمان جنگ نیز گیرهای امروز نبود، شما نیز باید خودتان امور را در دست بگیرید. رئیس مجلس شورای اسلامی در ادامه با اشاره به 4 رویکرد مجلس در حوزه شفاف‌سازی، مردمی‌سازی، هوشمندسازی و کارآمدسازی ابراز داشت: رویکرد تحولی ما در مجلس به این شکل است که همه اقشار بتوانند در کمیسیون‌ها نقش داشته باشند و اگر امروز مجلس، نماینده مردم نباشد، فلسفه وجودی خود را از دست می‌دهد لذا ما صدای مردم هستیم  پس شما نیز فعال بوده و با مجلس در ارتباط باشید. قالیباف همچنین اضافه کرد: اینکه می‌گویید نحوه انتقال پیام به گونه‌ای است که گویا همچون گذشته پیام‌ها با کبوتر نامه‌رسان جابجا می‌شود را مد نظر قرار داده و در جلسه شورای عالی انقلاب فرهنگی نکات مد نظر شما را بیان خواهم کرد تا آنها بدانند نگاه نسل انقلابی جوان امروز نسبت به ما چیست و همین به معنای کار جهادی است که از کف میدان مطلع باشیم تا بتوانیم تصمیمات درست بگیریم؛ تصمیم‌سازی درست باید از پایین به بالا باشد، تصمیم‌گیری از بالا به پایین اشتباه است. وی همچنین با تأکید بر موضوع شفاف‌سازی عنوان کرد: این موضوع را از پیش از ورود به مجلس پیگیری می‌کردم و اکنون خود را متعهد به آن می‌دانم اما شفاف‌سازی فقط برای مجلس نیست و باید در همه دستگاه‌ها اجرا شود اما گام اول را خودمان برمی‌داریم تا بعد از آن نیز پیگیر باشیم. انتهای پیام/ \n",
      "\n",
      "\n",
      "\n",
      "\n",
      "doc id:  9742\n",
      "title:  مرکز پژوهش‌های مجلس: مذاکرات وین به توافقی زودهنگام منجر نمی‌شود\n",
      "content:\n",
      "\n",
      "به گزارش خبرگزاری فارس، مرکز پژوهش‌های مجلس شورای اسلامی در گزارشی با عنوان «مذاکرات وین: تقابل اراده‌ها و جنگ روایت‌ها» به موضوع مذاکرات اخیر ایران با 1+4 پرداخت.  در بخش چکیده این گزارش آمده است: انگیزه اصلی جمهوری اسلامی ایران برای ورود به مذاکرات وین، تحقق هدف مندرج در بند «29» برجام یعنی «عادی‌سازی روابط اقتصادی و تجاری» بود. با این‌حال، نتایج 6 دور اول گفتگوهای وین به‌دلیل عدم اراده آمریکا برای لغو مؤثر همه تحریم‌ها و ارائه تضمین به‌لحاظ اقتصادی، منافع ملی جمهوری اسلامی ایران را تأمین نمی‌کرد.  به‌دلیل عدم انتفاع اقتصادی، تجدیدنظر درباره پیش‌نویس 6 دور قبلی مذاکرات یک ضرورت برای جمهوری اسلامی ایران محسوب می‌شد، ولی آمریکا ـ حتی پیش از تدوین متن جدید در تهران ـ با ایجاد کمپین روانی خواسته ایران را «زیاده‌خواهانه و فرابرجامی» معرفی کرد. درحالی که، طبق برجام و قطعنامه 2231، آمریکا علاوه‌بر رفع تحریم‌های مقرر در ضمیمه 2 برجام باید از اتخاذ اقداماتی که مانع از عادی‌سازی روابط اقتصادی و تجاری با ایران می‌شود، خودداری نماید. آمریکا برای تغییر محاسبه جمهوری اسلامی ایران و وادار ساختن آن به عقب‌نشینی از خواسته لغو تحریم‌ها و ارائه تضمین، به‌صورت همزمان تلاش دارد تا از تاکتیک دیپلماسی برای «مقصرسازی» ایران، از اعمال تحریم جدید و ابراز آمادگی در جهت اجرای سخت‌گیرانه‌تر تحریم برای «مأیوس کردن» ایران و درنهایت از تهدید به حمله نظامی برای «ایجاد هراس» از پیشرفت برنامه هسته‌ای استفاده کند. چالش اصلی رویکرد «فشار هوشمند» دولت بایدن و تهدید به اجرای برنامه جایگزین (Plan B) این است که افزایش فشار به ایران ـ همانند آنچه بعد از ترور شهید فخری‌زاده یا اقدام خرابکارانه اخیر در نطنز رخ داد ـ می‌تواند نتایج معکوسی داشته باشد و بیش از آنکه ایران را وادار به عقب‌نشینی نماید، به واکنش تقابلی آن و تحمیل هزینه به طرف مقابل منجر شود. اگرچه تاکنون در وین توافقی حاصل نشده، ولی الگوی رفتاری جمهوری اسلامی ایران منجر به شکل‌گیری این درک شده است که اعمال فشار علیه ایران بدون هزینه و پاسخ نخواهد بود. ایجاد چنین نگرشی را می‌توان مهم‌ترین دستاورد جمهوری اسلامی ایران در خلال گفتگوهای وین دانست که منجر به تقویت توان بازدارندگی ایران شده است. دستیابی به نتیجه مطلوب در وین در گرو آن است که چه کسی اراده قوی‌تری داشته و در خلق روایت از توانمندی بیشتری برخوردار است. رویکرد ایران در مذاکره باید برمبنای مفهوم «انتفاع ملموس» و عادی‌سازی روابط اقتصادی و تجاری باشد. نگرش صرفاً حقوقی به ‌مقوله رفع تحریم و درخواست لغو برخی از دستورات اجرایی، توقف اجرای قوانین کنگره و تغییر در برخی از دستور‌العمل‌های اوفک که در دوره زمانی ریاست‌جمهوری ترامپ علیه ایران اعمال شده است لزوماً منجر به انتفاع اقتصادی از توافق و استمرار مزایای ایران در بلندمدت نمی‌شود. همچنین در بخش مقدمه این گزارش هم آمده است: با گذشت نزدیک به یک سال از روی‌کار آمدن دولت بایدن، آمریکا به برجام بازنگشته و از رفع مؤثر تحریم‌‌ها خودداری می‌‌ورزد. ایده اصلی دولت بایدن این بود که با اعمال «فشار هوشمند» یا همان «ترکیب دیپلماسی و چندجانبه‌گرایی با کمپین فشار حداکثری» ایران را وادار به پذیرش «توافق قوی‌تر و طولانی‌تر» کند.  به همین دلیل، دولت بایدن بیش از آنکه به‌دنبال بازگشت فوری به برجام باشد در پی طراحی سازوکاری بود که چگونه می‌‌توان توافق هسته‌ای را به بستری برای دستیابی به تبدیل توافقی جامع برای مهار ایران کرد. تیم مذاکره‌کننده آمریکا با چنین هدفی در فروردین‌ماه 1400 وارد مذاکرات وین شد و پیش‌نویسی را برای گفتگو درباره دو موضوع اصلی مذاکره یعنی «تحریم» و « برنامه هسته‌‌ای» ارائه کرد که طبق آن از یکسو آمریکا با حفظ بخش مهمی از تحریم‌‌ها به‌دنبال استمرار اهرم فشار علیه ایران و ازسوی دیگر به بهانه «آستانه گریز یک‌ساله» خواستار محدودیت‌‌های فنی و نظارتی فرابرجامی ازجمله تخریب سانتریفیوژهای نسل جدید و زنجیره ساخت این ماشین‌‌ها بود. استراتژی دولت بایدن برای «ارائه امتیاز کمتر و تحمیل محدودیت بیشتر» تبدیل به مهم‌ترین گره مذاکرات وین در 6 دور قبلی شد. ارزیابی دبیرخانه شورای‌عالی امنیت ملی در قالب کمیته تطبیق برجام از متن حاصل از 6 دور پیشین وین نیز این بود که این متن انطباق کاملی با سیاست حرف قطعی و قانون اقدام راهبردی برای لغو تحریم‌‌ها نداشته و منافع جمهوری اسلامی ایران را تأمین نمی‌‌کند.  ازاین‌رو، ضرورت دارد تا ضمن بازبینی روندهای گذشته، برای تأمین منافع ملی و اطمینان از رفع مؤثر تحریم‌‌ها اصلاحاتی در متن پیش‌نویس 6 دور قبلی انجام شود. با آغاز دور جدید گفتگوها در وین باید این موضوع به‌دقت مورد واکاوی قرار گیرد که آمریکا چه رویکردی در پیش گرفته است و ایران باید به‌دنبال چه هدفی باشد.  رویکرد آمریکا در قبال گفتگوهای وین؛ تلاش برای تغییر محاسبات ایران ایجاد وقفه در مذاکرات وین، آمریکا را به این جمع‌‌بندی رساند که جمهوری اسلامی ایران از نتایج وین راضی نیست. با این‌حال، از نگاه دولت بایدن این ابهام وجود دارد که جمهوری اسلامی ایران به‌دنبال دستیابی به چه هدفی در گفتگوهای وین است. در پاسخ به این سؤال، سه فرضیه در آمریکا در تحلیل رویکرد احتمالی ایران در قبال مذاکرات شکل گرفت: اول، دولت جدید در ایران به‌دلیل ملاحظات سیاسی و ایجاد تمایز با دولت قبلی به‌دنبال دستیابی به توافقی است که اندکی بهتر از نتایج به‌دست آمده در 6 دور قبلی وین باشد. دوم، ایران در پی مذاکره مجددِ پیش‌‌نویس دورهای قبلی مذاکرات وین و طرح درخواست‌‌های حداکثری و فرابرجامی است. زیرا، ایران از یکسو به‌دلیل بهبود وضعیت فروش نفت و دسترسی به پول‌‌های بلوکه شده و پیشرفت‌‌های فنی در برنامه هسته‌‌ای گذر زمان را به سود خود می‌‌داند و ازسوی دیگر این نگرش درباره ابزارهای فشار آمریکا وجود دارد که دولت بایدن نه اراده استفاده از گزینه نظامی را دارد و نه اعمال تحریمِ اثرگذار در کوتاه‌مدت امکانپذیر است.  سوم، نارضایتی از عدم رفع تحریم‌‌ها و تجربه خروج ترامپ از برجام ایران را به این نتیجه رسانده است که به‌دنبال عبور از برجام و دستیابی به توافقی جدید باشد.  آمریکا برمبنای رویکرد «فشار هوشمند» در مواجهه با وضعیت جدید از طرفی با اعلام آمادگی برای انجام «مصالحه محدود درباره متن 6 دور قبلی» یا «مذاکره درباره توافقی متفاوت از برجام» (در قالب توافق موقت (کمتر در برابر کمتر) و توافق جامع (بیشتر در برابر بیشتر)) تلاش کرد تا بستر مذاکره و توافق را حفظ کرده و خود را حامی راه‌‌حل دپیلماتیک معرفی کند  و از طرف دیگر قصد دارد با تهدید به اجرای برنامه جایگزین (Plan B) ایران را تحت فشار قرار دهد.  مقصود آمریکا از برنامه جایگزین، افزایش فشار سیاسی، اقتصادی و تهدید نظامی علیه ایران است. از منظر سیاسی، آمریکا در پی استفاده از تاکتیک «مقصرسازی» برای همراه ساختن چین و روسیه و ایجاد اجماع علیه ایران است. آمریکا در اجرای این تاکتیک تلاش می‌‌کند روایتی از رفتار ایران ارائه دهد که در ظاهر در تضاد با اراده سیاسی ایران برای پایبندی به توافق هسته‌‌ای و ناسازگار با ادعای آن مبنی‌بر جدیت در مذاکره باشد. برای مثال، آمریکا در موضعی غیرمنطقی، درخواست ایران برای رفع مؤثر تحریم‌‌ها را اقدامی «فرابرجامی و زیاده‌خواهانه» معرفی و پیشرفت برنامه هسته‌‌ای را به‌منزله افزایش ریسک اشاعه‌‌ای تفسیر می‌‌کند. درحالی که نه‌ تنها خواسته ایران برای لغو تحریم‌‌ها طبق بند «29» برجام یعنی تعهد دیگر اعضای توافق به «عادی‌سازی روابط اقتصادی و تجاری» ایران است، بلکه همواره در گزارش‌‌های آژانس بین‌المللی انرژی اتمی این موضوع تأکید می‌‌شود که هیچ انحرافی در برنامه هسته‌‌ای ایران به سمت اهداف غیرصلح‌آمیز رخ نداده است. با وجود این، برخلاف واقعیت، آمریکا با ارائه روایتی نادرست از نیات و اهداف برنامه هسته‌‌ای ایران تلاش می‌‌کند پیشرفت‌‌های حاصل از قانون اقدام راهبردی برای لغو تحریم‌‌ها را ـ که یکی از مهم‌ترین نقاط قوت تیم مذاکره‌کننده ایران است ـ از طریق فضاسازی رسانه‌‌ای تبدیل به نقطه ضعف و بهانه‌‌ای برای ایجاد اجماع بین‌المللی علیه ایران نماید. از منظر اقتصادی، آمریکا برای اعمال فشار بیشتر به ایران به‌دنبال اجرای سخت‌‌گیرانه‌‌تر تحریم‌‌ها و کاهش منابع درآمدی آن است.  در همین راستا، دولت بایدن به‌دنبال اعزام تیمی از وزارت خزانه‌داری آمریکا به شرکای اصلی تجاری ایران ازجمله امارات، چین، ترکیه و مالزی است تا به شرکت‌‌ها و بانک‌‌های این کشورها هشدار بدهد که در صورت استمرار روابط بانکی و تجاری با ایران و کمک به آن در دور زدن تحریم‌‌ها در معرض ریسک‌‌ مالی قابل‌توجهی قرار خواهند گرفت.  علاوه‌بر این، آمریکا ضمن استمرار تحریم افراد و نهادهای ایرانی به‌دنبال آن است تا در صورت ضرورت، همکاری اروپا برای اعمال فشار اقتصادی چندجانبه علیه ایران را ـ از وضع تحریم‌‌های جدید گرفته تا فعال‌سازی مکانیسم ماشه ـ فراهم آورد.  از منظر نظامی، آمریکا و رژیم صهیونیستی از تهدید به حمله نظامی در صورت شکست مذاکرات استفاده می‌‌کند. با این‌حال، تهدید به استفاده از گزینه نظامی علیه تأسیسات هسته‌‌ای یک عملیات روانی برای جلوگیری از واکنش ایران به فشارهای سیاسی و اقتصادی آمریکاست. به همین دلیل، تلاش می‌‌شود تا با موضع‌گیری مقامات ارشد نظامی آمریکا، برگزاری رزمایش هوایی و افزایش رفت‌‌و‌‌آمد هواپیماهای نظامی به منطقه غرب آسیا، جمهوری اسلامی ایران تهدید نظامی را معتبر تلقی کند.  هدف از اعمال فشار اقتصادی و سیاسی به ایران و تکرار موضوع برنامه جایگزین (Plan B) توسط آمریکا ایجاد تغییر در محاسبات ایران است. به‌عبارت دیگر، رویکرد دولت بایدن آن است که از طریق تشدید فشار، نخبگان و افکار عمومی را به این جمع‌بندی برساند که اولاً گذشت زمان به سود ایران نیست و امکان حفظ ثبات اقتصادی در بلندمدت وجود ندارد. ثانیاً آمریکا تحت فشارِ رشد برنامه هسته‌‌ای عقب‌نشینی نخواهد کرد و ایران نمی‌‌تواند به توافقی بهتر دست یابد. ثالثاً ایران در صورت ادامه این مسیر متحمل هزینه خواهد شد. از‌این‌رو، هدفگذاری نهایی کمپین فشار روانی آمریکا وادار ساختن ایران به کاهش سرعت پیشرفت برنامه هسته‌‌ای، عقب‌نشینی از تجدیدنظر درباره پیش‌نویس توافق وین و طرح مطالبه «لغو همه تحریم‌‌ها» و پذیرش یک توافق فوری در قالب برجام یا توافق موقت است. چالش اصلی رویکرد دولت بایدن و تهدید به اجرای برنامه جایگزین این است که افزایش فشار به ایران ـ همانند آنچه بعد از ترور شهید فخری‌زاده یا اقدام خرابکارانه اخیر در نطنز رخ داد ـ می‌‌تواند نتایج معکوسی داشته باشد و بیش از آنکه ایران را وادار به عقب‌نشینی نماید، به واکنش تقابلی آن و تشدید تنش منجر شود. برخلاف اقدامات اقتصادی آمریکا که نیاز به زمان طولانی برای اثرگذاری دارد، جمهوری اسلامی ایران طیفی از گزینه‌های فنی و نظارتی فوری ازجمله توقف کامل نظارت‌‌های فراپادمانی (به‌ویژه در ارتباط با توقف ضبط دوربین‌های نظارتی آژانس در سایت‌های هسته‌‌ای)، راه‌اندازی کارخانه اورانیم فلزی، افزایش سطح غنی‌سازی به 90 درصد و افزایش سرعت ساخت و نصب ماشین‌های نسل جدید را در اختیار دارد که می‌‌تواند آمریکا را تحت فشار قرار دهد. در حوزه اقدامات سیاسی و رسانه‌ای نیز اگرچه آمریکا و برخی از کشورهای اروپایی تهدید به بازگشت به دوره زمانی سال‌‌های 2005 و 2006 و ارجاع پرونده ایران به شورای امنیت سازمان ملل می‌کنند، ولی شرایط امروز با یک دهه گذشته متفاوت است؛ به‌دلیل تنش در روابط آمریکا با چین و روسیه احتمال صدور قطعنامه علیه ایران کمتر است؛ حتی در صورت بازگشت قعطنامه‌‌های شورای امنیت سازمان ملل وضعیت اقتصادی ایران تغییر محسوسی نخواهد کرد. زیرا، تجربه اجرای تحریم‌‌ها در دوره قطعنامه‌‌های سازمان ملل و دوره کمپین فشار حداکثری نشان می‌‌دهد اثرگذاری تحریم‌‌های شورای امنیت کمتر از تحریم‌‌های یک‌جانبه آمریکاست و درنهایت، برنامه هسته‌‌ای ایران پیشرفت چشمگیری نسبت به سال 2006 پیدا کرده است. بنابراین، درصورت تشدید تنش اگر معادله دیروز «تحریم در برابر سانتریفیوژ»  بود،  معادله امروز «تحریم در برابر ظرفیت غنی‌سازی (سو)» است. به‌عبارت دیگر، به‌دلیل دستاوردهای دانشی جدید در عرصه هسته‌ای، جمهوری اسلامی ایران می‌تواند در زمان کمتر و با تعداد ماشین‌های محدودتر، ظرفیت غنی‌سازی بیشتری نسبت به دوره قبل از برجام داشته باشد. رویکرد ایران در قبال گفتگوهای وین؛ دیپلماسی مقتدرانه برای تضمین انتفاع اقتصادی توافق یا عدم توافق محل چالش نیست، بلکه مسئله این است که جمهوری اسلامی ایران برای دستیابی به پیشرفت چه نیازها و اهدافی دارد. پاسخ به این سؤال مشخص می‌‌کند که جمهوری اسلامی ایران با چه رویکردی در میز مذاکره حاضر شود و دنبال کسب چه خواسته‌‌هایی باشد و در فضایی خارج از گفتگوهای وین در پی تلاش برای تحقق کدام راه‌‌‌حل‌‌ها برای خنثی‌سازی تحریم و قرارگیری در ریل پیشرفت اقتصادی باشد. با توجه به تجربه دوره اجرای برجام و خروج آمریکا از آن، نه دستیابی به توافق به‌معنای توسعه اقتصادی است نه عدم توافق به‌معنای فروپاشی اقتصادی. گذشت زمان نیز به‌معنای استمرار وضع موجود یا بدتر شدن وضعیت اقتصادی نیست، بلکه مذاکره باید در یک مسیر موازی و همزمان با تلاش برای خنثی‌سازی تحریم پیگیری شود. نگرانی از وخامت شرایط اقتصادی در صورت عدم توافق ناشی از این نگرش نادرست است که تصور می‌‌شود بدون برجام و توافق امکان بهبود وضعیت وجود ندارد. درحالی که، به‌دلیل عدم اطمینان از پایبندی طرف مقابل به تعهدات، نتایج حاصل از هر نوع توافقی ناپایدار و محدود است و نمی‌‌توان برنامه اداره کشور و توسعه اقتصادی را معطل آن کرد. نتیجه 6 دور اول مذاکرات وین نیز چیزی بیش از یک معامله کوتاه‌مدت (حداکثر تا سال 2025) تهاتری «نفت در برابر کالا» نبود. توافق وین در صورت اجرا نه‌تنها به عادی‌سازی روابط اقتصادی و تجاری ایران منجر نمی‌‌شد، بلکه به‌دلیل حفظ بیش از یک‌سوم تحریم‌‌ها و ریسک بالای خروج مجدد آمریکا از توافق منافعی کمتر از توافق برجام در سال 2015 برای ایران در پی داشت. آنچه در 6 دور قبلی به‌دست آمده بود، نگرانی شرکت‌‌ها و بانک‌‌های متوسط و بزرگ بین‌المللی برای برقراری روابط مالی و تجاری با ایران و حتی سرمایه‌گذاری میان‌مدت را رفع نمی‌‌کرد. توافق برای ایران زمانی ارزش دارد که نتایج قابل‌توجه و ملموس اقتصادی داشته باشد. در غیر این‌صورت، عقب‌نشینی از برنامه هسته‌‌ای صرفاً ایران را در موضع ضعف و فشار بیشتر قرار می‌‌دهد. رویکرد ایران در مذاکره باید برمبنای مفهوم «انتفاع ملموس» و عادی‌سازی روابط اقتصادی و تجاری باشد. نگرش صرفاً حقوقی به‌مقوله رفع تحریم و درخواست لغو برخی از دستورات اجرایی، توقف اجرای قوانین کنگره و تغییر در برخی از دستور‌العمل‌‌های اوفک که در دوره زمانی ریاست‌جمهوری ترامپ علیه ایران اعمال شده است، لزوماً به انتفاع اقتصادی از توافق و استمرار مزایای ایران در بلندمدت منجر نمی‌‌شود. تا زمانی که ما‌به‌ازای ملموس، سنجه‌‌پذیر و قابل راستی‌آزمایی برای عملیات رفع تحریم‌‌ها تعریف نشود نمی‌‌توان از آثار اقتصادی و مالی آن اطمینان داشت. فلسفه اصلی برجام برای ایران این بود که تحریم‌‌های اقتصادی لغو و فعالیت‌‌های تجاری و مالی ایران عادی شود.  با این‌حال، بدعهدی طرف‌های مقابل در اجرای تعهدات خود در زمینه تحریم‌ها رفع و تجربه خروج از توافق هسته‌‌ای در دوره ترامپ، آورده و بهره اقتصادی برجام برای ایران را با مانع مواجه کرد. به این ترتیب به صرف بازگشت آمریکا به برجام نه‌تنها «ریسک همکاری» با ایران از بین نمی‌‌رود، بلکه «امکان همکاری» مالی و تجاری رسمی با ایران نیز به‌دلیل حفظ بخشی از تحریم‌‌ها ازجمله تحریم یوترن (U-TURN) میسر نمی‌شود. از‌این‌رو، «لغو مؤثر تحریم‌‌ها» و «دریافت تضمین» نه‌تنها زیاده‌خواهانه نیست، بلکه شرط واقع‌بینانه، منطبق بر تجربه سالیان اخیر و حداقلی ایران به‌منظور انتفاع اقتصادی از برجام است. با این‌حال، باید توجه داشت که حتی در صورت تحقق چنین هدفی در مذاکرات، رفع تحریم‌‌ها شرط کافی برای پیشرفت اقتصادی کشور نیست. پیشرفت، مستلزم برخورداری از برنامه توسعه‌‌ای و استفاده حداکثری از فرصت‌‌های بین‌المللی ازجمله بهره‌مندی از ظرفیت همسایگان و قدرت‌‌های نوظهور است. جمع‌بندی با توجه به سابقه آمریکا در نقض تعهدات خود در قبال برجام و تلاش این کشور برای انعقاد توافقی یک‌طرفه و ناقص، نتیجه این مذاکرات به یک توافق زودهنگام و پایدار منجر نخواهد شد. از طرف دیگر، به‌دلیل آنکه آمریکا جایگزین مناسبی برای برجام ندارد، عدم دستیابی به توافق در میان‌مدت نیز به‌معنای فروپاشی برجام نخواهد بود. دستیابی به نتیجه مطلوب در وین در گرو آن است که چه کسی اراده قوی‌‌تری داشته و در خلق روایت از توانمندی بیشتری برخوردار است. آمریکا در پی آن است تا از طریق تهدید به تشدید فشار اقتصادی، سیاسی و نظامی جمهوری اسلامی ایران را وادار به تغییر محاسبه و تجدیدنظر درباره «رفع مؤثر تحریم‌‌ها» کند و با استفاده از ابزار دیپلماسی، ایران را مقصر و مانع دستیابی به توافق معرفی کند. برای مثال، آمریکا در طول چند ماه گذشته تلاش کرد تا مبدأ زمانی و عامل بن‌بست در گفتگوهای وین را تغییر دهد. درحالی که منشأ این بحران، خروج آمریکا از برجام و عدم اراده دولت بایدن برای رها کردن کمپین فشار حداکثری و رفع تحریم‌‌ها بود، چنین وانمود شد که علت بن‌بست در مذاکره «خواسته‌‌های ایران در مسئله تحریم‌‌هاست».  اگرچه تاکنون در وین توافقی حاصل نشده، ولی الگوی رفتاری جمهوری اسلامی ایران منجر به شکل‌گیری این درک شده است که اعمال فشار علیه ایران بدون هزینه و پاسخ نخواهد بود. ایجاد چنین نگرشی را می‌‌توان مهم‌ترین دستاورد جمهوری اسلامی ایران در خلال گفتگوهای وین دانست که به تقویت توان بازدارندگی ایران منجر شده است. پیش از این ـ به‌خصوص در دوره ترامپ ـ چنین تصور می‌‌شد که جمهوری اسلامی ایران تحت فشار شدید اقتصادی و تهدید نظامی عقب‌نشینی خواهد کرد. این درک راهبردی از ایران نقش مهمی در خروج آمریکا از برجام داشت. از‌این‌رو، پیش از بازگشت آمریکا به برجام ضرورت داشت تا این نگاه ایجاد شود که ایران در برابر فشار نه‌تنها عقب‌نشینی نخواهد کرد، بلکه واکنش آن می‌‌تواند نتایج معکوسی برای آمریکا و رژیم صهیونیستی در پی داشته باشد. تقویت این درک از ایران یکی از مهم‌ترین پایه‌‌های تأمین امنیت ملی و تضمین توافق احتمالی در وین خواهد بود.  متن کامل گزارش مذاکرات وین؛ تقابل اراده‌ها و جنگ روایت‌ها را اینجا بخوانید:       انتهای پیام/ \n",
      "\n",
      "\n",
      "\n",
      "\n",
      "doc id:  8218\n",
      "title:  موضوع دستمزد 1401 در حزب اسلامی کار بررسی می‌شود\n",
      "content:\n",
      "\n",
      "محمدباقر نیشابوری عضو شورای مرکزی حزب اسلامی کار در گفت‌وگو با خبرنگار حوزه احزاب خبرگزاری فارس، با اشاره به برنامه‌ها و فعالیت‌های حزب متبوع خود، اظهار داشت: جلسه شورای مرکزی حزب بعد از ظهر دوشنبه‌های هر هفته به صورت یکی‌درمیان حضوری و مجازی برگزار می‌شود و شورای سیاسی حزب نیز امروز (یکشنبه) بعد از ظهر جلسه‌ای را برگزار خواهد کرد و به بررسی مباحث سیاسی روز کشور و سفر دکتر رئیسی به روسیه و نتایج آن، برجام و مذاکرات وین و دلایل تعویق یک هفته‌ای آن خواهد پرداخت. وی افزود: شورای مرکزی فردا (دوشنبه) طبق روال هر هفته جلسه خواهد داشت و درباره موضوع بودجه ۱۴۰۱ که پنج هفته هست در دستور کار شورای مرکزی هست پرداخت خواهد شد و موضوع دیگری نیز که مورد بررسی قرار می‌گیرد بحث تعیین دستمزد برای سال ۱۴۰۱ هست که هم اکنون در شورای عالی کار در حال بحث و بررسی است. وی افزود: در مورد بحث بودجه و بحث حذف ارز ۴۲۰۰ تومانی در جلسات گذشته بحث و بررسی‌های صورت گرفت که منجر به صدور بیانیه‌ای شد و این بحث و بررسی‌ها به کمیته زیرمجموعه ارجاع می شود تا بعد از برگزاری جلسات با اعضایشان نظر نهایی را جمع‌بندی کنند و به شورای مرکزی ارائه دهند تا شورای مرکزی تصمیم بگیرد که آن را در قالب بیانیه یا قالبی دیگر تدوین کند تا در اختیار رسانه‌ها قرار گیرد و به اطلاع عموم مردم برسد. نیشابوری در خصوص برگزاری کنگره سالیانه حزب نیز گفت: بر اساس اساسنامه حزب اسلامی کار این حزب کنگره سالیانه ندارد و اعضای شورای مرکزی هر سه سال یک بار انتخاب می‌شوند و با توجه به این که اسفندماه سال ۱۳۹۹ کنگره حزب برگزار شد، کنگره بعدی در سال ۱۴۰۲ برگزار می شود. انتهای پیام/\n",
      "\n",
      "\n",
      "\n",
      "\n"
     ]
    }
   ],
   "source": [
    "complete_search(complete_search_preprocess('\"کنگره ضدتروریست\"'))"
   ]
  },
  {
   "cell_type": "markdown",
   "id": "24007090",
   "metadata": {},
   "source": [
    "ت) یک پرسمان پیچیده (مانند \"تحریم هستهای\" آمریکا ! ایران ،انتظار میرود اسنادی که شامل عبارت تحریم\n",
    "هستهای و کلمهی آمریکا هستند اما کلمهی ایران را ندارند در نتایج بازیابیشده وجود داشته باشد)."
   ]
  },
  {
   "cell_type": "code",
   "execution_count": 112,
   "id": "68ce3f06",
   "metadata": {},
   "outputs": [
    {
     "name": "stdout",
     "output_type": "stream",
     "text": [
      "We have 0 document(s) that have 3 words of the user query.\n",
      "We have 3 document(s) that have 2 words of the user query.\n",
      "We have 1265 document(s) that have 1 words of the user query.\n",
      "\n",
      "doc id:  8202\n",
      "title:  مردم ما در دهه فجر نشان می‌دهند پای آرمان‌های خود ایستاده‌اند\n",
      "content:\n",
      "\n",
      "به گزارش خبرنگار سیاسی خبرگزاری فارس، سید محمد حسینی معاون پارلمانی رئیس جمهور در حاشیه نشست اعضای ستاد مرکزی دهه فجر با نمایندگان مجلس گفت: پیروزی انقلاب اسلامی نقطه عطف و سرآغاز دوران جدیدی در تاریخ منطقه و جهان است، انقلاب اسلامی با حضور پررنگ و ایثارگری های مردم به پیروزی رسید و موجب ریشه‌کن شدن استعمار و سلطه‌گری در کشور ما شد. حسینی تاکید کرد: پس از گذشت چهار دهه با همه مشکلات و تحریم‌ها بر اقتدار این انقلاب افزوده شده و تلاش‌های غرب و هم‌پیمانان منطقه‌ای و داخلی آنها برای شکست یا تغییر ماهیت انقلاب اسلامی، با هوشیاری ملت و تدابیر رهبر معظم انقلاب بی‌نتیجه مانده است. حسینی در ادامه با اشاره به آغاز کار پویش « پرچم افتخار» از سوی پایگاه اطلاع رسانی دفتر حفظ و نشر آثار رهبر معظم انقلاب، گفت: در آستانه چهل و سومین سالگرد پیروزی انقلاب اسلامی مردم انقلابی ما با شور انقلابی خود نشان خواهند داد که پای آرمان‌های خود ایستاده اند. انتهای پیام/\n",
      "\n",
      "\n",
      "\n",
      "\n",
      "doc id:  8208\n",
      "title:  لغو تحریم‌ها تنها ضرورت احیای برجام است\n",
      "content:\n",
      "\n",
      "به گزارش خبرگزاری فارس به نقل از خانه ملت، سیداحمد رسولی نژاد در نشست علنی صبح امروز (یکشنبه، 10 بهمن ماه) مجلس شورای اسلامی در نطق میان دستور خود ضمن تبریک فرا رسیدن ماه رجب و دهه فجر، با بیان اینکه سیاست های منطقه ای آیت الله رئیسی سرآغاز خوبی برای خنثی سازی تحریم ها بود، گفت: توسعه روابط با کشورهای همسایه، اقدامی راهبردی است که انتظار می رود دولت با جدیت تمام نسبت به توسعه روابط تجاری، اقتصادی و سیاسی خود با آنها اهتمام داشته باشد. نماینده مردم دماوند و فیروزکوه در مجلس شورای اسلامی با بیان اینکه اگر دولت گذشته نسبت به اجرای قانون راهبردی مجلس در لغو تحریم ها باور داشت، مذاکرات با کشورهای اروپایی، چین و روسیه سریع تر به نتیجه می رسید، عنوان کرد: دولت قبل با بی تدبیری تمام و وادادگی در سیاست خارجی، با برجام نافرجام، ظرفیت های درونی کشور را به گروگان سیاست های سلطه جویانه آمریکا سپرد. وی ادامه داد: امروز دولت رئیسی با فهم درست نسبت به ضرورت لغو تحریم ها، جهت مذاکرات هسته ای پی برده که انتظار می رود با قاطعیت نسبت به اجرای مصوبه راهبردی مجلس اقدام شود و تضمین های لازم و لغو تحریم ها را تنها ضرورت احیای برجام بداند. رسولی نژاد افزود: گره نزدن اقتصاد کشور به برجام قدم درستی بود که در بودجه 1401 برداشته شد، اما آنچه موجب نگرانی است این است که بدون توجه به شرایط خاص اقتصادی کشور با افزایش سقف بودجه و ایجاد تعهدات جدید برای دولت، سیاست مهار تورم و کاهش رشد نقدینگی بی اثر شود. این نماینده مردم در مجلس یازدهم اضافه کرد: امروز وظیفه همه ما اعم از مجلس و دولت، مهار تورم و فشارهای سنگین اقتصادی و معیشتی بر مردم عزیز است. سیاست های جبران اصلاح نرخ ارز ترجیحی باید به گونه ای باشد که قدرت خرید مردم حفظ شده و این نیازمند برنامه منظم در سیاست های بازتوزیعی دولت است. وی در ادامه با اشاره به نگرانی مجلس عنوان کرد: تا کنون برنامه جامعی برای افزایش قدرت خرید مردم ارائه نشده در حالی که نظام بازتوزیع درآمد حاصل از اصلاح نرخ ارز باید به گونه ای باشد که تولیدکنندگان و مصرف کنندگان دچار آسیب نشوند. سیاست های غلط اقتصادی دولت های گذشته به ویژه 8 سال قبل، سبب سقوط شدید ارزش پول ملی، رشد سرسام آور نقدینگی کشور و هم زمان تورم افسارگسیخته و رکود اقتصادی شد و طبیعی است این دولت راه دشوار و سختی برای جبران سیاست های غلط گذشته دارد. رسولی نژاد افزود: عدم تعهد دولت های یازدهم و دوازدهم در تأمین مسکن مورد نیاز جوانان، حجم انبوه تقاضا را شکل داده و این دولت راه سختی در جبران بی تعهدی دولت گذشته پیش رو دارد و سیاست جسورانه دولت سیزدهم در هدفگذاری 4 میلیون واحد مسکونی در 4 سال نشان از شناخت دقیق شرایط کشور است و مصوبه مجلس در راستای جهش تولید مسکن، ظرفیت بزرگی برای تحقق این شعار فراهم کرده است. عضو مجمع نمایندگان استان تهران در ادامه با بیان اینکه ضروری است با هماهنگی دولت و مجلس، لایحه رتبه بندی معلمان در اسرع وقت اجرایی شود، عنوان کرد: مجلس معتقد است این اقدام از ضروریات حمایت از مقام معلم و جهت گیری صحیح برای حرکت جامعه به سوی پاسداشت مقام علم و دانش است. وی در ادامه با اشاره به این مطلب که نظام عادلانه و یکپارچه حقوق و دستمزد در کشور، کاهش فاصله میان حداقل و حداکثر حقوق دریافتی، رفع تبعیض میان دریافتی دستگاه های مختلف، وزارتخانه ها، دستگاه های اجرایی و شرکت های دولتی در اسرع وقت مورد انتظار است، گفت: دولت با فوریت در این خصوص لایحه جامع و کاملی به مجلس بدهد. نایب رئیس کمیسیون صنایع و معادن مجلس شورای اسلامی در پایان ضمن تشکر از اقدامات بسیار موثر و موفق دولت رئیسی در مقابله با شیوع کرونا، گفت: علیرغم تذکرات درباره شیوع اومیکرون، متأسفانه برنامه مشخصی در این خصوص از سوی ستاد ملی مقابله با کرونا داده نشد که قدری عقب افتادگی احساس می شود. با توجه به گستردگی این بیماری به نظر می رسد باید نسبت به تصمیم قبلی بر مبنی بر بازگشایی مدارس و دانشگاه ها بررسی مجدد شده و بنا به شرایط موجود و پیش بینی های هفته آینده، تصمیم جدید گرفته شود. انتهای پیام/\n",
      "\n",
      "\n",
      "\n",
      "\n",
      "doc id:  8211\n",
      "title:  سراوان با ۴۰۰ کیلومتر مرز با پاکستان پایانه مرزی ندارد\n",
      "content:\n",
      "\n",
      "به گزارش خبرگزاری فارس به نقل از خانه ملت، ملک فاضلی در نشست علنی صبح امروز (یکشنبه، 10 بهمن ماه) مجلس شورای اسلامی در نطق میان دستور خود با بیان اینکه مشکل معیشت و سلامت به مجلس یازدهم خوش‌آمد گفت، بیان داشت: اکنون آیا مشکل معیشت حل شده؟ و وضعیت سلامت چگونه است که این ها پرسش جامعه است. دولت قبل چه کرده و دولت فعلی چه می کند؟ نماینده مردم سراوان، سیب، سوران و مهرستان در مجلس شورای اسلامی ادامه داد: مجلس یازدهم 16 ماه را با دولت قبل طی کرد، دولتی که در پایان عمرش به دنبال تحریم و شیوع کرونا از عمل در میدان و حل مشکل به عنوان فرمانده حل مشکلات از ترس جان به ویترین مشاهده و از فضای عمل به فضای مجازی حرکت کرد که نتیجه آن، غارت ویرانگر صندوق ارزی کشور و در نهایت گرانی و تورم افسارگسیخته روزافزون شد. وی افزود: وظیفه ما سنگین است. نشستن و تماشا کردن کار ما نیست. وارد عمل شدن، تذکر دادن و توجه به دور و برمان مهم است و باید صدای معلمان، کارگران و کشاورزان که هر روز نزدیک مجلس طنین انداز است را بشنویم. فاضلی همچنین خطاب به رئیسی گفت: ریاست جمهوری شما امید را در حل مشکل معیشت و سلامت به ارمغان آورد اما در ادامه چگونه شد؟ واکسیناسیون گسترده به جا بود، سلامت حفظ شد و فضای نفس کشیدن برای مردم هم به وجود آمد اما مشکل معیشت هنوز پابرجاست. نمی توان در مملکتی که یک درصد جمعیت و 9 درصد منابع دنیا را داشته و جغرافیای بی نظیری دارد، صحبت از ارز ترجیحی و سقوط آزاد ارزش پول غیرقابل تصور است. این نماینده مردم در مجلس یازدهم با بیان اینکه بی ارزشی پول ساختارهای کشور را به هم ریخته است، عنوان کرد: گرانی و بهای مسکن نتیجه کاهش ارزش پول است. در چنین وضعیتی مسکن چگونه ساماندهی می شود؟ برخی ها هنرمندانه کشور را تخریب کردند. نباید بیش از این شاهد باشیم که مشکلات گریبان کشور را بگیرد. وی در ادامه با اشاره به مسائل حوزه انتخابیه یادآور شد: این منطقه با 400 کیلومتر مرز با پاکستان می تواند محور تحول باشد اما فراموش شده است. شهر و حوزه ای با 500 هزار نفر جمعیت اصلا پایانه مرزی نداشته و میزان صادرات آن در سال گذشته طبق آمار سازمان برنامه و بودجه 6 برابر مناطقی بوده است که پایانه مرزی رسمی و مناطق آزاد تجاری دارند لذا باید این ظرفیت شناسایی شود و سراوان باید به دلیل جغرافیای بی نظیرش، منطقه ویژه تجاری باشد. فاضلی با بیان اینکه بحران بی آبی در سراوان مطلق است خطاب به وزیر نیرو، گفت: اگر طی دو سال آب رسانی از دشتی که تعیین شده انجام نشود، 200 هزار نفر مجبور به مهاجرت می شوند. این عضو مجمع نمایندگان استان سیستان و بلوچستان اضافه کرد: آموزش و آموزش عالی وضعیت بدی دارد. آموزش ابتدایی 20 درصد کودکان وارد مدرسه نمی شوند و 80 درصد ریزش تحصیلی داریم. عضو کمیسیون بهداشت و درمان مجلس شورای اسلامی در پایان خاطرنشان کرد: 75 درصد راه ها خاکی و غیرقابل تردد بوده و راه اصلی سراوان-خاش، جاده مرگ است. سالانه 4 هزار نفر فوت یا معلولیت ناشی از تصادف ها داریم که رقم بالایی در تصادفات کشور است. انتهای پیام/\n",
      "\n",
      "\n",
      "\n",
      "\n",
      "doc id:  8230\n",
      "title:  درخواست یک نماینده مجلس از تیم مذاکره‌کننده کشورمان برای رعایت خطوط قرمز\n",
      "content:\n",
      "\n",
      "به گزارش خبرنگار پارلمانی خبرگزاری فارس، سیدعلی موسوی نماینده مردم ملکان در مجلس شورای اسلامی در جلسه علنی امروز (یکشنبه 10بهمن‌) مجلس شورای اسلامی خطاب به تیم مذاکره‌کننده کشورمان اظهار داشت: آمریکا بارها امتحان خود را پس داده و انتظار داریم تیم مذاکره‌کننده خطوط قرمز را رعایت کند و با احتیاط مذاکرات را پیش ببرد. وی افزود: می‌طلبد آقای امیرعبداللهیان وزیر امور خارجه از بیانات رهبر معظم انقلاب تبعیت کرده و به تذکرات ایشان توجه کند؛ ما هم به عنوان نمایندگان مجلس پشت سر این تیم هستیم و حمایت خواهیم کرد به شرطی که خطوط قرمز رعایت شود. نماینده ملکان در مجلس از رئیس جمهور برای سفر به مناطق محروم تشکر کرد و گفت: در بین مردم بودن حسن است و می‌طلبد دولت انقلابی حمایت ویژه‌ای را از مناطق محروم داشته باشد و در این باره نباید شعاری عمل کرد؛ می‌طلبد در بودجه 1401 حمایت‌های لازم را از مناطق محروم داشته باشیم و دو ردیف مستقل برای حمایت از این مناطق پیش‌بینی شود. انتهای پیام/\n",
      "\n",
      "\n",
      "\n",
      "\n",
      "doc id:  8279\n",
      "title:  راهپیمایی نمازگزاران تهرانی در اعتراض به جنایات ائتلاف سعودی‌ در یمن\n",
      "content:\n",
      "\n",
      "به گزارش خبرنگار سیاسی خبرگزاری فارس، با پایان نماز جمعه امروز تهران در مصلای امام خمینی (ره)، نمازگزاران تهرانی همزمان با دیگر شهرهای کشور، در اعتراض به تداوم جنایات ائتلاف سعودی در یمن و کشتار وحشیانه مردم این کشور، راهپیمایی کردند.      راهپیمایان در این مراسم، با شعارهای «الله اکبر» و «مرگ بر آمریکا»، «مرگ بر اسرائیل» و «مرگ بر آل سعود»، خشم و انزاجار خود را از حدود 7 سال کشتار بی‌وقفه مردم یمن اعلام کردند.      نمازگزاران همچنین با انتقاد از سکوت و انفعال مجامع حقوق بشری و بین‌المللی در مقابل جنایات سعودی‌ها در یمن، خواستار اقدام فوری برای پایان دادن به بحران انسانی در یمن شدند.         انتهای پیام/\n",
      "\n",
      "\n",
      "\n",
      "\n"
     ]
    }
   ],
   "source": [
    "complete_search(complete_search_preprocess('\"تحریم هسته ای\" آمریکا ! ایران'))"
   ]
  },
  {
   "cell_type": "markdown",
   "id": "53b4baa1",
   "metadata": {},
   "source": [
    "ث) یک پرسمان کلمات نادر (مانند اورشلیم ! صهیونیست ،خروجی مورد انتظار این قسمت مشابه با قسمت ب\n",
    "میباشد با این تفاوت که کلمات استفاده شده در پرسمان از کلمات نادر هستند)."
   ]
  },
  {
   "cell_type": "code",
   "execution_count": 113,
   "id": "05f404f6",
   "metadata": {},
   "outputs": [
    {
     "name": "stdout",
     "output_type": "stream",
     "text": [
      "\n",
      "Nothing found!\n"
     ]
    }
   ],
   "source": [
    "complete_search(complete_search_preprocess(' اورشلیم ! صهیونیست'))"
   ]
  }
 ],
 "metadata": {
  "kernelspec": {
   "display_name": "Python 3 (ipykernel)",
   "language": "python",
   "name": "python3"
  },
  "language_info": {
   "codemirror_mode": {
    "name": "ipython",
    "version": 3
   },
   "file_extension": ".py",
   "mimetype": "text/x-python",
   "name": "python",
   "nbconvert_exporter": "python",
   "pygments_lexer": "ipython3",
   "version": "3.9.7"
  }
 },
 "nbformat": 4,
 "nbformat_minor": 5
}
