{
 "cells": [
  {
   "cell_type": "markdown",
   "id": "20e92535",
   "metadata": {},
   "source": [
    "# Information Retrieval Project (phase 2)\n",
    "### By Ali Moradzade 9831058\n"
   ]
  },
  {
   "cell_type": "code",
   "execution_count": 1,
   "id": "d3e62a74",
   "metadata": {},
   "outputs": [
    {
     "name": "stdout",
     "output_type": "stream",
     "text": [
      "Today's date: 2022-06-08\n"
     ]
    }
   ],
   "source": [
    "from datetime import date\n",
    "\n",
    "today = date.today()\n",
    "print(\"Today's date:\", today)"
   ]
  },
  {
   "cell_type": "markdown",
   "id": "84defcea",
   "metadata": {},
   "source": [
    "# Importing some useful libraries "
   ]
  },
  {
   "cell_type": "code",
   "execution_count": 2,
   "id": "f20189e2",
   "metadata": {},
   "outputs": [],
   "source": [
    "import numpy as np\n",
    "import pandas as pd\n",
    "import matplotlib.pyplot as plt\n",
    "import seaborn as sns"
   ]
  },
  {
   "cell_type": "markdown",
   "id": "bc3a319c",
   "metadata": {},
   "source": [
    "## Reading the data"
   ]
  },
  {
   "cell_type": "markdown",
   "id": "031e3357",
   "metadata": {},
   "source": [
    "For real purposes we use uncomment the below line:"
   ]
  },
  {
   "cell_type": "code",
   "execution_count": 3,
   "id": "94ab4b7a",
   "metadata": {},
   "outputs": [],
   "source": [
    "df = pd.read_json('data/IR_data_news_12k.json')"
   ]
  },
  {
   "cell_type": "markdown",
   "id": "c3297116",
   "metadata": {},
   "source": [
    "For testing the functionality we use just first 10 entries: (for real use, comment it)"
   ]
  },
  {
   "cell_type": "code",
   "execution_count": 4,
   "id": "9584c280",
   "metadata": {},
   "outputs": [],
   "source": [
    "# df = df.transpose().iloc[0:10].transpose()"
   ]
  },
  {
   "cell_type": "markdown",
   "id": "51df5c89",
   "metadata": {},
   "source": [
    "## Doing some EDA"
   ]
  },
  {
   "cell_type": "code",
   "execution_count": 5,
   "id": "6ad802c3",
   "metadata": {},
   "outputs": [
    {
     "data": {
      "text/html": [
       "<div>\n",
       "<style scoped>\n",
       "    .dataframe tbody tr th:only-of-type {\n",
       "        vertical-align: middle;\n",
       "    }\n",
       "\n",
       "    .dataframe tbody tr th {\n",
       "        vertical-align: top;\n",
       "    }\n",
       "\n",
       "    .dataframe thead th {\n",
       "        text-align: right;\n",
       "    }\n",
       "</style>\n",
       "<table border=\"1\" class=\"dataframe\">\n",
       "  <thead>\n",
       "    <tr style=\"text-align: right;\">\n",
       "      <th></th>\n",
       "      <th>0</th>\n",
       "      <th>1</th>\n",
       "      <th>2</th>\n",
       "      <th>3</th>\n",
       "      <th>4</th>\n",
       "      <th>5</th>\n",
       "      <th>6</th>\n",
       "      <th>7</th>\n",
       "      <th>8</th>\n",
       "      <th>9</th>\n",
       "      <th>...</th>\n",
       "      <th>12192</th>\n",
       "      <th>12193</th>\n",
       "      <th>12194</th>\n",
       "      <th>12195</th>\n",
       "      <th>12196</th>\n",
       "      <th>12197</th>\n",
       "      <th>12198</th>\n",
       "      <th>12199</th>\n",
       "      <th>12200</th>\n",
       "      <th>12201</th>\n",
       "    </tr>\n",
       "  </thead>\n",
       "  <tbody>\n",
       "    <tr>\n",
       "      <th>title</th>\n",
       "      <td>اعلام زمان قرعه کشی جام باشگاه های فوتسال آسیا</td>\n",
       "      <td>سجادی :حضور تماشاگران در  لیگ برتر فوتبال تابع...</td>\n",
       "      <td>محل برگزاری نشست‌های خبری سرخابی‌ها؛ مجیدی در ...</td>\n",
       "      <td>ماجدی در نشست با صالحی امیری: امیدوارم در این ...</td>\n",
       "      <td>لیگ‌برتر بسکتبال|‌ نخستین پیروزی شهرداری گرگان...</td>\n",
       "      <td>مسابقات تنیس روی میز فیدر قطر| هر4 بانوی ملی پ...</td>\n",
       "      <td>اعلام برنامه نشست خبری گل محمدی/ مجیدی هم باید...</td>\n",
       "      <td>احضار مدیران پرسپولیس به کمیته انضباطی  پیش از...</td>\n",
       "      <td>مدیر بی‌دستاورد، رئیس شد/ روزگار تلخ‌تر از تلخ...</td>\n",
       "      <td>خبر خوب برای استقلال؛ دانشگر با تیم تمرین کرد</td>\n",
       "      <td>...</td>\n",
       "      <td>کمیته ویژه‌ای از سوی رئیس جمهور مسئول پیگیری م...</td>\n",
       "      <td>مصری: با سفرهای استانی، کُلاه سر رئیس‌جمهور نم...</td>\n",
       "      <td>رئیسی به اردبیل سفر می‌کند/ توضیحاتی درباره مق...</td>\n",
       "      <td>رئیس دفتر رئیس جمهور وضعیت زلزله زرند را بررسی...</td>\n",
       "      <td>جزئیات گزارش سفر نظارتی اعضای کمیسیون فرهنگی م...</td>\n",
       "      <td>دفع حمله دزدان دریایی به دو نفتکش ایرانی توسط ...</td>\n",
       "      <td>نقدی بر یادداشت «مرزبندی گفتمانی با طالبان»/ و...</td>\n",
       "      <td>روند تحقیق و تفحص از سازمان سنجش با جدیت ادامه...</td>\n",
       "      <td>محسن اسلامی مدیرکل دفتر امور سیاسی وزارت کشور شد</td>\n",
       "      <td>جلسه سران قوا به‌ میزبانی رئیس مجلس برگزار شد</td>\n",
       "    </tr>\n",
       "    <tr>\n",
       "      <th>content</th>\n",
       "      <td>\\nبه گزارش خبرگزاری فارس، کنفدراسیون فوتبال آس...</td>\n",
       "      <td>\\nبه گزارش خبرگزاری فارس، سید حمید سجادی در حا...</td>\n",
       "      <td>\\nبه گزارش خبرگزاری فارس، نشست خبری پیش از مسا...</td>\n",
       "      <td>\\nبه گزارش خبرگزاری فارس،  سید رضا صالحی امیری...</td>\n",
       "      <td>\\nبه گزارش خبرنگار ورزشی خبرگزاری فارس، در نخس...</td>\n",
       "      <td>\\nبه گزارش خبرگزاری فارس، چهار بانوی تنیس روی ...</td>\n",
       "      <td>\\nبه گزارش خبرگزاری فارس و به نقل از  سایت باش...</td>\n",
       "      <td>\\nبه گزارش خبرنگار ورزشی خبرگزاری فارس، کمیته ...</td>\n",
       "      <td>\\nبه گزارش خبرنگار ورزشی خبرگزاری فارس، مجمع ا...</td>\n",
       "      <td>\\nبه گزارش خبرنگار ورزشی خبرگزاری فارس، تمرین ...</td>\n",
       "      <td>...</td>\n",
       "      <td>\\nاسماعیلی حسین زهی نماینده مردم خاش در مجلس ش...</td>\n",
       "      <td>\\nعبدالرضا مصری نایب رئیس مجلس شورای اسلامی در...</td>\n",
       "      <td>\\nبه گزارش گروه سیاسی خبرگزاری فارس، سیّد صولت...</td>\n",
       "      <td>\\nبه گزارش گروه سیاسی خبرگزاری فارس غلامحسین ا...</td>\n",
       "      <td>\\nغلامرضا منتظری نماینده مردم گرگان در مجلس شو...</td>\n",
       "      <td>\\nبه گزارش گروه دفاعی خبرگزاری فارس، دریادار ش...</td>\n",
       "      <td>\\nخبرگزاری فارس ـ یادداشت میهمان ـ مسعود مرادی...</td>\n",
       "      <td>\\nبه گزارش خبرنگار پارلمانی خبرگزاری فارس، هیا...</td>\n",
       "      <td>\\nبه گزارش خبرگزاری فارس به نقل از پایگاه اطلا...</td>\n",
       "      <td>\\nبه گزارش خبرنگار پارلمانی خبرگزاری فارس، جلس...</td>\n",
       "    </tr>\n",
       "    <tr>\n",
       "      <th>tags</th>\n",
       "      <td>[اعلام زمان, قرعه‌کشی, قرعه‌کشی جام, قرعه‌کشی ...</td>\n",
       "      <td>[سجادی, لیگ, فدراسیون, وزیر ورزش]</td>\n",
       "      <td>[دربی 94, محل برگزاری, خبری سرخابی‌ها, مجیدی, ...</td>\n",
       "      <td>[کمیته امداد امام خمینی (ره), کمیته ملی المپیک...</td>\n",
       "      <td>[بسکتبال, لیگ برتر بسکتبال, شهرداری گرگان, تیم...</td>\n",
       "      <td>[مهشید اشتری, تنیس روی میز, ملی پوشان تنیس روی...</td>\n",
       "      <td>[باشگاه استقلال, یحیی گل محمدی, فرهاد مجیدی, ن...</td>\n",
       "      <td>[باشگاه پرسپولیس, احضار مدیران پرسپولیس به کمی...</td>\n",
       "      <td>[والیبال, پیمان رضایی, تیم والیبال شهرداری ارو...</td>\n",
       "      <td>[دانشگر با تیم تمرین کرد, محمد دانشگر, استقلال]</td>\n",
       "      <td>...</td>\n",
       "      <td>[مجلس شورای اسلامی, کمیسیون عمران, اسماعیل حسی...</td>\n",
       "      <td>[سید ابراهیم رئیسی, مجلس شورای اسلامی, رئیس‌جم...</td>\n",
       "      <td>[سید ابراهیم رئیسی, صولت مرتضوی, سفر رئیسی به ...</td>\n",
       "      <td>[غلامحسین اسماعیلی, رئیس دفتر رئیس جمهور, زلزل...</td>\n",
       "      <td>[مجلس شورای اسلامی, غلامرضا منتظری, نایب رئیس ...</td>\n",
       "      <td>[ارتش جمهوری اسلامی ایران, شهرام ایرانی, نیروی...</td>\n",
       "      <td>[طالبان, یادداشت, گفتمان, جمهوری اسلامی ایران,...</td>\n",
       "      <td>[مجلس شورای اسلامی, سازمان سنجش و آموزش کشور, ...</td>\n",
       "      <td>[وزارت کشور, احمد وحیدی, وزیر کشور, وزارت علوم...</td>\n",
       "      <td>[سران قوا, رئیس مجلس, رئیس جمهور, رئیس قوه قضا...</td>\n",
       "    </tr>\n",
       "    <tr>\n",
       "      <th>date</th>\n",
       "      <td>3/15/2022 5:59:27 PM</td>\n",
       "      <td>3/15/2022 5:30:07 PM</td>\n",
       "      <td>3/15/2022 5:20:01 PM</td>\n",
       "      <td>3/15/2022 5:18:00 PM</td>\n",
       "      <td>3/15/2022 5:16:41 PM</td>\n",
       "      <td>3/15/2022 5:15:34 PM</td>\n",
       "      <td>3/15/2022 3:57:47 PM</td>\n",
       "      <td>3/15/2022 3:43:18 PM</td>\n",
       "      <td>3/15/2022 3:35:21 PM</td>\n",
       "      <td>3/15/2022 3:21:04 PM</td>\n",
       "      <td>...</td>\n",
       "      <td>10/17/2021 7:17:00 AM</td>\n",
       "      <td>10/17/2021 6:05:00 AM</td>\n",
       "      <td>10/16/2021 8:58:18 PM</td>\n",
       "      <td>10/16/2021 8:47:20 PM</td>\n",
       "      <td>10/16/2021 7:38:13 PM</td>\n",
       "      <td>10/16/2021 6:25:36 PM</td>\n",
       "      <td>10/16/2021 5:03:39 PM</td>\n",
       "      <td>10/16/2021 4:54:47 PM</td>\n",
       "      <td>10/16/2021 4:14:30 PM</td>\n",
       "      <td>10/16/2021 4:05:31 PM</td>\n",
       "    </tr>\n",
       "    <tr>\n",
       "      <th>url</th>\n",
       "      <td>https://www.farsnews.ir/news/14001224001005/اع...</td>\n",
       "      <td>https://www.farsnews.ir/news/14001224000982/سج...</td>\n",
       "      <td>https://www.farsnews.ir/news/14001224000971/مح...</td>\n",
       "      <td>https://www.farsnews.ir/news/14001224000964/ما...</td>\n",
       "      <td>https://www.farsnews.ir/news/14001224000947/لی...</td>\n",
       "      <td>https://www.farsnews.ir/news/14001224000916/مس...</td>\n",
       "      <td>https://www.farsnews.ir/news/14001224000865/اع...</td>\n",
       "      <td>https://www.farsnews.ir/news/14001224000842/اح...</td>\n",
       "      <td>https://www.farsnews.ir/news/14001224000811/مد...</td>\n",
       "      <td>https://www.farsnews.ir/news/14001224000819/خب...</td>\n",
       "      <td>...</td>\n",
       "      <td>https://www.farsnews.ir/news/14000724000586/کم...</td>\n",
       "      <td>https://www.farsnews.ir/news/14000724000679/مص...</td>\n",
       "      <td>https://www.farsnews.ir/news/14000724000905/رئ...</td>\n",
       "      <td>https://www.farsnews.ir/news/14000724000899/رئ...</td>\n",
       "      <td>https://www.farsnews.ir/news/14000724000826/جز...</td>\n",
       "      <td>https://www.farsnews.ir/news/14000724000790/دف...</td>\n",
       "      <td>https://www.farsnews.ir/news/14000724000611/نق...</td>\n",
       "      <td>https://www.farsnews.ir/news/14000724000694/رو...</td>\n",
       "      <td>https://www.farsnews.ir/news/14000724000651/مح...</td>\n",
       "      <td>https://www.farsnews.ir/news/14000724000639/جل...</td>\n",
       "    </tr>\n",
       "  </tbody>\n",
       "</table>\n",
       "<p>5 rows × 12202 columns</p>\n",
       "</div>"
      ],
      "text/plain": [
       "                                                     0      \\\n",
       "title       اعلام زمان قرعه کشی جام باشگاه های فوتسال آسیا   \n",
       "content  \\nبه گزارش خبرگزاری فارس، کنفدراسیون فوتبال آس...   \n",
       "tags     [اعلام زمان, قرعه‌کشی, قرعه‌کشی جام, قرعه‌کشی ...   \n",
       "date                                  3/15/2022 5:59:27 PM   \n",
       "url      https://www.farsnews.ir/news/14001224001005/اع...   \n",
       "\n",
       "                                                     1      \\\n",
       "title    سجادی :حضور تماشاگران در  لیگ برتر فوتبال تابع...   \n",
       "content  \\nبه گزارش خبرگزاری فارس، سید حمید سجادی در حا...   \n",
       "tags                     [سجادی, لیگ, فدراسیون, وزیر ورزش]   \n",
       "date                                  3/15/2022 5:30:07 PM   \n",
       "url      https://www.farsnews.ir/news/14001224000982/سج...   \n",
       "\n",
       "                                                     2      \\\n",
       "title    محل برگزاری نشست‌های خبری سرخابی‌ها؛ مجیدی در ...   \n",
       "content  \\nبه گزارش خبرگزاری فارس، نشست خبری پیش از مسا...   \n",
       "tags     [دربی 94, محل برگزاری, خبری سرخابی‌ها, مجیدی, ...   \n",
       "date                                  3/15/2022 5:20:01 PM   \n",
       "url      https://www.farsnews.ir/news/14001224000971/مح...   \n",
       "\n",
       "                                                     3      \\\n",
       "title    ماجدی در نشست با صالحی امیری: امیدوارم در این ...   \n",
       "content  \\nبه گزارش خبرگزاری فارس،  سید رضا صالحی امیری...   \n",
       "tags     [کمیته امداد امام خمینی (ره), کمیته ملی المپیک...   \n",
       "date                                  3/15/2022 5:18:00 PM   \n",
       "url      https://www.farsnews.ir/news/14001224000964/ما...   \n",
       "\n",
       "                                                     4      \\\n",
       "title    لیگ‌برتر بسکتبال|‌ نخستین پیروزی شهرداری گرگان...   \n",
       "content  \\nبه گزارش خبرنگار ورزشی خبرگزاری فارس، در نخس...   \n",
       "tags     [بسکتبال, لیگ برتر بسکتبال, شهرداری گرگان, تیم...   \n",
       "date                                  3/15/2022 5:16:41 PM   \n",
       "url      https://www.farsnews.ir/news/14001224000947/لی...   \n",
       "\n",
       "                                                     5      \\\n",
       "title    مسابقات تنیس روی میز فیدر قطر| هر4 بانوی ملی پ...   \n",
       "content  \\nبه گزارش خبرگزاری فارس، چهار بانوی تنیس روی ...   \n",
       "tags     [مهشید اشتری, تنیس روی میز, ملی پوشان تنیس روی...   \n",
       "date                                  3/15/2022 5:15:34 PM   \n",
       "url      https://www.farsnews.ir/news/14001224000916/مس...   \n",
       "\n",
       "                                                     6      \\\n",
       "title    اعلام برنامه نشست خبری گل محمدی/ مجیدی هم باید...   \n",
       "content  \\nبه گزارش خبرگزاری فارس و به نقل از  سایت باش...   \n",
       "tags     [باشگاه استقلال, یحیی گل محمدی, فرهاد مجیدی, ن...   \n",
       "date                                  3/15/2022 3:57:47 PM   \n",
       "url      https://www.farsnews.ir/news/14001224000865/اع...   \n",
       "\n",
       "                                                     7      \\\n",
       "title    احضار مدیران پرسپولیس به کمیته انضباطی  پیش از...   \n",
       "content  \\nبه گزارش خبرنگار ورزشی خبرگزاری فارس، کمیته ...   \n",
       "tags     [باشگاه پرسپولیس, احضار مدیران پرسپولیس به کمی...   \n",
       "date                                  3/15/2022 3:43:18 PM   \n",
       "url      https://www.farsnews.ir/news/14001224000842/اح...   \n",
       "\n",
       "                                                     8      \\\n",
       "title    مدیر بی‌دستاورد، رئیس شد/ روزگار تلخ‌تر از تلخ...   \n",
       "content  \\nبه گزارش خبرنگار ورزشی خبرگزاری فارس، مجمع ا...   \n",
       "tags     [والیبال, پیمان رضایی, تیم والیبال شهرداری ارو...   \n",
       "date                                  3/15/2022 3:35:21 PM   \n",
       "url      https://www.farsnews.ir/news/14001224000811/مد...   \n",
       "\n",
       "                                                     9      ...  \\\n",
       "title        خبر خوب برای استقلال؛ دانشگر با تیم تمرین کرد  ...   \n",
       "content  \\nبه گزارش خبرنگار ورزشی خبرگزاری فارس، تمرین ...  ...   \n",
       "tags       [دانشگر با تیم تمرین کرد, محمد دانشگر, استقلال]  ...   \n",
       "date                                  3/15/2022 3:21:04 PM  ...   \n",
       "url      https://www.farsnews.ir/news/14001224000819/خب...  ...   \n",
       "\n",
       "                                                     12192  \\\n",
       "title    کمیته ویژه‌ای از سوی رئیس جمهور مسئول پیگیری م...   \n",
       "content  \\nاسماعیلی حسین زهی نماینده مردم خاش در مجلس ش...   \n",
       "tags     [مجلس شورای اسلامی, کمیسیون عمران, اسماعیل حسی...   \n",
       "date                                 10/17/2021 7:17:00 AM   \n",
       "url      https://www.farsnews.ir/news/14000724000586/کم...   \n",
       "\n",
       "                                                     12193  \\\n",
       "title    مصری: با سفرهای استانی، کُلاه سر رئیس‌جمهور نم...   \n",
       "content  \\nعبدالرضا مصری نایب رئیس مجلس شورای اسلامی در...   \n",
       "tags     [سید ابراهیم رئیسی, مجلس شورای اسلامی, رئیس‌جم...   \n",
       "date                                 10/17/2021 6:05:00 AM   \n",
       "url      https://www.farsnews.ir/news/14000724000679/مص...   \n",
       "\n",
       "                                                     12194  \\\n",
       "title    رئیسی به اردبیل سفر می‌کند/ توضیحاتی درباره مق...   \n",
       "content  \\nبه گزارش گروه سیاسی خبرگزاری فارس، سیّد صولت...   \n",
       "tags     [سید ابراهیم رئیسی, صولت مرتضوی, سفر رئیسی به ...   \n",
       "date                                 10/16/2021 8:58:18 PM   \n",
       "url      https://www.farsnews.ir/news/14000724000905/رئ...   \n",
       "\n",
       "                                                     12195  \\\n",
       "title    رئیس دفتر رئیس جمهور وضعیت زلزله زرند را بررسی...   \n",
       "content  \\nبه گزارش گروه سیاسی خبرگزاری فارس غلامحسین ا...   \n",
       "tags     [غلامحسین اسماعیلی, رئیس دفتر رئیس جمهور, زلزل...   \n",
       "date                                 10/16/2021 8:47:20 PM   \n",
       "url      https://www.farsnews.ir/news/14000724000899/رئ...   \n",
       "\n",
       "                                                     12196  \\\n",
       "title    جزئیات گزارش سفر نظارتی اعضای کمیسیون فرهنگی م...   \n",
       "content  \\nغلامرضا منتظری نماینده مردم گرگان در مجلس شو...   \n",
       "tags     [مجلس شورای اسلامی, غلامرضا منتظری, نایب رئیس ...   \n",
       "date                                 10/16/2021 7:38:13 PM   \n",
       "url      https://www.farsnews.ir/news/14000724000826/جز...   \n",
       "\n",
       "                                                     12197  \\\n",
       "title    دفع حمله دزدان دریایی به دو نفتکش ایرانی توسط ...   \n",
       "content  \\nبه گزارش گروه دفاعی خبرگزاری فارس، دریادار ش...   \n",
       "tags     [ارتش جمهوری اسلامی ایران, شهرام ایرانی, نیروی...   \n",
       "date                                 10/16/2021 6:25:36 PM   \n",
       "url      https://www.farsnews.ir/news/14000724000790/دف...   \n",
       "\n",
       "                                                     12198  \\\n",
       "title    نقدی بر یادداشت «مرزبندی گفتمانی با طالبان»/ و...   \n",
       "content  \\nخبرگزاری فارس ـ یادداشت میهمان ـ مسعود مرادی...   \n",
       "tags     [طالبان, یادداشت, گفتمان, جمهوری اسلامی ایران,...   \n",
       "date                                 10/16/2021 5:03:39 PM   \n",
       "url      https://www.farsnews.ir/news/14000724000611/نق...   \n",
       "\n",
       "                                                     12199  \\\n",
       "title    روند تحقیق و تفحص از سازمان سنجش با جدیت ادامه...   \n",
       "content  \\nبه گزارش خبرنگار پارلمانی خبرگزاری فارس، هیا...   \n",
       "tags     [مجلس شورای اسلامی, سازمان سنجش و آموزش کشور, ...   \n",
       "date                                 10/16/2021 4:54:47 PM   \n",
       "url      https://www.farsnews.ir/news/14000724000694/رو...   \n",
       "\n",
       "                                                     12200  \\\n",
       "title     محسن اسلامی مدیرکل دفتر امور سیاسی وزارت کشور شد   \n",
       "content  \\nبه گزارش خبرگزاری فارس به نقل از پایگاه اطلا...   \n",
       "tags     [وزارت کشور, احمد وحیدی, وزیر کشور, وزارت علوم...   \n",
       "date                                 10/16/2021 4:14:30 PM   \n",
       "url      https://www.farsnews.ir/news/14000724000651/مح...   \n",
       "\n",
       "                                                     12201  \n",
       "title        جلسه سران قوا به‌ میزبانی رئیس مجلس برگزار شد  \n",
       "content  \\nبه گزارش خبرنگار پارلمانی خبرگزاری فارس، جلس...  \n",
       "tags     [سران قوا, رئیس مجلس, رئیس جمهور, رئیس قوه قضا...  \n",
       "date                                 10/16/2021 4:05:31 PM  \n",
       "url      https://www.farsnews.ir/news/14000724000639/جل...  \n",
       "\n",
       "[5 rows x 12202 columns]"
      ]
     },
     "execution_count": 5,
     "metadata": {},
     "output_type": "execute_result"
    }
   ],
   "source": [
    "df.head()"
   ]
  },
  {
   "cell_type": "code",
   "execution_count": 6,
   "id": "6d814c1a",
   "metadata": {},
   "outputs": [],
   "source": [
    "df = df.transpose()"
   ]
  },
  {
   "cell_type": "code",
   "execution_count": 7,
   "id": "24ed0cc5",
   "metadata": {},
   "outputs": [
    {
     "data": {
      "text/html": [
       "<div>\n",
       "<style scoped>\n",
       "    .dataframe tbody tr th:only-of-type {\n",
       "        vertical-align: middle;\n",
       "    }\n",
       "\n",
       "    .dataframe tbody tr th {\n",
       "        vertical-align: top;\n",
       "    }\n",
       "\n",
       "    .dataframe thead th {\n",
       "        text-align: right;\n",
       "    }\n",
       "</style>\n",
       "<table border=\"1\" class=\"dataframe\">\n",
       "  <thead>\n",
       "    <tr style=\"text-align: right;\">\n",
       "      <th></th>\n",
       "      <th>title</th>\n",
       "      <th>content</th>\n",
       "      <th>tags</th>\n",
       "      <th>date</th>\n",
       "      <th>url</th>\n",
       "      <th>category</th>\n",
       "    </tr>\n",
       "  </thead>\n",
       "  <tbody>\n",
       "    <tr>\n",
       "      <th>0</th>\n",
       "      <td>اعلام زمان قرعه کشی جام باشگاه های فوتسال آسیا</td>\n",
       "      <td>\\nبه گزارش خبرگزاری فارس، کنفدراسیون فوتبال آس...</td>\n",
       "      <td>[اعلام زمان, قرعه‌کشی, قرعه‌کشی جام, قرعه‌کشی ...</td>\n",
       "      <td>3/15/2022 5:59:27 PM</td>\n",
       "      <td>https://www.farsnews.ir/news/14001224001005/اع...</td>\n",
       "      <td>sports</td>\n",
       "    </tr>\n",
       "    <tr>\n",
       "      <th>1</th>\n",
       "      <td>سجادی :حضور تماشاگران در  لیگ برتر فوتبال تابع...</td>\n",
       "      <td>\\nبه گزارش خبرگزاری فارس، سید حمید سجادی در حا...</td>\n",
       "      <td>[سجادی, لیگ, فدراسیون, وزیر ورزش]</td>\n",
       "      <td>3/15/2022 5:30:07 PM</td>\n",
       "      <td>https://www.farsnews.ir/news/14001224000982/سج...</td>\n",
       "      <td>sports</td>\n",
       "    </tr>\n",
       "    <tr>\n",
       "      <th>2</th>\n",
       "      <td>محل برگزاری نشست‌های خبری سرخابی‌ها؛ مجیدی در ...</td>\n",
       "      <td>\\nبه گزارش خبرگزاری فارس، نشست خبری پیش از مسا...</td>\n",
       "      <td>[دربی 94, محل برگزاری, خبری سرخابی‌ها, مجیدی, ...</td>\n",
       "      <td>3/15/2022 5:20:01 PM</td>\n",
       "      <td>https://www.farsnews.ir/news/14001224000971/مح...</td>\n",
       "      <td>sports</td>\n",
       "    </tr>\n",
       "    <tr>\n",
       "      <th>3</th>\n",
       "      <td>ماجدی در نشست با صالحی امیری: امیدوارم در این ...</td>\n",
       "      <td>\\nبه گزارش خبرگزاری فارس،  سید رضا صالحی امیری...</td>\n",
       "      <td>[کمیته امداد امام خمینی (ره), کمیته ملی المپیک...</td>\n",
       "      <td>3/15/2022 5:18:00 PM</td>\n",
       "      <td>https://www.farsnews.ir/news/14001224000964/ما...</td>\n",
       "      <td>sports</td>\n",
       "    </tr>\n",
       "    <tr>\n",
       "      <th>4</th>\n",
       "      <td>لیگ‌برتر بسکتبال|‌ نخستین پیروزی شهرداری گرگان...</td>\n",
       "      <td>\\nبه گزارش خبرنگار ورزشی خبرگزاری فارس، در نخس...</td>\n",
       "      <td>[بسکتبال, لیگ برتر بسکتبال, شهرداری گرگان, تیم...</td>\n",
       "      <td>3/15/2022 5:16:41 PM</td>\n",
       "      <td>https://www.farsnews.ir/news/14001224000947/لی...</td>\n",
       "      <td>sports</td>\n",
       "    </tr>\n",
       "  </tbody>\n",
       "</table>\n",
       "</div>"
      ],
      "text/plain": [
       "                                               title  \\\n",
       "0     اعلام زمان قرعه کشی جام باشگاه های فوتسال آسیا   \n",
       "1  سجادی :حضور تماشاگران در  لیگ برتر فوتبال تابع...   \n",
       "2  محل برگزاری نشست‌های خبری سرخابی‌ها؛ مجیدی در ...   \n",
       "3  ماجدی در نشست با صالحی امیری: امیدوارم در این ...   \n",
       "4  لیگ‌برتر بسکتبال|‌ نخستین پیروزی شهرداری گرگان...   \n",
       "\n",
       "                                             content  \\\n",
       "0  \\nبه گزارش خبرگزاری فارس، کنفدراسیون فوتبال آس...   \n",
       "1  \\nبه گزارش خبرگزاری فارس، سید حمید سجادی در حا...   \n",
       "2  \\nبه گزارش خبرگزاری فارس، نشست خبری پیش از مسا...   \n",
       "3  \\nبه گزارش خبرگزاری فارس،  سید رضا صالحی امیری...   \n",
       "4  \\nبه گزارش خبرنگار ورزشی خبرگزاری فارس، در نخس...   \n",
       "\n",
       "                                                tags                  date  \\\n",
       "0  [اعلام زمان, قرعه‌کشی, قرعه‌کشی جام, قرعه‌کشی ...  3/15/2022 5:59:27 PM   \n",
       "1                  [سجادی, لیگ, فدراسیون, وزیر ورزش]  3/15/2022 5:30:07 PM   \n",
       "2  [دربی 94, محل برگزاری, خبری سرخابی‌ها, مجیدی, ...  3/15/2022 5:20:01 PM   \n",
       "3  [کمیته امداد امام خمینی (ره), کمیته ملی المپیک...  3/15/2022 5:18:00 PM   \n",
       "4  [بسکتبال, لیگ برتر بسکتبال, شهرداری گرگان, تیم...  3/15/2022 5:16:41 PM   \n",
       "\n",
       "                                                 url category  \n",
       "0  https://www.farsnews.ir/news/14001224001005/اع...   sports  \n",
       "1  https://www.farsnews.ir/news/14001224000982/سج...   sports  \n",
       "2  https://www.farsnews.ir/news/14001224000971/مح...   sports  \n",
       "3  https://www.farsnews.ir/news/14001224000964/ما...   sports  \n",
       "4  https://www.farsnews.ir/news/14001224000947/لی...   sports  "
      ]
     },
     "execution_count": 7,
     "metadata": {},
     "output_type": "execute_result"
    }
   ],
   "source": [
    "df.head()"
   ]
  },
  {
   "cell_type": "code",
   "execution_count": 8,
   "id": "dbef22e6",
   "metadata": {},
   "outputs": [],
   "source": [
    "df = df.reset_index().rename(columns={'index': 'id'})"
   ]
  },
  {
   "cell_type": "code",
   "execution_count": 9,
   "id": "8e2dd7e8",
   "metadata": {},
   "outputs": [
    {
     "data": {
      "text/html": [
       "<div>\n",
       "<style scoped>\n",
       "    .dataframe tbody tr th:only-of-type {\n",
       "        vertical-align: middle;\n",
       "    }\n",
       "\n",
       "    .dataframe tbody tr th {\n",
       "        vertical-align: top;\n",
       "    }\n",
       "\n",
       "    .dataframe thead th {\n",
       "        text-align: right;\n",
       "    }\n",
       "</style>\n",
       "<table border=\"1\" class=\"dataframe\">\n",
       "  <thead>\n",
       "    <tr style=\"text-align: right;\">\n",
       "      <th></th>\n",
       "      <th>id</th>\n",
       "      <th>title</th>\n",
       "      <th>content</th>\n",
       "      <th>tags</th>\n",
       "      <th>date</th>\n",
       "      <th>url</th>\n",
       "      <th>category</th>\n",
       "    </tr>\n",
       "  </thead>\n",
       "  <tbody>\n",
       "    <tr>\n",
       "      <th>0</th>\n",
       "      <td>0</td>\n",
       "      <td>اعلام زمان قرعه کشی جام باشگاه های فوتسال آسیا</td>\n",
       "      <td>\\nبه گزارش خبرگزاری فارس، کنفدراسیون فوتبال آس...</td>\n",
       "      <td>[اعلام زمان, قرعه‌کشی, قرعه‌کشی جام, قرعه‌کشی ...</td>\n",
       "      <td>3/15/2022 5:59:27 PM</td>\n",
       "      <td>https://www.farsnews.ir/news/14001224001005/اع...</td>\n",
       "      <td>sports</td>\n",
       "    </tr>\n",
       "    <tr>\n",
       "      <th>1</th>\n",
       "      <td>1</td>\n",
       "      <td>سجادی :حضور تماشاگران در  لیگ برتر فوتبال تابع...</td>\n",
       "      <td>\\nبه گزارش خبرگزاری فارس، سید حمید سجادی در حا...</td>\n",
       "      <td>[سجادی, لیگ, فدراسیون, وزیر ورزش]</td>\n",
       "      <td>3/15/2022 5:30:07 PM</td>\n",
       "      <td>https://www.farsnews.ir/news/14001224000982/سج...</td>\n",
       "      <td>sports</td>\n",
       "    </tr>\n",
       "    <tr>\n",
       "      <th>2</th>\n",
       "      <td>2</td>\n",
       "      <td>محل برگزاری نشست‌های خبری سرخابی‌ها؛ مجیدی در ...</td>\n",
       "      <td>\\nبه گزارش خبرگزاری فارس، نشست خبری پیش از مسا...</td>\n",
       "      <td>[دربی 94, محل برگزاری, خبری سرخابی‌ها, مجیدی, ...</td>\n",
       "      <td>3/15/2022 5:20:01 PM</td>\n",
       "      <td>https://www.farsnews.ir/news/14001224000971/مح...</td>\n",
       "      <td>sports</td>\n",
       "    </tr>\n",
       "    <tr>\n",
       "      <th>3</th>\n",
       "      <td>3</td>\n",
       "      <td>ماجدی در نشست با صالحی امیری: امیدوارم در این ...</td>\n",
       "      <td>\\nبه گزارش خبرگزاری فارس،  سید رضا صالحی امیری...</td>\n",
       "      <td>[کمیته امداد امام خمینی (ره), کمیته ملی المپیک...</td>\n",
       "      <td>3/15/2022 5:18:00 PM</td>\n",
       "      <td>https://www.farsnews.ir/news/14001224000964/ما...</td>\n",
       "      <td>sports</td>\n",
       "    </tr>\n",
       "    <tr>\n",
       "      <th>4</th>\n",
       "      <td>4</td>\n",
       "      <td>لیگ‌برتر بسکتبال|‌ نخستین پیروزی شهرداری گرگان...</td>\n",
       "      <td>\\nبه گزارش خبرنگار ورزشی خبرگزاری فارس، در نخس...</td>\n",
       "      <td>[بسکتبال, لیگ برتر بسکتبال, شهرداری گرگان, تیم...</td>\n",
       "      <td>3/15/2022 5:16:41 PM</td>\n",
       "      <td>https://www.farsnews.ir/news/14001224000947/لی...</td>\n",
       "      <td>sports</td>\n",
       "    </tr>\n",
       "  </tbody>\n",
       "</table>\n",
       "</div>"
      ],
      "text/plain": [
       "   id                                              title  \\\n",
       "0   0     اعلام زمان قرعه کشی جام باشگاه های فوتسال آسیا   \n",
       "1   1  سجادی :حضور تماشاگران در  لیگ برتر فوتبال تابع...   \n",
       "2   2  محل برگزاری نشست‌های خبری سرخابی‌ها؛ مجیدی در ...   \n",
       "3   3  ماجدی در نشست با صالحی امیری: امیدوارم در این ...   \n",
       "4   4  لیگ‌برتر بسکتبال|‌ نخستین پیروزی شهرداری گرگان...   \n",
       "\n",
       "                                             content  \\\n",
       "0  \\nبه گزارش خبرگزاری فارس، کنفدراسیون فوتبال آس...   \n",
       "1  \\nبه گزارش خبرگزاری فارس، سید حمید سجادی در حا...   \n",
       "2  \\nبه گزارش خبرگزاری فارس، نشست خبری پیش از مسا...   \n",
       "3  \\nبه گزارش خبرگزاری فارس،  سید رضا صالحی امیری...   \n",
       "4  \\nبه گزارش خبرنگار ورزشی خبرگزاری فارس، در نخس...   \n",
       "\n",
       "                                                tags                  date  \\\n",
       "0  [اعلام زمان, قرعه‌کشی, قرعه‌کشی جام, قرعه‌کشی ...  3/15/2022 5:59:27 PM   \n",
       "1                  [سجادی, لیگ, فدراسیون, وزیر ورزش]  3/15/2022 5:30:07 PM   \n",
       "2  [دربی 94, محل برگزاری, خبری سرخابی‌ها, مجیدی, ...  3/15/2022 5:20:01 PM   \n",
       "3  [کمیته امداد امام خمینی (ره), کمیته ملی المپیک...  3/15/2022 5:18:00 PM   \n",
       "4  [بسکتبال, لیگ برتر بسکتبال, شهرداری گرگان, تیم...  3/15/2022 5:16:41 PM   \n",
       "\n",
       "                                                 url category  \n",
       "0  https://www.farsnews.ir/news/14001224001005/اع...   sports  \n",
       "1  https://www.farsnews.ir/news/14001224000982/سج...   sports  \n",
       "2  https://www.farsnews.ir/news/14001224000971/مح...   sports  \n",
       "3  https://www.farsnews.ir/news/14001224000964/ما...   sports  \n",
       "4  https://www.farsnews.ir/news/14001224000947/لی...   sports  "
      ]
     },
     "execution_count": 9,
     "metadata": {},
     "output_type": "execute_result"
    }
   ],
   "source": [
    "df.head()"
   ]
  },
  {
   "cell_type": "code",
   "execution_count": 10,
   "id": "ea0a6289",
   "metadata": {},
   "outputs": [
    {
     "name": "stdout",
     "output_type": "stream",
     "text": [
      "<class 'pandas.core.frame.DataFrame'>\n",
      "RangeIndex: 12202 entries, 0 to 12201\n",
      "Data columns (total 7 columns):\n",
      " #   Column    Non-Null Count  Dtype \n",
      "---  ------    --------------  ----- \n",
      " 0   id        12202 non-null  int64 \n",
      " 1   title     12202 non-null  object\n",
      " 2   content   12202 non-null  object\n",
      " 3   tags      12202 non-null  object\n",
      " 4   date      12202 non-null  object\n",
      " 5   url       12202 non-null  object\n",
      " 6   category  12202 non-null  object\n",
      "dtypes: int64(1), object(6)\n",
      "memory usage: 667.4+ KB\n"
     ]
    }
   ],
   "source": [
    "df.info()"
   ]
  },
  {
   "cell_type": "code",
   "execution_count": 11,
   "id": "ecdcd363",
   "metadata": {
    "scrolled": true
   },
   "outputs": [
    {
     "data": {
      "text/html": [
       "<div>\n",
       "<style scoped>\n",
       "    .dataframe tbody tr th:only-of-type {\n",
       "        vertical-align: middle;\n",
       "    }\n",
       "\n",
       "    .dataframe tbody tr th {\n",
       "        vertical-align: top;\n",
       "    }\n",
       "\n",
       "    .dataframe thead th {\n",
       "        text-align: right;\n",
       "    }\n",
       "</style>\n",
       "<table border=\"1\" class=\"dataframe\">\n",
       "  <thead>\n",
       "    <tr style=\"text-align: right;\">\n",
       "      <th></th>\n",
       "      <th>count</th>\n",
       "      <th>mean</th>\n",
       "      <th>std</th>\n",
       "      <th>min</th>\n",
       "      <th>25%</th>\n",
       "      <th>50%</th>\n",
       "      <th>75%</th>\n",
       "      <th>max</th>\n",
       "    </tr>\n",
       "  </thead>\n",
       "  <tbody>\n",
       "    <tr>\n",
       "      <th>id</th>\n",
       "      <td>12202.0</td>\n",
       "      <td>6100.5</td>\n",
       "      <td>3522.558327</td>\n",
       "      <td>0.0</td>\n",
       "      <td>3050.25</td>\n",
       "      <td>6100.5</td>\n",
       "      <td>9150.75</td>\n",
       "      <td>12201.0</td>\n",
       "    </tr>\n",
       "  </tbody>\n",
       "</table>\n",
       "</div>"
      ],
      "text/plain": [
       "      count    mean          std  min      25%     50%      75%      max\n",
       "id  12202.0  6100.5  3522.558327  0.0  3050.25  6100.5  9150.75  12201.0"
      ]
     },
     "execution_count": 11,
     "metadata": {},
     "output_type": "execute_result"
    }
   ],
   "source": [
    "df.describe().transpose()"
   ]
  },
  {
   "cell_type": "code",
   "execution_count": 12,
   "id": "5698993d",
   "metadata": {},
   "outputs": [
    {
     "data": {
      "text/plain": [
       "id                                                          0\n",
       "title          اعلام زمان قرعه کشی جام باشگاه های فوتسال آسیا\n",
       "content     \\nبه گزارش خبرگزاری فارس، کنفدراسیون فوتبال آس...\n",
       "tags        [اعلام زمان, قرعه‌کشی, قرعه‌کشی جام, قرعه‌کشی ...\n",
       "date                                     3/15/2022 5:59:27 PM\n",
       "url         https://www.farsnews.ir/news/14001224001005/اع...\n",
       "category                                               sports\n",
       "Name: 0, dtype: object"
      ]
     },
     "execution_count": 12,
     "metadata": {},
     "output_type": "execute_result"
    }
   ],
   "source": [
    "df.iloc[0]"
   ]
  },
  {
   "cell_type": "code",
   "execution_count": 13,
   "id": "530f9cd9",
   "metadata": {},
   "outputs": [
    {
     "data": {
      "text/plain": [
       "'اعلام زمان قرعه کشی جام باشگاه های فوتسال آسیا'"
      ]
     },
     "execution_count": 13,
     "metadata": {},
     "output_type": "execute_result"
    }
   ],
   "source": [
    "df.iloc[0]['title']"
   ]
  },
  {
   "cell_type": "code",
   "execution_count": 14,
   "id": "f378f699",
   "metadata": {
    "scrolled": true
   },
   "outputs": [
    {
     "data": {
      "text/plain": [
       "'\\nبه گزارش خبرگزاری فارس، کنفدراسیون فوتبال آسیا (AFC) در نامه ای رسمی به فدراسیون فوتبال ایران و باشگاه گیتی پسند زمان\\xa0 قرعه کشی جام باشگاه های فوتسال آسیا را رسماً اعلام کرد. بر این اساس 25 فروردین ماه 1401 مراسم قرعه کشی جام باشگاه های فوتسال آسیا در مالزی برگزار می شود. باشگاه گیتی پسند بعنوان قهرمان فوتسال ایران در سال 1400 به این مسابقات راه پیدا کرده است. پیش از این گیتی پسند تجربه 3 دوره حضور در جام باشگاه های فوتسال آسیا را داشته که هر سه دوره به فینال مسابقات راه پیدا کرده و یک عنوان قهرمانی و دو مقام دومی بدست آورده است. انتهای پیام/\\n\\n\\n'"
      ]
     },
     "execution_count": 14,
     "metadata": {},
     "output_type": "execute_result"
    }
   ],
   "source": [
    "df.iloc[0]['content']"
   ]
  },
  {
   "cell_type": "code",
   "execution_count": 15,
   "id": "5178c009",
   "metadata": {
    "scrolled": true
   },
   "outputs": [
    {
     "name": "stdout",
     "output_type": "stream",
     "text": [
      "\n",
      "به گزارش خبرگزاری فارس، کنفدراسیون فوتبال آسیا (AFC) در نامه ای رسمی به فدراسیون فوتبال ایران و باشگاه گیتی پسند زمان  قرعه کشی جام باشگاه های فوتسال آسیا را رسماً اعلام کرد. بر این اساس 25 فروردین ماه 1401 مراسم قرعه کشی جام باشگاه های فوتسال آسیا در مالزی برگزار می شود. باشگاه گیتی پسند بعنوان قهرمان فوتسال ایران در سال 1400 به این مسابقات راه پیدا کرده است. پیش از این گیتی پسند تجربه 3 دوره حضور در جام باشگاه های فوتسال آسیا را داشته که هر سه دوره به فینال مسابقات راه پیدا کرده و یک عنوان قهرمانی و دو مقام دومی بدست آورده است. انتهای پیام/\n",
      "\n",
      "\n",
      "\n"
     ]
    }
   ],
   "source": [
    "print(df.iloc[0]['content'])"
   ]
  },
  {
   "cell_type": "code",
   "execution_count": 16,
   "id": "4a988e05",
   "metadata": {},
   "outputs": [
    {
     "data": {
      "text/plain": [
       "['اعلام زمان',\n",
       " 'قرعه\\u200cکشی',\n",
       " 'قرعه\\u200cکشی جام',\n",
       " 'قرعه\\u200cکشی جام باشگاه\\u200cهای فوتسال',\n",
       " 'ای اف سی',\n",
       " 'گیتی پسند']"
      ]
     },
     "execution_count": 16,
     "metadata": {},
     "output_type": "execute_result"
    }
   ],
   "source": [
    "df.iloc[0]['tags']"
   ]
  },
  {
   "cell_type": "code",
   "execution_count": 17,
   "id": "c4f3c8fb",
   "metadata": {},
   "outputs": [
    {
     "name": "stdout",
     "output_type": "stream",
     "text": [
      "اعلام زمان\n",
      "قرعه‌کشی\n",
      "قرعه‌کشی جام\n",
      "قرعه‌کشی جام باشگاه‌های فوتسال\n",
      "ای اف سی\n",
      "گیتی پسند\n"
     ]
    }
   ],
   "source": [
    "for item in df.iloc[0]['tags']:\n",
    "    print(item)"
   ]
  },
  {
   "cell_type": "code",
   "execution_count": 18,
   "id": "89c9397c",
   "metadata": {},
   "outputs": [
    {
     "data": {
      "text/plain": [
       "'3/15/2022 5:59:27 PM'"
      ]
     },
     "execution_count": 18,
     "metadata": {},
     "output_type": "execute_result"
    }
   ],
   "source": [
    "df.iloc[0]['date']"
   ]
  },
  {
   "cell_type": "code",
   "execution_count": 19,
   "id": "807bf1e9",
   "metadata": {
    "scrolled": true
   },
   "outputs": [
    {
     "data": {
      "text/plain": [
       "'https://www.farsnews.ir/news/14001224001005/اعلام-زمان-قرعه-کشی-جام-باشگاه-های-فوتسال-آسیا'"
      ]
     },
     "execution_count": 19,
     "metadata": {},
     "output_type": "execute_result"
    }
   ],
   "source": [
    "df.iloc[0]['url']"
   ]
  },
  {
   "cell_type": "markdown",
   "id": "b0a60d8e",
   "metadata": {},
   "source": [
    "# Preprocessing"
   ]
  },
  {
   "cell_type": "markdown",
   "id": "f1949b84",
   "metadata": {},
   "source": [
    "## Deleting some extra stuff in content"
   ]
  },
  {
   "cell_type": "code",
   "execution_count": 20,
   "id": "b1b2049e",
   "metadata": {},
   "outputs": [],
   "source": [
    "import re\n",
    "\n",
    "def del_end_of_message(message):\n",
    "    return message.replace('انتهای پیام/', '')"
   ]
  },
  {
   "cell_type": "code",
   "execution_count": 21,
   "id": "d5439c5a",
   "metadata": {},
   "outputs": [
    {
     "name": "stdout",
     "output_type": "stream",
     "text": [
      "\n",
      "به گزارش خبرگزاری فارس، کنفدراسیون فوتبال آسیا (AFC) در نامه ای رسمی به فدراسیون فوتبال ایران و باشگاه گیتی پسند زمان  قرعه کشی جام باشگاه های فوتسال آسیا را رسماً اعلام کرد. بر این اساس 25 فروردین ماه 1401 مراسم قرعه کشی جام باشگاه های فوتسال آسیا در مالزی برگزار می شود. باشگاه گیتی پسند بعنوان قهرمان فوتسال ایران در سال 1400 به این مسابقات راه پیدا کرده است. پیش از این گیتی پسند تجربه 3 دوره حضور در جام باشگاه های فوتسال آسیا را داشته که هر سه دوره به فینال مسابقات راه پیدا کرده و یک عنوان قهرمانی و دو مقام دومی بدست آورده است. انتهای پیام/\n",
      "\n",
      "\n",
      "\n"
     ]
    }
   ],
   "source": [
    "print(df['content'].iloc[0])"
   ]
  },
  {
   "cell_type": "code",
   "execution_count": 22,
   "id": "319113b0",
   "metadata": {},
   "outputs": [
    {
     "name": "stdout",
     "output_type": "stream",
     "text": [
      "\n",
      "به گزارش خبرگزاری فارس، کنفدراسیون فوتبال آسیا (AFC) در نامه ای رسمی به فدراسیون فوتبال ایران و باشگاه گیتی پسند زمان  قرعه کشی جام باشگاه های فوتسال آسیا را رسماً اعلام کرد. بر این اساس 25 فروردین ماه 1401 مراسم قرعه کشی جام باشگاه های فوتسال آسیا در مالزی برگزار می شود. باشگاه گیتی پسند بعنوان قهرمان فوتسال ایران در سال 1400 به این مسابقات راه پیدا کرده است. پیش از این گیتی پسند تجربه 3 دوره حضور در جام باشگاه های فوتسال آسیا را داشته که هر سه دوره به فینال مسابقات راه پیدا کرده و یک عنوان قهرمانی و دو مقام دومی بدست آورده است. \n",
      "\n",
      "\n",
      "\n"
     ]
    }
   ],
   "source": [
    "print(del_end_of_message(df['content'].iloc[0]))"
   ]
  },
  {
   "cell_type": "markdown",
   "id": "35530632",
   "metadata": {},
   "source": [
    "## Deleting punctuation "
   ]
  },
  {
   "cell_type": "code",
   "execution_count": 23,
   "id": "4465bc9a",
   "metadata": {},
   "outputs": [],
   "source": [
    "import string\n",
    "\n",
    "def del_punc(content):\n",
    "    puncs = string.punctuation + \"\".join(['؛', '_', '،', '؟', '؛', '»', '«', 'ـ', '،'])\n",
    "    \n",
    "    return content.translate(content.maketrans(\"\", \"\", puncs))"
   ]
  },
  {
   "cell_type": "code",
   "execution_count": 24,
   "id": "af091205",
   "metadata": {},
   "outputs": [
    {
     "name": "stdout",
     "output_type": "stream",
     "text": [
      "\n",
      "به گزارش خبرگزاری فارس، کنفدراسیون فوتبال آسیا (AFC) در نامه ای رسمی به فدراسیون فوتبال ایران و باشگاه گیتی پسند زمان  قرعه کشی جام باشگاه های فوتسال آسیا را رسماً اعلام کرد. بر این اساس 25 فروردین ماه 1401 مراسم قرعه کشی جام باشگاه های فوتسال آسیا در مالزی برگزار می شود. باشگاه گیتی پسند بعنوان قهرمان فوتسال ایران در سال 1400 به این مسابقات راه پیدا کرده است. پیش از این گیتی پسند تجربه 3 دوره حضور در جام باشگاه های فوتسال آسیا را داشته که هر سه دوره به فینال مسابقات راه پیدا کرده و یک عنوان قهرمانی و دو مقام دومی بدست آورده است. انتهای پیام/\n",
      "\n",
      "\n",
      "\n"
     ]
    }
   ],
   "source": [
    "print(df['content'].iloc[0])"
   ]
  },
  {
   "cell_type": "code",
   "execution_count": 25,
   "id": "c51a4f2c",
   "metadata": {},
   "outputs": [
    {
     "name": "stdout",
     "output_type": "stream",
     "text": [
      "\n",
      "به گزارش خبرگزاری فارس کنفدراسیون فوتبال آسیا AFC در نامه ای رسمی به فدراسیون فوتبال ایران و باشگاه گیتی پسند زمان  قرعه کشی جام باشگاه های فوتسال آسیا را رسماً اعلام کرد بر این اساس 25 فروردین ماه 1401 مراسم قرعه کشی جام باشگاه های فوتسال آسیا در مالزی برگزار می شود باشگاه گیتی پسند بعنوان قهرمان فوتسال ایران در سال 1400 به این مسابقات راه پیدا کرده است پیش از این گیتی پسند تجربه 3 دوره حضور در جام باشگاه های فوتسال آسیا را داشته که هر سه دوره به فینال مسابقات راه پیدا کرده و یک عنوان قهرمانی و دو مقام دومی بدست آورده است انتهای پیام\n",
      "\n",
      "\n",
      "\n"
     ]
    }
   ],
   "source": [
    "print(del_punc(df['content'].iloc[0]))"
   ]
  },
  {
   "cell_type": "markdown",
   "id": "feaddd1f",
   "metadata": {},
   "source": [
    "## Doing normalization"
   ]
  },
  {
   "cell_type": "code",
   "execution_count": 26,
   "id": "87ef83bc",
   "metadata": {},
   "outputs": [],
   "source": [
    "from parsivar import Normalizer\n",
    "\n",
    "normalizer = Normalizer(statistical_space_correction=True)\n",
    "def normalize(content):\n",
    "    return normalizer.normalize(content)"
   ]
  },
  {
   "cell_type": "code",
   "execution_count": 27,
   "id": "a43cd74f",
   "metadata": {
    "scrolled": true
   },
   "outputs": [
    {
     "name": "stdout",
     "output_type": "stream",
     "text": [
      "\n",
      "به گزارش خبرگزاری فارس، کنفدراسیون فوتبال آسیا (AFC) در نامه ای رسمی به فدراسیون فوتبال ایران و باشگاه گیتی پسند زمان  قرعه کشی جام باشگاه های فوتسال آسیا را رسماً اعلام کرد. بر این اساس 25 فروردین ماه 1401 مراسم قرعه کشی جام باشگاه های فوتسال آسیا در مالزی برگزار می شود. باشگاه گیتی پسند بعنوان قهرمان فوتسال ایران در سال 1400 به این مسابقات راه پیدا کرده است. پیش از این گیتی پسند تجربه 3 دوره حضور در جام باشگاه های فوتسال آسیا را داشته که هر سه دوره به فینال مسابقات راه پیدا کرده و یک عنوان قهرمانی و دو مقام دومی بدست آورده است. انتهای پیام/\n",
      "\n",
      "\n",
      "\n"
     ]
    }
   ],
   "source": [
    "print(df['content'].iloc[0])"
   ]
  },
  {
   "cell_type": "code",
   "execution_count": 28,
   "id": "b0dc18fb",
   "metadata": {},
   "outputs": [
    {
     "name": "stdout",
     "output_type": "stream",
     "text": [
      "به گزارش خبرگزاری فارس ، کنفدراسیون فوتبال آسیا ( AFC ) در نامه‌ای رسمی به فدراسیون فوتبال ایران و باشگاه گیتی پسند زمان قرعه‌کشی جام باشگاه‌های فوتسال آسیا را رسما اعلام کرد . بر این اساس 25 فروردین ماه 1401 مراسم قرعه‌کشی جام باشگاه‌های فوتسال آسیا در مالزی برگزار می‌شود . باشگاه گیتی‌پسند بعنوان قهرمان فوتسال ایران در سال 1400 به این مسابقات راه پیدا کرده است . پیش از این گیتی پسند تجربه 3 دوره حضور در جام باشگاه‌های فوتسال آسیا را داشته که هر سه دوره به فینال مسابقات راه پیدا کرده و یک عنوان قهرمانی و دو مقام دومی بدست‌آورده است . انتهای پیام / \n"
     ]
    }
   ],
   "source": [
    "print(normalize(df['content'].iloc[0]))"
   ]
  },
  {
   "cell_type": "markdown",
   "id": "e22d57e4",
   "metadata": {},
   "source": [
    "## Doing tokenization"
   ]
  },
  {
   "cell_type": "code",
   "execution_count": 29,
   "id": "9148572f",
   "metadata": {},
   "outputs": [],
   "source": [
    "from hazm import word_tokenize"
   ]
  },
  {
   "cell_type": "code",
   "execution_count": 30,
   "id": "df9a3091",
   "metadata": {},
   "outputs": [],
   "source": [
    "def tokenize(content):\n",
    "    return word_tokenize(content)"
   ]
  },
  {
   "cell_type": "code",
   "execution_count": 31,
   "id": "0e964c18",
   "metadata": {},
   "outputs": [
    {
     "name": "stdout",
     "output_type": "stream",
     "text": [
      "\n",
      "به گزارش خبرگزاری فارس، کنفدراسیون فوتبال آسیا (AFC) در نامه ای رسمی به فدراسیون فوتبال ایران و باشگاه گیتی پسند زمان  قرعه کشی جام باشگاه های فوتسال آسیا را رسماً اعلام کرد. بر این اساس 25 فروردین ماه 1401 مراسم قرعه کشی جام باشگاه های فوتسال آسیا در مالزی برگزار می شود. باشگاه گیتی پسند بعنوان قهرمان فوتسال ایران در سال 1400 به این مسابقات راه پیدا کرده است. پیش از این گیتی پسند تجربه 3 دوره حضور در جام باشگاه های فوتسال آسیا را داشته که هر سه دوره به فینال مسابقات راه پیدا کرده و یک عنوان قهرمانی و دو مقام دومی بدست آورده است. انتهای پیام/\n",
      "\n",
      "\n",
      "\n"
     ]
    }
   ],
   "source": [
    "print(df['content'].iloc[0])"
   ]
  },
  {
   "cell_type": "code",
   "execution_count": 32,
   "id": "8877fc8b",
   "metadata": {},
   "outputs": [
    {
     "data": {
      "text/plain": [
       "['به',\n",
       " 'گزارش',\n",
       " 'خبرگزاری',\n",
       " 'فارس',\n",
       " '،',\n",
       " 'کنفدراسیون',\n",
       " 'فوتبال',\n",
       " 'آسیا',\n",
       " '(',\n",
       " 'AFC',\n",
       " ')',\n",
       " 'در',\n",
       " 'نامه',\n",
       " 'ای',\n",
       " 'رسمی',\n",
       " 'به',\n",
       " 'فدراسیون',\n",
       " 'فوتبال',\n",
       " 'ایران',\n",
       " 'و',\n",
       " 'باشگاه',\n",
       " 'گیتی',\n",
       " 'پسند',\n",
       " 'زمان\\xa0',\n",
       " 'قرعه',\n",
       " 'کشی',\n",
       " 'جام',\n",
       " 'باشگاه',\n",
       " 'های',\n",
       " 'فوتسال',\n",
       " 'آسیا',\n",
       " 'را',\n",
       " 'رسماً',\n",
       " 'اعلام',\n",
       " 'کرد',\n",
       " '.',\n",
       " 'بر',\n",
       " 'این',\n",
       " 'اساس',\n",
       " '25',\n",
       " 'فروردین',\n",
       " 'ماه',\n",
       " '1401',\n",
       " 'مراسم',\n",
       " 'قرعه',\n",
       " 'کشی',\n",
       " 'جام',\n",
       " 'باشگاه',\n",
       " 'های',\n",
       " 'فوتسال',\n",
       " 'آسیا',\n",
       " 'در',\n",
       " 'مالزی',\n",
       " 'برگزار',\n",
       " 'می',\n",
       " 'شود',\n",
       " '.',\n",
       " 'باشگاه',\n",
       " 'گیتی',\n",
       " 'پسند',\n",
       " 'بعنوان',\n",
       " 'قهرمان',\n",
       " 'فوتسال',\n",
       " 'ایران',\n",
       " 'در',\n",
       " 'سال',\n",
       " '1400',\n",
       " 'به',\n",
       " 'این',\n",
       " 'مسابقات',\n",
       " 'راه',\n",
       " 'پیدا',\n",
       " 'کرده_است',\n",
       " '.',\n",
       " 'پیش',\n",
       " 'از',\n",
       " 'این',\n",
       " 'گیتی',\n",
       " 'پسند',\n",
       " 'تجربه',\n",
       " '3',\n",
       " 'دوره',\n",
       " 'حضور',\n",
       " 'در',\n",
       " 'جام',\n",
       " 'باشگاه',\n",
       " 'های',\n",
       " 'فوتسال',\n",
       " 'آسیا',\n",
       " 'را',\n",
       " 'داشته',\n",
       " 'که',\n",
       " 'هر',\n",
       " 'سه',\n",
       " 'دوره',\n",
       " 'به',\n",
       " 'فینال',\n",
       " 'مسابقات',\n",
       " 'راه',\n",
       " 'پیدا',\n",
       " 'کرده',\n",
       " 'و',\n",
       " 'یک',\n",
       " 'عنوان',\n",
       " 'قهرمانی',\n",
       " 'و',\n",
       " 'دو',\n",
       " 'مقام',\n",
       " 'دومی',\n",
       " 'بدست',\n",
       " 'آورده_است',\n",
       " '.',\n",
       " 'انتهای',\n",
       " 'پیام/']"
      ]
     },
     "execution_count": 32,
     "metadata": {},
     "output_type": "execute_result"
    }
   ],
   "source": [
    "tokenize(df['content'].iloc[0])"
   ]
  },
  {
   "cell_type": "code",
   "execution_count": 33,
   "id": "b11002ff",
   "metadata": {},
   "outputs": [
    {
     "name": "stdout",
     "output_type": "stream",
     "text": [
      "\n",
      "به گزارش خبرگزاری فارس، کنفدراسیون فوتبال آسیا (AFC) در نامه ای رسمی به فدراسیون فوتبال ایران و باشگاه گیتی پسند زمان  قرعه کشی جام باشگاه های فوتسال آسیا را رسماً اعلام کرد. بر این اساس 25 فروردین ماه 1401 مراسم قرعه کشی جام باشگاه های فوتسال آسیا در مالزی برگزار می شود. باشگاه گیتی پسند بعنوان قهرمان فوتسال ایران در سال 1400 به این مسابقات راه پیدا کرده است. پیش از این گیتی پسند تجربه 3 دوره حضور در جام باشگاه های فوتسال آسیا را داشته که هر سه دوره به فینال مسابقات راه پیدا کرده و یک عنوان قهرمانی و دو مقام دومی بدست آورده است. انتهای پیام/\n",
      "\n",
      "\n",
      "\n"
     ]
    }
   ],
   "source": [
    "print(df['content'].iloc[0])"
   ]
  },
  {
   "cell_type": "markdown",
   "id": "3ac4735a",
   "metadata": {},
   "source": [
    "## Doing stemming"
   ]
  },
  {
   "cell_type": "code",
   "execution_count": 34,
   "id": "81d40e6b",
   "metadata": {},
   "outputs": [],
   "source": [
    "from parsivar import FindStems\n",
    "\n",
    "stemmer = FindStems()\n",
    "\n",
    "def stem(content):\n",
    "    return stemmer.convert_to_stem(content)"
   ]
  },
  {
   "cell_type": "code",
   "execution_count": 35,
   "id": "773c9139",
   "metadata": {},
   "outputs": [
    {
     "name": "stdout",
     "output_type": "stream",
     "text": [
      "\n",
      "به گزارش خبرگزاری فارس، کنفدراسیون فوتبال آسیا (AFC) در نامه ای رسمی به فدراسیون فوتبال ایران و باشگاه گیتی پسند زمان  قرعه کشی جام باشگاه های فوتسال آسیا را رسماً اعلام کرد. بر این اساس 25 فروردین ماه 1401 مراسم قرعه کشی جام باشگاه های فوتسال آسیا در مالزی برگزار می شود. باشگاه گیتی پسند بعنوان قهرمان فوتسال ایران در سال 1400 به این مسابقات راه پیدا کرده است. پیش از این گیتی پسند تجربه 3 دوره حضور در جام باشگاه های فوتسال آسیا را داشته که هر سه دوره به فینال مسابقات راه پیدا کرده و یک عنوان قهرمانی و دو مقام دومی بدست آورده است. انتهای پیام/\n",
      "\n",
      "\n",
      "\n"
     ]
    }
   ],
   "source": [
    "print(df['content'].iloc[0])"
   ]
  },
  {
   "cell_type": "code",
   "execution_count": 36,
   "id": "918a2fea",
   "metadata": {},
   "outputs": [
    {
     "name": "stdout",
     "output_type": "stream",
     "text": [
      "به گزارش خبرگزاری فارس ، کنفدراسیون فوتبال آسیا ( AFC ) در نامه ای رسمی به فدراسیون فوتبال ایران و باشگاه گیتی پسند زمان  قرعه کشید&کش جام باشگاه های فوتسال آسیا را رسماً اعلام کرد . بر این اساس 25 فروردین ماه 1401 مراسم قرعه کشید&کش جام باشگاه های فوتسال آسیا در مالزی برگزار می شد&شو . باشگاه گیتی پسند بعنوان قهرمان فوتسال ایران در سال 1400 به این مسابقات راه پیدا کرده_است . پیش از این گیتی پسند تجربه 3 دوره حضور در جام باشگاه های فوتسال آسیا را داشته که هر سه دوره به فینال مسابقات راه پیدا کرده و یک عنوان قهرمانی و دو مقام دومی بدست آورده_است . انتهای پیام/ "
     ]
    }
   ],
   "source": [
    "for term in tokenize(df['content'].iloc[0]):\n",
    "    print(stem(term), end=' ')"
   ]
  },
  {
   "cell_type": "markdown",
   "id": "c93fedf5",
   "metadata": {},
   "source": [
    "## Stop words"
   ]
  },
  {
   "cell_type": "code",
   "execution_count": 37,
   "id": "ef7279f2",
   "metadata": {},
   "outputs": [],
   "source": [
    "from hazm import stopwords_list\n",
    "\n",
    "persian_stop_words = stopwords_list()"
   ]
  },
  {
   "cell_type": "code",
   "execution_count": 38,
   "id": "06ddec70",
   "metadata": {},
   "outputs": [
    {
     "data": {
      "text/plain": [
       "['و',\n",
       " 'در',\n",
       " 'به',\n",
       " 'از',\n",
       " 'که',\n",
       " 'این',\n",
       " 'را',\n",
       " 'با',\n",
       " 'است',\n",
       " 'برای',\n",
       " 'آن',\n",
       " 'یک',\n",
       " 'خود',\n",
       " 'تا',\n",
       " 'کرد',\n",
       " 'بر',\n",
       " 'هم',\n",
       " 'نیز',\n",
       " 'گفت',\n",
       " 'می\\u200cشود',\n",
       " 'وی',\n",
       " 'شد',\n",
       " 'دارد',\n",
       " 'ما',\n",
       " 'اما',\n",
       " 'یا',\n",
       " 'شده',\n",
       " 'باید',\n",
       " 'هر',\n",
       " 'آنها',\n",
       " 'بود',\n",
       " 'او',\n",
       " 'دیگر',\n",
       " 'دو',\n",
       " 'مورد',\n",
       " 'می\\u200cکند',\n",
       " 'شود',\n",
       " 'کند',\n",
       " 'وجود',\n",
       " 'بین',\n",
       " 'پیش',\n",
       " 'شده_است',\n",
       " 'پس',\n",
       " 'نظر',\n",
       " 'اگر',\n",
       " 'همه',\n",
       " 'یکی',\n",
       " 'حال',\n",
       " 'هستند',\n",
       " 'من',\n",
       " 'کنند',\n",
       " 'نیست',\n",
       " 'باشد',\n",
       " 'چه',\n",
       " 'بی',\n",
       " 'می',\n",
       " 'بخش',\n",
       " 'می\\u200cکنند',\n",
       " 'همین',\n",
       " 'افزود',\n",
       " 'هایی',\n",
       " 'دارند',\n",
       " 'راه',\n",
       " 'همچنین',\n",
       " 'روی',\n",
       " 'داد',\n",
       " 'بیشتر',\n",
       " 'بسیار',\n",
       " 'سه',\n",
       " 'داشت',\n",
       " 'چند',\n",
       " 'سوی',\n",
       " 'تنها',\n",
       " 'هیچ',\n",
       " 'میان',\n",
       " 'اینکه',\n",
       " 'شدن',\n",
       " 'بعد',\n",
       " 'جدید',\n",
       " 'ولی',\n",
       " 'حتی',\n",
       " 'کردن',\n",
       " 'برخی',\n",
       " 'کردند',\n",
       " 'می\\u200cدهد',\n",
       " 'اول',\n",
       " 'نه',\n",
       " 'کرده_است',\n",
       " 'نسبت',\n",
       " 'بیش',\n",
       " 'شما',\n",
       " 'چنین',\n",
       " 'طور',\n",
       " 'افراد',\n",
       " 'تمام',\n",
       " 'درباره',\n",
       " 'بار',\n",
       " 'بسیاری',\n",
       " 'می\\u200cتواند',\n",
       " 'کرده',\n",
       " 'چون',\n",
       " 'ندارد',\n",
       " 'دوم',\n",
       " 'بزرگ',\n",
       " 'طی',\n",
       " 'حدود',\n",
       " 'همان',\n",
       " 'بدون',\n",
       " 'البته',\n",
       " 'آنان',\n",
       " 'می\\u200cگوید',\n",
       " 'دیگری',\n",
       " 'خواهد_شد',\n",
       " 'کنیم',\n",
       " 'قابل',\n",
       " 'یعنی',\n",
       " 'رشد',\n",
       " 'می\\u200cتوان',\n",
       " 'وارد',\n",
       " 'کل',\n",
       " 'ویژه',\n",
       " 'قبل',\n",
       " 'براساس',\n",
       " 'نیاز',\n",
       " 'گذاری',\n",
       " 'هنوز',\n",
       " 'لازم',\n",
       " 'سازی',\n",
       " 'بوده_است',\n",
       " 'چرا',\n",
       " 'می\\u200cشوند',\n",
       " 'وقتی',\n",
       " 'گرفت',\n",
       " 'کم',\n",
       " 'جای',\n",
       " 'حالی',\n",
       " 'تغییر',\n",
       " 'پیدا',\n",
       " 'اکنون',\n",
       " 'تحت',\n",
       " 'باعث',\n",
       " 'مدت',\n",
       " 'فقط',\n",
       " 'زیادی',\n",
       " 'تعداد',\n",
       " 'آیا',\n",
       " 'بیان',\n",
       " 'رو',\n",
       " 'شدند',\n",
       " 'عدم',\n",
       " 'کرده_اند',\n",
       " 'بودن',\n",
       " 'نوع',\n",
       " 'بلکه',\n",
       " 'جاری',\n",
       " 'دهد',\n",
       " 'برابر',\n",
       " 'مهم',\n",
       " 'بوده',\n",
       " 'اخیر',\n",
       " 'مربوط',\n",
       " 'امر',\n",
       " 'زیر',\n",
       " 'گیری',\n",
       " 'شاید',\n",
       " 'خصوص',\n",
       " 'آقای',\n",
       " 'اثر',\n",
       " 'کننده',\n",
       " 'بودند',\n",
       " 'فکر',\n",
       " 'کنار',\n",
       " 'اولین',\n",
       " 'سوم',\n",
       " 'سایر',\n",
       " 'کنید',\n",
       " 'ضمن',\n",
       " 'مانند',\n",
       " 'باز',\n",
       " 'می\\u200cگیرد',\n",
       " 'ممکن',\n",
       " 'حل',\n",
       " 'دارای',\n",
       " 'پی',\n",
       " 'مثل',\n",
       " 'می\\u200cرسد',\n",
       " 'اجرا',\n",
       " 'دور',\n",
       " 'منظور',\n",
       " 'کسی',\n",
       " 'موجب',\n",
       " 'طول',\n",
       " 'امکان',\n",
       " 'آنچه',\n",
       " 'تعیین',\n",
       " 'گفته',\n",
       " 'شوند',\n",
       " 'جمع',\n",
       " 'خیلی',\n",
       " 'علاوه',\n",
       " 'گونه',\n",
       " 'تاکنون',\n",
       " 'رسید',\n",
       " 'ساله',\n",
       " 'گرفته',\n",
       " 'شده_اند',\n",
       " 'علت',\n",
       " 'چهار',\n",
       " 'داشته_باشد',\n",
       " 'خواهد_بود',\n",
       " 'طرف',\n",
       " 'تهیه',\n",
       " 'تبدیل',\n",
       " 'مناسب',\n",
       " 'زیرا',\n",
       " 'مشخص',\n",
       " 'می\\u200cتوانند',\n",
       " 'نزدیک',\n",
       " 'جریان',\n",
       " 'روند',\n",
       " 'بنابراین',\n",
       " 'می\\u200cدهند',\n",
       " 'یافت',\n",
       " 'نخستین',\n",
       " 'بالا',\n",
       " 'پنج',\n",
       " 'ریزی',\n",
       " 'عالی',\n",
       " 'چیزی',\n",
       " 'نخست',\n",
       " 'بیشتری',\n",
       " 'ترتیب',\n",
       " 'شده_بود',\n",
       " 'خاص',\n",
       " 'خوبی',\n",
       " 'خوب',\n",
       " 'شروع',\n",
       " 'فرد',\n",
       " 'کامل',\n",
       " 'غیر',\n",
       " 'می\\u200cرود',\n",
       " 'دهند',\n",
       " 'آخرین',\n",
       " 'دادن',\n",
       " 'جدی',\n",
       " 'بهترین',\n",
       " 'شامل',\n",
       " 'گیرد',\n",
       " 'بخشی',\n",
       " 'باشند',\n",
       " 'تمامی',\n",
       " 'بهتر',\n",
       " 'داده_است',\n",
       " 'حد',\n",
       " 'نبود',\n",
       " 'کسانی',\n",
       " 'می\\u200cکرد',\n",
       " 'داریم',\n",
       " 'علیه',\n",
       " 'می\\u200cباشد',\n",
       " 'دانست',\n",
       " 'ناشی',\n",
       " 'داشتند',\n",
       " 'دهه',\n",
       " 'می\\u200cشد',\n",
       " 'ایشان',\n",
       " 'آنجا',\n",
       " 'گرفته_است',\n",
       " 'دچار',\n",
       " 'می\\u200cآید',\n",
       " 'لحاظ',\n",
       " 'آنکه',\n",
       " 'داده',\n",
       " 'بعضی',\n",
       " 'هستیم',\n",
       " 'اند',\n",
       " 'برداری',\n",
       " 'نباید',\n",
       " 'می\\u200cکنیم',\n",
       " 'نشست',\n",
       " 'سهم',\n",
       " 'همیشه',\n",
       " 'آمد',\n",
       " 'اش',\n",
       " 'وگو',\n",
       " 'می\\u200cکنم',\n",
       " 'حداقل',\n",
       " 'طبق',\n",
       " 'جا',\n",
       " 'خواهد_کرد',\n",
       " 'نوعی',\n",
       " 'چگونه',\n",
       " 'رفت',\n",
       " 'هنگام',\n",
       " 'فوق',\n",
       " 'روش',\n",
       " 'ندارند',\n",
       " 'سعی',\n",
       " 'بندی',\n",
       " 'شمار',\n",
       " 'کلی',\n",
       " 'کافی',\n",
       " 'مواجه',\n",
       " 'همچنان',\n",
       " 'زیاد',\n",
       " 'سمت',\n",
       " 'کوچک',\n",
       " 'داشته_است',\n",
       " 'چیز',\n",
       " 'پشت',\n",
       " 'آورد',\n",
       " 'حالا',\n",
       " 'روبه',\n",
       " 'سال\\u200cهای',\n",
       " 'دادند',\n",
       " 'می\\u200cکردند',\n",
       " 'عهده',\n",
       " 'نیمه',\n",
       " 'جایی',\n",
       " 'دیگران',\n",
       " 'سی',\n",
       " 'بروز',\n",
       " 'یکدیگر',\n",
       " 'آمده_است',\n",
       " 'جز',\n",
       " 'کنم',\n",
       " 'سپس',\n",
       " 'کنندگان',\n",
       " 'خودش',\n",
       " 'همواره',\n",
       " 'یافته',\n",
       " 'شان',\n",
       " 'صرف',\n",
       " 'نمی\\u200cشود',\n",
       " 'رسیدن',\n",
       " 'چهارم',\n",
       " 'یابد',\n",
       " 'متر',\n",
       " 'ساز',\n",
       " 'داشته',\n",
       " 'کرده_بود',\n",
       " 'باره',\n",
       " 'نحوه',\n",
       " 'کردم',\n",
       " 'تو',\n",
       " 'شخصی',\n",
       " 'داشته_باشند',\n",
       " 'محسوب',\n",
       " 'پخش',\n",
       " 'کمی',\n",
       " 'متفاوت',\n",
       " 'سراسر',\n",
       " 'کاملا',\n",
       " 'داشتن',\n",
       " 'نظیر',\n",
       " 'آمده',\n",
       " 'گروهی',\n",
       " 'فردی',\n",
       " 'ع',\n",
       " 'همچون',\n",
       " 'خطر',\n",
       " 'خویش',\n",
       " 'کدام',\n",
       " 'دسته',\n",
       " 'سبب',\n",
       " 'عین',\n",
       " 'آوری',\n",
       " 'متاسفانه',\n",
       " 'بیرون',\n",
       " 'دار',\n",
       " 'ابتدا',\n",
       " 'شش',\n",
       " 'افرادی',\n",
       " 'می\\u200cگویند',\n",
       " 'سالهای',\n",
       " 'درون',\n",
       " 'نیستند',\n",
       " 'یافته_است',\n",
       " 'پر',\n",
       " 'خاطرنشان',\n",
       " 'گاه',\n",
       " 'جمعی',\n",
       " 'اغلب',\n",
       " 'دوباره',\n",
       " 'می\\u200cیابد',\n",
       " 'لذا',\n",
       " 'زاده',\n",
       " 'گردد',\n",
       " 'اینجا']"
      ]
     },
     "execution_count": 38,
     "metadata": {},
     "output_type": "execute_result"
    }
   ],
   "source": [
    "persian_stop_words"
   ]
  },
  {
   "cell_type": "markdown",
   "id": "6314c290",
   "metadata": {},
   "source": [
    "## Applying all of our methods:"
   ]
  },
  {
   "cell_type": "code",
   "execution_count": 39,
   "id": "2d17d5ce",
   "metadata": {},
   "outputs": [],
   "source": [
    "from collections import Counter\n",
    "\n",
    "def preprocess(content):\n",
    "    \n",
    "    # deleting end of message \n",
    "    content = del_end_of_message(content)\n",
    "    \n",
    "    # normalizing our content\n",
    "    content = normalize(content)\n",
    "    \n",
    "    # removing punctuation\n",
    "    content = del_punc(content)\n",
    "    \n",
    "    # doing both stemming and tokenization\n",
    "    words = list(map(lambda term : stem(term), tokenize(content)))\n",
    "    word_frequency = dict(Counter(words))\n",
    "    \n",
    "    # removing stopwords\n",
    "    for stop_word in stopwords_list():\n",
    "        if stop_word in word_frequency.keys():\n",
    "            word_frequency.pop(stop_word)\n",
    "            \n",
    "    return word_frequency"
   ]
  },
  {
   "cell_type": "code",
   "execution_count": 40,
   "id": "6bde66ff",
   "metadata": {},
   "outputs": [
    {
     "name": "stdout",
     "output_type": "stream",
     "text": [
      "\n",
      "به گزارش خبرگزاری فارس، کنفدراسیون فوتبال آسیا (AFC) در نامه ای رسمی به فدراسیون فوتبال ایران و باشگاه گیتی پسند زمان  قرعه کشی جام باشگاه های فوتسال آسیا را رسماً اعلام کرد. بر این اساس 25 فروردین ماه 1401 مراسم قرعه کشی جام باشگاه های فوتسال آسیا در مالزی برگزار می شود. باشگاه گیتی پسند بعنوان قهرمان فوتسال ایران در سال 1400 به این مسابقات راه پیدا کرده است. پیش از این گیتی پسند تجربه 3 دوره حضور در جام باشگاه های فوتسال آسیا را داشته که هر سه دوره به فینال مسابقات راه پیدا کرده و یک عنوان قهرمانی و دو مقام دومی بدست آورده است. انتهای پیام/\n",
      "\n",
      "\n",
      "\n"
     ]
    }
   ],
   "source": [
    "print(df['content'].iloc[0])"
   ]
  },
  {
   "cell_type": "code",
   "execution_count": 41,
   "id": "684cc8c6",
   "metadata": {
    "scrolled": true
   },
   "outputs": [
    {
     "name": "stdout",
     "output_type": "stream",
     "text": [
      "{'گزارش': 1, 'خبرگزاری': 1, 'فارس': 1, 'کنفدراسیون': 1, 'فوتبال': 2, 'آسیا': 4, 'AFC': 1, 'نامه': 1, 'رسمی': 1, 'فدراسیون': 1, 'ایران': 2, 'باشگاه': 5, 'گیتی': 2, 'پسند': 2, 'زمان': 1, 'قرعه\\u200cکشی': 2, 'جام': 3, 'فوتسال': 4, 'رسما': 1, 'اعلام': 1, 'اساس': 1, '25': 1, 'فروردین': 1, 'ماه': 1, '1401': 1, 'مراسم': 1, 'مالزی': 1, 'برگزار': 1, 'شد&شو': 1, 'گیتی\\u200cپسند': 1, 'بعنوان': 1, 'قهرمان': 1, 'سال': 1, '1400': 1, 'مسابقات': 2, 'تجربه': 1, '3': 1, 'دوره': 2, 'حضور': 1, 'فینال': 1, 'عنوان': 1, 'قهرمانی': 1, 'مقام': 1, 'دومی': 1, 'بدست\\u200cآورده': 1, 'اس': 1}\n"
     ]
    }
   ],
   "source": [
    "print(preprocess(df['content'].iloc[0]))"
   ]
  },
  {
   "cell_type": "markdown",
   "id": "d4afc788",
   "metadata": {},
   "source": [
    "---"
   ]
  },
  {
   "cell_type": "markdown",
   "id": "70d08586",
   "metadata": {},
   "source": [
    "Running this cell below will take:\n",
    "\n",
    "    CPU times: user 4min 11s, sys: 346 ms, total: 4min 11s\n",
    "    Wall time: 4min 11s"
   ]
  },
  {
   "cell_type": "code",
   "execution_count": 42,
   "id": "60cf5f88",
   "metadata": {},
   "outputs": [],
   "source": [
    "# %%time\n",
    "# df['preprocessed'] = df['content'].apply(preprocess)"
   ]
  },
  {
   "cell_type": "code",
   "execution_count": 43,
   "id": "324a19c6",
   "metadata": {},
   "outputs": [],
   "source": [
    "# df.head()"
   ]
  },
  {
   "cell_type": "markdown",
   "id": "cb834cc8",
   "metadata": {},
   "source": [
    "## Saving our preprocessed data frame "
   ]
  },
  {
   "cell_type": "code",
   "execution_count": 44,
   "id": "12733b91",
   "metadata": {},
   "outputs": [],
   "source": [
    "# df.to_pickle('results/preprocessed-phase02.pickle')"
   ]
  },
  {
   "cell_type": "markdown",
   "id": "15948ac7",
   "metadata": {},
   "source": [
    "## Loading our preprocessed result"
   ]
  },
  {
   "cell_type": "code",
   "execution_count": 45,
   "id": "2e077f1a",
   "metadata": {},
   "outputs": [],
   "source": [
    "ready_df = pd.read_pickle('results/preprocessed-phase02.pickle')"
   ]
  },
  {
   "cell_type": "code",
   "execution_count": 46,
   "id": "324a379a",
   "metadata": {},
   "outputs": [
    {
     "data": {
      "text/html": [
       "<div>\n",
       "<style scoped>\n",
       "    .dataframe tbody tr th:only-of-type {\n",
       "        vertical-align: middle;\n",
       "    }\n",
       "\n",
       "    .dataframe tbody tr th {\n",
       "        vertical-align: top;\n",
       "    }\n",
       "\n",
       "    .dataframe thead th {\n",
       "        text-align: right;\n",
       "    }\n",
       "</style>\n",
       "<table border=\"1\" class=\"dataframe\">\n",
       "  <thead>\n",
       "    <tr style=\"text-align: right;\">\n",
       "      <th></th>\n",
       "      <th>id</th>\n",
       "      <th>title</th>\n",
       "      <th>content</th>\n",
       "      <th>tags</th>\n",
       "      <th>date</th>\n",
       "      <th>url</th>\n",
       "      <th>category</th>\n",
       "      <th>preprocessed</th>\n",
       "    </tr>\n",
       "  </thead>\n",
       "  <tbody>\n",
       "    <tr>\n",
       "      <th>0</th>\n",
       "      <td>0</td>\n",
       "      <td>اعلام زمان قرعه کشی جام باشگاه های فوتسال آسیا</td>\n",
       "      <td>\\nبه گزارش خبرگزاری فارس، کنفدراسیون فوتبال آس...</td>\n",
       "      <td>[اعلام زمان, قرعه‌کشی, قرعه‌کشی جام, قرعه‌کشی ...</td>\n",
       "      <td>3/15/2022 5:59:27 PM</td>\n",
       "      <td>https://www.farsnews.ir/news/14001224001005/اع...</td>\n",
       "      <td>sports</td>\n",
       "      <td>{'گزارش': 1, 'خبرگزاری': 1, 'فارس': 1, 'کنفدرا...</td>\n",
       "    </tr>\n",
       "    <tr>\n",
       "      <th>1</th>\n",
       "      <td>1</td>\n",
       "      <td>سجادی :حضور تماشاگران در  لیگ برتر فوتبال تابع...</td>\n",
       "      <td>\\nبه گزارش خبرگزاری فارس، سید حمید سجادی در حا...</td>\n",
       "      <td>[سجادی, لیگ, فدراسیون, وزیر ورزش]</td>\n",
       "      <td>3/15/2022 5:30:07 PM</td>\n",
       "      <td>https://www.farsnews.ir/news/14001224000982/سج...</td>\n",
       "      <td>sports</td>\n",
       "      <td>{'گزارش': 1, 'خبرگزاری': 1, 'فارس': 1, 'سید': ...</td>\n",
       "    </tr>\n",
       "    <tr>\n",
       "      <th>2</th>\n",
       "      <td>2</td>\n",
       "      <td>محل برگزاری نشست‌های خبری سرخابی‌ها؛ مجیدی در ...</td>\n",
       "      <td>\\nبه گزارش خبرگزاری فارس، نشست خبری پیش از مسا...</td>\n",
       "      <td>[دربی 94, محل برگزاری, خبری سرخابی‌ها, مجیدی, ...</td>\n",
       "      <td>3/15/2022 5:20:01 PM</td>\n",
       "      <td>https://www.farsnews.ir/news/14001224000971/مح...</td>\n",
       "      <td>sports</td>\n",
       "      <td>{'گزارش': 1, 'خبرگزاری': 1, 'فارس': 1, 'خبری':...</td>\n",
       "    </tr>\n",
       "    <tr>\n",
       "      <th>3</th>\n",
       "      <td>3</td>\n",
       "      <td>ماجدی در نشست با صالحی امیری: امیدوارم در این ...</td>\n",
       "      <td>\\nبه گزارش خبرگزاری فارس،  سید رضا صالحی امیری...</td>\n",
       "      <td>[کمیته امداد امام خمینی (ره), کمیته ملی المپیک...</td>\n",
       "      <td>3/15/2022 5:18:00 PM</td>\n",
       "      <td>https://www.farsnews.ir/news/14001224000964/ما...</td>\n",
       "      <td>sports</td>\n",
       "      <td>{'گزارش': 1, 'خبرگزاری': 1, 'فارس': 1, 'سید': ...</td>\n",
       "    </tr>\n",
       "    <tr>\n",
       "      <th>4</th>\n",
       "      <td>4</td>\n",
       "      <td>لیگ‌برتر بسکتبال|‌ نخستین پیروزی شهرداری گرگان...</td>\n",
       "      <td>\\nبه گزارش خبرنگار ورزشی خبرگزاری فارس، در نخس...</td>\n",
       "      <td>[بسکتبال, لیگ برتر بسکتبال, شهرداری گرگان, تیم...</td>\n",
       "      <td>3/15/2022 5:16:41 PM</td>\n",
       "      <td>https://www.farsnews.ir/news/14001224000947/لی...</td>\n",
       "      <td>sports</td>\n",
       "      <td>{'گزارش': 1, 'خبرنگار': 1, 'ورزشی': 1, 'خبرگزا...</td>\n",
       "    </tr>\n",
       "  </tbody>\n",
       "</table>\n",
       "</div>"
      ],
      "text/plain": [
       "   id                                              title  \\\n",
       "0   0     اعلام زمان قرعه کشی جام باشگاه های فوتسال آسیا   \n",
       "1   1  سجادی :حضور تماشاگران در  لیگ برتر فوتبال تابع...   \n",
       "2   2  محل برگزاری نشست‌های خبری سرخابی‌ها؛ مجیدی در ...   \n",
       "3   3  ماجدی در نشست با صالحی امیری: امیدوارم در این ...   \n",
       "4   4  لیگ‌برتر بسکتبال|‌ نخستین پیروزی شهرداری گرگان...   \n",
       "\n",
       "                                             content  \\\n",
       "0  \\nبه گزارش خبرگزاری فارس، کنفدراسیون فوتبال آس...   \n",
       "1  \\nبه گزارش خبرگزاری فارس، سید حمید سجادی در حا...   \n",
       "2  \\nبه گزارش خبرگزاری فارس، نشست خبری پیش از مسا...   \n",
       "3  \\nبه گزارش خبرگزاری فارس،  سید رضا صالحی امیری...   \n",
       "4  \\nبه گزارش خبرنگار ورزشی خبرگزاری فارس، در نخس...   \n",
       "\n",
       "                                                tags                  date  \\\n",
       "0  [اعلام زمان, قرعه‌کشی, قرعه‌کشی جام, قرعه‌کشی ...  3/15/2022 5:59:27 PM   \n",
       "1                  [سجادی, لیگ, فدراسیون, وزیر ورزش]  3/15/2022 5:30:07 PM   \n",
       "2  [دربی 94, محل برگزاری, خبری سرخابی‌ها, مجیدی, ...  3/15/2022 5:20:01 PM   \n",
       "3  [کمیته امداد امام خمینی (ره), کمیته ملی المپیک...  3/15/2022 5:18:00 PM   \n",
       "4  [بسکتبال, لیگ برتر بسکتبال, شهرداری گرگان, تیم...  3/15/2022 5:16:41 PM   \n",
       "\n",
       "                                                 url category  \\\n",
       "0  https://www.farsnews.ir/news/14001224001005/اع...   sports   \n",
       "1  https://www.farsnews.ir/news/14001224000982/سج...   sports   \n",
       "2  https://www.farsnews.ir/news/14001224000971/مح...   sports   \n",
       "3  https://www.farsnews.ir/news/14001224000964/ما...   sports   \n",
       "4  https://www.farsnews.ir/news/14001224000947/لی...   sports   \n",
       "\n",
       "                                        preprocessed  \n",
       "0  {'گزارش': 1, 'خبرگزاری': 1, 'فارس': 1, 'کنفدرا...  \n",
       "1  {'گزارش': 1, 'خبرگزاری': 1, 'فارس': 1, 'سید': ...  \n",
       "2  {'گزارش': 1, 'خبرگزاری': 1, 'فارس': 1, 'خبری':...  \n",
       "3  {'گزارش': 1, 'خبرگزاری': 1, 'فارس': 1, 'سید': ...  \n",
       "4  {'گزارش': 1, 'خبرنگار': 1, 'ورزشی': 1, 'خبرگزا...  "
      ]
     },
     "execution_count": 46,
     "metadata": {},
     "output_type": "execute_result"
    }
   ],
   "source": [
    "ready_df.head()"
   ]
  },
  {
   "cell_type": "code",
   "execution_count": 47,
   "id": "d4412c51",
   "metadata": {},
   "outputs": [],
   "source": [
    "df = ready_df"
   ]
  },
  {
   "cell_type": "markdown",
   "id": "f080cf19",
   "metadata": {},
   "source": [
    "# Making dictionary and processing user queries"
   ]
  },
  {
   "cell_type": "markdown",
   "id": "e5f6c708",
   "metadata": {},
   "source": [
    "## Log-frequency weighting"
   ]
  },
  {
   "cell_type": "code",
   "execution_count": 48,
   "id": "84824cdc",
   "metadata": {},
   "outputs": [],
   "source": [
    "def log_frequency_weighting(term_frequency):\n",
    "    if term_frequency > 0:\n",
    "        return 1 + math.log10(term_frequency)\n",
    "    else:\n",
    "        return 0"
   ]
  },
  {
   "cell_type": "markdown",
   "id": "b0bde847",
   "metadata": {},
   "source": [
    "## Making dictionary"
   ]
  },
  {
   "cell_type": "markdown",
   "id": "0854a357",
   "metadata": {},
   "source": [
    "This below algorithm makes our dictionary.  \n",
    "  \n",
    "Our dictionary structure is as follows:\n",
    "\n",
    "```\n",
    "dictionary { term1 : [total number of occurances of term1 in collection, {doc id: the log frequency weight of term1}],\n",
    "             term2 : ..\n",
    "             ...\n",
    "             termn: ..}\n",
    "```"
   ]
  },
  {
   "cell_type": "code",
   "execution_count": 49,
   "id": "a8090320",
   "metadata": {},
   "outputs": [],
   "source": [
    "import math\n",
    "\n",
    "def make_dictionary(data_frame):\n",
    "    my_dictionary = {}\n",
    "    doc_normalized_weights = {}\n",
    "    \n",
    "    for doc_id, doc_content in zip(data_frame['id'], data_frame['content']):\n",
    "        word_frequencies_in_doc = preprocess(doc_content)\n",
    "        total_doc_weight_squared = 0\n",
    "        \n",
    "        for word, word_frequency in word_frequencies_in_doc.items():\n",
    "            total_doc_weight_squared += log_frequency_weighting(word_frequency) ** 2\n",
    "            \n",
    "            if word in my_dictionary.keys():\n",
    "                my_dictionary[word][0] += 1\n",
    "                my_dictionary[word][1][doc_id] = log_frequency_weighting(word_frequency)\n",
    "                \n",
    "            else:\n",
    "                my_dictionary[word] = [1, {doc_id: log_frequency_weighting(word_frequency)}]\n",
    "                \n",
    "        doc_normalized_weights[doc_id] = np.sqrt(total_doc_weight_squared)\n",
    "        \n",
    "    return my_dictionary, doc_normalized_weights"
   ]
  },
  {
   "cell_type": "markdown",
   "id": "f17e67ac",
   "metadata": {},
   "source": [
    "This cell below will take:\n",
    "\n",
    "    CPU times: user 4min 4s, sys: 240 ms, total: 4min 4s\n",
    "    Wall time: 4min 4s"
   ]
  },
  {
   "cell_type": "code",
   "execution_count": 50,
   "id": "cbca6fe8",
   "metadata": {},
   "outputs": [],
   "source": [
    "# %%time\n",
    "# my_dict, lengths = make_dictionary(df)"
   ]
  },
  {
   "cell_type": "markdown",
   "id": "8fe6d0c2",
   "metadata": {},
   "source": [
    "## Save and load "
   ]
  },
  {
   "cell_type": "code",
   "execution_count": 51,
   "id": "276d3da1",
   "metadata": {},
   "outputs": [],
   "source": [
    "import pickle"
   ]
  },
  {
   "cell_type": "markdown",
   "id": "347fd7a1",
   "metadata": {},
   "source": [
    "### Saving our index"
   ]
  },
  {
   "cell_type": "code",
   "execution_count": 52,
   "id": "c484d37e",
   "metadata": {},
   "outputs": [],
   "source": [
    "# import pickle\n",
    "\n",
    "# with open('results/dictionary-phase02.pickle', 'wb') as file:\n",
    "#     pickle.dump(my_dict, file, pickle.HIGHEST_PROTOCOL)"
   ]
  },
  {
   "cell_type": "markdown",
   "id": "dc89912a",
   "metadata": {},
   "source": [
    "### Loading our index"
   ]
  },
  {
   "cell_type": "code",
   "execution_count": 53,
   "id": "f9376fa0",
   "metadata": {},
   "outputs": [],
   "source": [
    "with open('results/dictionary-phase02.pickle', 'rb') as file:\n",
    "    loaded_dict = pickle.load(file)"
   ]
  },
  {
   "cell_type": "code",
   "execution_count": 54,
   "id": "38d7c34f",
   "metadata": {},
   "outputs": [],
   "source": [
    "my_dict = loaded_dict"
   ]
  },
  {
   "cell_type": "markdown",
   "id": "9c6c16f4",
   "metadata": {},
   "source": [
    "### Saving our lengthes"
   ]
  },
  {
   "cell_type": "code",
   "execution_count": 55,
   "id": "22bcd017",
   "metadata": {},
   "outputs": [],
   "source": [
    "# with open('results/lengthes-phase02.pickle', 'wb') as file:\n",
    "#     pickle.dump(lengths, file, pickle.HIGHEST_PROTOCOL)"
   ]
  },
  {
   "cell_type": "markdown",
   "id": "79a83125",
   "metadata": {},
   "source": [
    "### Loading our lengthes"
   ]
  },
  {
   "cell_type": "code",
   "execution_count": 56,
   "id": "53368dc5",
   "metadata": {},
   "outputs": [],
   "source": [
    "with open('results/lengthes-phase02.pickle', 'rb') as file:\n",
    "    loaded_lengthes = pickle.load(file)"
   ]
  },
  {
   "cell_type": "code",
   "execution_count": 57,
   "id": "10f13277",
   "metadata": {},
   "outputs": [],
   "source": [
    "lengths = loaded_lengthes"
   ]
  },
  {
   "cell_type": "markdown",
   "id": "17f5aef0",
   "metadata": {},
   "source": [
    "## Making champion list"
   ]
  },
  {
   "cell_type": "code",
   "execution_count": 58,
   "id": "e216b59f",
   "metadata": {},
   "outputs": [],
   "source": [
    "def make_champion_list(dictionary, r):\n",
    "    champion_list={}\n",
    "    \n",
    "    for term, (total_count, tf) in dictionary.items():\n",
    "        best_r = dict(Counter(tf).most_common(r))\n",
    "        champion_list[term] = [total_count, best_r]\n",
    "    return champion_list"
   ]
  },
  {
   "cell_type": "markdown",
   "id": "7fcb1217",
   "metadata": {},
   "source": [
    "Running this cell below will take:\n",
    "\n",
    "    CPU times: user 781 ms, sys: 8.02 ms, total: 789 ms\n",
    "    Wall time: 786 ms"
   ]
  },
  {
   "cell_type": "code",
   "execution_count": 59,
   "id": "c37ec24e",
   "metadata": {},
   "outputs": [
    {
     "name": "stdout",
     "output_type": "stream",
     "text": [
      "CPU times: user 585 ms, sys: 15 ms, total: 600 ms\n",
      "Wall time: 598 ms\n"
     ]
    }
   ],
   "source": [
    "%%time\n",
    "my_champs = make_champion_list(my_dict, 10)"
   ]
  },
  {
   "cell_type": "markdown",
   "id": "ee1d40a7",
   "metadata": {},
   "source": [
    "## Normalizing query"
   ]
  },
  {
   "cell_type": "code",
   "execution_count": 60,
   "id": "f0879fdf",
   "metadata": {},
   "outputs": [],
   "source": [
    "def normalize_query(query):\n",
    "    word_frequencies_in_query = preprocess(query)\n",
    "\n",
    "    for word, word_frequency in word_frequencies_in_query.items():\n",
    "        word_frequencies_in_query[word] += log_frequency_weighting(word_frequency)\n",
    "    \n",
    "    return word_frequencies_in_query"
   ]
  },
  {
   "cell_type": "markdown",
   "id": "1b9652a2",
   "metadata": {},
   "source": [
    "## Setting our K, N"
   ]
  },
  {
   "cell_type": "code",
   "execution_count": 61,
   "id": "c1cb1abd",
   "metadata": {},
   "outputs": [],
   "source": [
    "N = len(df)\n",
    "K = 5"
   ]
  },
  {
   "cell_type": "markdown",
   "id": "d599aa30",
   "metadata": {},
   "source": [
    "## Cosine similarity"
   ]
  },
  {
   "cell_type": "code",
   "execution_count": 62,
   "id": "1e37156c",
   "metadata": {},
   "outputs": [],
   "source": [
    "def cosine_score(normalized_query, dictionary):\n",
    "    similarities = {} \n",
    "    for query_term, tf in normalized_query.items():\n",
    "        if query_term in dictionary.keys():\n",
    "            idf = math.log10(N / dictionary[query_term][0])\n",
    "\n",
    "            for docid, weighted_term_frequency in dictionary[query_term][1].items():\n",
    "                if docid in similarities.keys():\n",
    "                    similarities[docid] += weighted_term_frequency * tf * idf\n",
    "                else:\n",
    "                    similarities[docid] = weighted_term_frequency * tf * idf\n",
    "                \n",
    "    for docid in similarities.keys():\n",
    "        similarities[docid] = similarities[docid] / lengths[docid]\n",
    "        \n",
    "    return similarities"
   ]
  },
  {
   "cell_type": "code",
   "execution_count": 63,
   "id": "b261569e",
   "metadata": {},
   "outputs": [],
   "source": [
    "import heapq\n",
    "\n",
    "def best_scores(scores):\n",
    "    best_scores =[]\n",
    "    heap = []\n",
    "    \n",
    "    for docid, score in scores.items():\n",
    "        heapq.heappush(heap,(-score, docid))\n",
    "        \n",
    "    for i in range(min(K, len(heap))):\n",
    "        best_scores.append(heapq.heappop(heap))\n",
    "        \n",
    "    return best_scores"
   ]
  },
  {
   "cell_type": "code",
   "execution_count": 64,
   "id": "08880b41",
   "metadata": {},
   "outputs": [],
   "source": [
    "def query(q, champs=0): \n",
    "    normalized_query = normalize_query(q)\n",
    "    best_r = {}\n",
    "    \n",
    "    if champs:\n",
    "        best_r = cosine_score(normalized_query, my_champs)\n",
    "        if len(best_r) < K:\n",
    "            best_r.update(cosine_score(normalized_query, my_dict))\n",
    "    else:\n",
    "        best_r = cosine_score(normalized_query, my_dict)\n",
    "        \n",
    "    return best_scores(best_r)"
   ]
  },
  {
   "cell_type": "code",
   "execution_count": 65,
   "id": "f9f2230c",
   "metadata": {},
   "outputs": [],
   "source": [
    "def find_docs(top_scores, data):\n",
    "    results=[]\n",
    "    \n",
    "    for t in top_scores:\n",
    "        docid = t[1]\n",
    "        url = data[data[\"id\"]==t[1]][\"url\"].iloc[0]\n",
    "        content = df[df['id'] == docid]['content'].iloc[0]\n",
    "        \n",
    "        results.append((docid, url, content))\n",
    "        \n",
    "    return results"
   ]
  },
  {
   "cell_type": "code",
   "execution_count": 69,
   "id": "1af423f9",
   "metadata": {},
   "outputs": [],
   "source": [
    "def display_results(q):\n",
    "    top_scores = query(q)\n",
    "    results = find_docs(top_scores, df)\n",
    "    \n",
    "    if len(results) == 0:\n",
    "        print('Nothing found.')\n",
    "    else:\n",
    "        for docid, url, content in results:\n",
    "            print(' doc id: {}'.format(docid))\n",
    "            print('    url: {}'.format(url))\n",
    "            print('content:', end='')\n",
    "            print(content)"
   ]
  },
  {
   "cell_type": "code",
   "execution_count": 70,
   "id": "45a9a2da",
   "metadata": {},
   "outputs": [
    {
     "name": "stdout",
     "output_type": "stream",
     "text": [
      " doc id: 5763\n",
      "    url: https://www.farsnews.ir/news/14001009000589/AFC-زمان-بررسی-پرونده-حضور-پرسپولیس-در-لیگ-قهرمانان-آسیا-را-مشخص-کرد\n",
      "content:\n",
      "به گزارش خبرگزاری فارس و به نقل از سایت باشگاه پرسپولیس، کنفدراسیون فوتبال آسیا در نامه‌ای دریافت جوابیه پرسپولیس را تایید کرد.  این کنفدراسیون اعلام داشت؛ این موضوع در جلسه اعضای کنترل ورودی کنفدراسیون پنج‌شنبه، ششم ژانویه ۲۰۲۲ برابر با ۱۶ دیماه مورد بررسی قرار خواهد گرفت. گفتنی است؛ بنابر اعلام کنفدراسیون فوتبال آسیا، آیین قرعه‌کشی لیگ قهرمانان آسیا ۲۰۲۲، روز دوشنبه ۲۷ دیماه در مقر این کنفدراسیون برگزار می‌شود. انتهای پیام/\n",
      "\n",
      "\n",
      "\n",
      " doc id: 3764\n",
      "    url: https://www.farsnews.ir/news/14001104000657/بازدید-ناظران-AFC-از-استادیوم-آزادی-عکس\n",
      "content:\n",
      "به گزارش خبرنگار ورزشی خبرگزاری فارس، ناظران کنفدراسیون فوتبال آسیا امروز با حضور در ورزشگاه آزادی از قسمت های مختلف این استادویم دیدن کردند. سهیل مهدی هم ناظران AFC را همراهی کرد.    انتهای پیام/\n",
      "\n",
      "\n",
      "\n",
      " doc id: 5071\n",
      "    url: https://www.farsnews.ir/news/14001019000762/درخواست-پرسپولیس-از-AFC-برای-ارائه-دلایل-حذف-از-لیگ-قهرمانان-آسیا\n",
      "content:\n",
      "به گزارش خبرگزاری فارس، کنفدراسیون فوتبال آسیا دو روز قبل رسما از صادر نشدن مجوز حرفه‌ای تیم‌های پرسپولیس، استقلال و گل‌گهر و حذف قطعی سرخابی‌ها از لیگ قهرمانان آسیا خبر داد. سایت باشگاه پرسپولیس اعلام کرد: \" پس از آنکه کنفدراسیون فوتبال آسیا از صدور مجوز حرفه‌ای به سه باشگاه ایرانی خودداری کرد، برای درخواست شرح تفصیلی رای، مهلت 10 روزه‌ای را تعیین کرد. باشگاه پرسپولیس امروز با ارسال نامه‌ای به کنفدراسیون، خواهان ارسال شرح تفصیلی رای به این باشگاه شد.\" انتهای پیام/\n",
      "\n",
      "\n",
      "\n",
      " doc id: 4988\n",
      "    url: https://www.farsnews.ir/news/14001020000675/موافقت-AFC-با-درخواست-پرسپولیس\n",
      "content:\n",
      "به گزارش خبرگزاری فارس  و به نقل از سایت باشگاه پرسپولیس، در پی اعلام رای عدم صدور مجوز حرفه‌ای از سوی کنفدراسیون، این باشگاه، دیروز در مدت تعیین شده، درخواست شرح تفصیلی را طی نامه‌ای به AFC، اعلام داشت. کنفدراسیون فوتبال آسیا، دریافت و تایید این درخواست را امروز در نامه‌ای به باشگاه اطلاع داد و اعلام کرد، شرح تفصیلی رای را ارسال می‌کند. انتهای پیام/\n",
      "\n",
      "\n",
      "\n",
      " doc id: 897\n",
      "    url: https://www.farsnews.ir/news/14001212000268/میزبان-لیگ-قهرمانان-در-غرب-آسیا-مشخص-شد\n",
      "content:\n",
      "به گزارش خبرگزاری فارس، کنفدراسیون فوتبال آسیا به طور رسمی اعلام کرد که مرحله گروهی لیگ قهرمانان آسیا به صورت متمرکز و در کشور عربستان برگزار خواهد شد. این مسابقات از تاریخ 7 تا 27 آوریل ( 18 فروردین تا 7 اردیبهشت) برگزار خواهد شد. سپاهان و فولاد تنها نماینده‌های کشورمان در این رقابت خواهند بود. انتهای پیام/\n",
      "\n",
      "\n",
      "\n",
      "CPU times: user 34.5 ms, sys: 458 µs, total: 35 ms\n",
      "Wall time: 29.8 ms\n"
     ]
    }
   ],
   "source": [
    "%%time\n",
    "display_results('کنفدراسیون فوتبال آسیا')"
   ]
  },
  {
   "cell_type": "markdown",
   "id": "50a7f3b9",
   "metadata": {},
   "source": [
    "# Reporting results"
   ]
  },
  {
   "cell_type": "markdown",
   "id": "f2ffe705",
   "metadata": {},
   "source": [
    "## 1."
   ]
  },
  {
   "cell_type": "code",
   "execution_count": 87,
   "id": "0f2b012b",
   "metadata": {},
   "outputs": [],
   "source": [
    "number_in_all_collection = 4"
   ]
  },
  {
   "cell_type": "code",
   "execution_count": 88,
   "id": "76fe97d9",
   "metadata": {},
   "outputs": [],
   "source": [
    "def find_rare_terms(number_of_occurances):\n",
    "    for term, (count, tf) in my_dict.items():\n",
    "        if count < number_in_all_collection:\n",
    "            print(' term:', term)\n",
    "            print('count:', count)\n",
    "            print('   tf:', tf)\n",
    "            print()\n",
    "\n",
    "            number_of_occurances -= 1\n",
    "\n",
    "        if number_of_occurances == 0:\n",
    "            break"
   ]
  },
  {
   "cell_type": "markdown",
   "id": "ed20cbce",
   "metadata": {},
   "source": [
    "### تحلیل کوئری های آورده شده:\n",
    "متن هر کوئری به همراه نتایج آورده شده، و با خواندن آن می توان پی برد که کوئری های ما خواسته های کاربر را براورده کرده اند."
   ]
  },
  {
   "cell_type": "markdown",
   "id": "d74d89be",
   "metadata": {},
   "source": [
    "### a. simple and frequenty one term query"
   ]
  },
  {
   "cell_type": "code",
   "execution_count": 89,
   "id": "9bf54ec0",
   "metadata": {},
   "outputs": [
    {
     "name": "stdout",
     "output_type": "stream",
     "text": [
      " doc id: 5763\n",
      "    url: https://www.farsnews.ir/news/14001009000589/AFC-زمان-بررسی-پرونده-حضور-پرسپولیس-در-لیگ-قهرمانان-آسیا-را-مشخص-کرد\n",
      "content:\n",
      "به گزارش خبرگزاری فارس و به نقل از سایت باشگاه پرسپولیس، کنفدراسیون فوتبال آسیا در نامه‌ای دریافت جوابیه پرسپولیس را تایید کرد.  این کنفدراسیون اعلام داشت؛ این موضوع در جلسه اعضای کنترل ورودی کنفدراسیون پنج‌شنبه، ششم ژانویه ۲۰۲۲ برابر با ۱۶ دیماه مورد بررسی قرار خواهد گرفت. گفتنی است؛ بنابر اعلام کنفدراسیون فوتبال آسیا، آیین قرعه‌کشی لیگ قهرمانان آسیا ۲۰۲۲، روز دوشنبه ۲۷ دیماه در مقر این کنفدراسیون برگزار می‌شود. انتهای پیام/\n",
      "\n",
      "\n",
      "\n",
      " doc id: 4988\n",
      "    url: https://www.farsnews.ir/news/14001020000675/موافقت-AFC-با-درخواست-پرسپولیس\n",
      "content:\n",
      "به گزارش خبرگزاری فارس  و به نقل از سایت باشگاه پرسپولیس، در پی اعلام رای عدم صدور مجوز حرفه‌ای از سوی کنفدراسیون، این باشگاه، دیروز در مدت تعیین شده، درخواست شرح تفصیلی را طی نامه‌ای به AFC، اعلام داشت. کنفدراسیون فوتبال آسیا، دریافت و تایید این درخواست را امروز در نامه‌ای به باشگاه اطلاع داد و اعلام کرد، شرح تفصیلی رای را ارسال می‌کند. انتهای پیام/\n",
      "\n",
      "\n",
      "\n",
      " doc id: 3764\n",
      "    url: https://www.farsnews.ir/news/14001104000657/بازدید-ناظران-AFC-از-استادیوم-آزادی-عکس\n",
      "content:\n",
      "به گزارش خبرنگار ورزشی خبرگزاری فارس، ناظران کنفدراسیون فوتبال آسیا امروز با حضور در ورزشگاه آزادی از قسمت های مختلف این استادویم دیدن کردند. سهیل مهدی هم ناظران AFC را همراهی کرد.    انتهای پیام/\n",
      "\n",
      "\n",
      "\n",
      " doc id: 5071\n",
      "    url: https://www.farsnews.ir/news/14001019000762/درخواست-پرسپولیس-از-AFC-برای-ارائه-دلایل-حذف-از-لیگ-قهرمانان-آسیا\n",
      "content:\n",
      "به گزارش خبرگزاری فارس، کنفدراسیون فوتبال آسیا دو روز قبل رسما از صادر نشدن مجوز حرفه‌ای تیم‌های پرسپولیس، استقلال و گل‌گهر و حذف قطعی سرخابی‌ها از لیگ قهرمانان آسیا خبر داد. سایت باشگاه پرسپولیس اعلام کرد: \" پس از آنکه کنفدراسیون فوتبال آسیا از صدور مجوز حرفه‌ای به سه باشگاه ایرانی خودداری کرد، برای درخواست شرح تفصیلی رای، مهلت 10 روزه‌ای را تعیین کرد. باشگاه پرسپولیس امروز با ارسال نامه‌ای به کنفدراسیون، خواهان ارسال شرح تفصیلی رای به این باشگاه شد.\" انتهای پیام/\n",
      "\n",
      "\n",
      "\n",
      " doc id: 6130\n",
      "    url: https://www.farsnews.ir/news/14001005000067/یک-ایرانی-رئیس-کمیته-داوران-کنفدراسیون-تیراندازی-با-کمان-آسیا-شد\n",
      "content:\n",
      "به گزارش خبرگزاری فارس، حسین نصیری‌نژاد داور بین‌المللی کشورمان به عنوان نخستین ایرانی به عنوان رئیس کمیته داوران کنفدراسیون تیراندازی با کمان انتخاب شد. همچنین با تصمیم هیات رئیسه کنفدراسیون آسیا، نصیری‌نژاد به عنوان سرداور اولین کاپ آسیایی سال 2022 که در بانکوک برگزار می‌شود، انتخاب شد. همچنین کنفدراسیون آسیا مدرس سمینار داوری در سال 2022 این کنفدراسیون را به وی واگذار کرد که تمامی این عناوین برای نخستین بار در تیراندازی با کمان کشورمان اتفاق افتاده است. نصیری‌نژاد اولین داور بین المللی ایران و غرب آسیا است که در سال 2007 توانست در میادین بین‌المللی قضاوت کند. مسابقات قهرمانی جهان ایتالیا، دانمارک، آمریکا و جام جهانی لاس وگاس، فرانسه، کرواسی از جمله مسابقاتی است که نصیری‌نژاد در آن حضور داشته و به عنوان یک ایرانی قضاوت کرده است. انتهای پیام/\n",
      "\n",
      "\n",
      "\n"
     ]
    }
   ],
   "source": [
    "display_results('کنفدراسیون')"
   ]
  },
  {
   "cell_type": "markdown",
   "id": "d8abb88c",
   "metadata": {},
   "source": [
    "### b. simple and frequenty multiple term query"
   ]
  },
  {
   "cell_type": "code",
   "execution_count": 90,
   "id": "bdc447c4",
   "metadata": {},
   "outputs": [
    {
     "name": "stdout",
     "output_type": "stream",
     "text": [
      " doc id: 3525\n",
      "    url: https://www.farsnews.ir/news/14001107000594/حضور-بانوان-در-ورزشگاه-آزادی-در-جریان-دیدار-ایران-و-عراق-تصاویر-و-فیلم\n",
      "content:\n",
      "به گزارش خبرگزاری فارس، تیم های فوتبال ایران و عراق از مرحله گروهی مقدماتی راه یابی به جام جهانی قطر در ورزشگاه آزادی به مصاف هم رفته اند. در این دیدار مجوز حضور 10 درصد از هواداران را در ورزشگاه داده اند و در این میان هم بانوان هم در ورزشگاه آزادی حضور دارند. بانوان کشورمان پرچم های سه رنگ ایران را در دست داشتند و حضور تعدادی از بانوان محجبه صحنه های جالبی را رقم زد. **تصاویری از حضور بانوان در ورزشگاه آزادی را در زیر ببینید.                 *این فیلم را ببینید.       انتهای پیام/\n",
      "\n",
      "\n",
      "\n",
      " doc id: 4761\n",
      "    url: https://www.farsnews.ir/news/14001023000568/سکوهای-آزادی-سرخ-شد\n",
      "content:\n",
      "به گزارش خبرگزاری فارس،کانون هواداران پرسپولیس، مانند دیگر بازی‌های خانگی  ورزشگاه آزادی را مزین به پرچم‌ها و نمادهای پرسپولیسی کرد. گروه داوطلبان کانون هواداران پرسپولیس برای آخرین بازی نیم فصل لیگ بیست و یکم خلیج فارس  سکوهای خالی آزادی را در غیاب هواداران پرشور، سرخپوش کردند. پرسپولیس ساعت 17:30 امروز در ورزشگاه آزادی به مصاف فجرشهید سپاسی می‌رود. انتهای پیام/\n",
      "\n",
      "\n",
      "\n",
      " doc id: 3764\n",
      "    url: https://www.farsnews.ir/news/14001104000657/بازدید-ناظران-AFC-از-استادیوم-آزادی-عکس\n",
      "content:\n",
      "به گزارش خبرنگار ورزشی خبرگزاری فارس، ناظران کنفدراسیون فوتبال آسیا امروز با حضور در ورزشگاه آزادی از قسمت های مختلف این استادویم دیدن کردند. سهیل مهدی هم ناظران AFC را همراهی کرد.    انتهای پیام/\n",
      "\n",
      "\n",
      "\n",
      " doc id: 411\n",
      "    url: https://www.farsnews.ir/news/14001218000515/برنامه-مرحله-یک-چهارم-نهایی-جام-حذفی-اعلام-شد-فروردین-40-رقابت\n",
      "content:\n",
      "به گزارش خبرگزاری فارس، برنامه مسابقات مرحله یک چهارم نهایی جام حذفی( یادواره آزادسازی خرمشهر) فصل ۱۴۰۱-۱۴۰۰ اعلام شد. برنامه مسابقات به شرح زیر است: شنبه ۲۰ فروردین  مس کرمان – خیبر خرم آباد – ساعت ۲۰ - ورزشگاه شهید باهنر کرمان خلیج فارس ماهشهر – مس رفسنجان – ساعت ۲۰:۱۵ – ورزشگاه متعاقبا اعلام می شود. پرسپولیس – آلومینیوم اراک – ساعت ۲۰:۱۵ – ورزشگاه آزادی تهران دوشنبه ۲۲ فروردین استقلال – نساجی مازندران – ساعت ۲۰:۱۵ – ورزشگاه آزادی تهران انتهای پیام/\n",
      "\n",
      "\n",
      "\n",
      " doc id: 5947\n",
      "    url: https://www.farsnews.ir/news/14001007000217/پخش-زنده-نشست-خبری-فرهاد-مجیدی-پیش-از-دیدار-استقلال-و-فولاد\n",
      "content:\n",
      "به گزارش خبرنگار ورزشی خبرگزاری فارس، نشست خبری فرهاد مجیدی پیش از دیدار استقلال و فولاد در هفته دوازدهم لیگ برتر در ورزشگاه آرارات برگزار شد. برای تماشای زنده نشست خبری سرمربی استقلال که در حال برگزاری است اینجا را کلیک کنید. دیدار دو تیم استقلال و فولاد ساعت 18 فردا در ورزشگاه آزادی برگزار می شود. انتهای پیام/\n",
      "\n",
      "\n",
      "\n"
     ]
    }
   ],
   "source": [
    "display_results('ورزشگاه آزادی')"
   ]
  },
  {
   "cell_type": "markdown",
   "id": "2aaa0869",
   "metadata": {},
   "source": [
    "### c. hard and rare one term query"
   ]
  },
  {
   "cell_type": "markdown",
   "id": "419c8f43",
   "metadata": {},
   "source": [
    "finding a rare term in dictionary:"
   ]
  },
  {
   "cell_type": "code",
   "execution_count": 91,
   "id": "6d6540e5",
   "metadata": {},
   "outputs": [
    {
     "name": "stdout",
     "output_type": "stream",
     "text": [
      " term: مرحله‌پلی‌آف‌لیگ\n",
      "count: 2\n",
      "   tf: {4: 1.0, 2138: 1.0}\n",
      "\n"
     ]
    }
   ],
   "source": [
    "find_rare_terms(1)"
   ]
  },
  {
   "cell_type": "code",
   "execution_count": 92,
   "id": "cdaa87f7",
   "metadata": {
    "scrolled": true
   },
   "outputs": [
    {
     "name": "stdout",
     "output_type": "stream",
     "text": [
      " doc id: 4\n",
      "    url: https://www.farsnews.ir/news/14001224000947/لیگ‌برتر-بسکتبال|‌-نخستین-پیروزی-شهرداری-گرگان-و-ذوب‌آهن-در-پلی‌آف\n",
      "content:\n",
      "به گزارش خبرنگار ورزشی خبرگزاری فارس، در نخستین بازی از روز دوم مرحله پلی‌آف لیگ برتر بسکتبال، تیم‌های شهرداری گرگان و اکسون مقابل هم به میدان رفتند که گرگانی‌ها موفق شدند 80 بر 71 به برتری برسند. در این مسابقه پری پتی با کسب 26 امتیاز و 6 ریباند، پرامتیازترین بازیکن گرگان و میدان بود. در دیگر بازی برگزار شده ذوب آهن که با صدرنشینی به پلی‌آف رسیده بود، در دیدار با صنایع هرمزگان 73 بر 70 به برتری رسید. انتهای پیام/    \n",
      "\n",
      "\n",
      "\n",
      " doc id: 2138\n",
      "    url: https://www.farsnews.ir/news/14001125000437/برنامه-بازی‌های-پلی‌آف-لیگ-برتر-والیبال-مشخص-شد\n",
      "content:\n",
      "به گزارش خبرگزاری فارس، جلسه قرعه کشی مرحله نخست پلی‌آف مسابقات والیبال قهرمانی باشگاه‌های برتر مردان ایران جام «سردار دل‌ها» ساعت 10 امروز (دوشنبه 25 بهمن‌) به‌صورت آنلاین برگزار شد و برنامه دیدارهای تیم‌های شرکت کننده در مراحل پلی‌آف شامل مراحل یک چهارم‌نهایی، نیمه‌نهایی و نهایی مشخص شد. دیدارهای مرحله یک‌چهارم نهایی لیگ برتر مردان از سوم تا هشتم اسفندماه به‌صورت متمرکز در سالن فدراسیون برگزار خواهد شد. بر اساس رای اکثریت شرکت کنندگان در این وبینار، ساعت دیدارهای مراحل پلی‌آف که به صورت متمرکز در فدراسیون والیبال برگزار می‌شود، 15 و 30 دقیقه برای نخستین مسابقه و 18 و 30 دقیقه برای دومین دیدار هر روز تعیین شد. تیم‌های فولاد مبارکه سپاهان، لبنیات هراز آمل، مقاومت شهداب یزد، پیکان تهران، شهرداری ارومیه، مس رفسنجان، فولاد سیرجان ایرانیان و پاس گرگان هشت تیم حاضر در مرحله پلی‌آف لیگ برتر مردان هستند. براساس قرعه‌کشی انجام‌شده، برنامه کامل مرحله یک‌چهارم نهایی و نیمه‌نهایی لیگ برتر مردان به این شرح است: دور رفت مرحله یک‌چهارم‌نهایی سه‌شنبه 3 اسفندماه ساعت 15 و 30 دقیقه: پیکان – شهرداری ارومیه ساعت 18 و 30 دقیقه: فولاد مبارکه سپاهان اصفهان – پاس گرگان چهارشنبه 4 اسفندماه ساعت 15 و 30 دقیقه: مقاومت شهداب یزد – مس رفسنجان ساعت 18 و 30 دقیقه: لبنیات هراز آمل – فولاد سیرجان ایرانیان دور برگشت مرحله یک‌چهارم‌نهایی پنج‌شنبه 5 اسفندماه ساعت 15 و 30 دقیقه:پاس گرگان – فولاد مبارکه سپاهان اصفهان ساعت 18 و 30 دقیقه: شهرداری ارومیه – پیکان جمعه 6 اسفندماه ساعت 15 و 30 دقیقه: فولاد سیرجان ایرانیان – لبنیات هراز آمل ساعت 18 و 30 دقیقه: مس رفسنجان – مقاومت شهداب یزد در صورت نیاز به بازی سوم مرحله یک چهارم نهایی شنبه 7 اسفندماه ساعت 15 و 30 دقیقه: پیکان – شهرداری ارومیه ساعت 18 و 30 دقیقه: فولاد مبارکه سپاهان اصفهان – پاس گرگان یکشنبه 8 اسفندماه ساعت 15 و 30 دقیقه: مقاومت شهداب یزد – مس رفسنجان ساعت 18 و 30 دقیقه: لبنیات هراز آمل – فولاد سیرجان ایرانیان مرحله نیمه‌نهایی لیگ برتر مردان ایران در سال 1400 روزهای 13، 15 و 17 اسفندماه برگزار خواهد شد که برنامه آن به قرار زیر است: دور رفت مرحله نیمه‌نهایی جمعه 13 اسفندماه ساعت 15 و 30 دقیقه: برنده دیدار (فولاد مبارکه سپاهان اصفهان – پاس گرگان) با برنده دیدار (پیکان – شهرداری ارومیه) ساعت 18 و 30 دقیقه: برنده دیدار ( مقاومت شهداب یزد – مس رفسنجان) با برنده دیدار (لبنیات هراز آمل – فولاد سیرجان ایرانیان) دور برگشت مرحله نیمه نهایی یکشنبه 15 اسفندماه ساعت 15 و 30 دقیقه: برنده دیدار (مقاومت شهداب یزد – مس رفسنجان) با برنده دیدار (لبنیات هراز آمل – فولاد سیرجان ایرانیان) ساعت 18 و 30 دقیقه: برنده دیدار (فولاد مبارکه سپاهان اصفهان – پاس گرگان) با برنده دیدار (پیکان – شهرداری ارومیه) در صورت نیاز به بازی سوم مرحله نیمه‌نهایی سه‌شنبه 17 اسفندماه ساعت 15 و 30 دقیقه: برنده دیدار (فولاد مبارکه سپاهان اصفهان – پاس گرگان) با برنده دیدار (پیکان – شهرداری ارومیه) ساعت 18 و 30 دقیقه: برنده دیدار (مقاومت شهداب یزد – مس رفسنجان) با برنده دیدار (لبنیات هراز آمل – فولاد سیرجان ایرانیان) بر اساس برنامه سازمان لیگ، بازی رفت فینال روز یکشنبه 22 اسفندماه، بازی برگشت فینال سه‌شنبه 24 اسفندماه و در صورت نیاز به مسابقه سوم، پنج شنبه 26 اسفندماه برگزار خواهد شد. انتهای پیام/\n",
      "\n",
      "\n",
      "\n",
      " doc id: 1385\n",
      "    url: https://www.farsnews.ir/news/14001206000048/لیگ-اروپا|-شب-گلباران-شاگردان-ژاوی-و-خداحافظی-دورتموند\n",
      "content:\n",
      "به گزارش خبرگزاری فارس، دور دوم مسابقات حذفی جهت راهیابی تیم ها به مرحله یک هشتم نهایی لیگ اروپا برگزار شد.  در پایان این بازیها، بارسلونا، رنجرز، بتیس و شریف مجوز حضور در مرحله یک هشتم نهایی را کسب کردند.   * نتایج این رقابت ها به شرح زیر است: ناپولی 2- بارسلونا 4 (دیدار رفت: یک- یک) رنجرز 2- دورتموند 2 (دیدار رفت: 4- 2) زنیت صفر- بتیس صفر (دیدار رفت: 2- 3) براگا 2- شریف صفر (دیدار رفت: صفر- 2) \n",
      "\n",
      "\n",
      "\n",
      " doc id: 1387\n",
      "    url: https://www.farsnews.ir/news/14001205000959/لیگ-اروپا|-صعود-پورتو-در-شب-درخشش-طارمی\n",
      "content:\n",
      "به گزارش خبرگزاری فارس، چهار دیدار دور برگشت حذفی راهیابی به دور یک هشتم نهایی لیگ اروپا برگزار شد. مهمترین اتفاق این مسابقات، راهیابی پورتو در شب درخشش مهدی طارمی به دور بعد بود. وی یک گل و یک پاس گل داد.    * نتایج این بازیها به شرح زیر است: پورتو 2- لاتزیو 2 (بازی رفت: 2- یک) گلها: مهدی طارمی (دقیقه 31- پنالتی) و یوریب (68) برای پورتو و ایموبیله (19) و کاتالدی (95) برای لاتزیو   رئال سوسیداد یک- لایپزیش 3 (بازی رفت: 2- 2) المپیاکوس صفر- آتلانتا 3  دیناموزاگرب یک- سویا صفر (بازی رفت: یک- 3) انتهای پیام/\n",
      "\n",
      "\n",
      "\n",
      " doc id: 2171\n",
      "    url: https://www.farsnews.ir/news/14001125000035/هفته-بیست-و-چهارم-لالیگا|-فرار-از-شکست-بارسلونا-در-دربی-کاتالونیا\n",
      "content:\n",
      "به گزارش خبرگزاری فارس، تیم فوتبال بارسلونا شب گذشته در دربی کاتالونیا میهمان اسپانیول بود که این دیدار با نتیجه تساوی 2 بر 2 به پایان رسید. بارسلونا در این بازی تا دقیقه 90+6 از اسپانیول با نتیجه 2 بر یک عقب بود ولی دی یانگ در نقش ناجی آبی-اناری ها ظاهر شد و گل تساوی را در ثانیه های پایانی به ثمر رساند. بارسلونا با این تساوی 39 امتیازی شد و به رده چهارم صعود کرد. انتهای پیام/  \n",
      "\n",
      "\n",
      "\n"
     ]
    }
   ],
   "source": [
    "display_results('مرحله‌پلی‌آف‌لیگ 2')"
   ]
  },
  {
   "cell_type": "markdown",
   "id": "9a80c2bc",
   "metadata": {},
   "source": [
    "checking a term that is not in dictionary:"
   ]
  },
  {
   "cell_type": "code",
   "execution_count": 93,
   "id": "00e0bfb1",
   "metadata": {},
   "outputs": [
    {
     "name": "stdout",
     "output_type": "stream",
     "text": [
      "-1\n"
     ]
    }
   ],
   "source": [
    "print(my_dict.get('آسترازنکا', -1))"
   ]
  },
  {
   "cell_type": "code",
   "execution_count": 94,
   "id": "fa93de78",
   "metadata": {},
   "outputs": [
    {
     "name": "stdout",
     "output_type": "stream",
     "text": [
      "Nothing found.\n"
     ]
    }
   ],
   "source": [
    "display_results('آسترازنکا')"
   ]
  },
  {
   "cell_type": "markdown",
   "id": "0350a846",
   "metadata": {},
   "source": [
    "### d. hard and rare multiple term query"
   ]
  },
  {
   "cell_type": "markdown",
   "id": "319f7828",
   "metadata": {},
   "source": [
    "finding some hard and rare multiple terms in dictionary:"
   ]
  },
  {
   "cell_type": "code",
   "execution_count": 95,
   "id": "2d6dc857",
   "metadata": {},
   "outputs": [
    {
     "name": "stdout",
     "output_type": "stream",
     "text": [
      " term: مرحله‌پلی‌آف‌لیگ\n",
      "count: 2\n",
      "   tf: {4: 1.0, 2138: 1.0}\n",
      "\n",
      " term: فیدر\n",
      "count: 2\n",
      "   tf: {5: 1.0, 132: 1.0}\n",
      "\n",
      " term: ‌ندا‌شهسواری\n",
      "count: 1\n",
      "   tf: {5: 1.0}\n",
      "\n"
     ]
    }
   ],
   "source": [
    "find_rare_terms(3)"
   ]
  },
  {
   "cell_type": "code",
   "execution_count": 96,
   "id": "cec0761b",
   "metadata": {},
   "outputs": [
    {
     "name": "stdout",
     "output_type": "stream",
     "text": [
      " doc id: 132\n",
      "    url: https://www.farsnews.ir/news/14001222000537/مسابقات-تنیس-روی-میز-قطر|-شکست-تیم-دو-نفره-بانوان-در-گام-نخست\n",
      "content:\n",
      "به گزارش خبرگزاری فارس، در گام نخست مسابقات دونفره فیدر دوحه قطر ، تیم دوبل مهشید اشتری و ندا شهسواری در مصاف با نمایندگان کره جنوبی با حساب ۳ بر صفر شکست خوردند از دور مسابقات کنار رفتند. در این دیدار نمایندگان تنیس روی میز ایران در دو گیم ۱۱ بر ۸ و در گیم سوم ۱۱ بر۶ مغلوب حریف سرسخت کره جنوبی خود شدند. انتهای پیام/\n",
      "\n",
      "\n",
      "\n",
      " doc id: 926\n",
      "    url: https://www.farsnews.ir/news/14001211000910/درخشش-دوباره-بازیکن-36-ساله-اعضای-تیم‌ملی-تنیس-روی-میز-مشخص-شدند\n",
      "content:\n",
      "به گزارش خبرنگار ورزشی خبرگزاری فارس، رقابت‌های انتخابی تیم ملی تنیس روی میز امروز ادامه پیدا کرد و نیما عالمیان و افشین نوروزی با شکست حریفان خود به عضویت تیم ملی درآمدند. پیش از این امیرحسین هدایی در مرحله اول انتخاب شده بود و نوشاد عالمیان هم از سوی فدراسیون منصوب شد. نکته جالب توجه اینکه نوروزی در حال حاضر با 36 سال سن مسن ترین بازیکن تنیس روی میز ایران محسوب می‌شود و همچنان درخشش دارد. در بخش بانوان نیز شیما صفایی، پریناز حاجیلو و مهشید اشتری انتخاب شدند و ندا شهسواری نیز از سوی فدراسیون انتصاب شد. انتهای پیام/  \n",
      "\n",
      "\n",
      "\n",
      " doc id: 3175\n",
      "    url: https://www.farsnews.ir/news/14001112000231/سقوط-برادران-عالمیان-در-رنکینگ-جهانی-حاصل-غیبت-در-تورهای-بین-المللی\n",
      "content:\n",
      "به گزارش خبرنگار ورزشی خبرگزاری فارس، در تازه ترین رنکینگ اعلام شده از فدراسیون جهانی تنیس روی میز جدید نوشاد و نیما عالمیان سقوط 4 و 5 پله ای را تجربه کردند. نوشاد عالمیان که در رده 70 قرار داشت به رتبه 74 سقوط کرد و نیما نیز از 127 به 132 رسید. در این بین امیر حسین هدایی و امین احمدیان دیگر لژیونرهای تنیس روی میز صعود داشتند. هدایی از رتبه 185 به 154 رسید و احمدیان نیز با صعود 8 پله‌ای در جایگاه 190 ایستاد. در بخش بانوان نیز ندا شهسواری با 4 پله صعود در رتبه 211 قرار گرفت و همچنان نفر اول ایران است. مهشید اشتری و مریم صامت نیز به ترتیب رده های 342 و 413 را از آن خود کردند. انتهای پیام/\n",
      "\n",
      "\n",
      "\n",
      " doc id: 978\n",
      "    url: https://www.farsnews.ir/news/14001210000627/ملی-پوشان-تنیس-روی-میز-بانوان-مشخص-شدند\n",
      "content:\n",
      "به گزارش خبرگزاری فارس، در پایان مرحله دوم ماراتن انتخابی تیم ملی بزرگسالان بانوان تنیس روی میز، پریناز حاجیلو از البرز و مهشید اشتری از خراسان رضوی با کسب بیشترین امتیاز به عضویت تیم ملی در آمدند. حاجیلو با کسب ۲۰ امتیاز و اشتری با ۱۷ امتیاز پس از ندا شهسواری از کرمانشاه که توسط کادر فنی انتصاب شد و بعد از شیما صفایی از همدان که در دور اول جواز حضور در تیم ملی را کسب کردند، صاحب لباس تیم ملی شدند. بدین ترتیب برای حضور در بازی های کشورهای اسلامی و بازی های آسیایی ترکیب تیم ملی تنیس روی میز بانوان کشورمان مشخص شد. پنجمین عضو تیم ملی بانوان جهت حضور در رقابت های تیمی قهرمانی جهان با برگزاری مرحله آخر انتخابی مشخص خواهد شد. رده بندی دور دوم انتخابی تیم ملی بانوان: ۱-پریناز حاجیلو ۲۰ امتیاز ۲-مهشید اشتری ۱۷ امتیاز ۳-الینا رحیمی ۱۵ امتیاز ۴-سارا شهسواری ۱۲ امتیاز ۵-کیمیا رستمی ۱۰ امتیاز ۶-فاطمه جمالی فر ۸ امتیاز ۷-فاطمه یاری ۵ امتیاز ۸-مریم فرعی انصراف انتهای پیام/\n",
      "\n",
      "\n",
      "\n",
      " doc id: 5213\n",
      "    url: https://www.farsnews.ir/news/14001018000410/۹-غایب-در-جلسه-کمیسیون-ورزشکاران-برنامه‌ریزی-برای-گرفتن-بودجه-IOC\n",
      "content:\n",
      "به گزارش خبرنگار ورزشی خبرگزاری فارس، سومین نشست کمیسیون ورزشکاران امروز شنبه در کمیته ملی المپیک برگزار شد. در نشست امروز، هادی ساعی، سجاد گنج‌زاده، امین بوداغی، محمد بیداریان، بهداد سلیمی، ثریا آقایی، حمیده عباسعلی، مجتبی عابدینی، شهربانو منصوریان، زهرا نعمتی و مصطفی نودهی در نشست امروز حاضر بودند. حسین ساوه‌شمشکی، حسن یزدانی، محمدرضا گرایی، احسان حدادی، فرزانه فصیحی، ندا شهسواری، نجمه خدمتی، ذبیح‌الله پورشیب، محمد باقری معتمد در نشست حضور نداشتند. محمد بیداریان سخنگوی کمیسیون ورزشکاران درباره مصوبات امروز، گفت: طبق برنامه دعوت نامه به قهرمانان ارسال شده بود و ۱۱ نفر حضور داشتند. در خصوص صدور کارت کمیته صحبت و قرار شد فدراسیون‌ها همکاری لازم را داشته باشد. بیداریان همچنین در خصوص برنامه‌های جلسه بعدی، عنوان کرد: از کارشناس بیمه دعوت می‌شود. کارگروهی تشکیل خواهد شد تا در برنامه‌های کمیته از این عزیزان استفاده شود. در خصوص پرداخت بودجه از سوی IOC برنامه‌های خود را طراحی و تدوین خواهیم کرد و قرار است هماهنگی‌ها انجام شود. نامه‌نگاری می‌کنیم تا کمیسیون ردیف بودجه مجزا داشته باشد تا در خصوص کمک به ورزشکاران حمایت لازم انجام شود. درخواست برای عضویت یک ورزشکار از کمیسیون در صندوق حمایت از ورزشکاران از برنامه‌های دیگر ماست. وی درباره اینکه قرار بود امروز وزیر در جلسه شما شرکت کند اما این اتفاق رخ نداد، عنوان کرد: وزارت درگیر انتخابات چند فدراسیون است، قرار شد در شرایط مناسبی از وزیر دعوت شود. وی همچنین در خصوص برگزاری جلسه با ۱۱ قهرمان، تصریح کرد: امروز حضور هادی ساعی پیام خوبی برای همه اعضای کمیسیون داشت، اینکه به تازگی رئیس فدراسیون انتخاب شده جایگاه کمیسیون آنقدر بالا بود که او حضور داشت. من انتخاب او را هم تبریک می‌گویم و امیدوارم جلسات بعدی با حضور پرتعداد برگزار شود. بیداریان در مورد اینکه چند ورزشکار ۳ جلسه غایب بوده‌اند و آیا آنها از کمیسیون خارج می‌شوند، گفت: غیبت چند ورزشکار موجه بود. احسان حدادی در کیش حضور دارد، فصیحی در خارج از کشور است و نجمه خدمتی هم تهران نبود. سخنگوی کمیسیون ورزشکاران درباره غیبت بیش از ۳ جلسه کشتی‌گیران، خاطرنشان کرد: امیدوارم این همدلی به وجود بیاید تا کشتی‌گیران هم در جلسات حضور داشته باشند. انتهای پیام/ \n",
      "\n",
      "\n",
      "\n"
     ]
    }
   ],
   "source": [
    "display_results('مرحله‌پلی‌آف‌لیگ فیدر ‌ندا‌شهسواری')"
   ]
  },
  {
   "cell_type": "markdown",
   "id": "4469b7a2",
   "metadata": {},
   "source": [
    "multiple terms that are not in dictionary:"
   ]
  },
  {
   "cell_type": "code",
   "execution_count": 97,
   "id": "2f1ee6d6",
   "metadata": {},
   "outputs": [
    {
     "name": "stdout",
     "output_type": "stream",
     "text": [
      "Nothing found.\n"
     ]
    }
   ],
   "source": [
    "display_results('آسترازنکا')"
   ]
  },
  {
   "cell_type": "code",
   "execution_count": 101,
   "id": "b88c2114",
   "metadata": {},
   "outputs": [
    {
     "name": "stdout",
     "output_type": "stream",
     "text": [
      "Nothing found.\n"
     ]
    }
   ],
   "source": [
    "display_results('میقولی')"
   ]
  },
  {
   "cell_type": "code",
   "execution_count": 102,
   "id": "db11aa42",
   "metadata": {},
   "outputs": [
    {
     "name": "stdout",
     "output_type": "stream",
     "text": [
      "Nothing found.\n"
     ]
    }
   ],
   "source": [
    "display_results('آسترازنکا میقولی؟')"
   ]
  },
  {
   "cell_type": "markdown",
   "id": "1371bed0",
   "metadata": {},
   "source": [
    "## 2."
   ]
  },
  {
   "cell_type": "markdown",
   "id": "6a4acb86",
   "metadata": {},
   "source": [
    "### Comparing the b,c results with positional index"
   ]
  },
  {
   "cell_type": "markdown",
   "id": "997f67ea",
   "metadata": {},
   "source": [
    "## b"
   ]
  },
  {
   "cell_type": "markdown",
   "id": "66cca5c0",
   "metadata": {},
   "source": [
    "### 'ورزشگاه آزادی'"
   ]
  },
  {
   "cell_type": "markdown",
   "id": "f2285c71",
   "metadata": {},
   "source": [
    "### results for phase 01:"
   ]
  },
  {
   "cell_type": "markdown",
   "id": "acccfd62",
   "metadata": {},
   "source": [
    "We have 366 document(s) that have 2 words of the user query.\n",
    "We have 1528 document(s) that have 1 words of the user query.\n",
    "\n",
    "doc id:  2\n",
    "title:  محل برگزاری نشست‌های خبری سرخابی‌ها؛ مجیدی در سازمان لیگ، گل‌محمدی در تمرین پرسپولیس\n",
    "content:\n",
    "\n",
    "به گزارش خبرگزاری فارس، نشست خبری پیش از مسابقه سرمربیان دو تیم پرسپولیس و استقلال از هفته بیست و سوم لیگ برتر با  مدیریت سازمان لیگ و هماهنگی باشگاه میزبان( پرسپولیس)  به شرح زیر  برگزار می شود: چهارشنبه ۲۵ اسفند ساعت ۱۵ فرهاد مجیدی سرمربی استقلال در سازمان لیگ فوتبال ایران ساعت ۱۳:۳۰ یحیی گل محمدی سرمربی پرسپولیس در ورزشگاه شهید کاظمی مسابقه دو تیم روز پنجشنبه در ورزشگاه آزادی برگزار می شود. انتهای پیام/\n",
    "\n",
    "\n",
    "\n",
    "\n",
    "doc id:  6\n",
    "title:  اعلام برنامه نشست خبری گل محمدی/ مجیدی هم باید به محل تمرین پرسپولیس برود!\n",
    "content:\n",
    "\n",
    "به گزارش خبرگزاری فارس و به نقل از  سایت باشگاه پرسپولیس، نشست خبری پیش از مسابقه سرمربیان دو تیم پرسپولیس و استقلال از هفته بیست و سوم لیگ برتر (جام خلیج فارس) با  مدیریت سازمان لیگ و هماهنگی باشگاه میزبان (پرسپولیس) در ورزشگاه شهید کاظمی به شرح زیر  برگزار می‌شود: چهارشنبه ۲۵ اسفند ساعت ۱۳ فرهاد مجیدی سرمربی استقلال ساعت ۱۳:۳۰ یحیی گل محمدی سرمربی پرسپولیس  مسابقه دو تیم روز پنجشنبه در ورزشگاه آزادی برگزار می‌شود.  به گزارش خبرگزاری فارس، پیش از این باشگاه استقلال اعلام کرده بود قرار است نشست خبری فرهاد مجیدی، سرمربی این تیم از ساعت ۱۵ در سازمان لیگ برگزار شود. انتهای پیام /\n",
    "\n",
    "\n",
    "\n",
    "\n",
    "doc id:  10\n",
    "title:  تراکتور در آستانه بازگشت به خانه اصلی/ نواقص ورزشگاه یادگار امام بررسی شد\n",
    "content:\n",
    "\n",
    "به گزارش خبرگزاری فارس و به نقل از سایت باشگاه تراکتور، میر معصوم سهرابی، مدیرعامل این باشگاه به همراه نمایندگانی از استانداری آذربایجان شرقی، معاون عملیات نیروی انتظامی استان، نمایندگانی از یگان ویژه استان، مدیرکل ورزش و جوانان استان، نماینده اداره ورزش و جوانان شهرستان تبریز و مدیر ورزشگاه یادگار امام امروز (سه شنبه ۲۴ اسفند) از بخش‌های مختلف ورزشگاه یادگار امام (ره) تبریز بازدید کرده و آخرین وضعیت و نواقصات این مجموعه برای میزبانی از هواداران تراکتور را بررسی کردند.  طی این بازدید، تمهیدات لازم در راستای آماده‌سازی این ورزشگاه برای میزبانی از بازی‌های تیم تراکتور اندیشیده شد. انتهای پیام/\n",
    "\n",
    "\n",
    "\n",
    "\n",
    "doc id:  12\n",
    "title:  گزارش تمرین پرسپولیس| روحیه بالای شاگردان گل محمدی در آستانه دربی\n",
    "content:\n",
    "\n",
    "به گزارش خبرگزاری فارس، تمرین امروز تیم فوتبال پرسپولیس از ساعت 11:45 در هوای مطبوع ورزشگاه شهید کاظمی زیر نظر کادر فنی با شادابی و روحیه بالای سرخ پوشان برگزار شد. * بازیکنان ابتدا زیر نظر مربی بدنساز تیم با انجام حرکات کششی، نرمشی و دوهای کوتاه، بدن‌ها را گرم و در اختیار کادر فنی قرار گرفتند. * سپس در قالب سه گروه به تمرین پرداخته و در ادامه نیز مرور کارهای تاکتیکی و فوتبال هدفمند در دستور کار قرار گرفت. * تمرین امروز حدود 50 دقیقه به طول انجامید و کلیه سرخپوشان به جز سیامک نعمتی در برنامه‌های کادر فنی حاضر بودند. در پایان نیز بازیکنان بدن‌ها را سرد و راهی رختکن شدند. تیم پرسپولیس از ساعت 17:30 پنجشنبه در چارچوب دیدارهای هفته بیست و سوم لیگ برتر به مصاف استقلال می رود. انتهای پیام/\n",
    "\n",
    "\n",
    "\n",
    "\n",
    "doc id:  19\n",
    "title:  بارسلونا با بازیکن میلان به توافق رسید / 3 مدافع رایگان در لیست ژاوی\n",
    "content:\n",
    "\n",
    "به گزارش خبرگزاری فارس، جرارد رومرو، خبرنگار اسپانیایی از توافق «فرانک کسیه» با بارسلونا خبر داد. این بازیکن ساحل عاجی علاقه ندارد با میلان قرارداد خود را تمدید کند و به همین دلیل تصمیم گرفته در پایان فصل به صورت بازیکن آزاد راهی بارسلونا شود.  کسیه در خط میانی روسونری نمایش خوبی در این 2 فصل اخیر داشت. او به یکی از مهره‌های بزرگ پیولی نام گرفته و توانسته در این فصل 29 بازی انجام دهد.  بارسلونا در تابستان قصد دارد برای جذب بازیکنان آزادی مثل کریستینسن و آزپیلیکوئتا (مدافعان چلسی) و نصیر مزروعی (دفاع راست آژاکس) تلاش کند. طبق گزارش‌ها کریستینسن نیز با آبی‌اناری‌ها به توافق رسیده و به احتمال فراوان راهی نیوکمپ خواهد شد. آبی‌اناری‌ها تمام ثروت و توان خود را گذاشته‌اند تا در پنجره نقل و انتقالات تابستانی «ارلینگ هالند» را خریداری کنند. طبق گزارش‌ رسانه‌های اروپایی در چند اخیر منچسترسیتی اصلی‌ترین گزینه انتقال این بازیکن است.  انتهای پیام/"
   ]
  },
  {
   "cell_type": "markdown",
   "id": "21416e87",
   "metadata": {},
   "source": [
    "### results for phase 02:"
   ]
  },
  {
   "cell_type": "markdown",
   "id": "ad7b17b8",
   "metadata": {},
   "source": [
    " doc id: 3525\n",
    "    url: https://www.farsnews.ir/news/14001107000594/حضور-بانوان-در-ورزشگاه-آزادی-در-جریان-دیدار-ایران-و-عراق-تصاویر-و-فیلم\n",
    "content:\n",
    "به گزارش خبرگزاری فارس، تیم های فوتبال ایران و عراق از مرحله گروهی مقدماتی راه یابی به جام جهانی قطر در ورزشگاه آزادی به مصاف هم رفته اند. در این دیدار مجوز حضور 10 درصد از هواداران را در ورزشگاه داده اند و در این میان هم بانوان هم در ورزشگاه آزادی حضور دارند. بانوان کشورمان پرچم های سه رنگ ایران را در دست داشتند و حضور تعدادی از بانوان محجبه صحنه های جالبی را رقم زد. **تصاویری از حضور بانوان در ورزشگاه آزادی را در زیر ببینید.                 *این فیلم را ببینید.       انتهای پیام/\n",
    "\n",
    "\n",
    "\n",
    " doc id: 4761\n",
    "    url: https://www.farsnews.ir/news/14001023000568/سکوهای-آزادی-سرخ-شد\n",
    "content:\n",
    "به گزارش خبرگزاری فارس،کانون هواداران پرسپولیس، مانند دیگر بازی‌های خانگی  ورزشگاه آزادی را مزین به پرچم‌ها و نمادهای پرسپولیسی کرد. گروه داوطلبان کانون هواداران پرسپولیس برای آخرین بازی نیم فصل لیگ بیست و یکم خلیج فارس  سکوهای خالی آزادی را در غیاب هواداران پرشور، سرخپوش کردند. پرسپولیس ساعت 17:30 امروز در ورزشگاه آزادی به مصاف فجرشهید سپاسی می‌رود. انتهای پیام/\n",
    "\n",
    "\n",
    "\n",
    " doc id: 3764\n",
    "    url: https://www.farsnews.ir/news/14001104000657/بازدید-ناظران-AFC-از-استادیوم-آزادی-عکس\n",
    "content:\n",
    "به گزارش خبرنگار ورزشی خبرگزاری فارس، ناظران کنفدراسیون فوتبال آسیا امروز با حضور در ورزشگاه آزادی از قسمت های مختلف این استادویم دیدن کردند. سهیل مهدی هم ناظران AFC را همراهی کرد.    انتهای پیام/\n",
    "\n",
    "\n",
    "\n",
    " doc id: 411\n",
    "    url: https://www.farsnews.ir/news/14001218000515/برنامه-مرحله-یک-چهارم-نهایی-جام-حذفی-اعلام-شد-فروردین-40-رقابت\n",
    "content:\n",
    "به گزارش خبرگزاری فارس، برنامه مسابقات مرحله یک چهارم نهایی جام حذفی( یادواره آزادسازی خرمشهر) فصل ۱۴۰۱-۱۴۰۰ اعلام شد. برنامه مسابقات به شرح زیر است: شنبه ۲۰ فروردین  مس کرمان – خیبر خرم آباد – ساعت ۲۰ - ورزشگاه شهید باهنر کرمان خلیج فارس ماهشهر – مس رفسنجان – ساعت ۲۰:۱۵ – ورزشگاه متعاقبا اعلام می شود. پرسپولیس – آلومینیوم اراک – ساعت ۲۰:۱۵ – ورزشگاه آزادی تهران دوشنبه ۲۲ فروردین استقلال – نساجی مازندران – ساعت ۲۰:۱۵ – ورزشگاه آزادی تهران انتهای پیام/\n",
    "\n",
    "\n",
    "\n",
    " doc id: 5947\n",
    "    url: https://www.farsnews.ir/news/14001007000217/پخش-زنده-نشست-خبری-فرهاد-مجیدی-پیش-از-دیدار-استقلال-و-فولاد\n",
    "content:\n",
    "به گزارش خبرنگار ورزشی خبرگزاری فارس، نشست خبری فرهاد مجیدی پیش از دیدار استقلال و فولاد در هفته دوازدهم لیگ برتر در ورزشگاه آرارات برگزار شد. برای تماشای زنده نشست خبری سرمربی استقلال که در حال برگزاری است اینجا را کلیک کنید. دیدار دو تیم استقلال و فولاد ساعت 18 فردا در ورزشگاه آزادی برگزار می شود. انتهای پیام/"
   ]
  },
  {
   "cell_type": "markdown",
   "id": "94c4d6d0",
   "metadata": {},
   "source": [
    "## d."
   ]
  },
  {
   "cell_type": "markdown",
   "id": "b94d340a",
   "metadata": {},
   "source": [
    "### 'مرحله‌پلی‌آف‌لیگ فیدر ‌ندا‌شهسواری'"
   ]
  },
  {
   "cell_type": "markdown",
   "id": "f42701a9",
   "metadata": {},
   "source": [
    "### results for phase 01:"
   ]
  },
  {
   "cell_type": "markdown",
   "id": "4c4e987b",
   "metadata": {},
   "source": [
    "We have 5 document(s) that have 1 words of the user query.\n",
    "\n",
    "doc id:  132\n",
    "title:  مسابقات تنیس روی میز قطر| شکست تیم دو نفره بانوان در گام نخست\n",
    "content:\n",
    "\n",
    "به گزارش خبرگزاری فارس، در گام نخست مسابقات دونفره فیدر دوحه قطر ، تیم دوبل مهشید اشتری و ندا شهسواری در مصاف با نمایندگان کره جنوبی با حساب ۳ بر صفر شکست خوردند از دور مسابقات کنار رفتند. در این دیدار نمایندگان تنیس روی میز ایران در دو گیم ۱۱ بر ۸ و در گیم سوم ۱۱ بر۶ مغلوب حریف سرسخت کره جنوبی خود شدند. انتهای پیام/\n",
    "\n",
    "\n",
    "\n",
    "\n",
    "doc id:  5\n",
    "title:  مسابقات تنیس روی میز فیدر قطر| هر4 بانوی ملی پوش ایران حذف شدند\n",
    "content:\n",
    "\n",
    "به گزارش خبرگزاری فارس، چهار بانوی تنیس روی میز ایران با باخت در مصاف با رقبای خود در جدول ۶۴ نفره رقابت‌های فیدر دوحه قطر از راهیابی به مرحله بعد بازماندند. ندا شهسواری در مصاف با هوانگ با رنکینگ ۳۸۲ دنیا از چین تایپه با حساب ۴ بر صفر مغلوب شد. شهسواری در گیم اول ۱۱ بر ۷، گیم دوم ۱۱ بر ۲ و در دو گیم متوالی با حساب ۱۱ بر ۶ متوقف و از راهیابی به مرحله بعد بازماند. مهشید اشتری در مصاف با چانگ لی از مالزی با حساب ۴ بر ۲ شکست خورد. حریف اشتری دارنده رنک ۲۳۷ دنیا بود که نماینده کشورمان در دو گیم با حساب ۱۱ بر ۸ شکست خورد و ‌ گیم سوم ۱۱ بر ۷ به سود اشتری خاتمه یافت. گیم چهارم ۱۱ بر ۱۳ به سود حریف به اتمام رسید و اشتری در گیم چهارم ۱۳ بر ۱۱ برابر حریف به برتری دست یافت اما در پایان گیم ششم حریف مالزیایی ۱۲ بر ۱۰ از سد اشتری گذشت. مریم صامت در تقابل با النا از رومانی دارنده رنک ۲۱۵ با نتیجه ۴ بر ۳ شکست خورد. گیم اول ۱۱ بر ۷ به سود حریف به پایان رسید ، صامت در دو گیم متوالی ۱۱ بر ۶ و سپس ۱۱ بر ۷ به پیروزی دست یافت، حریف رومانیایی در گیم چهارم ۱۱ بر ۸ از سد صامت عبور کرد و بازی در گیم پنجم ۱۴ بر ۱۲ به نفع صامت خاتمه یافت. حریف در پایان گیم های ششم و هفتم با برتری ۱۱ بر ۵ از سد نماینده کشورمان عبور کرد. شیما صفایی با قبول شکست ۴ بر صفر مقابل نماینده هند از راهیابی به دور بعد بازماند. ۱۱ بر ۵ در گیم اول ، ۱۳ بر ۱۱ در گیم دوم، ۱۱ بر ۵ و ۱۱ بر ۹ نتایج رقم خورده در این دیدار به نفع حریف هندی صفایی بود. انتهای پیام/\n",
    "\n",
    "\n",
    "\n",
    "\n",
    "doc id:  3175\n",
    "title:  سقوط برادران عالمیان در رنکینگ جهانی حاصل غیبت در تورهای بین المللی\n",
    "content:\n",
    "\n",
    "به گزارش خبرنگار ورزشی خبرگزاری فارس، در تازه ترین رنکینگ اعلام شده از فدراسیون جهانی تنیس روی میز جدید نوشاد و نیما عالمیان سقوط 4 و 5 پله ای را تجربه کردند. نوشاد عالمیان که در رده 70 قرار داشت به رتبه 74 سقوط کرد و نیما نیز از 127 به 132 رسید. در این بین امیر حسین هدایی و امین احمدیان دیگر لژیونرهای تنیس روی میز صعود داشتند. هدایی از رتبه 185 به 154 رسید و احمدیان نیز با صعود 8 پله‌ای در جایگاه 190 ایستاد. در بخش بانوان نیز ندا شهسواری با 4 پله صعود در رتبه 211 قرار گرفت و همچنان نفر اول ایران است. مهشید اشتری و مریم صامت نیز به ترتیب رده های 342 و 413 را از آن خود کردند. انتهای پیام/\n",
    "\n",
    "\n",
    "\n",
    "\n",
    "doc id:  978\n",
    "title:  ملی پوشان تنیس روی میز بانوان مشخص شدند\n",
    "content:\n",
    "\n",
    "به گزارش خبرگزاری فارس، در پایان مرحله دوم ماراتن انتخابی تیم ملی بزرگسالان بانوان تنیس روی میز، پریناز حاجیلو از البرز و مهشید اشتری از خراسان رضوی با کسب بیشترین امتیاز به عضویت تیم ملی در آمدند. حاجیلو با کسب ۲۰ امتیاز و اشتری با ۱۷ امتیاز پس از ندا شهسواری از کرمانشاه که توسط کادر فنی انتصاب شد و بعد از شیما صفایی از همدان که در دور اول جواز حضور در تیم ملی را کسب کردند، صاحب لباس تیم ملی شدند. بدین ترتیب برای حضور در بازی های کشورهای اسلامی و بازی های آسیایی ترکیب تیم ملی تنیس روی میز بانوان کشورمان مشخص شد. پنجمین عضو تیم ملی بانوان جهت حضور در رقابت های تیمی قهرمانی جهان با برگزاری مرحله آخر انتخابی مشخص خواهد شد. رده بندی دور دوم انتخابی تیم ملی بانوان: ۱-پریناز حاجیلو ۲۰ امتیاز ۲-مهشید اشتری ۱۷ امتیاز ۳-الینا رحیمی ۱۵ امتیاز ۴-سارا شهسواری ۱۲ امتیاز ۵-کیمیا رستمی ۱۰ امتیاز ۶-فاطمه جمالی فر ۸ امتیاز ۷-فاطمه یاری ۵ امتیاز ۸-مریم فرعی انصراف انتهای پیام/\n",
    "\n",
    "\n",
    "\n",
    "\n",
    "doc id:  926\n",
    "title:  درخشش دوباره بازیکن 36 ساله/اعضای تیم‌ملی تنیس روی میز مشخص شدند\n",
    "content:\n",
    "\n",
    "به گزارش خبرنگار ورزشی خبرگزاری فارس، رقابت‌های انتخابی تیم ملی تنیس روی میز امروز ادامه پیدا کرد و نیما عالمیان و افشین نوروزی با شکست حریفان خود به عضویت تیم ملی درآمدند. پیش از این امیرحسین هدایی در مرحله اول انتخاب شده بود و نوشاد عالمیان هم از سوی فدراسیون منصوب شد. نکته جالب توجه اینکه نوروزی در حال حاضر با 36 سال سن مسن ترین بازیکن تنیس روی میز ایران محسوب می‌شود و همچنان درخشش دارد. در بخش بانوان نیز شیما صفایی، پریناز حاجیلو و مهشید اشتری انتخاب شدند و ندا شهسواری نیز از سوی فدراسیون انتصاب شد. انتهای پیام/  "
   ]
  },
  {
   "cell_type": "markdown",
   "id": "e1e74523",
   "metadata": {},
   "source": [
    "### results for phase 02:"
   ]
  },
  {
   "cell_type": "markdown",
   "id": "f5f8d56d",
   "metadata": {},
   "source": [
    "doc id: 132\n",
    "    url: https://www.farsnews.ir/news/14001222000537/مسابقات-تنیس-روی-میز-قطر|-شکست-تیم-دو-نفره-بانوان-در-گام-نخست\n",
    "content:\n",
    "به گزارش خبرگزاری فارس، در گام نخست مسابقات دونفره فیدر دوحه قطر ، تیم دوبل مهشید اشتری و ندا شهسواری در مصاف با نمایندگان کره جنوبی با حساب ۳ بر صفر شکست خوردند از دور مسابقات کنار رفتند. در این دیدار نمایندگان تنیس روی میز ایران در دو گیم ۱۱ بر ۸ و در گیم سوم ۱۱ بر۶ مغلوب حریف سرسخت کره جنوبی خود شدند. انتهای پیام/\n",
    "\n",
    "\n",
    "\n",
    " doc id: 926\n",
    "    url: https://www.farsnews.ir/news/14001211000910/درخشش-دوباره-بازیکن-36-ساله-اعضای-تیم‌ملی-تنیس-روی-میز-مشخص-شدند\n",
    "content:\n",
    "به گزارش خبرنگار ورزشی خبرگزاری فارس، رقابت‌های انتخابی تیم ملی تنیس روی میز امروز ادامه پیدا کرد و نیما عالمیان و افشین نوروزی با شکست حریفان خود به عضویت تیم ملی درآمدند. پیش از این امیرحسین هدایی در مرحله اول انتخاب شده بود و نوشاد عالمیان هم از سوی فدراسیون منصوب شد. نکته جالب توجه اینکه نوروزی در حال حاضر با 36 سال سن مسن ترین بازیکن تنیس روی میز ایران محسوب می‌شود و همچنان درخشش دارد. در بخش بانوان نیز شیما صفایی، پریناز حاجیلو و مهشید اشتری انتخاب شدند و ندا شهسواری نیز از سوی فدراسیون انتصاب شد. انتهای پیام/  \n",
    "\n",
    "\n",
    "\n",
    " doc id: 3175\n",
    "    url: https://www.farsnews.ir/news/14001112000231/سقوط-برادران-عالمیان-در-رنکینگ-جهانی-حاصل-غیبت-در-تورهای-بین-المللی\n",
    "content:\n",
    "به گزارش خبرنگار ورزشی خبرگزاری فارس، در تازه ترین رنکینگ اعلام شده از فدراسیون جهانی تنیس روی میز جدید نوشاد و نیما عالمیان سقوط 4 و 5 پله ای را تجربه کردند. نوشاد عالمیان که در رده 70 قرار داشت به رتبه 74 سقوط کرد و نیما نیز از 127 به 132 رسید. در این بین امیر حسین هدایی و امین احمدیان دیگر لژیونرهای تنیس روی میز صعود داشتند. هدایی از رتبه 185 به 154 رسید و احمدیان نیز با صعود 8 پله‌ای در جایگاه 190 ایستاد. در بخش بانوان نیز ندا شهسواری با 4 پله صعود در رتبه 211 قرار گرفت و همچنان نفر اول ایران است. مهشید اشتری و مریم صامت نیز به ترتیب رده های 342 و 413 را از آن خود کردند. انتهای پیام/\n",
    "\n",
    "\n",
    "\n",
    " doc id: 978\n",
    "    url: https://www.farsnews.ir/news/14001210000627/ملی-پوشان-تنیس-روی-میز-بانوان-مشخص-شدند\n",
    "content:\n",
    "به گزارش خبرگزاری فارس، در پایان مرحله دوم ماراتن انتخابی تیم ملی بزرگسالان بانوان تنیس روی میز، پریناز حاجیلو از البرز و مهشید اشتری از خراسان رضوی با کسب بیشترین امتیاز به عضویت تیم ملی در آمدند. حاجیلو با کسب ۲۰ امتیاز و اشتری با ۱۷ امتیاز پس از ندا شهسواری از کرمانشاه که توسط کادر فنی انتصاب شد و بعد از شیما صفایی از همدان که در دور اول جواز حضور در تیم ملی را کسب کردند، صاحب لباس تیم ملی شدند. بدین ترتیب برای حضور در بازی های کشورهای اسلامی و بازی های آسیایی ترکیب تیم ملی تنیس روی میز بانوان کشورمان مشخص شد. پنجمین عضو تیم ملی بانوان جهت حضور در رقابت های تیمی قهرمانی جهان با برگزاری مرحله آخر انتخابی مشخص خواهد شد. رده بندی دور دوم انتخابی تیم ملی بانوان: ۱-پریناز حاجیلو ۲۰ امتیاز ۲-مهشید اشتری ۱۷ امتیاز ۳-الینا رحیمی ۱۵ امتیاز ۴-سارا شهسواری ۱۲ امتیاز ۵-کیمیا رستمی ۱۰ امتیاز ۶-فاطمه جمالی فر ۸ امتیاز ۷-فاطمه یاری ۵ امتیاز ۸-مریم فرعی انصراف انتهای پیام/\n",
    "\n",
    "\n",
    "\n",
    " doc id: 5213\n",
    "    url: https://www.farsnews.ir/news/14001018000410/۹-غایب-در-جلسه-کمیسیون-ورزشکاران-برنامه‌ریزی-برای-گرفتن-بودجه-IOC\n",
    "content:\n",
    "به گزارش خبرنگار ورزشی خبرگزاری فارس، سومین نشست کمیسیون ورزشکاران امروز شنبه در کمیته ملی المپیک برگزار شد. در نشست امروز، هادی ساعی، سجاد گنج‌زاده، امین بوداغی، محمد بیداریان، بهداد سلیمی، ثریا آقایی، حمیده عباسعلی، مجتبی عابدینی، شهربانو منصوریان، زهرا نعمتی و مصطفی نودهی در نشست امروز حاضر بودند. حسین ساوه‌شمشکی، حسن یزدانی، محمدرضا گرایی، احسان حدادی، فرزانه فصیحی، ندا شهسواری، نجمه خدمتی، ذبیح‌الله پورشیب، محمد باقری معتمد در نشست حضور نداشتند. محمد بیداریان سخنگوی کمیسیون ورزشکاران درباره مصوبات امروز، گفت: طبق برنامه دعوت نامه به قهرمانان ارسال شده بود و ۱۱ نفر حضور داشتند. در خصوص صدور کارت کمیته صحبت و قرار شد فدراسیون‌ها همکاری لازم را داشته باشد. بیداریان همچنین در خصوص برنامه‌های جلسه بعدی، عنوان کرد: از کارشناس بیمه دعوت می‌شود. کارگروهی تشکیل خواهد شد تا در برنامه‌های کمیته از این عزیزان استفاده شود. در خصوص پرداخت بودجه از سوی IOC برنامه‌های خود را طراحی و تدوین خواهیم کرد و قرار است هماهنگی‌ها انجام شود. نامه‌نگاری می‌کنیم تا کمیسیون ردیف بودجه مجزا داشته باشد تا در خصوص کمک به ورزشکاران حمایت لازم انجام شود. درخواست برای عضویت یک ورزشکار از کمیسیون در صندوق حمایت از ورزشکاران از برنامه‌های دیگر ماست. وی درباره اینکه قرار بود امروز وزیر در جلسه شما شرکت کند اما این اتفاق رخ نداد، عنوان کرد: وزارت درگیر انتخابات چند فدراسیون است، قرار شد در شرایط مناسبی از وزیر دعوت شود. وی همچنین در خصوص برگزاری جلسه با ۱۱ قهرمان، تصریح کرد: امروز حضور هادی ساعی پیام خوبی برای همه اعضای کمیسیون داشت، اینکه به تازگی رئیس فدراسیون انتخاب شده جایگاه کمیسیون آنقدر بالا بود که او حضور داشت. من انتخاب او را هم تبریک می‌گویم و امیدوارم جلسات بعدی با حضور پرتعداد برگزار شود. بیداریان در مورد اینکه چند ورزشکار ۳ جلسه غایب بوده‌اند و آیا آنها از کمیسیون خارج می‌شوند، گفت: غیبت چند ورزشکار موجه بود. احسان حدادی در کیش حضور دارد، فصیحی در خارج از کشور است و نجمه خدمتی هم تهران نبود. سخنگوی کمیسیون ورزشکاران درباره غیبت بیش از ۳ جلسه کشتی‌گیران، خاطرنشان کرد: امیدوارم این همدلی به وجود بیاید تا کشتی‌گیران هم در جلسات حضور داشته باشند. انتهای پیام/"
   ]
  }
 ],
 "metadata": {
  "kernelspec": {
   "display_name": "Python 3 (ipykernel)",
   "language": "python",
   "name": "python3"
  },
  "language_info": {
   "codemirror_mode": {
    "name": "ipython",
    "version": 3
   },
   "file_extension": ".py",
   "mimetype": "text/x-python",
   "name": "python",
   "nbconvert_exporter": "python",
   "pygments_lexer": "ipython3",
   "version": "3.9.7"
  }
 },
 "nbformat": 4,
 "nbformat_minor": 5
}
