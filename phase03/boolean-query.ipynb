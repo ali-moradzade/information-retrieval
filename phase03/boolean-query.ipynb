{
 "cells": [
  {
   "cell_type": "code",
   "execution_count": 1,
   "metadata": {},
   "outputs": [],
   "source": [
    "# By Ali Moradzade 9831058"
   ]
  },
  {
   "cell_type": "code",
   "execution_count": 2,
   "metadata": {},
   "outputs": [
    {
     "name": "stdout",
     "output_type": "stream",
     "text": [
      "Today's date: 2022-06-30\n"
     ]
    }
   ],
   "source": [
    "from datetime import date\n",
    "\n",
    "today = date.today()\n",
    "print(\"Today's date:\", today)"
   ]
  },
  {
   "cell_type": "markdown",
   "metadata": {
    "id": "-MYmYmnT6vWM"
   },
   "source": [
    "# Boolean Query\n",
    "\n",
    "In this notebook, we will implement a Boolean information retrieval model by Elasticsearch.  \n",
    "We have these steps: <br>\n",
    "\n",
    "**1- Connect to the Elasticsearch Cluster and Create an Index <br>\n",
    "2- Indexing Documents <br>\n",
    "3- Boolean Retrieval (Fill where ever it says #TODO in this part)** <br>\n",
    "\n",
    "Let me know if you have any problems with this notebook or implementation. <br>\n",
    "**Telegram**: [@Mohammad_Ardestani4](https://t.me/Mohammad_Ardestani4) <br>\n",
    "**Email**: mjavad.ardestani00@gmial.com"
   ]
  },
  {
   "cell_type": "code",
   "execution_count": 3,
   "metadata": {
    "id": "e1Ld-wPi9eXy"
   },
   "outputs": [],
   "source": [
    "# !pip install elasticsearch"
   ]
  },
  {
   "cell_type": "code",
   "execution_count": 4,
   "metadata": {
    "colab": {
     "base_uri": "https://localhost:8080/"
    },
    "id": "zz8PVXZwOTKg",
    "outputId": "1b6699d5-46a9-4afa-9867-c4959cccf999"
   },
   "outputs": [],
   "source": [
    "from elasticsearch import Elasticsearch\n",
    "from elasticsearch import helpers"
   ]
  },
  {
   "cell_type": "code",
   "execution_count": 5,
   "metadata": {},
   "outputs": [],
   "source": [
    "import numpy as np\n",
    "import pandas as pd"
   ]
  },
  {
   "cell_type": "code",
   "execution_count": 6,
   "metadata": {},
   "outputs": [],
   "source": [
    "import json\n",
    "import pickle"
   ]
  },
  {
   "cell_type": "code",
   "execution_count": 7,
   "metadata": {
    "colab": {
     "base_uri": "https://localhost:8080/"
    },
    "id": "zz8PVXZwOTKg",
    "outputId": "1b6699d5-46a9-4afa-9867-c4959cccf999"
   },
   "outputs": [],
   "source": [
    "import os\n",
    "import time"
   ]
  },
  {
   "cell_type": "code",
   "execution_count": 8,
   "metadata": {
    "colab": {
     "base_uri": "https://localhost:8080/"
    },
    "id": "zz8PVXZwOTKg",
    "outputId": "1b6699d5-46a9-4afa-9867-c4959cccf999"
   },
   "outputs": [],
   "source": [
    "from datetime import datetime\n",
    "from tqdm import tqdm "
   ]
  },
  {
   "cell_type": "markdown",
   "metadata": {
    "id": "8VrkfiwK68K7"
   },
   "source": [
    "## Ignore The Security Warnings\n",
    "Here we ignore the security warnings. It's suggested that you don't run below cell until you ensure that all warnings are about security. \n"
   ]
  },
  {
   "cell_type": "code",
   "execution_count": 9,
   "metadata": {
    "id": "BsAE99xuOTKj"
   },
   "outputs": [],
   "source": [
    "import warnings\n",
    "warnings.filterwarnings('ignore')"
   ]
  },
  {
   "cell_type": "markdown",
   "metadata": {
    "id": "zwRjta2P85gJ"
   },
   "source": [
    "## Load Processed Data"
   ]
  },
  {
   "cell_type": "code",
   "execution_count": 10,
   "metadata": {},
   "outputs": [],
   "source": [
    "df = pd.read_pickle('../results/preprocessed-phase02.pickle')"
   ]
  },
  {
   "cell_type": "code",
   "execution_count": 11,
   "metadata": {},
   "outputs": [
    {
     "data": {
      "text/html": [
       "<div>\n",
       "<style scoped>\n",
       "    .dataframe tbody tr th:only-of-type {\n",
       "        vertical-align: middle;\n",
       "    }\n",
       "\n",
       "    .dataframe tbody tr th {\n",
       "        vertical-align: top;\n",
       "    }\n",
       "\n",
       "    .dataframe thead th {\n",
       "        text-align: right;\n",
       "    }\n",
       "</style>\n",
       "<table border=\"1\" class=\"dataframe\">\n",
       "  <thead>\n",
       "    <tr style=\"text-align: right;\">\n",
       "      <th></th>\n",
       "      <th>id</th>\n",
       "      <th>title</th>\n",
       "      <th>content</th>\n",
       "      <th>tags</th>\n",
       "      <th>date</th>\n",
       "      <th>url</th>\n",
       "      <th>category</th>\n",
       "      <th>preprocessed</th>\n",
       "    </tr>\n",
       "  </thead>\n",
       "  <tbody>\n",
       "    <tr>\n",
       "      <th>0</th>\n",
       "      <td>0</td>\n",
       "      <td>اعلام زمان قرعه کشی جام باشگاه های فوتسال آسیا</td>\n",
       "      <td>\\nبه گزارش خبرگزاری فارس، کنفدراسیون فوتبال آس...</td>\n",
       "      <td>[اعلام زمان, قرعه‌کشی, قرعه‌کشی جام, قرعه‌کشی ...</td>\n",
       "      <td>3/15/2022 5:59:27 PM</td>\n",
       "      <td>https://www.farsnews.ir/news/14001224001005/اع...</td>\n",
       "      <td>sports</td>\n",
       "      <td>{'گزارش': 1, 'خبرگزاری': 1, 'فارس': 1, 'کنفدرا...</td>\n",
       "    </tr>\n",
       "    <tr>\n",
       "      <th>1</th>\n",
       "      <td>1</td>\n",
       "      <td>سجادی :حضور تماشاگران در  لیگ برتر فوتبال تابع...</td>\n",
       "      <td>\\nبه گزارش خبرگزاری فارس، سید حمید سجادی در حا...</td>\n",
       "      <td>[سجادی, لیگ, فدراسیون, وزیر ورزش]</td>\n",
       "      <td>3/15/2022 5:30:07 PM</td>\n",
       "      <td>https://www.farsnews.ir/news/14001224000982/سج...</td>\n",
       "      <td>sports</td>\n",
       "      <td>{'گزارش': 1, 'خبرگزاری': 1, 'فارس': 1, 'سید': ...</td>\n",
       "    </tr>\n",
       "    <tr>\n",
       "      <th>2</th>\n",
       "      <td>2</td>\n",
       "      <td>محل برگزاری نشست‌های خبری سرخابی‌ها؛ مجیدی در ...</td>\n",
       "      <td>\\nبه گزارش خبرگزاری فارس، نشست خبری پیش از مسا...</td>\n",
       "      <td>[دربی 94, محل برگزاری, خبری سرخابی‌ها, مجیدی, ...</td>\n",
       "      <td>3/15/2022 5:20:01 PM</td>\n",
       "      <td>https://www.farsnews.ir/news/14001224000971/مح...</td>\n",
       "      <td>sports</td>\n",
       "      <td>{'گزارش': 1, 'خبرگزاری': 1, 'فارس': 1, 'خبری':...</td>\n",
       "    </tr>\n",
       "    <tr>\n",
       "      <th>3</th>\n",
       "      <td>3</td>\n",
       "      <td>ماجدی در نشست با صالحی امیری: امیدوارم در این ...</td>\n",
       "      <td>\\nبه گزارش خبرگزاری فارس،  سید رضا صالحی امیری...</td>\n",
       "      <td>[کمیته امداد امام خمینی (ره), کمیته ملی المپیک...</td>\n",
       "      <td>3/15/2022 5:18:00 PM</td>\n",
       "      <td>https://www.farsnews.ir/news/14001224000964/ما...</td>\n",
       "      <td>sports</td>\n",
       "      <td>{'گزارش': 1, 'خبرگزاری': 1, 'فارس': 1, 'سید': ...</td>\n",
       "    </tr>\n",
       "    <tr>\n",
       "      <th>4</th>\n",
       "      <td>4</td>\n",
       "      <td>لیگ‌برتر بسکتبال|‌ نخستین پیروزی شهرداری گرگان...</td>\n",
       "      <td>\\nبه گزارش خبرنگار ورزشی خبرگزاری فارس، در نخس...</td>\n",
       "      <td>[بسکتبال, لیگ برتر بسکتبال, شهرداری گرگان, تیم...</td>\n",
       "      <td>3/15/2022 5:16:41 PM</td>\n",
       "      <td>https://www.farsnews.ir/news/14001224000947/لی...</td>\n",
       "      <td>sports</td>\n",
       "      <td>{'گزارش': 1, 'خبرنگار': 1, 'ورزشی': 1, 'خبرگزا...</td>\n",
       "    </tr>\n",
       "  </tbody>\n",
       "</table>\n",
       "</div>"
      ],
      "text/plain": [
       "   id                                              title  \\\n",
       "0   0     اعلام زمان قرعه کشی جام باشگاه های فوتسال آسیا   \n",
       "1   1  سجادی :حضور تماشاگران در  لیگ برتر فوتبال تابع...   \n",
       "2   2  محل برگزاری نشست‌های خبری سرخابی‌ها؛ مجیدی در ...   \n",
       "3   3  ماجدی در نشست با صالحی امیری: امیدوارم در این ...   \n",
       "4   4  لیگ‌برتر بسکتبال|‌ نخستین پیروزی شهرداری گرگان...   \n",
       "\n",
       "                                             content  \\\n",
       "0  \\nبه گزارش خبرگزاری فارس، کنفدراسیون فوتبال آس...   \n",
       "1  \\nبه گزارش خبرگزاری فارس، سید حمید سجادی در حا...   \n",
       "2  \\nبه گزارش خبرگزاری فارس، نشست خبری پیش از مسا...   \n",
       "3  \\nبه گزارش خبرگزاری فارس،  سید رضا صالحی امیری...   \n",
       "4  \\nبه گزارش خبرنگار ورزشی خبرگزاری فارس، در نخس...   \n",
       "\n",
       "                                                tags                  date  \\\n",
       "0  [اعلام زمان, قرعه‌کشی, قرعه‌کشی جام, قرعه‌کشی ...  3/15/2022 5:59:27 PM   \n",
       "1                  [سجادی, لیگ, فدراسیون, وزیر ورزش]  3/15/2022 5:30:07 PM   \n",
       "2  [دربی 94, محل برگزاری, خبری سرخابی‌ها, مجیدی, ...  3/15/2022 5:20:01 PM   \n",
       "3  [کمیته امداد امام خمینی (ره), کمیته ملی المپیک...  3/15/2022 5:18:00 PM   \n",
       "4  [بسکتبال, لیگ برتر بسکتبال, شهرداری گرگان, تیم...  3/15/2022 5:16:41 PM   \n",
       "\n",
       "                                                 url category  \\\n",
       "0  https://www.farsnews.ir/news/14001224001005/اع...   sports   \n",
       "1  https://www.farsnews.ir/news/14001224000982/سج...   sports   \n",
       "2  https://www.farsnews.ir/news/14001224000971/مح...   sports   \n",
       "3  https://www.farsnews.ir/news/14001224000964/ما...   sports   \n",
       "4  https://www.farsnews.ir/news/14001224000947/لی...   sports   \n",
       "\n",
       "                                        preprocessed  \n",
       "0  {'گزارش': 1, 'خبرگزاری': 1, 'فارس': 1, 'کنفدرا...  \n",
       "1  {'گزارش': 1, 'خبرگزاری': 1, 'فارس': 1, 'سید': ...  \n",
       "2  {'گزارش': 1, 'خبرگزاری': 1, 'فارس': 1, 'خبری':...  \n",
       "3  {'گزارش': 1, 'خبرگزاری': 1, 'فارس': 1, 'سید': ...  \n",
       "4  {'گزارش': 1, 'خبرنگار': 1, 'ورزشی': 1, 'خبرگزا...  "
      ]
     },
     "execution_count": 11,
     "metadata": {},
     "output_type": "execute_result"
    }
   ],
   "source": [
    "df.head()"
   ]
  },
  {
   "cell_type": "code",
   "execution_count": 12,
   "metadata": {},
   "outputs": [
    {
     "name": "stdout",
     "output_type": "stream",
     "text": [
      "<class 'pandas.core.frame.DataFrame'>\n",
      "RangeIndex: 12202 entries, 0 to 12201\n",
      "Data columns (total 8 columns):\n",
      " #   Column        Non-Null Count  Dtype \n",
      "---  ------        --------------  ----- \n",
      " 0   id            12202 non-null  int64 \n",
      " 1   title         12202 non-null  object\n",
      " 2   content       12202 non-null  object\n",
      " 3   tags          12202 non-null  object\n",
      " 4   date          12202 non-null  object\n",
      " 5   url           12202 non-null  object\n",
      " 6   category      12202 non-null  object\n",
      " 7   preprocessed  12202 non-null  object\n",
      "dtypes: int64(1), object(7)\n",
      "memory usage: 762.8+ KB\n"
     ]
    }
   ],
   "source": [
    "df.info()"
   ]
  },
  {
   "cell_type": "code",
   "execution_count": 13,
   "metadata": {
    "scrolled": true
   },
   "outputs": [
    {
     "data": {
      "text/plain": [
       "dict_keys(['گزارش', 'خبرگزاری', 'فارس', 'کنفدراسیون', 'فوتبال', 'آسیا', 'AFC', 'نامه', 'رسمی', 'فدراسیون', 'ایران', 'باشگاه', 'گیتی', 'پسند', 'زمان', 'قرعه\\u200cکشی', 'جام', 'فوتسال', 'رسما', 'اعلام', 'اساس', '25', 'فروردین', 'ماه', '1401', 'مراسم', 'مالزی', 'برگزار', 'شد&شو', 'گیتی\\u200cپسند', 'بعنوان', 'قهرمان', 'سال', '1400', 'مسابقات', 'تجربه', '3', 'دوره', 'حضور', 'فینال', 'عنوان', 'قهرمانی', 'مقام', 'دومی', 'بدست\\u200cآورده', 'اس'])"
      ]
     },
     "execution_count": 13,
     "metadata": {},
     "output_type": "execute_result"
    }
   ],
   "source": [
    "df['preprocessed'].iloc[0].keys()"
   ]
  },
  {
   "cell_type": "markdown",
   "metadata": {},
   "source": [
    "## Making preprocessed column string"
   ]
  },
  {
   "cell_type": "code",
   "execution_count": 14,
   "metadata": {},
   "outputs": [],
   "source": [
    "def join_spacewise(dictionary):\n",
    "    result = ''\n",
    "    for term in dictionary.keys():\n",
    "        result += ' ' + term\n",
    "        \n",
    "    return result"
   ]
  },
  {
   "cell_type": "code",
   "execution_count": 15,
   "metadata": {},
   "outputs": [
    {
     "data": {
      "text/plain": [
       "' گزارش خبرگزاری فارس کنفدراسیون فوتبال آسیا AFC نامه رسمی فدراسیون ایران باشگاه گیتی پسند زمان قرعه\\u200cکشی جام فوتسال رسما اعلام اساس 25 فروردین ماه 1401 مراسم مالزی برگزار شد&شو گیتی\\u200cپسند بعنوان قهرمان سال 1400 مسابقات تجربه 3 دوره حضور فینال عنوان قهرمانی مقام دومی بدست\\u200cآورده اس'"
      ]
     },
     "execution_count": 15,
     "metadata": {},
     "output_type": "execute_result"
    }
   ],
   "source": [
    "join_spacewise(df['preprocessed'].iloc[0])"
   ]
  },
  {
   "cell_type": "code",
   "execution_count": 16,
   "metadata": {},
   "outputs": [],
   "source": [
    "df['preprocessed'] = df['preprocessed'].apply(join_spacewise)"
   ]
  },
  {
   "cell_type": "markdown",
   "metadata": {
    "id": "34HO2cmPOTKo"
   },
   "source": [
    "## Connect to the Elasticsearch Cluster and Create an Index\n",
    "After starting your Elasticsearch on your pc (`localhost:9200` is the default), we have to connect to it via the following piece of code.\n"
   ]
  },
  {
   "cell_type": "code",
   "execution_count": 17,
   "metadata": {
    "colab": {
     "base_uri": "https://localhost:8080/",
     "height": 363
    },
    "id": "jKxaAaTYOTKq",
    "outputId": "024fb7a3-4ae3-4e59-d6bf-83c6e33f6ed1"
   },
   "outputs": [],
   "source": [
    "index_name = 'news_index'"
   ]
  },
  {
   "cell_type": "code",
   "execution_count": 18,
   "metadata": {
    "colab": {
     "base_uri": "https://localhost:8080/",
     "height": 363
    },
    "id": "jKxaAaTYOTKq",
    "outputId": "024fb7a3-4ae3-4e59-d6bf-83c6e33f6ed1"
   },
   "outputs": [],
   "source": [
    "es = Elasticsearch(\"http://localhost:9200\")"
   ]
  },
  {
   "cell_type": "markdown",
   "metadata": {},
   "source": [
    "Check if we connected:"
   ]
  },
  {
   "cell_type": "code",
   "execution_count": 19,
   "metadata": {},
   "outputs": [
    {
     "data": {
      "text/plain": [
       "True"
      ]
     },
     "execution_count": 19,
     "metadata": {},
     "output_type": "execute_result"
    }
   ],
   "source": [
    "es.ping()"
   ]
  },
  {
   "cell_type": "markdown",
   "metadata": {},
   "source": [
    "Create the new index:"
   ]
  },
  {
   "cell_type": "code",
   "execution_count": 20,
   "metadata": {
    "colab": {
     "base_uri": "https://localhost:8080/",
     "height": 363
    },
    "id": "jKxaAaTYOTKq",
    "outputId": "024fb7a3-4ae3-4e59-d6bf-83c6e33f6ed1",
    "scrolled": true
   },
   "outputs": [
    {
     "data": {
      "text/plain": [
       "ObjectApiResponse({'acknowledged': True, 'shards_acknowledged': True, 'index': 'news_index'})"
      ]
     },
     "execution_count": 20,
     "metadata": {},
     "output_type": "execute_result"
    }
   ],
   "source": [
    "if es.indices.exists(index=index_name):\n",
    "    es.indices.delete(index=index_name)\n",
    "    \n",
    "es.indices.create(index=index_name)"
   ]
  },
  {
   "cell_type": "markdown",
   "metadata": {},
   "source": [
    "### Check the Cluster Status"
   ]
  },
  {
   "cell_type": "code",
   "execution_count": 21,
   "metadata": {
    "id": "wzH4AbnGOTKs"
   },
   "outputs": [
    {
     "data": {
      "text/plain": [
       "{'name': 'ali',\n",
       " 'cluster_name': 'elasticsearch',\n",
       " 'cluster_uuid': '8xewuQfJQ-WkYfBiEGcwzg',\n",
       " 'version': {'number': '8.2.3',\n",
       "  'build_flavor': 'default',\n",
       "  'build_type': 'tar',\n",
       "  'build_hash': '9905bfb62a3f0b044948376b4f607f70a8a151b4',\n",
       "  'build_date': '2022-06-08T22:21:36.455508792Z',\n",
       "  'build_snapshot': False,\n",
       "  'lucene_version': '9.1.0',\n",
       "  'minimum_wire_compatibility_version': '7.17.0',\n",
       "  'minimum_index_compatibility_version': '7.0.0'},\n",
       " 'tagline': 'You Know, for Search'}"
      ]
     },
     "execution_count": 21,
     "metadata": {},
     "output_type": "execute_result"
    }
   ],
   "source": [
    "dict(es.info())"
   ]
  },
  {
   "cell_type": "markdown",
   "metadata": {},
   "source": [
    "## Indexing Documents "
   ]
  },
  {
   "cell_type": "markdown",
   "metadata": {
    "id": "0Z2i0tJoOTKv"
   },
   "source": [
    "We can add our documents to created index in two ways:<br>\n",
    "1. One by one in for loop. <br>\n",
    "2. Use [Bulk API](https://www.elastic.co/guide/en/elasticsearch/reference/current/docs-bulk.html#:~:text=Bulk%20APIedit,can%20greatly%20increase%20indexing%20speed.), which performs multiple indexing or delete operations in a single API call. This reduces overhead and can significantly increase indexing speed."
   ]
  },
  {
   "cell_type": "markdown",
   "metadata": {
    "id": "ibRuMxh8OTKx"
   },
   "source": [
    "###  for loop by es.index \n",
    "**You dont have to run this cell**. "
   ]
  },
  {
   "cell_type": "code",
   "execution_count": 22,
   "metadata": {
    "id": "E81WiFk2OTKz",
    "scrolled": false
   },
   "outputs": [],
   "source": [
    "# for i in tqdm(range(len(data))):\n",
    "#     es.index(index = index_name, id=i, document=data[str(i)])\n",
    "#     i = i + 1"
   ]
  },
  {
   "cell_type": "markdown",
   "metadata": {},
   "source": [
    "## Converting dataframe to dictionary"
   ]
  },
  {
   "cell_type": "code",
   "execution_count": 23,
   "metadata": {},
   "outputs": [],
   "source": [
    "dict_df = df.to_dict('records')"
   ]
  },
  {
   "cell_type": "code",
   "execution_count": 24,
   "metadata": {},
   "outputs": [
    {
     "data": {
      "text/plain": [
       "{'id': 0,\n",
       " 'title': 'اعلام زمان قرعه کشی جام باشگاه های فوتسال آسیا',\n",
       " 'content': '\\nبه گزارش خبرگزاری فارس، کنفدراسیون فوتبال آسیا (AFC) در نامه ای رسمی به فدراسیون فوتبال ایران و باشگاه گیتی پسند زمان\\xa0 قرعه کشی جام باشگاه های فوتسال آسیا را رسماً اعلام کرد. بر این اساس 25 فروردین ماه 1401 مراسم قرعه کشی جام باشگاه های فوتسال آسیا در مالزی برگزار می شود. باشگاه گیتی پسند بعنوان قهرمان فوتسال ایران در سال 1400 به این مسابقات راه پیدا کرده است. پیش از این گیتی پسند تجربه 3 دوره حضور در جام باشگاه های فوتسال آسیا را داشته که هر سه دوره به فینال مسابقات راه پیدا کرده و یک عنوان قهرمانی و دو مقام دومی بدست آورده است. انتهای پیام/\\n\\n\\n',\n",
       " 'tags': ['اعلام زمان',\n",
       "  'قرعه\\u200cکشی',\n",
       "  'قرعه\\u200cکشی جام',\n",
       "  'قرعه\\u200cکشی جام باشگاه\\u200cهای فوتسال',\n",
       "  'ای اف سی',\n",
       "  'گیتی پسند'],\n",
       " 'date': '3/15/2022 5:59:27 PM',\n",
       " 'url': 'https://www.farsnews.ir/news/14001224001005/اعلام-زمان-قرعه-کشی-جام-باشگاه-های-فوتسال-آسیا',\n",
       " 'category': 'sports',\n",
       " 'preprocessed': ' گزارش خبرگزاری فارس کنفدراسیون فوتبال آسیا AFC نامه رسمی فدراسیون ایران باشگاه گیتی پسند زمان قرعه\\u200cکشی جام فوتسال رسما اعلام اساس 25 فروردین ماه 1401 مراسم مالزی برگزار شد&شو گیتی\\u200cپسند بعنوان قهرمان سال 1400 مسابقات تجربه 3 دوره حضور فینال عنوان قهرمانی مقام دومی بدست\\u200cآورده اس'}"
      ]
     },
     "execution_count": 24,
     "metadata": {},
     "output_type": "execute_result"
    }
   ],
   "source": [
    "dict_df[0]"
   ]
  },
  {
   "cell_type": "code",
   "execution_count": 25,
   "metadata": {},
   "outputs": [
    {
     "data": {
      "text/plain": [
       "12202"
      ]
     },
     "execution_count": 25,
     "metadata": {},
     "output_type": "execute_result"
    }
   ],
   "source": [
    "len(dict_df)"
   ]
  },
  {
   "cell_type": "markdown",
   "metadata": {},
   "source": [
    "## Converting dictionary to elastic search format"
   ]
  },
  {
   "cell_type": "code",
   "execution_count": 26,
   "metadata": {},
   "outputs": [
    {
     "data": {
      "text/plain": [
       "Index(['id', 'title', 'content', 'tags', 'date', 'url', 'category',\n",
       "       'preprocessed'],\n",
       "      dtype='object')"
      ]
     },
     "execution_count": 26,
     "metadata": {},
     "output_type": "execute_result"
    }
   ],
   "source": [
    "df.columns"
   ]
  },
  {
   "cell_type": "code",
   "execution_count": 27,
   "metadata": {},
   "outputs": [],
   "source": [
    "def generator(df2):\n",
    "    for c, row in enumerate(dict_df):\n",
    "        yield {\n",
    "            '_index': index_name,\n",
    "            '_id': row.get('id', None),\n",
    "            '_source': {\n",
    "                'title': row.get('title', None),\n",
    "                'content': row.get('content', None),\n",
    "                'tags': row.get('tags', None),\n",
    "                'date': row.get('date', None),\n",
    "                'url': row.get('url', None),\n",
    "                'category': row.get('category', None),\n",
    "                'preprocessed': row.get('preprocessed', None),\n",
    "            }\n",
    "        }\n",
    "    raise StopIteration"
   ]
  },
  {
   "cell_type": "code",
   "execution_count": 28,
   "metadata": {},
   "outputs": [],
   "source": [
    "my_news = generator(dict_df)"
   ]
  },
  {
   "cell_type": "code",
   "execution_count": 29,
   "metadata": {},
   "outputs": [
    {
     "data": {
      "text/plain": [
       "<generator object generator at 0x7fd4e17b1200>"
      ]
     },
     "execution_count": 29,
     "metadata": {},
     "output_type": "execute_result"
    }
   ],
   "source": [
    "my_news"
   ]
  },
  {
   "cell_type": "code",
   "execution_count": 30,
   "metadata": {},
   "outputs": [
    {
     "name": "stdout",
     "output_type": "stream",
     "text": [
      "{\n",
      "    \"_index\": \"news_index\",\n",
      "    \"_id\": 0,\n",
      "    \"_source\": {\n",
      "        \"title\": \"اعلام زمان قرعه کشی جام باشگاه های فوتسال آسیا\",\n",
      "        \"content\": \"\\nبه گزارش خبرگزاری فارس، کنفدراسیون فوتبال آسیا (AFC) در نامه ای رسمی به فدراسیون فوتبال ایران و باشگاه گیتی پسند زمان  قرعه کشی جام باشگاه های فوتسال آسیا را رسماً اعلام کرد. بر این اساس 25 فروردین ماه 1401 مراسم قرعه کشی جام باشگاه های فوتسال آسیا در مالزی برگزار می شود. باشگاه گیتی پسند بعنوان قهرمان فوتسال ایران در سال 1400 به این مسابقات راه پیدا کرده است. پیش از این گیتی پسند تجربه 3 دوره حضور در جام باشگاه های فوتسال آسیا را داشته که هر سه دوره به فینال مسابقات راه پیدا کرده و یک عنوان قهرمانی و دو مقام دومی بدست آورده است. انتهای پیام/\\n\\n\\n\",\n",
      "        \"tags\": [\n",
      "            \"اعلام زمان\",\n",
      "            \"قرعه‌کشی\",\n",
      "            \"قرعه‌کشی جام\",\n",
      "            \"قرعه‌کشی جام باشگاه‌های فوتسال\",\n",
      "            \"ای اف سی\",\n",
      "            \"گیتی پسند\"\n",
      "        ],\n",
      "        \"date\": \"3/15/2022 5:59:27 PM\",\n",
      "        \"url\": \"https://www.farsnews.ir/news/14001224001005/اعلام-زمان-قرعه-کشی-جام-باشگاه-های-فوتسال-آسیا\",\n",
      "        \"category\": \"sports\",\n",
      "        \"preprocessed\": \" گزارش خبرگزاری فارس کنفدراسیون فوتبال آسیا AFC نامه رسمی فدراسیون ایران باشگاه گیتی پسند زمان قرعه‌کشی جام فوتسال رسما اعلام اساس 25 فروردین ماه 1401 مراسم مالزی برگزار شد&شو گیتی‌پسند بعنوان قهرمان سال 1400 مسابقات تجربه 3 دوره حضور فینال عنوان قهرمانی مقام دومی بدست‌آورده اس\"\n",
      "    }\n",
      "}\n"
     ]
    }
   ],
   "source": [
    "print(json.dumps(next(my_news), indent=4, ensure_ascii=False).encode('utf8').decode())"
   ]
  },
  {
   "cell_type": "markdown",
   "metadata": {},
   "source": [
    "## Uploading data to index"
   ]
  },
  {
   "cell_type": "markdown",
   "metadata": {
    "id": "hiv35Uj3OTK2"
   },
   "source": [
    "###  Bulk API"
   ]
  },
  {
   "cell_type": "markdown",
   "metadata": {},
   "source": [
    "Running below cell takes:\n",
    "```\n",
    "    CPU times: user 1.14 s, sys: 8.78 ms, total: 1.15 s\n",
    "    Wall time: 14 s\n",
    "```"
   ]
  },
  {
   "cell_type": "code",
   "execution_count": 31,
   "metadata": {},
   "outputs": [
    {
     "name": "stdout",
     "output_type": "stream",
     "text": [
      "CPU times: user 1.17 s, sys: 18.1 ms, total: 1.18 s\n",
      "Wall time: 14.4 s\n"
     ]
    }
   ],
   "source": [
    "%%time\n",
    "\n",
    "try:\n",
    "    res = helpers.bulk(es, generator(dict_df))\n",
    "    print('working ...')\n",
    "except Exception as e:\n",
    "    pass"
   ]
  },
  {
   "cell_type": "markdown",
   "metadata": {
    "id": "mHIPOwW1OTK7"
   },
   "source": [
    "### check index"
   ]
  },
  {
   "cell_type": "code",
   "execution_count": 32,
   "metadata": {
    "id": "hg8OYRf_OTK8",
    "outputId": "259e5c05-4b2e-40c6-8c9f-6aa9b41f4563"
   },
   "outputs": [
    {
     "data": {
      "text/plain": [
       "ObjectApiResponse({'count': 11331, '_shards': {'total': 1, 'successful': 1, 'skipped': 0, 'failed': 0}})"
      ]
     },
     "execution_count": 32,
     "metadata": {},
     "output_type": "execute_result"
    }
   ],
   "source": [
    "es.count(index = index_name)"
   ]
  },
  {
   "cell_type": "markdown",
   "metadata": {
    "id": "9PDnW1SnOTK-"
   },
   "source": [
    "## Boolean Retrieval "
   ]
  },
  {
   "cell_type": "markdown",
   "metadata": {
    "id": "mTtzPkLCOTK-"
   },
   "source": [
    "### Bool Query Structure\n",
    "\n",
    "It is built using one or more boolean clauses, each clause with a typed occurrence. The occurrence types are:\n",
    "\n",
    "`must`: The clause (query) must appear in matching documents and will contribute to the score.\n",
    "<br><br>\n",
    "`filter`: The clause (query) must appear in matching documents. However unlike must the score of the query will be ignored. Filter clauses are executed in filter context, meaning that scoring is ignored and clauses are considered for caching.\n",
    "<br><br>\n",
    "`should`: The clause (query) should appear in the matching document.\n",
    "<br><br>\n",
    "`must_not`: The clause (query) must not appear in the matching documents. Clauses are executed in filter context meaning that scoring is ignored and clauses are considered for caching. Because scoring is ignored, a score of 0 for all documents is returned.\n",
    "\n",
    "For further information, you can read this [Document](https://www.elastic.co/guide/en/elasticsearch/reference/current/query-dsl-bool-query.html). "
   ]
  },
  {
   "cell_type": "markdown",
   "metadata": {
    "id": "mTtzPkLCOTK-"
   },
   "source": [
    "###  <span style=\"color:red\"> TODO </span>\n",
    "You should read about [match query](https://www.elastic.co/guide/en/elasticsearch/reference/current/query-dsl-match-query.html#match-top-level-params) and [match phrase query](https://www.elastic.co/guide/en/elasticsearch/reference/current/query-dsl-match-query-phrase.html) then complete the below cell."
   ]
  },
  {
   "cell_type": "code",
   "execution_count": 33,
   "metadata": {
    "id": "G6XYVxrjOTK_"
   },
   "outputs": [],
   "source": [
    "query= {\n",
    "        \"bool\": {\n",
    "          \"should\": [\n",
    "              { \n",
    "                  #TODO: add a match query structure ==> use for normal words\n",
    "                  \"match\": {\n",
    "                      'preprocessed': 'پرسپولیس'\n",
    "                  }\n",
    "              }, \n",
    "              \n",
    "              { \n",
    "                  #TODO: add a match pharse query strucutre ==> use for words in <\"\">\n",
    "                  \"match_phrase\": {\n",
    "                     'preprocessed': 'استادیوم آزادی'\n",
    "                  }\n",
    "              }\n",
    "   \n",
    "          ],\n",
    "          \"must_not\": [\n",
    "              {\n",
    "                  #TODO: add a match or match pharse query structure ==> use for words after <!>\n",
    "                  \"match\": {\n",
    "                      'preprocessed': 'استقلال'\n",
    "                  }\n",
    "              }\n",
    "          ]\n",
    "        }\n",
    "    }"
   ]
  },
  {
   "cell_type": "markdown",
   "metadata": {
    "id": "GqR7SLBVOTLC"
   },
   "source": [
    "### Search query\n",
    "\n",
    "The `_source` field contains the original JSON document body that was passed at index time. The `_source` field itself is not indexed (and thus is not searchable), but it is stored so that it can be returned when executing fetch requests, like get or search.\n",
    "\n",
    "For further information, you can read this [Document](https://www.elastic.co/guide/en/elasticsearch/reference/current/search-search.html#search-api-response-body)."
   ]
  },
  {
   "cell_type": "code",
   "execution_count": 34,
   "metadata": {
    "id": "SSrpYB5JOTLC",
    "outputId": "5865f35f-8d44-413f-85cf-2c7e37c4ed7e"
   },
   "outputs": [],
   "source": [
    "res = es.search(index=index_name, query=query, _source= [\"url\"])\n",
    "res = dict(res)"
   ]
  },
  {
   "cell_type": "markdown",
   "metadata": {
    "id": "nkHMGaXfOTLD"
   },
   "source": [
    "### Results"
   ]
  },
  {
   "cell_type": "code",
   "execution_count": 35,
   "metadata": {
    "id": "g3sPDdpROTLE",
    "outputId": "92ed7fe8-f69c-4f48-aba5-ca2b4a881968",
    "scrolled": true
   },
   "outputs": [
    {
     "name": "stdout",
     "output_type": "stream",
     "text": [
      "779 results in 0.201 s: \n",
      "https://www.farsnews.ir/news/14001106000684/رسن-از-حضور-دوباره-در-ورزشگاه-آزادی-خوشحالم-می-خواهیم-جایگاه-سوم-در\n",
      "https://www.farsnews.ir/news/14001101000532/وزیر-ورزش-عنوان-کرد-راه-اندازی-هاکی-ساحلی-به-زودی\n",
      "https://www.farsnews.ir/news/14001103000751/منصوریان-می-دانستیم-تیم-های-تارتار-سخت-بباز-هستند-این-پیروزی-برای-ما\n",
      "https://www.farsnews.ir/news/14001022000853/مدیرعامل-عضو-و-رییس-جدید-هیات-مدیره-در-اردوی-پرسپولیس-حاضر-شدند\n",
      "https://www.farsnews.ir/news/14001211001091/پرسپولیس-مجوز-ثبت-قرارداد-بازیکن-ازبک-را-دارد-پنجره-خارجی-سرخ-پوشان\n",
      "https://www.farsnews.ir/news/14001209000935/مدت-قرارداد-مهاجم-ازبک-با-پرسپولیس-مشخص-شد-عکس\n",
      "https://www.farsnews.ir/news/14001215000993/مجیدی-محروم-شد\n",
      "https://www.farsnews.ir/news/14001210000453/مجوز-بین‌المللی-بازیکن-جدید-پرسپولیس-صادر-شد\n",
      "https://www.farsnews.ir/news/14001209001007/ستاره-نفت-آبادان-بازی-با-پرسپولیس-را-از-دست-داد\n",
      "https://www.farsnews.ir/news/14001130001170/حامد-لک-با-پرسپولیس-تمدید-کرد\n"
     ]
    }
   ],
   "source": [
    "print(\"{} results in {} s: \".format(res['hits']['total']['value'] ,res['took']/1000))\n",
    "for doc in res['hits']['hits']:\n",
    "    print(doc['_source']['url'])"
   ]
  },
  {
   "cell_type": "markdown",
   "metadata": {},
   "source": [
    "# Report "
   ]
  },
  {
   "cell_type": "markdown",
   "metadata": {},
   "source": [
    "## 1. Compare your newely created index with phase 1 positional index"
   ]
  },
  {
   "cell_type": "markdown",
   "metadata": {},
   "source": [
    "نتایج تقریبا همان نتایج است، ولی از لحاظ پیاده سازی، و سرعت استفاده از الاستیک سرچ بسیار به صرفه تر می باشد"
   ]
  },
  {
   "cell_type": "markdown",
   "metadata": {},
   "source": [
    "## 2. "
   ]
  },
  {
   "cell_type": "markdown",
   "metadata": {},
   "source": [
    "### Helper display function"
   ]
  },
  {
   "cell_type": "code",
   "execution_count": 36,
   "metadata": {},
   "outputs": [],
   "source": [
    "def pretty_print(result):\n",
    "    result = dict(result)\n",
    "    print(\"{} results in {} s: \\n\".format(result['hits']['total']['value'] ,result['took']/1000))\n",
    "    count = 1\n",
    "    for doc in result['hits']['hits']:\n",
    "        print('{}.'.format(count))\n",
    "        print('score: {}'.format(doc['_score']))\n",
    "        print('title:', end=' ')\n",
    "        print(doc['_source']['title'])\n",
    "        print('url:', end=' ')\n",
    "        print(doc['_source']['url'])  \n",
    "        print('content:')\n",
    "        print(doc['_source']['content'].strip())  \n",
    "        print()\n",
    "        \n",
    "        count += 1"
   ]
  },
  {
   "cell_type": "markdown",
   "metadata": {},
   "source": [
    "### a, b)"
   ]
  },
  {
   "cell_type": "code",
   "execution_count": 37,
   "metadata": {
    "id": "G6XYVxrjOTK_"
   },
   "outputs": [
    {
     "name": "stdout",
     "output_type": "stream",
     "text": [
      "2995 results in 0.009 s: \n",
      "\n",
      "1.\n",
      "score: 1.8559897\n",
      "title: سفیر جدید جمهوری آذربایجان در ایران استوارنامه خود را تقدیم رئیس‌جمهور کرد\n",
      "url: https://www.farsnews.ir/news/14000803000598/سفیر-جدید-جمهوری-آذربایجان-در-ایران-استوارنامه-خود-را-تقدیم-رئیس‌جمهور\n",
      "content:\n",
      "به گزارش خبرگزاری فارس، آیت‌الله سید ابراهیم رئیسی رئیس جمهور صبح امروز (دوشنبه) استوارنامه «علی علیزاده» سفیر جدید جمهوری آذربایجان در ایران را دریافت کرد. انتهای پیام/\n",
      "\n",
      "2.\n",
      "score: 1.8471763\n",
      "title: پیام تسلیت رئیس جمهور به مناسبت عروج حسن ایرلو\n",
      "url: https://www.farsnews.ir/news/14000930000841/پیام-تسلیت-رئیس-جمهور-به-مناسبت-عروج-حسن-ایرلو\n",
      "content:\n",
      "به گزارش خبرگزاری فارس، آیت الله سید ابراهیم رئیسی رئیس جمهور در پیامی عروج مجاهد دیپلمات حسن ایرلو سفیر جمهوری اسلامی ایران در یمن را تسلیت گفت. انتهای پیام/\n",
      "\n",
      "3.\n",
      "score: 1.8212314\n",
      "title: 2 بازیکن تیم ملی تست دوپینگ دادند\n",
      "url: https://www.farsnews.ir/news/14001107000713/2-بازیکن-تیم-ملی-تست-دوپینگ-دادند\n",
      "content:\n",
      "به گزارش خبرنگار ورزشی خبرگزاری فارس، بعد از برتری تیم ملی مقابل عراق و صعود به جام جهانی کاوه رضایی و صالح حردانی تست دوپینگ دادند. تیم ملی ایران با برتری مقابل عراق راهی جام جهانی قطر شد. انتهای پیام/\n",
      "\n"
     ]
    }
   ],
   "source": [
    "query= {\n",
    "        \"bool\": {\n",
    "          \"should\": [\n",
    "              { \n",
    "                  \"match_phrase\": {\n",
    "                     'preprocessed': 'تحریم هسته ای'\n",
    "                  }\n",
    "              },\n",
    "              { \n",
    "                  \"match\": {\n",
    "                      'preprocessed': 'ایران'\n",
    "                  }\n",
    "              }\n",
    "          ],\n",
    "          \"must_not\": [\n",
    "              {\n",
    "                  \"match\": {\n",
    "                      'preprocessed': 'آمریکا'\n",
    "                  }\n",
    "              }\n",
    "          ]\n",
    "        }\n",
    "    }\n",
    "\n",
    "res = es.search(index=index_name, query=query, size=3, from_=0)\n",
    "pretty_print(res)"
   ]
  },
  {
   "cell_type": "code",
   "execution_count": 38,
   "metadata": {
    "id": "G6XYVxrjOTK_"
   },
   "outputs": [
    {
     "name": "stdout",
     "output_type": "stream",
     "text": [
      "109 results in 0.004 s: \n",
      "\n",
      "1.\n",
      "score: 6.35604\n",
      "title: محکومیت حضور کاروان ورزشی رژیم صهیونستی در امارات+عکس\n",
      "url: https://www.farsnews.ir/news/14001002000158/محکومیت-حضور-کاروان-ورزشی-رژیم-صهیونستی-در-امارات-عکس\n",
      "content:\n",
      "به گزارش خبرگزاری فارس، سنادیکای مقابله با عادی سازی روابط با رژیم صهیونیستی در امارات با انتشار بیانیه ای حضور کاروان تیم شنای صهیونیست ها در ابوظبی را محکوم کرد. کاروان شنای این رژیم در مسابقات جهانی به میزبانی امارات حضور پیدا کرده است. به همین خاطر این سنادیکا به حضور ورزشکاران صهیونیست واکنش نشان داده است.  رژیم صهیونیستی این روزها با کمک دولت امارات در تلاش است تا روابط سیاسی، اقتصادی، ورزشی و ... را با کشورهای دیگر عادی کند. امارات سردمدار عادی سازی روابط با رژیم کودک کش صهیونیست لقب گرفته و در یک سال گذشته با تمام قوا در حال خیانت به آرمان مقاومت فلسطین است. انتهای پیام/\n",
      "\n",
      "2.\n",
      "score: 6.303421\n",
      "title: ورزشکار کویتی دست رد به سینه صهیونیست‌ها زد+عکس\n",
      "url: https://www.farsnews.ir/news/14001102000416/ورزشکار-کویتی-دست-رد-به-سینه-صهیونیست‌ها-زد-عکس\n",
      "content:\n",
      "به گزارش خبرگزاری فارس، سایت «مقاطعه» خبر داد محمد العوضی تنیسور کویتی در مسابقات جهانی تنیس از رویارویی با نماینده رژیم اشغالگر امتناع کرد. العوضی به نیمه نهایی مسابقات جهانی تنیس زیر 14 سال صعود کرده بود ولی در حمایت از مردم فلسطین از بازی کردن مقابل نماینده صهیونیست ها انصراف داد.  این مسابقات به میزبانی شهر دبی امارات در حال برگزاری است. در همین رابطه حزب مبارزه با عادی سازی روابط با رژیم اشغالگر به تمجید از این اقدام ورزشکار کویتی پرداخت و نوشت: سلام بر تو این قهرمان آزاده و سلام بر همه آزادگان که حاضر به عادی سازی روابط با صهیونیست ها نمی شوند. انتهای پیام/\n",
      "\n",
      "3.\n",
      "score: 6.2516665\n",
      "title: اقدام حمایتی عمان از فلسطین/ سرود و پرچم رژیم اشغالگر بایکوت شد+عکس\n",
      "url: https://www.farsnews.ir/news/14001006000161/اقدام-حمایتی-عمان-از-فلسطین-سرود-و-پرچم-رژیم-اشغالگر-بایکوت-شد-عکس\n",
      "content:\n",
      "به گزارش خبرگزاری فارس، دولت عمان در اقدامی حمایتی از فلسطین، در یک رویداد ورزشی اجازه بر افراشته شدن پرچم و خواندن شدن سرود رژیم صهیونیستی را نداد. مسابقات جهانی کایت بردینگ به میزبانی عمان برگزار شد. غال زوکرمان ورزشکار بانوی صهیونیست در این مسابقات جهانی مدال طلا گرفت.  اما دولت عمان بعد از کسب مدال طلا از سوی ورزشکار رژیم اشغالگر، در حمایت از فلسطین اجازه برافراشته شدن پرچم این رژیم جعلی و طنین انداز شدن سرود صهیونیست ها را نداد.  ورزشکار رژیم صهیونیستی بعد از اقدام حمایتی عمان از فلسطین، گفت: \"وقتی من مدال طلا گرفتم، سرود ملی تمام کشورها را به خاطر من لغو کردند. من قهرمان شدم ولی هیچکس از این قهرمانی ام باخبر نشد.\" انتهای پیام/\n",
      "\n"
     ]
    }
   ],
   "source": [
    "query= {\n",
    "        \"bool\": {\n",
    "          \"should\": [\n",
    "              { \n",
    "                  \"match\": {\n",
    "                      'preprocessed': 'صهیونیست'\n",
    "                  }\n",
    "              }\n",
    "          ],\n",
    "          \"must_not\": [\n",
    "              {\n",
    "                  \"match\": {\n",
    "                      'preprocessed': 'اورشلیم'\n",
    "                  }\n",
    "              }\n",
    "          ]\n",
    "        }\n",
    "    }\n",
    "\n",
    "res = es.search(index=index_name, query=query, size=3, from_=0)\n",
    "pretty_print(res)"
   ]
  },
  {
   "cell_type": "markdown",
   "metadata": {},
   "source": [
    "نتایج در الاستیک سرچ بهتر رنک بندی شده اند. \n",
    "\n",
    "همچنین سرعت بسیار بیشتر شده است، این در حالی است که پیاده سازی برای ما نیز بسیار راحت تر شده است."
   ]
  },
  {
   "cell_type": "markdown",
   "metadata": {},
   "source": [
    "### 3."
   ]
  },
  {
   "cell_type": "markdown",
   "metadata": {},
   "source": [
    "مدل الاستیک سرچ، زیرا رنک بندی بهتری را ارائه می دهد."
   ]
  },
  {
   "cell_type": "markdown",
   "metadata": {},
   "source": [
    "# Deleting our created index "
   ]
  },
  {
   "cell_type": "code",
   "execution_count": 39,
   "metadata": {},
   "outputs": [],
   "source": [
    "if es.indices.exists(index=index_name):\n",
    "    es.indices.delete(index=index_name)"
   ]
  },
  {
   "cell_type": "markdown",
   "metadata": {},
   "source": [
    "---"
   ]
  }
 ],
 "metadata": {
  "colab": {
   "name": "boolean_query.ipynb",
   "provenance": []
  },
  "kernelspec": {
   "display_name": "Python 3 (ipykernel)",
   "language": "python",
   "name": "python3"
  },
  "language_info": {
   "codemirror_mode": {
    "name": "ipython",
    "version": 3
   },
   "file_extension": ".py",
   "mimetype": "text/x-python",
   "name": "python",
   "nbconvert_exporter": "python",
   "pygments_lexer": "ipython3",
   "version": "3.9.7"
  }
 },
 "nbformat": 4,
 "nbformat_minor": 1
}
