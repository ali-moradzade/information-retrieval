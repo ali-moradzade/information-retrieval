{
 "cells": [
  {
   "cell_type": "markdown",
   "metadata": {},
   "source": [
    "# By Ali Moradzade 9831058"
   ]
  },
  {
   "cell_type": "code",
   "execution_count": 3,
   "metadata": {},
   "outputs": [
    {
     "name": "stdout",
     "output_type": "stream",
     "text": [
      "Today's date: 2022-07-02\n"
     ]
    }
   ],
   "source": [
    "from datetime import date\n",
    "\n",
    "today = date.today()\n",
    "print(\"Today's date:\", today)"
   ]
  },
  {
   "cell_type": "markdown",
   "metadata": {
    "id": "zkzGHTYTRJ6J"
   },
   "source": [
    "# توجه \n",
    "\n",
    "1. به راهنمایی هایی که در کد آمده است توجه کنید\n",
    "2. مواردی که به صورت \"#TODO\"\n",
    "را باید بصورتی که در صورت پروژه تعریف شده است انجام دهید. "
   ]
  },
  {
   "cell_type": "code",
   "execution_count": 4,
   "metadata": {
    "colab": {
     "base_uri": "https://localhost:8080/"
    },
    "id": "JbfeAvxXYMd2",
    "outputId": "ca2406f4-83c9-4ba4-ecfb-ec1f6b2bbea1"
   },
   "outputs": [],
   "source": [
    "# ! pip install hazm\n",
    "# ! pip install gensim==4.1.2\n",
    "# !pip install words\n",
    "# !pip install elasticsearch"
   ]
  },
  {
   "cell_type": "code",
   "execution_count": 5,
   "metadata": {
    "id": "FRQkBOypdLoz"
   },
   "outputs": [],
   "source": [
    "from elasticsearch import Elasticsearch\n",
    "from elasticsearch import helpers\n",
    "import json\n",
    "from tqdm import tqdm\n",
    "from gensim.models import Word2Vec\n",
    "import random"
   ]
  },
  {
   "cell_type": "code",
   "execution_count": 6,
   "metadata": {
    "id": "FRQkBOypdLoz"
   },
   "outputs": [],
   "source": [
    "import numpy as np\n",
    "import pandas as pd\n",
    "# import whatever you need for your implementation  "
   ]
  },
  {
   "cell_type": "markdown",
   "metadata": {
    "id": "0sORz9JPfjKM"
   },
   "source": [
    "# step 1 \n",
    "داده هایی که در اختیار دارید را بارگذاری کنید و مشابه بخش های قبل پیش پردازش های لازم را انجام دهید. \n",
    "مطابق فازهای و بخش های پیشین پروژه مراحل پیش پردازش را انجام دهید. در نهایت لیست از اسناد بسازید که برای هر متن شامل توکن های آن متن باشد. \n",
    "این لیست میتواند ساختاری مطابق تصویر زیر داشته باشد.\n",
    "![image.png](data:image/png;base64,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)"
   ]
  },
  {
   "cell_type": "markdown",
   "metadata": {
    "id": "6CQviFFxoufg"
   },
   "source": [
    "# گام دوم \n",
    "در این گام شما باید بتوانید که هر سند را به یک بردار عددی تبدیل کنید. این کار را به کمک ماژول آماده ایی که در اختیار شما قرار گرفته است انجام می شود.\n",
    "بدین منظور مراحل زیر را انجام دهید. \n",
    "\n",
    "\n",
    "\n",
    "\n",
    "\n",
    "\n",
    "\n",
    "\n"
   ]
  },
  {
   "cell_type": "markdown",
   "metadata": {
    "id": "zwRjta2P85gJ"
   },
   "source": [
    "## Load Processed Data"
   ]
  },
  {
   "cell_type": "code",
   "execution_count": 7,
   "metadata": {},
   "outputs": [],
   "source": [
    "train_df = pd.read_excel(\"data-set/IR01_3_test_4k.xlsx\")"
   ]
  },
  {
   "cell_type": "code",
   "execution_count": 8,
   "metadata": {},
   "outputs": [
    {
     "data": {
      "text/html": [
       "<div>\n",
       "<style scoped>\n",
       "    .dataframe tbody tr th:only-of-type {\n",
       "        vertical-align: middle;\n",
       "    }\n",
       "\n",
       "    .dataframe tbody tr th {\n",
       "        vertical-align: top;\n",
       "    }\n",
       "\n",
       "    .dataframe thead th {\n",
       "        text-align: right;\n",
       "    }\n",
       "</style>\n",
       "<table border=\"1\" class=\"dataframe\">\n",
       "  <thead>\n",
       "    <tr style=\"text-align: right;\">\n",
       "      <th></th>\n",
       "      <th>Unnamed: 0</th>\n",
       "      <th>content</th>\n",
       "      <th>category</th>\n",
       "      <th>url</th>\n",
       "    </tr>\n",
       "  </thead>\n",
       "  <tbody>\n",
       "    <tr>\n",
       "      <th>0</th>\n",
       "      <td>0</td>\n",
       "      <td>به گزارش ایسنا، این شماره از ماهنامه «فکه» به ...</td>\n",
       "      <td>culture</td>\n",
       "      <td>https://www.isna.ir/news/99010100146/فکه-منتشر-شد</td>\n",
       "    </tr>\n",
       "    <tr>\n",
       "      <th>1</th>\n",
       "      <td>1</td>\n",
       "      <td>**به گزارش ایسنا** ، رحمت الله فتاحی با پیوستن...</td>\n",
       "      <td>culture</td>\n",
       "      <td>https://www.isna.ir/news/99010100080/شبه-علم-ب...</td>\n",
       "    </tr>\n",
       "    <tr>\n",
       "      <th>2</th>\n",
       "      <td>2</td>\n",
       "      <td>به گزارش ایسنا، در پیام نوش آفرین انصاری آمده ...</td>\n",
       "      <td>culture</td>\n",
       "      <td>https://www.isna.ir/news/99010100018/پیام-نورو...</td>\n",
       "    </tr>\n",
       "    <tr>\n",
       "      <th>3</th>\n",
       "      <td>3</td>\n",
       "      <td>به گزارش ایسنا، ویژه برنامه تحویل سال شبکه یک ...</td>\n",
       "      <td>culture</td>\n",
       "      <td>https://www.isna.ir/news/99010100013/رسانه-ها-...</td>\n",
       "    </tr>\n",
       "    <tr>\n",
       "      <th>4</th>\n",
       "      <td>4</td>\n",
       "      <td>به گزارش ایسنا، کمپین کرونا فایترز (Corona Fig...</td>\n",
       "      <td>culture</td>\n",
       "      <td>https://www.isna.ir/news/98122922416/جشنواره-ه...</td>\n",
       "    </tr>\n",
       "  </tbody>\n",
       "</table>\n",
       "</div>"
      ],
      "text/plain": [
       "   Unnamed: 0                                            content category  \\\n",
       "0           0  به گزارش ایسنا، این شماره از ماهنامه «فکه» به ...  culture   \n",
       "1           1  **به گزارش ایسنا** ، رحمت الله فتاحی با پیوستن...  culture   \n",
       "2           2  به گزارش ایسنا، در پیام نوش آفرین انصاری آمده ...  culture   \n",
       "3           3  به گزارش ایسنا، ویژه برنامه تحویل سال شبکه یک ...  culture   \n",
       "4           4  به گزارش ایسنا، کمپین کرونا فایترز (Corona Fig...  culture   \n",
       "\n",
       "                                                 url  \n",
       "0  https://www.isna.ir/news/99010100146/فکه-منتشر-شد  \n",
       "1  https://www.isna.ir/news/99010100080/شبه-علم-ب...  \n",
       "2  https://www.isna.ir/news/99010100018/پیام-نورو...  \n",
       "3  https://www.isna.ir/news/99010100013/رسانه-ها-...  \n",
       "4  https://www.isna.ir/news/98122922416/جشنواره-ه...  "
      ]
     },
     "execution_count": 8,
     "metadata": {},
     "output_type": "execute_result"
    }
   ],
   "source": [
    "train_df.head()"
   ]
  },
  {
   "cell_type": "code",
   "execution_count": 9,
   "metadata": {},
   "outputs": [],
   "source": [
    "train_df = train_df.drop('Unnamed: 0', axis=1)"
   ]
  },
  {
   "cell_type": "code",
   "execution_count": 10,
   "metadata": {},
   "outputs": [
    {
     "data": {
      "text/html": [
       "<div>\n",
       "<style scoped>\n",
       "    .dataframe tbody tr th:only-of-type {\n",
       "        vertical-align: middle;\n",
       "    }\n",
       "\n",
       "    .dataframe tbody tr th {\n",
       "        vertical-align: top;\n",
       "    }\n",
       "\n",
       "    .dataframe thead th {\n",
       "        text-align: right;\n",
       "    }\n",
       "</style>\n",
       "<table border=\"1\" class=\"dataframe\">\n",
       "  <thead>\n",
       "    <tr style=\"text-align: right;\">\n",
       "      <th></th>\n",
       "      <th>content</th>\n",
       "      <th>category</th>\n",
       "      <th>url</th>\n",
       "    </tr>\n",
       "  </thead>\n",
       "  <tbody>\n",
       "    <tr>\n",
       "      <th>0</th>\n",
       "      <td>به گزارش ایسنا، این شماره از ماهنامه «فکه» به ...</td>\n",
       "      <td>culture</td>\n",
       "      <td>https://www.isna.ir/news/99010100146/فکه-منتشر-شد</td>\n",
       "    </tr>\n",
       "    <tr>\n",
       "      <th>1</th>\n",
       "      <td>**به گزارش ایسنا** ، رحمت الله فتاحی با پیوستن...</td>\n",
       "      <td>culture</td>\n",
       "      <td>https://www.isna.ir/news/99010100080/شبه-علم-ب...</td>\n",
       "    </tr>\n",
       "    <tr>\n",
       "      <th>2</th>\n",
       "      <td>به گزارش ایسنا، در پیام نوش آفرین انصاری آمده ...</td>\n",
       "      <td>culture</td>\n",
       "      <td>https://www.isna.ir/news/99010100018/پیام-نورو...</td>\n",
       "    </tr>\n",
       "    <tr>\n",
       "      <th>3</th>\n",
       "      <td>به گزارش ایسنا، ویژه برنامه تحویل سال شبکه یک ...</td>\n",
       "      <td>culture</td>\n",
       "      <td>https://www.isna.ir/news/99010100013/رسانه-ها-...</td>\n",
       "    </tr>\n",
       "    <tr>\n",
       "      <th>4</th>\n",
       "      <td>به گزارش ایسنا، کمپین کرونا فایترز (Corona Fig...</td>\n",
       "      <td>culture</td>\n",
       "      <td>https://www.isna.ir/news/98122922416/جشنواره-ه...</td>\n",
       "    </tr>\n",
       "  </tbody>\n",
       "</table>\n",
       "</div>"
      ],
      "text/plain": [
       "                                             content category  \\\n",
       "0  به گزارش ایسنا، این شماره از ماهنامه «فکه» به ...  culture   \n",
       "1  **به گزارش ایسنا** ، رحمت الله فتاحی با پیوستن...  culture   \n",
       "2  به گزارش ایسنا، در پیام نوش آفرین انصاری آمده ...  culture   \n",
       "3  به گزارش ایسنا، ویژه برنامه تحویل سال شبکه یک ...  culture   \n",
       "4  به گزارش ایسنا، کمپین کرونا فایترز (Corona Fig...  culture   \n",
       "\n",
       "                                                 url  \n",
       "0  https://www.isna.ir/news/99010100146/فکه-منتشر-شد  \n",
       "1  https://www.isna.ir/news/99010100080/شبه-علم-ب...  \n",
       "2  https://www.isna.ir/news/99010100018/پیام-نورو...  \n",
       "3  https://www.isna.ir/news/99010100013/رسانه-ها-...  \n",
       "4  https://www.isna.ir/news/98122922416/جشنواره-ه...  "
      ]
     },
     "execution_count": 10,
     "metadata": {},
     "output_type": "execute_result"
    }
   ],
   "source": [
    "train_df.head()"
   ]
  },
  {
   "cell_type": "code",
   "execution_count": 11,
   "metadata": {},
   "outputs": [
    {
     "name": "stdout",
     "output_type": "stream",
     "text": [
      "<class 'pandas.core.frame.DataFrame'>\n",
      "RangeIndex: 4022 entries, 0 to 4021\n",
      "Data columns (total 3 columns):\n",
      " #   Column    Non-Null Count  Dtype \n",
      "---  ------    --------------  ----- \n",
      " 0   content   4022 non-null   object\n",
      " 1   category  4022 non-null   object\n",
      " 2   url       4022 non-null   object\n",
      "dtypes: object(3)\n",
      "memory usage: 94.4+ KB\n"
     ]
    }
   ],
   "source": [
    "train_df.info()"
   ]
  },
  {
   "cell_type": "code",
   "execution_count": 12,
   "metadata": {},
   "outputs": [],
   "source": [
    "import re\n",
    "import string\n",
    "from parsivar import Normalizer\n",
    "from hazm import word_tokenize\n",
    "from parsivar import FindStems\n",
    "from hazm import stopwords_list\n",
    "from collections import Counter\n",
    "\n",
    "def del_end_of_message(message):\n",
    "    return message.replace('انتهای پیام/', '')\n",
    "\n",
    "def del_punc(content):\n",
    "    puncs = string.punctuation + \"\".join(['؛', '_', '،', '؟', '؛', '»', '«', 'ـ', '،'])\n",
    "    \n",
    "    return content.translate(content.maketrans(\"\", \"\", puncs))\n",
    "\n",
    "normalizer = Normalizer(statistical_space_correction=True)\n",
    "def normalize(content):\n",
    "    return normalizer.normalize(content)\n",
    "\n",
    "def tokenize(content):\n",
    "    return word_tokenize(content)\n",
    "\n",
    "stemmer = FindStems()\n",
    "\n",
    "def stem(content):\n",
    "    return stemmer.convert_to_stem(content)\n",
    "\n",
    "persian_stop_words = stopwords_list()\n",
    "\n",
    "def preprocess(content):\n",
    "    \n",
    "    # deleting end of message \n",
    "    content = del_end_of_message(content)\n",
    "    \n",
    "    # normalizing our content\n",
    "    content = normalize(content)\n",
    "    \n",
    "    # removing punctuation\n",
    "    content = del_punc(content)\n",
    "    \n",
    "    # doing both stemming and tokenization\n",
    "    words = list(map(lambda term : stem(term), tokenize(content)))\n",
    "    word_frequency = dict(Counter(words))\n",
    "    \n",
    "    # removing stopwords\n",
    "    for stop_word in stopwords_list():\n",
    "        if stop_word in word_frequency.keys():\n",
    "            word_frequency.pop(stop_word)\n",
    "            \n",
    "    return word_frequency"
   ]
  },
  {
   "cell_type": "markdown",
   "metadata": {},
   "source": [
    "Running below cell takes:\n",
    "    \n",
    "    CPU times: user 54.1 s, sys: 82.6 ms, total: 54.2 s\n",
    "    Wall time: 54.2 s"
   ]
  },
  {
   "cell_type": "code",
   "execution_count": 13,
   "metadata": {},
   "outputs": [
    {
     "name": "stdout",
     "output_type": "stream",
     "text": [
      "CPU times: user 54.8 s, sys: 70.4 ms, total: 54.9 s\n",
      "Wall time: 54.9 s\n"
     ]
    }
   ],
   "source": [
    "%%time\n",
    "\n",
    "train_df['preprocessed'] = train_df['content'].apply(preprocess)"
   ]
  },
  {
   "cell_type": "code",
   "execution_count": 14,
   "metadata": {},
   "outputs": [
    {
     "data": {
      "text/html": [
       "<div>\n",
       "<style scoped>\n",
       "    .dataframe tbody tr th:only-of-type {\n",
       "        vertical-align: middle;\n",
       "    }\n",
       "\n",
       "    .dataframe tbody tr th {\n",
       "        vertical-align: top;\n",
       "    }\n",
       "\n",
       "    .dataframe thead th {\n",
       "        text-align: right;\n",
       "    }\n",
       "</style>\n",
       "<table border=\"1\" class=\"dataframe\">\n",
       "  <thead>\n",
       "    <tr style=\"text-align: right;\">\n",
       "      <th></th>\n",
       "      <th>content</th>\n",
       "      <th>category</th>\n",
       "      <th>url</th>\n",
       "      <th>preprocessed</th>\n",
       "    </tr>\n",
       "  </thead>\n",
       "  <tbody>\n",
       "    <tr>\n",
       "      <th>0</th>\n",
       "      <td>به گزارش ایسنا، این شماره از ماهنامه «فکه» به ...</td>\n",
       "      <td>culture</td>\n",
       "      <td>https://www.isna.ir/news/99010100146/فکه-منتشر-شد</td>\n",
       "      <td>{'گزارش': 1, 'ایسنا': 1, 'شماره': 1, 'ماهنامه'...</td>\n",
       "    </tr>\n",
       "    <tr>\n",
       "      <th>1</th>\n",
       "      <td>**به گزارش ایسنا** ، رحمت الله فتاحی با پیوستن...</td>\n",
       "      <td>culture</td>\n",
       "      <td>https://www.isna.ir/news/99010100080/شبه-علم-ب...</td>\n",
       "      <td>{'گزارش': 2, 'ایسنا': 2, 'رحمت‌الله': 1, 'فتاح...</td>\n",
       "    </tr>\n",
       "    <tr>\n",
       "      <th>2</th>\n",
       "      <td>به گزارش ایسنا، در پیام نوش آفرین انصاری آمده ...</td>\n",
       "      <td>culture</td>\n",
       "      <td>https://www.isna.ir/news/99010100018/پیام-نورو...</td>\n",
       "      <td>{'گزارش': 1, 'ایسنا': 1, 'پیام': 2, 'نوش': 1, ...</td>\n",
       "    </tr>\n",
       "    <tr>\n",
       "      <th>3</th>\n",
       "      <td>به گزارش ایسنا، ویژه برنامه تحویل سال شبکه یک ...</td>\n",
       "      <td>culture</td>\n",
       "      <td>https://www.isna.ir/news/99010100013/رسانه-ها-...</td>\n",
       "      <td>{'گزارش': 1, 'ایسنا': 1, 'برنامه': 1, 'تحویل':...</td>\n",
       "    </tr>\n",
       "    <tr>\n",
       "      <th>4</th>\n",
       "      <td>به گزارش ایسنا، کمپین کرونا فایترز (Corona Fig...</td>\n",
       "      <td>culture</td>\n",
       "      <td>https://www.isna.ir/news/98122922416/جشنواره-ه...</td>\n",
       "      <td>{'گزارش': 1, 'ایسنا': 1, 'کمپین‌کرونا‌فایترز':...</td>\n",
       "    </tr>\n",
       "  </tbody>\n",
       "</table>\n",
       "</div>"
      ],
      "text/plain": [
       "                                             content category  \\\n",
       "0  به گزارش ایسنا، این شماره از ماهنامه «فکه» به ...  culture   \n",
       "1  **به گزارش ایسنا** ، رحمت الله فتاحی با پیوستن...  culture   \n",
       "2  به گزارش ایسنا، در پیام نوش آفرین انصاری آمده ...  culture   \n",
       "3  به گزارش ایسنا، ویژه برنامه تحویل سال شبکه یک ...  culture   \n",
       "4  به گزارش ایسنا، کمپین کرونا فایترز (Corona Fig...  culture   \n",
       "\n",
       "                                                 url  \\\n",
       "0  https://www.isna.ir/news/99010100146/فکه-منتشر-شد   \n",
       "1  https://www.isna.ir/news/99010100080/شبه-علم-ب...   \n",
       "2  https://www.isna.ir/news/99010100018/پیام-نورو...   \n",
       "3  https://www.isna.ir/news/99010100013/رسانه-ها-...   \n",
       "4  https://www.isna.ir/news/98122922416/جشنواره-ه...   \n",
       "\n",
       "                                        preprocessed  \n",
       "0  {'گزارش': 1, 'ایسنا': 1, 'شماره': 1, 'ماهنامه'...  \n",
       "1  {'گزارش': 2, 'ایسنا': 2, 'رحمت‌الله': 1, 'فتاح...  \n",
       "2  {'گزارش': 1, 'ایسنا': 1, 'پیام': 2, 'نوش': 1, ...  \n",
       "3  {'گزارش': 1, 'ایسنا': 1, 'برنامه': 1, 'تحویل':...  \n",
       "4  {'گزارش': 1, 'ایسنا': 1, 'کمپین‌کرونا‌فایترز':...  "
      ]
     },
     "execution_count": 14,
     "metadata": {},
     "output_type": "execute_result"
    }
   ],
   "source": [
    "train_df.head()"
   ]
  },
  {
   "cell_type": "code",
   "execution_count": 15,
   "metadata": {},
   "outputs": [],
   "source": [
    "def convert_to_list(dictionary):\n",
    "    result = []\n",
    "    for v in dictionary.keys():\n",
    "        result.append(v)\n",
    "        \n",
    "    return result"
   ]
  },
  {
   "cell_type": "code",
   "execution_count": 16,
   "metadata": {},
   "outputs": [],
   "source": [
    "train_df['preprocessed'] = train_df['preprocessed'].apply(convert_to_list)"
   ]
  },
  {
   "cell_type": "code",
   "execution_count": 17,
   "metadata": {},
   "outputs": [
    {
     "data": {
      "text/plain": [
       "['گزارش',\n",
       " 'ایسنا',\n",
       " 'شماره',\n",
       " 'ماهنامه',\n",
       " 'فکه',\n",
       " 'پرونده',\n",
       " 'شهید',\n",
       " 'مدافع\\u200cحرم',\n",
       " 'سیدمجتبی',\n",
       " 'سیداسماعیل',\n",
       " 'حسینی',\n",
       " 'عنوان',\n",
       " 'سادات\\u200cلشکر',\n",
       " 'فاطمیون',\n",
       " 'اختصاص',\n",
       " 'داشت&دارد',\n",
       " 'پرواز',\n",
       " 'ز',\n",
       " 'جان',\n",
       " 'بود&باش',\n",
       " 'قرار',\n",
       " 'ماهی',\n",
       " 'گم',\n",
       " 'شد&شو',\n",
       " 'عناوین',\n",
       " 'اصلی',\n",
       " 'جلد\\u200cمانامه\\u200cفکه',\n",
       " 'زندگی',\n",
       " 'رحمت\\u200cالله\\u200cعالیشاهی',\n",
       " 'گفت\\u200cوگو',\n",
       " 'رزمنده',\n",
       " 'جانباز',\n",
       " 'احمد',\n",
       " 'بولیوند',\n",
       " 'عملیات',\n",
       " 'بدر',\n",
       " 'روایت\\u200cخادمین',\n",
       " 'شهد',\n",
       " 'فدک',\n",
       " 'پرداخته_است',\n",
       " 'سال',\n",
       " 'نوید',\n",
       " 'رهایی',\n",
       " 'ماندنی',\n",
       " 'اس',\n",
       " 'حاج',\n",
       " 'قاسم',\n",
       " 'ترازو',\n",
       " 'آمریکایی',\n",
       " 'سخن',\n",
       " 'نماینده',\n",
       " 'مجلس',\n",
       " 'انتهای',\n",
       " 'پیام']"
      ]
     },
     "execution_count": 17,
     "metadata": {},
     "output_type": "execute_result"
    }
   ],
   "source": [
    "train_df['preprocessed'].iloc[0]"
   ]
  },
  {
   "cell_type": "code",
   "execution_count": 18,
   "metadata": {},
   "outputs": [],
   "source": [
    "docs_list = list(train_df['preprocessed'])"
   ]
  },
  {
   "cell_type": "markdown",
   "metadata": {
    "id": "OkpRP6M7QSV9"
   },
   "source": [
    "دو بلوک بعدی کد برای استفاده از ماژول آماده تهیه شده و صرفا به شکل مثال نوشته شده اند، ممکن است برای استفاده عملی در پروژه نیاز به تغییر باشد. "
   ]
  },
  {
   "cell_type": "code",
   "execution_count": 24,
   "metadata": {
    "id": "puyzaaxQgBPg",
    "scrolled": true
   },
   "outputs": [
    {
     "name": "stdout",
     "output_type": "stream",
     "text": [
      "Loading the model ...\n"
     ]
    }
   ],
   "source": [
    "from embeding import *\n",
    "# dataset: each document is a list of its tokens. \n",
    "# model_path: is a path that you want save model in it. \n",
    "doc2vec = DocToVec(docs_list , vec_size=200 , model_path='word2vec.model')\n"
   ]
  },
  {
   "cell_type": "markdown",
   "metadata": {
    "id": "oQN8SuyIQFX6"
   },
   "source": [
    "\n",
    "تولید بردارهای تمام اسناد و ذخیره در یک لیست بمنظور استفاده در گام های بعدی "
   ]
  },
  {
   "cell_type": "markdown",
   "metadata": {},
   "source": [
    "Running below cell takes:\n",
    "    \n",
    "    CPU times: user 19.7 s, sys: 46 ms, total: 19.7 s\n",
    "    Wall time: 19.7 s"
   ]
  },
  {
   "cell_type": "code",
   "execution_count": 25,
   "metadata": {
    "id": "LXkx9nqho_4g"
   },
   "outputs": [
    {
     "name": "stderr",
     "output_type": "stream",
     "text": [
      "100%|██████████| 4022/4022 [00:06<00:00, 588.89it/s]"
     ]
    },
    {
     "name": "stdout",
     "output_type": "stream",
     "text": [
      "CPU times: user 6.66 s, sys: 28 ms, total: 6.69 s\n",
      "Wall time: 7.07 s\n"
     ]
    },
    {
     "name": "stderr",
     "output_type": "stream",
     "text": [
      "\n"
     ]
    }
   ],
   "source": [
    "%%time\n",
    "\n",
    "doc_vectors = []\n",
    "for i in tqdm(range(len(docs_list))):\n",
    "  doc_vectors.append(doc2vec.embed(docs_list[i])) "
   ]
  },
  {
   "cell_type": "markdown",
   "metadata": {
    "id": "kC2c-BncQ6f_"
   },
   "source": [
    "# ابتدا بردارهای عددی داده های تست را بدست آورده و سپس از این بردارها برای تولید بردار  بقیه ی داده ها استفاده کنید. "
   ]
  },
  {
   "cell_type": "code",
   "execution_count": 26,
   "metadata": {
    "id": "WXjF6F5LdLpP"
   },
   "outputs": [],
   "source": [
    "mappings = {\n",
    "    \"properties\": {\n",
    "      \"content\": {\n",
    "        \"type\": \"text\"\n",
    "      },\n",
    "        \"category\":{\n",
    "            \"type\": \"keyword\"\n",
    "        },\n",
    "        \"vec\":{\n",
    "            \"type\": \"dense_vector\",\n",
    "            \"dims\": 200,\n",
    "            \"index\": True,\n",
    "            \"similarity\": \"cosine\"\n",
    "        }\n",
    "    }\n",
    "}"
   ]
  },
  {
   "cell_type": "code",
   "execution_count": 27,
   "metadata": {
    "id": "LlomFmlqdLpQ"
   },
   "outputs": [],
   "source": [
    "es = Elasticsearch(\"http://localhost:9200\")"
   ]
  },
  {
   "cell_type": "code",
   "execution_count": 28,
   "metadata": {
    "id": "Svhk9olodLpR"
   },
   "outputs": [],
   "source": [
    "index_name = 'ir_knn'"
   ]
  },
  {
   "cell_type": "code",
   "execution_count": 30,
   "metadata": {
    "id": "8oAzzl94dLpS"
   },
   "outputs": [
    {
     "data": {
      "text/plain": [
       "ObjectApiResponse({'acknowledged': True, 'shards_acknowledged': True, 'index': 'ir_knn'})"
      ]
     },
     "execution_count": 30,
     "metadata": {},
     "output_type": "execute_result"
    }
   ],
   "source": [
    "# Delete index if one does exist\n",
    "if es.indices.exists(index=index_name):\n",
    "    es.indices.delete(index=index_name)\n",
    "\n",
    "# Create index\n",
    "es.indices.create(index=index_name, mappings=mappings)"
   ]
  },
  {
   "cell_type": "markdown",
   "metadata": {},
   "source": [
    "## Defining `filter_doc` function"
   ]
  },
  {
   "cell_type": "code",
   "execution_count": 31,
   "metadata": {},
   "outputs": [],
   "source": [
    "def filter_doc(text):\n",
    "    return preprocess(text)"
   ]
  },
  {
   "cell_type": "code",
   "execution_count": 32,
   "metadata": {
    "id": "zhRxYLULdLpU"
   },
   "outputs": [
    {
     "name": "stderr",
     "output_type": "stream",
     "text": [
      "100%|██████████| 4022/4022 [00:58<00:00, 69.03it/s] \n"
     ]
    }
   ],
   "source": [
    "from copy import deepcopy\n",
    "\n",
    "data_tmp = []\n",
    "for i in tqdm(range(len(train_df))):\n",
    "    tmp_doc = train_df.iloc[i]\n",
    "    doc = dict()\n",
    "    # filter_doc: method for preprocessing a doc. \n",
    "    doc['content'] = \" \".join(filter_doc(tmp_doc['content']))\n",
    "    doc['vec'] = list(doc_vectors[i])\n",
    "    doc['category'] = tmp_doc['category']\n",
    "    data_tmp.append(doc)\n"
   ]
  },
  {
   "cell_type": "code",
   "execution_count": 33,
   "metadata": {
    "id": "RgSbNxq7dLpU"
   },
   "outputs": [],
   "source": [
    "data_bulk = [\n",
    "    {\n",
    "        \"_index\" : index_name,\n",
    "        \"_id\" : i + 1,\n",
    "        \"_source\": data_tmp[i]\n",
    "    }\n",
    "    for i in range(len(data_tmp))\n",
    "]\n",
    "\n",
    "try:\n",
    "    resp = helpers.bulk(\n",
    "      es,\n",
    "      data_bulk,\n",
    "      index = index_name\n",
    "    )\n",
    "    print(resp)    \n",
    "except:\n",
    "    pass"
   ]
  },
  {
   "cell_type": "markdown",
   "metadata": {
    "id": "ONbDIk_HUGMM"
   },
   "source": [
    "# گام سوم"
   ]
  },
  {
   "cell_type": "markdown",
   "metadata": {
    "id": "A9vKLaE4UNb3"
   },
   "source": [
    "در این بخش باید داده های تست را بارگذاری و پیش پردازش کنید و سپس برای هر متن بردار آن را بدست آورده و به روش  نزدیکترین همسایه جستجو را انجام داده و برچسب این سند را بدست آورید. "
   ]
  },
  {
   "cell_type": "code",
   "execution_count": 34,
   "metadata": {
    "id": "LttqgmRFdLpV"
   },
   "outputs": [],
   "source": [
    "test_dataset = pd.read_excel(\"data-set/IR01_3_46k.xlsx\")"
   ]
  },
  {
   "cell_type": "code",
   "execution_count": 35,
   "metadata": {
    "scrolled": true
   },
   "outputs": [
    {
     "data": {
      "text/html": [
       "<div>\n",
       "<style scoped>\n",
       "    .dataframe tbody tr th:only-of-type {\n",
       "        vertical-align: middle;\n",
       "    }\n",
       "\n",
       "    .dataframe tbody tr th {\n",
       "        vertical-align: top;\n",
       "    }\n",
       "\n",
       "    .dataframe thead th {\n",
       "        text-align: right;\n",
       "    }\n",
       "</style>\n",
       "<table border=\"1\" class=\"dataframe\">\n",
       "  <thead>\n",
       "    <tr style=\"text-align: right;\">\n",
       "      <th></th>\n",
       "      <th>Unnamed: 0</th>\n",
       "      <th>content</th>\n",
       "      <th>url</th>\n",
       "    </tr>\n",
       "  </thead>\n",
       "  <tbody>\n",
       "    <tr>\n",
       "      <th>0</th>\n",
       "      <td>0</td>\n",
       "      <td>به گزارش ایسنا، پس از واریز ۴٧۵ هزار یورو از ا...</td>\n",
       "      <td>https://www.isna.ir/news/99121410848/با-بسته-ش...</td>\n",
       "    </tr>\n",
       "    <tr>\n",
       "      <th>1</th>\n",
       "      <td>1</td>\n",
       "      <td>به گزارش ایسنا، شانزدهمین دوره مسابقات قهرمانی...</td>\n",
       "      <td>https://www.isna.ir/news/99121410823/برترین-ها...</td>\n",
       "    </tr>\n",
       "    <tr>\n",
       "      <th>2</th>\n",
       "      <td>2</td>\n",
       "      <td>به گزارش ایسنا، بر اساس راهنمای گام دوم مبارزه...</td>\n",
       "      <td>https://www.isna.ir/news/99121410760/حضور-غیرق...</td>\n",
       "    </tr>\n",
       "    <tr>\n",
       "      <th>3</th>\n",
       "      <td>3</td>\n",
       "      <td>استقلال ملاثانی که با شگفتی سازی در اولین حضور...</td>\n",
       "      <td>https://www.isna.ir/news/99121410724/تعطیلی-تم...</td>\n",
       "    </tr>\n",
       "    <tr>\n",
       "      <th>4</th>\n",
       "      <td>4</td>\n",
       "      <td>به گزارش ایسنا، مسابقات اسنوکر قهرمانی آزاد جب...</td>\n",
       "      <td>https://www.isna.ir/news/99121511359/پیروزی-سه...</td>\n",
       "    </tr>\n",
       "  </tbody>\n",
       "</table>\n",
       "</div>"
      ],
      "text/plain": [
       "   Unnamed: 0                                            content  \\\n",
       "0           0  به گزارش ایسنا، پس از واریز ۴٧۵ هزار یورو از ا...   \n",
       "1           1  به گزارش ایسنا، شانزدهمین دوره مسابقات قهرمانی...   \n",
       "2           2  به گزارش ایسنا، بر اساس راهنمای گام دوم مبارزه...   \n",
       "3           3  استقلال ملاثانی که با شگفتی سازی در اولین حضور...   \n",
       "4           4  به گزارش ایسنا، مسابقات اسنوکر قهرمانی آزاد جب...   \n",
       "\n",
       "                                                 url  \n",
       "0  https://www.isna.ir/news/99121410848/با-بسته-ش...  \n",
       "1  https://www.isna.ir/news/99121410823/برترین-ها...  \n",
       "2  https://www.isna.ir/news/99121410760/حضور-غیرق...  \n",
       "3  https://www.isna.ir/news/99121410724/تعطیلی-تم...  \n",
       "4  https://www.isna.ir/news/99121511359/پیروزی-سه...  "
      ]
     },
     "execution_count": 35,
     "metadata": {},
     "output_type": "execute_result"
    }
   ],
   "source": [
    "test_dataset.head()"
   ]
  },
  {
   "cell_type": "code",
   "execution_count": 36,
   "metadata": {},
   "outputs": [
    {
     "data": {
      "text/plain": [
       "Unnamed: 0    0\n",
       "content       0\n",
       "url           0\n",
       "dtype: int64"
      ]
     },
     "execution_count": 36,
     "metadata": {},
     "output_type": "execute_result"
    }
   ],
   "source": [
    "test_dataset.isna().sum()"
   ]
  },
  {
   "cell_type": "markdown",
   "metadata": {},
   "source": [
    "## Just for time saving:"
   ]
  },
  {
   "cell_type": "markdown",
   "metadata": {},
   "source": [
    "If you want to predict all the test data comment below line:"
   ]
  },
  {
   "cell_type": "code",
   "execution_count": 37,
   "metadata": {},
   "outputs": [],
   "source": [
    "test_dataset = test_dataset.iloc[:20]"
   ]
  },
  {
   "cell_type": "markdown",
   "metadata": {},
   "source": [
    "Running below cell with all test data takes:\n",
    "\n",
    "    CPU times: user 23min 12s, sys: 4.23 s, total: 23min 16s\n",
    "    Wall time: 24min 32s"
   ]
  },
  {
   "cell_type": "code",
   "execution_count": 38,
   "metadata": {
    "scrolled": true
   },
   "outputs": [
    {
     "name": "stderr",
     "output_type": "stream",
     "text": [
      "100%|██████████| 20/20 [00:01<00:00, 14.92it/s]"
     ]
    },
    {
     "name": "stdout",
     "output_type": "stream",
     "text": [
      "CPU times: user 360 ms, sys: 4.05 ms, total: 364 ms\n",
      "Wall time: 1.35 s\n"
     ]
    },
    {
     "name": "stderr",
     "output_type": "stream",
     "text": [
      "\n"
     ]
    }
   ],
   "source": [
    "%%time\n",
    "\n",
    "res = []\n",
    "for i in tqdm(range(len(test_dataset))):\n",
    "    vec = doc2vec.embed(filter_doc(test_dataset['content'].iloc[i]))\n",
    "    try:\n",
    "        resp = es.knn_search(index=index_name,knn={\n",
    "          #  TODO\n",
    "          \"field\": \"vec\",\n",
    "          \"query_vector\": vec,\n",
    "          \"k\": 5,\n",
    "          \"num_candidates\": 100\n",
    "        }\n",
    "          ,source=['content','category'],)\n",
    "        res.append(resp)\n",
    "      #  predict label for doc\n",
    "      # TODO\n",
    "    except:\n",
    "        # usualy happens when all the elements of \n",
    "        # the vector are zero.\n",
    "        res.append(None)"
   ]
  },
  {
   "cell_type": "code",
   "execution_count": 39,
   "metadata": {},
   "outputs": [
    {
     "data": {
      "text/plain": [
       "20"
      ]
     },
     "execution_count": 39,
     "metadata": {},
     "output_type": "execute_result"
    }
   ],
   "source": [
    "len(test_dataset)"
   ]
  },
  {
   "cell_type": "code",
   "execution_count": 40,
   "metadata": {},
   "outputs": [
    {
     "data": {
      "text/plain": [
       "20"
      ]
     },
     "execution_count": 40,
     "metadata": {},
     "output_type": "execute_result"
    }
   ],
   "source": [
    "len(res)"
   ]
  },
  {
   "cell_type": "markdown",
   "metadata": {
    "id": "7jsdJ0DtVvLP"
   },
   "source": [
    "# گام چهارم "
   ]
  },
  {
   "cell_type": "markdown",
   "metadata": {
    "id": "gMnEqgUBVUto"
   },
   "source": [
    "حال که برای هر متن برچسب آن را بدست آورده اید. متون هر دسته را به نحوی از سایر دسته ها مجزا کنید و مطابق موارد خواسته شده در گزارش جستجو را در دسته های مختلف انجام دهید. "
   ]
  },
  {
   "cell_type": "code",
   "execution_count": 41,
   "metadata": {},
   "outputs": [
    {
     "name": "stdout",
     "output_type": "stream",
     "text": [
      "{\n",
      "    \"took\": 926,\n",
      "    \"timed_out\": false,\n",
      "    \"_shards\": {\n",
      "        \"total\": 1,\n",
      "        \"successful\": 1,\n",
      "        \"skipped\": 0,\n",
      "        \"failed\": 0\n",
      "    },\n",
      "    \"hits\": {\n",
      "        \"total\": {\n",
      "            \"value\": 100,\n",
      "            \"relation\": \"eq\"\n",
      "        },\n",
      "        \"max_score\": 0.75536835,\n",
      "        \"hits\": [\n",
      "            {\n",
      "                \"_index\": \"ir_knn\",\n",
      "                \"_id\": \"323\",\n",
      "                \"_score\": 0.75536835,\n",
      "                \"_source\": {\n",
      "                    \"category\": \"culture\",\n",
      "                    \"content\": \"گزارش ایسنا نقل رابطه عمومی معاونت امور فرهنگی وزارت فرهنگ ارشاد اسلامی جلسه 619 هیات انتخاب خرید کتاب 635 عنوان 55 هزار 800 نسخه مبلغ 16 میلیارد 756 میلیون 355 ‌هزارریال تصویب قرار گرفت&گیر توجه لزوم رعایت موزد بهداشتی فاصله‌گذاری اجتماعی وضعیت بحرانی کرونا مقرر صورت‌جلسه یادشده مقطع زمانی فاصله ماه حروف الفبایی ناشر اعلام تحویل انبار‌شود اساس بازه الف ح توانست&توان انبار اقدام کرد&کن عناوین مصوب سایت تارنمای نشانی ‌http‌ ‌mof‌ ‌farhang‌ ‌gov‌ ‌ir‌ fa‌ home‌ ‌book‌ ‌book بارگذاری‌شده اس مرحله مدارک شرح محترم اطلاع ارسالی همراه میزان واقع جاده مخصوص کرج کیلومتر 10 روبروی شهاب خودرو خیابان نخ زرین شهید جلال صنایع آموزشی هنرستان پیام تلفن ٥1 ‌ 44٥4٥149 مراجعه دریافت مالی وزارتخانه اتاق‌ 32٥ به‌مسئول‌ذی‌ربط داد&ده 1 2 برگ ذی‌حسابی کپی پروانه نشر معتبر زمان تحوبل اعتبار 3 فاکتور فروش اصل تصویر سربرگ انتشارات صورت رسمی آورد&آر شماره الزامی ب تاریخ ج قسمت خریدار نام ذکر‌شود د حساب مانده بدهی داخل اجتناب‌شود مهر امضائ خودکار قلم جوهر آبی قبول ‌4‌ ‌پرینت‌شماره‌شبا بانک ملی تاییدیه صاحب حتما تطبیق اطلاعات مندرج مشخصا پرداخت&پرداز تا‌درصورت‌مغایرت‌های احتمالی مراتب رسیدگی عمل تغییرات بعدی میسر نخواهد_بود مهلت صورتجلسه 1ماه باتوجه اقتضائات اداری مراجعات‌بعدازمهلت‌مقررموردرسیدگی‌قرارنمی‌گیرد جهت کسب تماس حاصل شد&شو دفتر برگزاری جلسات‌ 38٥13049 ‌2 تنظیم حواله کتاب‌ 38٥128٥0 ‌3 38٥12994 انتهای\"\n",
      "                }\n",
      "            },\n",
      "            {\n",
      "                \"_index\": \"ir_knn\",\n",
      "                \"_id\": \"365\",\n",
      "                \"_score\": 0.75318843,\n",
      "                \"_source\": {\n",
      "                    \"category\": \"culture\",\n",
      "                    \"content\": \"گزارش ایسنا ژاک ورنر انتشار تصویر دشت لاله روستا کندر حساب توئیتری نوشته_است زیبایی نفس بند آمد&آ دیدن مزارع زیبا قشنگ اس هزار رنگ ساعت رانندگی تهران کرج کوهستان البرز ایران دید ‌ ‌https‌ ‌cdn‌ ‌isna‌ ‌ir‌ d 2020 05 12 3 61633718 ‌jpg لاله‌زار وسعت 35 هکتار میلیون 100 شاخه گل‌تزئین‌شده دهیار روز بازگشایی 80 90 نفر دید&بین ازدحام بازدیدکننده کرونا بازدید مزرعه متوقف شد&شو 61633719 هلند بزرگتر بازار فروش گل جهان اختیار داشت&دارد موسم کشور مهم‌ترین عامل جذب گردشگر دولت مردم خواسته_است همه‌گیری ویروس محل پرورش پرورش‌دهنده جلوگیری شیوع آن‌ها نابود کرد&کن صادرات هفت میلیارد یورو 76 دلار رسید&رس میانگین روزانه 30 فروخته صادر 61633714 ایران‌ 61633713 پارکینگ احداث نزدیکی سفیر منتشر انتهای پیام\"\n",
      "                }\n",
      "            },\n",
      "            {\n",
      "                \"_index\": \"ir_knn\",\n",
      "                \"_id\": \"338\",\n",
      "                \"_score\": 0.71067834,\n",
      "                \"_source\": {\n",
      "                    \"category\": \"culture\",\n",
      "                    \"content\": \"گزارش ایسنا شماره شیوه یادداشت تئاتر معماری تجسمی اس جایگاه تاریخ هویت فیلم‌ساز محمدرضا اصلانی رهاشدگی گفت‌وگو همراه با‌هاروکی‌موراکامی عنوان دنیا عجیب مرموز درونم‌می‌نویسم چرخش پسادراماتیک در‌تئاتر‌آلمانی‌زبان‌ ‌توماس‌اشمیت‌ زد&زن مخمصه پرونده سوزانه‌کندی چاپ ژاپنی نرفته_بودم آن‌جا ماند&مان شوم مهدی حسینی دوماه‌نامه اسفندماه 98 فروردین‌ماه 99 صاحب‌امتیاز خانه هنرمند ایران مدیرمسئولی مجید رجبی‌معمار سردبیری سیدعماد قیمت 50 هزار تومان منتشر انتهای پیام\"\n",
      "                }\n",
      "            },\n",
      "            {\n",
      "                \"_index\": \"ir_knn\",\n",
      "                \"_id\": \"181\",\n",
      "                \"_score\": 0.7100326,\n",
      "                \"_source\": {\n",
      "                    \"category\": \"culture\",\n",
      "                    \"content\": \"گزارش ایسنا دبیر اجرایی جشنواره اعلام خبر توجه تقاضا مکرر شرکت‌کنندگان افزایش زمان ارسال تقارن برگزاری ایام کرونا محدودیت متقاضی استفاده نت سیستم تصمیم گرفته_شد مهلت 10 روز تمدید شد&شو ‌محمد معماری ادامه شورا سیاست‌گذاری نهایی عنوان مجدد داشت&دار اساس درخواست کرد&کن سریع مرحله ثبت نام انجام دقایق پایانی موکول ترافیک مراجعه سایت مشکل اضافه دومین دوره جایزه جمالزاده توسط سازمان فرهنگی اجتماعی ورزشی شهرداری اصفهان برگزار فراخوان دی ماه گذشته 2 آزاد این‌جایزه داستان کوتاه زندگی نگاره داس ‌ی این‌مسابقه اس پذیرا درونمایه مضامین محصول کار خلاق نویسندگان روزهای سال همزمان شیوع ویروس تاثیر همه‌جانبه زیرمجموعه نگاره‌و ناداستان‌ها تعریف علاقه‌مند داستان‌نویس تجربیات مواجهه جهان ثبت‌کنند توانست&توان دبیرخانه دریافت فرم اطلاعات پایگاه اینترنتی Jamalzadehaward‌ ‌ir مراجعه‌نمایند جوایز مختلف نفر 8 میلیون تومان 5 3 الف 7 ب 6 4 هیات داور برتر 40 ریالی خواهند_کرد انتهای پیام\"\n",
      "                }\n",
      "            },\n",
      "            {\n",
      "                \"_index\": \"ir_knn\",\n",
      "                \"_id\": \"337\",\n",
      "                \"_score\": 0.7078276,\n",
      "                \"_source\": {\n",
      "                    \"category\": \"culture\",\n",
      "                    \"content\": \"گزارش ایسنا نقل مرکز رابطه عمومی اطلاع‌رسانی وزارت فرهنگ ارشاد اسلامی سیدحسین‌سیدزاده مدیرعامل صندوق اعتباری هنر این‌که تصمیم بعدازظهر امروز شنبه 20 اردیبهشت‌ماه جلسه نهاد ریاست‌جمهوری ریاست اسحاق جهانگیری معاون حضور سیدعباس صالح وزیر گرفته_شده_است افزود&افزا هیات‌مدیره مشاور صنفی داشت&دار مقرر هنرمند ماه فروردین اردیبهشت خرداد پرداخت بیمه معاف شد&شو ادامه اساس موافقت 35 هزار نفر پوشش مشمول بخشودگی ‌سیدزاده مبلغ تخصیص‌یافته 350 میلیارد ریال اس تصریح اقدام این‌ماه آغاز نیازی مراجعه حضوری اقدامات مرحله کار انجام داد&ده انتهای پیام\"\n",
      "                }\n",
      "            }\n",
      "        ]\n",
      "    }\n",
      "}\n"
     ]
    }
   ],
   "source": [
    "print(json.dumps(dict(res[0]), indent=4, ensure_ascii=False).encode('utf8').decode())"
   ]
  },
  {
   "cell_type": "code",
   "execution_count": 42,
   "metadata": {},
   "outputs": [
    {
     "data": {
      "text/html": [
       "<div>\n",
       "<style scoped>\n",
       "    .dataframe tbody tr th:only-of-type {\n",
       "        vertical-align: middle;\n",
       "    }\n",
       "\n",
       "    .dataframe tbody tr th {\n",
       "        vertical-align: top;\n",
       "    }\n",
       "\n",
       "    .dataframe thead th {\n",
       "        text-align: right;\n",
       "    }\n",
       "</style>\n",
       "<table border=\"1\" class=\"dataframe\">\n",
       "  <thead>\n",
       "    <tr style=\"text-align: right;\">\n",
       "      <th></th>\n",
       "      <th>Unnamed: 0</th>\n",
       "      <th>content</th>\n",
       "      <th>url</th>\n",
       "    </tr>\n",
       "  </thead>\n",
       "  <tbody>\n",
       "    <tr>\n",
       "      <th>0</th>\n",
       "      <td>0</td>\n",
       "      <td>به گزارش ایسنا، پس از واریز ۴٧۵ هزار یورو از ا...</td>\n",
       "      <td>https://www.isna.ir/news/99121410848/با-بسته-ش...</td>\n",
       "    </tr>\n",
       "    <tr>\n",
       "      <th>1</th>\n",
       "      <td>1</td>\n",
       "      <td>به گزارش ایسنا، شانزدهمین دوره مسابقات قهرمانی...</td>\n",
       "      <td>https://www.isna.ir/news/99121410823/برترین-ها...</td>\n",
       "    </tr>\n",
       "    <tr>\n",
       "      <th>2</th>\n",
       "      <td>2</td>\n",
       "      <td>به گزارش ایسنا، بر اساس راهنمای گام دوم مبارزه...</td>\n",
       "      <td>https://www.isna.ir/news/99121410760/حضور-غیرق...</td>\n",
       "    </tr>\n",
       "    <tr>\n",
       "      <th>3</th>\n",
       "      <td>3</td>\n",
       "      <td>استقلال ملاثانی که با شگفتی سازی در اولین حضور...</td>\n",
       "      <td>https://www.isna.ir/news/99121410724/تعطیلی-تم...</td>\n",
       "    </tr>\n",
       "    <tr>\n",
       "      <th>4</th>\n",
       "      <td>4</td>\n",
       "      <td>به گزارش ایسنا، مسابقات اسنوکر قهرمانی آزاد جب...</td>\n",
       "      <td>https://www.isna.ir/news/99121511359/پیروزی-سه...</td>\n",
       "    </tr>\n",
       "  </tbody>\n",
       "</table>\n",
       "</div>"
      ],
      "text/plain": [
       "   Unnamed: 0                                            content  \\\n",
       "0           0  به گزارش ایسنا، پس از واریز ۴٧۵ هزار یورو از ا...   \n",
       "1           1  به گزارش ایسنا، شانزدهمین دوره مسابقات قهرمانی...   \n",
       "2           2  به گزارش ایسنا، بر اساس راهنمای گام دوم مبارزه...   \n",
       "3           3  استقلال ملاثانی که با شگفتی سازی در اولین حضور...   \n",
       "4           4  به گزارش ایسنا، مسابقات اسنوکر قهرمانی آزاد جب...   \n",
       "\n",
       "                                                 url  \n",
       "0  https://www.isna.ir/news/99121410848/با-بسته-ش...  \n",
       "1  https://www.isna.ir/news/99121410823/برترین-ها...  \n",
       "2  https://www.isna.ir/news/99121410760/حضور-غیرق...  \n",
       "3  https://www.isna.ir/news/99121410724/تعطیلی-تم...  \n",
       "4  https://www.isna.ir/news/99121511359/پیروزی-سه...  "
      ]
     },
     "execution_count": 42,
     "metadata": {},
     "output_type": "execute_result"
    }
   ],
   "source": [
    "test_dataset.head()"
   ]
  },
  {
   "cell_type": "code",
   "execution_count": 43,
   "metadata": {},
   "outputs": [],
   "source": [
    "test_dataset = test_dataset.drop('Unnamed: 0', axis=1)"
   ]
  },
  {
   "cell_type": "code",
   "execution_count": 44,
   "metadata": {},
   "outputs": [],
   "source": [
    "result_list = []\n",
    "\n",
    "for r in res:\n",
    "    if r:\n",
    "        result_list.append(r['hits']['hits'][0]['_source']['category'])\n",
    "    else:\n",
    "        result_list.append(None)"
   ]
  },
  {
   "cell_type": "code",
   "execution_count": 45,
   "metadata": {},
   "outputs": [],
   "source": [
    "test_dataset['category'] = result_list"
   ]
  },
  {
   "cell_type": "code",
   "execution_count": 46,
   "metadata": {},
   "outputs": [
    {
     "data": {
      "text/html": [
       "<div>\n",
       "<style scoped>\n",
       "    .dataframe tbody tr th:only-of-type {\n",
       "        vertical-align: middle;\n",
       "    }\n",
       "\n",
       "    .dataframe tbody tr th {\n",
       "        vertical-align: top;\n",
       "    }\n",
       "\n",
       "    .dataframe thead th {\n",
       "        text-align: right;\n",
       "    }\n",
       "</style>\n",
       "<table border=\"1\" class=\"dataframe\">\n",
       "  <thead>\n",
       "    <tr style=\"text-align: right;\">\n",
       "      <th></th>\n",
       "      <th>content</th>\n",
       "      <th>url</th>\n",
       "      <th>category</th>\n",
       "    </tr>\n",
       "  </thead>\n",
       "  <tbody>\n",
       "    <tr>\n",
       "      <th>0</th>\n",
       "      <td>به گزارش ایسنا، پس از واریز ۴٧۵ هزار یورو از ا...</td>\n",
       "      <td>https://www.isna.ir/news/99121410848/با-بسته-ش...</td>\n",
       "      <td>culture</td>\n",
       "    </tr>\n",
       "    <tr>\n",
       "      <th>1</th>\n",
       "      <td>به گزارش ایسنا، شانزدهمین دوره مسابقات قهرمانی...</td>\n",
       "      <td>https://www.isna.ir/news/99121410823/برترین-ها...</td>\n",
       "      <td>culture</td>\n",
       "    </tr>\n",
       "    <tr>\n",
       "      <th>2</th>\n",
       "      <td>به گزارش ایسنا، بر اساس راهنمای گام دوم مبارزه...</td>\n",
       "      <td>https://www.isna.ir/news/99121410760/حضور-غیرق...</td>\n",
       "      <td>culture</td>\n",
       "    </tr>\n",
       "    <tr>\n",
       "      <th>3</th>\n",
       "      <td>استقلال ملاثانی که با شگفتی سازی در اولین حضور...</td>\n",
       "      <td>https://www.isna.ir/news/99121410724/تعطیلی-تم...</td>\n",
       "      <td>culture</td>\n",
       "    </tr>\n",
       "    <tr>\n",
       "      <th>4</th>\n",
       "      <td>به گزارش ایسنا، مسابقات اسنوکر قهرمانی آزاد جب...</td>\n",
       "      <td>https://www.isna.ir/news/99121511359/پیروزی-سه...</td>\n",
       "      <td>culture</td>\n",
       "    </tr>\n",
       "  </tbody>\n",
       "</table>\n",
       "</div>"
      ],
      "text/plain": [
       "                                             content  \\\n",
       "0  به گزارش ایسنا، پس از واریز ۴٧۵ هزار یورو از ا...   \n",
       "1  به گزارش ایسنا، شانزدهمین دوره مسابقات قهرمانی...   \n",
       "2  به گزارش ایسنا، بر اساس راهنمای گام دوم مبارزه...   \n",
       "3  استقلال ملاثانی که با شگفتی سازی در اولین حضور...   \n",
       "4  به گزارش ایسنا، مسابقات اسنوکر قهرمانی آزاد جب...   \n",
       "\n",
       "                                                 url category  \n",
       "0  https://www.isna.ir/news/99121410848/با-بسته-ش...  culture  \n",
       "1  https://www.isna.ir/news/99121410823/برترین-ها...  culture  \n",
       "2  https://www.isna.ir/news/99121410760/حضور-غیرق...  culture  \n",
       "3  https://www.isna.ir/news/99121410724/تعطیلی-تم...  culture  \n",
       "4  https://www.isna.ir/news/99121511359/پیروزی-سه...  culture  "
      ]
     },
     "execution_count": 46,
     "metadata": {},
     "output_type": "execute_result"
    }
   ],
   "source": [
    "test_dataset.head()"
   ]
  },
  {
   "cell_type": "code",
   "execution_count": 53,
   "metadata": {},
   "outputs": [
    {
     "name": "stdout",
     "output_type": "stream",
     "text": [
      "category: culture\n",
      "content: \n",
      "به گزارش ایسنا، پس از واریز ۴٧۵ هزار یورو از اصل طلب ماریو بودیمیر، این باشگاه\n",
      "باید ٣٢ هزار ۵٠٠ یورو دیگر را بابت سود دیرکرد به حساب این بازیکن واریز می‌کرد.\n",
      "\n",
      "این مبلغ امروز به حساب بودیمیر رسید تا عملا موضوع پرونده این بازیکن کروات هم\n",
      "بسته و پنجره نقل‌وانتقالاتی پرسپولیس باز شود.\n",
      "\n",
      "انتهای پیام\n",
      "\n",
      "\n",
      "category: culture\n",
      "content: \n",
      "به گزارش ایسنا، شانزدهمین دوره مسابقات قهرمانی کشور از صبح امروز (پنجشنبه 14\n",
      "اسفند ماه) به میزبانی تالار شهر در جزیره کیش برگزار شد. در این دوره از رقابت\n",
      "ها 136 فیزیک کار در 6 دسته قدی به مصاف حریفان خود رفتند و در نهایت با معرفی\n",
      "قهرمانان و برترین های هر دسته به پایان رسید.\n",
      "\n",
      "پس از رقابت ورزشکاران در رشته فیزیک نوبت به 33 مدعی قهرمانی حاضر در رشته\n",
      "ماسکولار رسید که لحظاتی قبل برترین های این رشته در دو دسته معرفی شدند.\n",
      "\n",
      "محمد حسن دابی از اصفهان موفق به کسب سکوی قهرمانی در دسته اول ماسکولار شد و پس\n",
      "از آن محمد قلی زاده از البرز سایه قهرمانی ایستاد و مرتضی شیخ آبادگر از کیش نفر\n",
      "سوم این دوره از رقابت ها شد. همچنین عباس موسی نژاد از آذربایجان، یاسین قدرتی\n",
      "از کیش و محمد حسین جان بخش از خوزستان به ترتیب در جایگاه چهارم تا ششم\n",
      "ایستادند.\n",
      "\n",
      "قهرمانی دسته دوم رقابتهای ماسکولار از آن آرامش آرامیده از اصفهان شد و سید نوید\n",
      "سید عالی نژاد از تهران سکوی نایب قهرمانی را بدست آورد. فرزین پاکوری از گیلان\n",
      "موفق به کسب مقام سوم شد و مهدی سلیم فر از کیش، محمد سالار روانشاد از کیش و\n",
      "ایمان روزبه از مازندارن به ترتیب سکوهای چهارم تا ششم را به خود اختصاص دادند.\n",
      "\n",
      "نتایج مسابقات فیزیک به شرح زیر می باشد:\n",
      "\n",
      "دسته یک فیزیک\n",
      "\n",
      "ناصر خدامی- تهران\n",
      "\n",
      "محمد حسین عدالت خواه- اصفهان\n",
      "\n",
      "محمد جواد صادق- قم\n",
      "\n",
      "میلاد جهانبین- خراسان\n",
      "\n",
      "علی حیدری- هرمزگان\n",
      "\n",
      "حامد زرین کیش\n",
      "\n",
      "دسته دوم فیزیک\n",
      "\n",
      "تقی رضایی- اصفهان\n",
      "\n",
      "مهرداد زند قوچه- کیش\n",
      "\n",
      "علی طالبی- مازندران\n",
      "\n",
      "سید محمد جواد هادی نژاد- مازندران\n",
      "\n",
      "ابوالفضل شافعی- تهران\n",
      "\n",
      "مهدی بهرامی- خراسان\n",
      "\n",
      "دسته سوم فیزیک\n",
      "\n",
      "حمید رضا سقائی- هرمزگان\n",
      "\n",
      "مانی سالاری- تهران\n",
      "\n",
      "فرید علی مردانی- کیش\n",
      "\n",
      "مازیار کیانی- اصفهان\n",
      "\n",
      "مرتضی صبح خیز- مازندران\n",
      "\n",
      "حامد دهقانی نیا- اصفهان\n",
      "\n",
      "دسته چهارم فیزیک\n",
      "\n",
      "ایوب بسامی- کرمانشاه\n",
      "\n",
      "رضا سعدی- تهران\n",
      "\n",
      "علیرضا بیات- کرمانشاه\n",
      "\n",
      "محمد حسین زاده نوری- گیلان\n",
      "\n",
      "مصطفی شاکری نیا- قزوین\n",
      "\n",
      "حسین صادقی شهرستانی- گیلان\n",
      "\n",
      "دسته پنجم فیزیک\n",
      "\n",
      "سینا شریف واجاری- گیلان\n",
      "\n",
      "مرتضی قاسمی وفائی- البرز\n",
      "\n",
      "محمد حبیبی- مازندران\n",
      "\n",
      "علی غلامی اصل- قم\n",
      "\n",
      "ابراهیم فرح شاد- گیلان\n",
      "\n",
      "آرین ناعمی مارالائی- قزوین\n",
      "\n",
      "دسته ششم فیزیک\n",
      "\n",
      "شایان برواز- اصفهان\n",
      "\n",
      "منصور عبدالهی- ایلام\n",
      "\n",
      "کیانوش کیانی جلمردی- بوشهر\n",
      "\n",
      "آرین سالاری- بوشهر\n",
      "\n",
      "دانیال فرامرزی- البرز\n",
      "\n",
      "اصغر ماهرگلوجه- آذربایجان غربی\n",
      "\n",
      "انتهای پیام\n",
      "\n",
      "\n",
      "category: culture\n",
      "content: \n",
      "به گزارش ایسنا، بر اساس راهنمای گام دوم مبارزه با کووید ۱۹(کرونا ویروس) فاصله\n",
      "گذاری اجتماعی و الزامات سلامت محیط لیگ فوتبال که سوم خردادماه سال جاری از سوی\n",
      "ستاد ملی مقابله با کرونا در ورزش با همکاری وزارت بهداشت، درمان و آموزش پزشکی و\n",
      "نیز فدراسیون پزشکی ورزشی اعلا شد، موارد مختلفی در برگزاری لیگ فوتبال را مدنظر\n",
      "قرار گرفت که اجرای آن از سوی باشگاه ها و متولیان برگزاری مسابقات الزامی و\n",
      "اجباری است.\n",
      "\n",
      "**[بر اساس پروتکل سلامت لیگ\n",
      "فوتبال](https://www.isna.ir/news/99030201036/%DB%B3%DB%B5-%D8%AE%D8%B7-%D9%82%D8%B1%D9%85%D8%B2-%DA%A9%D8%B1%D9%88%D9%86%D8%A7-%D8%A8%D8%B1%D8%A7%DB%8C-%D9%81%D9%88%D8%AA%D8%A8%D8%A7%D9%84-%D8%A7%DB%8C%D8%B1%D8%A7%D9%86-%D8%AA%D8%B9%D9%84%DB%8C%D9%82-%D8%AF%D8%B1-%D8%A7%D9%86%D8%AA%D8%B8%D8%A7%D8%B1-%D8%AA%DB%8C%D9%85-%D9%87%D8%A7%DB%8C)،\n",
      "نه تنها تصمیم بر این شد که مسابقات بدون حضور تماشاچی برگزار شود، بلکه حضور\n",
      "تماشاگران در طول تمرینات نیز ممنوع اعلام شد، اتفاقی که امروز در تمرین تیم\n",
      "فوتبال استقلال بر خلاف آن عمل شد و شاهد حضور تماشاچیان این تیم در محل تمرین\n",
      "آبی پوشان پایتخت بودیم.**\n",
      "\n",
      "امروز اولین جلسه تمرین تیم فوتبال استقلال با حضور سرمربی جدید خود بود و در\n",
      "حالی که اصحاب رسانه از حضور در محل تمرین منع شده بودند، اما تعدادی از هواداران\n",
      "با حضور در محل تمرین این تیم در زمین چمن تهرانسر، به درون ورزشگاه راه پیدا\n",
      "کرده بودند و از روی سکو به تشویق تیم خود می پرداختند؛ مساله ای که از سوی ستاد\n",
      "ملی مقابله با کرونا در ورزش ممنوع اعلام شده و تماشاگران حق حضور در محل برگزاری\n",
      "مسابقات و تمرینات تیم های فوتبال را ندارند و نباید از سوی متولیان برگزاری\n",
      "مسابقات و یا مسئولان باشگاه ها به ورزشگاه ها راه داده شوند، اتفاقی که از سوی\n",
      "مسئولان باشگاه استقلال نادیده گرفته شده است و باید نسبت به آن پاسخگو باشند.\n",
      "\n",
      "انتهای پیام\n",
      "\n",
      "\n",
      "category: culture\n",
      "content: \n",
      "استقلال ملاثانی که با شگفتی سازی در اولین حضور خود در لیگ دسته ۲ کشور توانست\n",
      "به لیگ یک راه پیدا کند، از ابتدای لیگ یک تاکنون نیز علی رغم مشکلات فراوان مالی\n",
      "و امکاناتی و محروم بودن از میزبانی در ملاثانی به دلیل آماده نبودن ورزشگاه این\n",
      "شهر، نتایج قابل قبول و دور از تصور کسب کرده است.\n",
      "\n",
      "به گزارش ایسنا، مسئولان ورزش خوزستان و نمایندگان استان بارها وعده کمک به این\n",
      "تیم مردمی را داده بودند اما این وعده ها تاکنون محقق نشده است و حتی کاروان\n",
      "استقلال ملاثانی پس از بازی ۱۲ اسفندماه خود مقابل آرمان گهر به دلیل مهیا نشدن\n",
      "پول تهیه بلیت برای بازگشت از سیرجان به اهواز، مسیر ۱۹ ساعته را با اتوبوس طی\n",
      "کرد.\n",
      "\n",
      "در نهایت نیز به دلیل مشکلات مالی، تمرینات تیم فوتبال استقلال ملاثانی از امروز\n",
      "تا اطلاع ثانوی تعطیل شد. حتی حضور این تیم در بازی هفته هفدهم مقابل شاهین\n",
      "شهرداری بوشهر در هاله ابهام است و احتمال کناره گیری این تیم از ادامه رقابت های\n",
      "لیگ یک وجود دارد.\n",
      "\n",
      "حتی اگر پاداش مربوط به صعود استقلال ملاثانی به لیگ یک نیز از طریق مسئولان ورزش\n",
      "به این تیم پرداخت می شد، حالا شاید استقلالی ها تا این حد با مشکلات فراوان مالی\n",
      "مواجه نبودند.\n",
      "\n",
      "انتهای پیام\n",
      "\n",
      "\n",
      "category: culture\n",
      "content: \n",
      "به گزارش ایسنا، مسابقات اسنوکر قهرمانی آزاد جبل الطارق ۲۰۲۱ که یک رویداد\n",
      "رنکینگ اصلی محسوب می شود در میلتون کینز انگلستان در حال برگزاری است.\n",
      "\n",
      "سهیل واحدی ملی پوش اسنوکر ایران در مرحله دوم این رقابت ها به مصاف مارک ویلیامز\n",
      "مرد شماره ۱۳ اسنوکر جهان رفت و موفق شد در یک بازی بسیار زیبا این حریف را شکست\n",
      "دهد.\n",
      "\n",
      "واحدی توانست این حریف ولزی را با نتیجه ۴ بر ۳ شکست دهد. ملی پوش ایران در حالی\n",
      "به این پیروزی ارزشمند دست یافت که در رده ۹۷ رنکینگ حرفه ای های اسنوکر جهان\n",
      "قرار دارد.\n",
      "\n",
      "ملی پوش اسنوکر ایران در مرحله سوم این رقابتها به مصاف تام فورد می رود.\n",
      "\n",
      "واحدی در مرحله اول موفق شده بود مایکل وایت را با نتیجه ۴ بر ۲ شکست دهد و امشب\n",
      "هم در یک رقابت بسیار حساس مارک ویلیامز، قهرمان سه دوره جهان را از دور رقابت ها\n",
      "کنار زد.\n",
      "\n",
      "مبلغ کلی جایزه نقدی این دوره از مسابقات ۲۵۱ هزار پوند انگلیس است و بازیکن\n",
      "قهرمان مبلغ ۵۰ هزار پوند جایزه نقدی این مسابقات را از آن خود خواهد کرد.\n",
      "\n",
      "در این دوره از رقابت ها ۱۲۸ بازیکن حرفه ای دنیای اسنوکر شرکت کرده اند.\n",
      "\n",
      "انتهای پیام\n",
      "\n",
      "\n",
      "category: culture\n",
      "content: \n",
      "به گزارش ایسنا، شانزدهمین دوره مسابقات قهرمانی کشور روز گذشته ۱۴ اسفند ماه با\n",
      "حضور ۵۱۸ ورزشکار در رشته های پرورش اندام، بادی کلاسیک، فیزیک، فیزیک کلاسیک و\n",
      "ماسکولار در تالار شهر جزیره کیش آغاز به کار کرد.\n",
      "\n",
      "در نخستین روز از این مسابقات ابتدا ۱۳۳ ورزشکار در ۶ دسته قدی رشته فیزیک به\n",
      "رقابت پرداختند. پس از آن ۳۳ نفر از ورزشکاران در ۲ دسته قدی ماسکولار بر روی\n",
      "استیج رفتند و سپس نوبت به ۱۰۳ ورزشکار از مدعیان قهرمانی در ۶ دسته قدی بادی\n",
      "کلاسیک رسید. در نهایت مسابقات فیزیک کلاسیک با حضور ۷۲ مدعی در ۵ دسته قدی\n",
      "برگزار شد.\n",
      "\n",
      "امروز (۱۵ اسفند ماه) و روز پایانی شانزدهمین دوره مسابقات قهرمانی کشور ۳۶ نفر\n",
      "از پیشکسوتان پرورش اندام در ۴ دسته وزنی با حریفان خود رقابت کردند. پس از آن\n",
      "جوانان در ۲ دسته وزنی مثبت و منفی ۷۵ کیلو گرم برای کسب عنوان قهرمانی به میدان\n",
      "رفتند. در پایان نوبت به صف آرایی ۱۱۷ پرورش اندام رده سنی بزرگسالان رسید تا در\n",
      "مجموع این رقابت ها تیم های برتر کشور معرفی شناخته شوند.\n",
      "\n",
      "در رشته \"فیزیک کلاسیک\" تیم کیش موفق شد عنوان قهرمانی را به نام خود ثبت کند و\n",
      "تیم کرمانشاه نایب قهرمانی را از آن خود کرد. تیم البرز نیز به مقام سومی بسنده\n",
      "کرد.\n",
      "\n",
      "همچنین تیم کیش در رشته \"بادی کلاسیک\" هم صدر نشین شانزدهمین دوره مسابقات\n",
      "قهرمانی کشور شد. تیم خراسان رضوی مقام دوم و تیم هرمزگان سکوی سوم را بدست\n",
      "آوردند.\n",
      "\n",
      "در رشته \"فیزیک\" تیم اصفهان از سایرین پیشه گرفت و قهرمانی را از آن خود کرد. تیم\n",
      "های مازندران و گیلان به ترتیب عنوان های دوم و سوم را کسب کردند.\n",
      "\n",
      "تیم اصفهان همچنان صدر نشین است اما این بار در رشته \"فیزیک کلاسیک\" و تیم های\n",
      "البرز و کیش به مقام های دوم و سوم دست یافتند.\n",
      "\n",
      "در پایان رقابت های شانزدهمین دوره مسابقات قهرمانی کشور جدال بر سر قهرمانی\n",
      "پرورش اندام بود که همچنان تیم اصفهان سکان قهرمانی را در دست گرفت و تیم هرمزگان\n",
      "سایه نشین این رقابت ها شد و تیم کیش مقام سوم را به نام خود ثبت کرد.\n",
      "\n",
      "انتهای پیام\n",
      "\n",
      "\n",
      "category: culture\n",
      "content: \n",
      "به گزارش ایسنا، دو تیم شهرداریه ارومیه و هراز آمل در اولین رقابت از نیمه نهایی\n",
      "پلی آف لیگ برتر والیبال به مصاف هم رفتند. این رقابت از ساعت ۱۷ در سالن\n",
      "فدراسیون والیبال آغاز شد.\n",
      "\n",
      "شاگردان بهروز عطایی در دو ست اول این دیدار در حالی که بسیار خوب عمل کردند موفق\n",
      "نشدند این دو ست را به نام خود ثبت کنند و با نتیجه های ۲۹بر۲۷ و ۳۰ بر ۲۸ مقابل\n",
      "شهرداریه ارومیه شکست خوردند.\n",
      "\n",
      "در دو ست اول هراز آمل در مقاطعی از حریف پیش بود اما این تیم از فرصت خود\n",
      "استفاده نکرده و بازی را به شاگردان پیمان اکبری واگذار کرد.\n",
      "\n",
      "ست سوم درحالی آغاز شد که هراز راهی برای برد نداشت. شاگردان عطایی موفق شدند در\n",
      "ست سوم این دیدار با نتیجه ۲۵ بر ۲۱ به پیروزی برسند.\n",
      "\n",
      "ست چهارم هم شاگردان عطایی عملکرد خوبی داشتند و موفق شدند شهرداری ارومیه را با\n",
      "نتیجه ۲۵ بر۱۹ شکست دهند تا دو تیم در ست شماری برابر شوند.\n",
      "\n",
      "ست پنجم در حالی آغاز شد که هر تیم در صورت پیروزی می توانست خود را یک گام به\n",
      "فیال لیگ برتر والیبال نزدیک کنند. شاگردان پیمان اکبری در دفاع روی تور در این\n",
      "ست عملکرد خوبی نشان دادند و موفق شدند در اواسط بازی با نتیجه ۸ بر ۶ از حریف\n",
      "پیش بیفتند. هراز آمل هم با هدایت عطایی تمام تلاش خود را برای بازگشت به بازی\n",
      "انجام داد اما موفق نشده و با نتیجه ۱۵ بر ۱۲ شکست خورد.\n",
      "\n",
      "در ست پنجم این دیدار و در امتیاز 9-9، فرهاد قائمی ملی پوش والیبال ایران که\n",
      "برای هراز آمل بازی می کند مصدوم شده و از بازی خارج می شود. دفاع روی تور\n",
      "شهرداری اورمیه در این بازی عملکرد خوبی داشته و باعث پیروزی در این بازی حساس\n",
      "شدند.\n",
      "\n",
      "با این نتیجه شهرداری ارومیه موفق شد در اولین گام حریف خود را با نتیجه ۳ بر ۲\n",
      "شکست دهد و خود را یک گام به فینال نزدیک کند.\n",
      "\n",
      "همچنین در این بازی مرتضی شریفی برای شهرداری ارومیه به میدان رفت.\n",
      "\n",
      "انتهای پیام\n",
      "\n",
      "\n",
      "category: culture\n",
      "content: \n",
      "رز جدیدی زاده، مدیرفنی تیم فوتسال بانوان ملی حفاری که صبح امروز با خودروی شخصی\n",
      "اش از آبادان محل زندگی اش به سمت اهواز در حال حرکت بود تا برای بازی تیمش مقابل\n",
      "نامی نو اصفهان به دیگر اعضای تیم ملحق شود، در مسیر دچار حادثه رانندگی شد.\n",
      "\n",
      "به گزارش ایسنا، در این حادثه متاسفانه یکی از پاهای جدیدی زاده از سه قسمت دچار\n",
      "شکستی شدید شده و فک او نیز شکسته است.\n",
      "\n",
      "مربی سابق تیم ملی فوتسال بانوان ایران که دچار جراحت شدیدی شده، در حال حاضر در\n",
      "بیمارستان شهید بهشتی آبادان بستری است و در صورت مهیا شدن شرایط انتقالش به\n",
      "تهران، در یکی از بیمارستان های این استان تحت عمل جراحی قرار خواهد گرفت.\n",
      "\n",
      "خبرگزاری ایسنا برای این مربی با اخلاق فوتسال کشور آرزوی سلامتی دارد.\n",
      "\n",
      "انتهای پیام\n",
      "\n",
      "\n",
      "category: culture\n",
      "content: \n",
      "به گزارش ایسنا، پس از باز شدن پنجره نقل‌وانتقالاتی پرسپولیس، مدیران این باشگاه\n",
      "در صدد ثبت قرارداد و درخواست ITC مهدی ترابی بر آمدند تا بتوانند از او در\n",
      "دیدارهای پیش رو استفاده کنند.\n",
      "\n",
      "بر همین اساس ITC مهدی ترابی صادر شد تا او بتواند از این پیس تیمش را همراهی\n",
      "کند.\n",
      "\n",
      "انتهای پیام\n",
      "\n",
      "\n",
      "category: culture\n",
      "content: \n",
      "به گزارش ایسنا، در جریان دیدار فینال وزن ۹۷ کیلوگرم تورنمنت متئوپلیکونه در رم\n",
      "پایتخت ایتالیا، علیرضا کریمی دارنده مدال های نقره و برنز جهان برابر کولین مور\n",
      "دارنده مدال های نقره امیدهای جهان ۲۰۱۸ و برنز جوانان جهان ۲۰۱۷ از آمریکا به\n",
      "روی تشک رفت و در پایان با نتیجه ۳ بر ۳ شکست خورد و به مدال نقره بسنده کرد.\n",
      "\n",
      "در وزن ۹۷ کیلوگرم علیرضا کریمی در دور اول با نتیجه ۶ بر ۳ هایدن زیلمر از\n",
      "آمریکا را مغلوب کرد. او در دور بعد و در مرحله نیمه نهایی با نتیجه ۱۰ بر صفر\n",
      "ابراهیم جیتفجی از ترکیه را مغلوب کرد و راهی دیدار فینال شد. کریمی در این دیدار\n",
      "به مصاف کولین مور از آمریکا می‌رود.\n",
      "\n",
      "تورنمنت متئو پلیکونه ایتالیا نخستین رویداد موثر در رنکینگ سال ۲۰۲۱ از سوی\n",
      "اتحادیه جهانی کشتی است.\n",
      "\n",
      "بهنام احسانپور دیگر نماینده کشتی آزاد ایران فردا(یکشنبه) در رقابت های وزن ۶۵\n",
      "کیلوگرم به مصاف حریفان خود می رود.\n",
      "\n",
      "انتهای پیام\n",
      "\n",
      "\n",
      "category: culture\n",
      "content: \n",
      "به گزارش ایسنا، هشتمین دوره رقابت های بین المللی تکواندو با حضور ۳۹۰\n",
      "تکواندوکار امروز(یکشنبه) به میزبانی صوفیه بلغارستان برگزار شد.\n",
      "\n",
      "حسین لطفی، سروش احمدی، امیرمحمد بخشی، مهران برخورداری و سجاد مردانی به عنوان\n",
      "نمایندگان ایران در این مسابقات به مصاف رقبای خود رفتند که در پایان لطفی و بخشی\n",
      "به مدال طلا رسیدند اما سجاد مردانی کاپیتان با سابقه تیم ملی ، سروش احمدی و\n",
      "مهران برخورداری با شکست مقابل رقبایشان حذف شدند.\n",
      "\n",
      "نتایج کسب شده تکواندوکاران ایران در این رقابت‌ها به شرح ذیل است:\n",
      "\n",
      "وزن ۵۴- کیلوگرم: حسین لطفی پس از استراحت در دور نخست در مرحله یک هشتم نهایی\n",
      "مقابل اوتمان رزوک از بلژیک ۱۵ بر ۲ به برتری رسید. وی در یک چهارم نهایی نیز ۳۴\n",
      "بر ۲ امیرکان انوس از آلمان را برد و در نیمه نهایی نیز به دلیل حاضر نشدن اتور\n",
      "لنزو از ایتالیا پیروز مبارزه معرفی شد و به فینال رسید. بخشی در فینال نیز در\n",
      "راند طلایی برابر محمود تارایرا از اردن به برتری رسید و صاحب مدال طلا شد.\n",
      "\n",
      "وزن ۶۸- کیلوگرم: سروش احمدی تکواندو کار با تجربه وزن ۶۸- کیلوگرم در همان دو\n",
      "نخست مقابل اوزکایا امران از آلمان ۱۶ بر ۱۴ شکست خورد و از دور رقابت ها حذف شد.\n",
      "\n",
      "وزن ۷۴- کیلوگرم: امیر محمد بخشی دیگر نماینده ایران در این رقابت ها ابتدا مقابل\n",
      "تیمور سوباسیک از بوسنی ۲۳ بر یک پیروز شد، وی سپس در یک هشتم نهایی برابر جیکوب\n",
      "گوندرسن از نروژ ۱۷ بر ۴ به پیروزی رسید و در یک چهارم نهایی نیز مقابل ندزار\n",
      "هوسیس از بوسنی در راند طلایی به برتری رسید و راهی نیمه نهایی شد. بخشی در نیمه\n",
      "نهایی پس از کسب نتیجه ۶ بر ۶ در راند طلایی دنیل باررا از اسپانیا را برد و\n",
      "فینالیست شد.\n",
      "\n",
      "وی در فینال مقابل مارتین استاچ از آلمان ۷ بر ۵ پیروز شد و دومین و آخرین مدال\n",
      "طلای ایران در این رقابت ها را از آن خود کرد.\n",
      "\n",
      "وزن ۸۰- کیلوگرم: در وزن ۸۰- کیلوگرم مهران برخورداری پس از شکست حریف خود از\n",
      "لیتوانی در دومین مبارزه مقابل تلیکاستوگلو نایب قهرمان جهان از یونان پس از\n",
      "نتیجه ۳ بر ۳ در راند طلایی شکست خورد و از دور رقابت ها حذف شد.\n",
      "\n",
      "وزن ۸۷+ کیلوگرم: سجاد مردانی کاپیتان با سابقه تیم ملی پس از استراحت در دور\n",
      "نخست مقابل الکساندر باخمن از آلمان ۹ بر ۳ به برتری رسید اما در دومین مبارزه\n",
      "مقابل ایوان گارسیا مارتینز از اسپانیا با نمایشی ضعیف ۷ بر ۵ شکست خورد تا سومین\n",
      "حذف شده تیم ۵ نفره ایران در این رقابت ها باشد.\n",
      "\n",
      "هدایت این نفرات برعهده فریبرز عسکری به عنوان سرمربی و علی محمد بسحاق و وحید\n",
      "عبداللهی به عنوان مربی است.\n",
      "\n",
      "این رقابت ها ۱G است و به نفرات اول تا سوم به ترتیب ۱۰، ۶ و ۳.۶۰ امتیاز تعلق می\n",
      "گیرد.\n",
      "\n",
      "انتهای پیام\n",
      "\n",
      "\n",
      "category: culture\n",
      "content: \n",
      "به گزارش ایسنا، مسئولان برگزاری مسابقات جودو قهرمانی آسیا دقایقی پیش با ارسال\n",
      "ایمیلی به مسئولان فدراسیون جودو جمهوری اسلامی ایران، مجوز حضور تیم ملی کشورمان\n",
      "در مسابقات قهرمانی آسیا را صادر کردند.\n",
      "\n",
      "با این حساب به زودی اردوی تیم ملی جودوی ایران برای حضور در مسابقات قهرمانی\n",
      "آسیا آغاز خواهد شد.\n",
      "\n",
      "این رقابت‌ها ۱۸ فروردین ماه به میزبانی قرقیزستان برگزار خواهد شد.\n",
      "\n",
      "انتهای پیام\n",
      "\n",
      "\n",
      "category: culture\n",
      "content: \n",
      "به گزارش ایسنا، چهل و سومین جلسه ستاد مقابله با کرونا در ورزش، درحالی برگزار\n",
      "شده است که در این جلسه فدراسیون پزشکی ورزشی تاکید کرده نظارت بر اجرای پروتکل\n",
      "های بهداشتی با جدیت ادامه خواهد داشت. این درحالی است که در هفته گذشته شاهد عدم\n",
      "رعایت پروتکل سلامت لیگ فوتبال از سوی برخی تیم های لیگ برتری بودیم و در حالی که\n",
      "ورود تماشاگران به محل تمرین تیم ها ممنوع است اما تیم های فوتبال استقلال و\n",
      "آلومینیوم اراک هواداران خود را به محل تمرین راه داده بودند تا از روی سکو نظاره\n",
      "گر تمرینات باشند و به تشویق بپردازند.\n",
      "\n",
      "باید خاطرنشان کرد که طبق توافقی دو طرفه از سوی فدراسیون پزشکی ورزشی و فدراسیون\n",
      "فوتبال، اجرای پروتکل سلامت لیگ های فوتبال ایران در فصل بیستم و نوزدهم بر عهده\n",
      "فدراسیون فوتبال قرار گرفت و در این رابطه ستاد مقابله با کرونا در فوتبال،\n",
      "همانند ستاد مقابله با کرونا در ورزش تشکیل شد تا مسئولیت نظارت و اجرای دقیق\n",
      "دستورالعمل های تدوین شده را بر عهده گیرد.\n",
      "\n",
      "در عین حال تاکید شد که اگر اجرای پروتکل سلامت بر عهده فدراسیونی گذاشته شود،\n",
      "همکاری و نظارت فدراسیون پزشکی ورزشی در عین حال وجود دارد و فوتبال نیز از این\n",
      "قضیه مستثنی نیست. بنابراین یکی از محورهای اصلی آخرین جلسه ستاد مقابله با کرونا\n",
      "در ورزش، برخورد با عدم رعایت پروتکل های بهداشتی بود.\n",
      "\n",
      "همچنین با توجه به نزدیکی برگزاری رقابت های المپیک توکیو در سال آینده، دیگر\n",
      "مسئله مورد بحث در این جلسه موضوع پایش سلامت ورزشکاران کاندیدای شرکت کننده در\n",
      "بازی های المپیک بود که از سوی فدراسیون پزشکی ورزشی اعلام شد این مسئله با دقت\n",
      "در حال انجام است.\n",
      "\n",
      "انتهای پیام\n",
      "\n",
      "\n",
      "category: culture\n",
      "content: \n",
      "به گزارش ایسنا، امروز (دوشنبه) جلسه هم اندیشی در خصوص نحوه و تاریخ برگزاری\n",
      "فینال لیگ برتر والیبال ایران با حضور مدیران و سرپرستان تیم شهرداری ارومیه و\n",
      "فولاد سیرجان برگزار شد. این جلسه که در فدراسیون والیبال برگزار شده بود با شرکت\n",
      "مسئول کمیته برگزاری مسابقات و رویداد ها و با حضور داورزنی همراه بوده تا در\n",
      "خصوص نحوه برگزاری دیدار نهایی تصمیمات لازم اتخاذ شود.\n",
      "\n",
      "بر اساس اعلام باشگاه شهرداری ارومیه در جلسه ای که در درفتر رئیس فدراسیون\n",
      "برگزار شد دیدار نخست بین دو تیم فینالیست جمعه ۲۲ اسفند خواهد بود. دیدار دوم یک\n",
      "شنبه ۲۴ اسفند برگزار خواهد شد و درصورت نیاز دیدار سوم در تاریخ سه شنبه ۲۶\n",
      "اسفند پیگیری می شود.\n",
      "\n",
      "لازم به ذکر است که معین شد تمامی سه رقابت در ساعت ۱۶ برگزار گردد.\n",
      "\n",
      "بیش از این شنیده می شد که که قرار است نحوه برگزاری فینال تغییراتی داشته باشد\n",
      "که با تصمیم اتخاذ شده فینال لیگ برتر والیبال مانند سال های قبل برگزار خواهد\n",
      "شد.\n",
      "\n",
      "دو تیم شهرداری ارومیه و فولاد سیرجان موفق شدند حریفان خود را شکست دهند و باید\n",
      "در فینال برای کسب قهرمانی رو به روی یک دیگر قرار گیرند.\n",
      "\n",
      "هم‌چنین دیدار رده‌بندی لیگ برتر مردان ایران امسال به دلایل مختلفی از جمله\n",
      "درخواست دو باشگاه فولاد مبارکه سپاهان و لبنیات هراز آمل، رعایت دقیق‌تر\n",
      "پروتکل‌های بهداشتی و جلوگیری از مصدومیت احتمالی ملی‌پوشان، برگزار نخواهد شد و\n",
      "عنوان سومی مشترک به تیم‌های فولاد مبارکه سپاهان و لبنیات هراز آمل رسید.\n",
      "\n",
      "انتهای پیام\n",
      "\n",
      "\n",
      "category: culture\n",
      "content: \n",
      "به گزارش ایسنا، پژمان درستکار سرمربی تیم ملی کشتی آزاد جوانان کناره گیری خود\n",
      "از ادامه فعالیت به عنوان سرمربی تیم ملی جوانان را به رییس فدراسیون کشتی اعلام\n",
      "کرد و درخواست دبیر و سوریان برای منصرف کردن وی از این تصمیم نیز نتیجه نداشت.\n",
      "\n",
      "پس از بحث و بررسی های صورت گرفته توسط مدیران فدراسیون کشتی، سرانجام محسن کاوه\n",
      "مدیر تیم های ملی کشتی آزاد با حفظ سمت به عنوان سرمربی تیم ملی کشتی آزاد جوانان\n",
      "انتخاب شده و قرار است جانشین پژمان درستکار شود.\n",
      "\n",
      "مدیران فدراسیون کشتی قصد دارند از نفرات تیم ملی جوانان در کنار بزرگسالان به\n",
      "عنوان حریف تمرینی تا رقابت های المپیک استفاده کنند تا این اتفاق به سود هر دو\n",
      "تیم باشد، بر همین اساس و با توجه به تعامل خوب محسن کاوه با غلامرضا محمدی\n",
      "سرمربی تیم ملی بزرگسالان، در نهایت وی برای این سمت انتخاب شد.\n",
      "\n",
      "البته علیرضا رضایی نیز گزینه اصلی جانشینی درستکار بود اما در نهایت کاوه به\n",
      "دلیل تعامل بهتر با سرمربی تیم بزرگسالان برای این سمت انتخاب شد.\n",
      "\n",
      "انتهای پیام\n",
      "\n",
      "\n",
      "category: culture\n",
      "content: \n",
      "به گزارش ایسنا، فرهاد حمیداوی مالک شهرخودرو پس از بدهی‌های زیاد این تیم و\n",
      "مذاکره با مسئولان استانی و شهری با واگذاری این باشگاه به بخش دولتی موافقت کرد\n",
      "تا شهرخودرو پس از ۲ سال خصوصی‌سازی ناموفق، دوباره دولتی شود.\n",
      "\n",
      "مسئولیت و هزینه‌های این باشگاه فعلا برعهده هیات فوتبال استان خراسان رضوی است.\n",
      "\n",
      "انتهای پیام\n",
      "\n",
      "\n",
      "category: culture\n",
      "content: \n",
      "به گزارش ایسنا، سومین دوره مسابقات سوپر لیگ جودو باشگاه‌های برتر کشور(جام\n",
      "مدافعان سلامت) از امروز چهارشنبه در سالن شهید افراسیابی مجموعه ورزشی شهید\n",
      "شیرودی تهران آغاز شد.\n",
      "\n",
      "مراسم افتتاحیه این پیکارها صبح امروز (چهارشنبه) با حضور آرش میراسماعیلی رئیس\n",
      "فدراسیون جودو، جمشید تقی زاده معاون حقوقی و پارلمانی امور استان های وزارت ورزش\n",
      "و جوانان، صدیقه کعبی زاده سرپرست دبیری فدراسیون و محمد بلوطی دستارویژه رئیس\n",
      "فدراسیون برگزار شد و تیم های شرکت کننده با رعایت کامل پروتکل های بهداشتی بر\n",
      "روی تاتامی حاضر شدند.\n",
      "\n",
      "در این دوره از رقابت ها، ۱۶ تیم‌ در چهار گروه ۴ تیمی به شرح زیر با یکدیگر به\n",
      "رقابت پرداختند:\n",
      "\n",
      "گروهA: رعد پدافند سمنان، برق تهران، هیئت جودوی استان البرز، هیئت جودو همدان و\n",
      "هیئت جودو چناران\n",
      "\n",
      "گروهB: نفت مسجد سلیمان ، هیأت جودو استان آذربایجان غربی، تاسیسات ترخان نوشهر و\n",
      "هیئت جودو قم\n",
      "\n",
      "گروهC: بسیج قم، خانه جودو ملک شهرری و هیأت جودوی سیدآباد\n",
      "\n",
      "گروهD: خوشگوار مشهد، شاهین تهران، هیئت جودو استان اصفهان و شهید شیخ‌الاسلام\n",
      "چالوس\n",
      "\n",
      "رعد پدافند سمنان با چهار پیروزی و هیأت جودوی استان البرز با سه پیروزی اول و\n",
      "دوم گروه A هستند.\n",
      "\n",
      "تاسیسات ترخان نوشهر با سه پیروزی و نفت مسجد سلیمان با دو پیروزی در جایگاه نخست\n",
      "و دوم گروه B قرار دارند.\n",
      "\n",
      "در گروه c هم خانه‌ی جودوی ملک شهرری و بسیج قم اول و دوم هستند.\n",
      "\n",
      "خشگوار مشهد با سه پیروزی و هیئت جودوی اصفهان با دو پیروزی به ترتیب اول و دوم\n",
      "گروه Dهستند.\n",
      "\n",
      "در نهایت هشت تیم برتر رعد پدافند سمنان و هیأت جودوی استان البرز از گروه A،\n",
      "تاسیسات ترخان نوشهر و نفت مسجد سلیمان از گروه B، خانه جودوی شهرری و هیأت جودوی\n",
      "استان قم از گروه C و خوشگوار مشهد و هیئت جودوی استان اصفهان از گروه D به مرحله\n",
      "یک چهارم نهایی صعود کردند.\n",
      "\n",
      "روز دوم و پایانی این پیکارها فردا(پنج شنبه) برگزار می شود و طبق برنامه در نوبت\n",
      "صبح مرحله یک چهارم نهایی و در نوبت بعد از ظهر نیز مرحله نیمه نهایی و فینال\n",
      "برگزار خواهد شد.\n",
      "\n",
      "نتایج رقابت های امروز(چهارشنبه) لیگ جودو به شرح ذیل است:\n",
      "\n",
      "برق تهران ۷ - هیئت جودو چناران صفر\n",
      "\n",
      "هیئت جودو قم ۳ - نفت مسجد سلیمان ۴\n",
      "\n",
      "هیئت جودو البرز ۷ - هیئت جودو همدان صفر\n",
      "\n",
      "تاسیسات ترخان نوشهر ۷ - هیئت جودو آذربایجان صفر\n",
      "\n",
      "رعد پدافند هوایی ۷ - هیئت جودو چناران صفر\n",
      "\n",
      "پاس خراسان رضوی ۷ - شیخ السلام چالوسی صفر\n",
      "\n",
      "هیئت جودو البرز ۴ - برق تهران ۳\n",
      "\n",
      "هیئت جودو اصفهان ۴ - شاهین تهران ۳\n",
      "\n",
      "خانه جودو ملک ۶ - بسیج قم ۱\n",
      "\n",
      "تاسیسات ترخان نوشهر ۷ - نفت مسجد سلیمان صفر\n",
      "\n",
      "هیئت جودو چناران ۱ - هیئت جودو البرز ۶\n",
      "\n",
      "هیئت جودو همدان صفر - رعد پدافند سمنان ۷\n",
      "\n",
      "هیئت جودو قم ۵ - هیئت جودو آذربایجان غربی ۲\n",
      "\n",
      "هیئت جودو آذربایجان غربی ۲ - نفت مسجد سلیمان ۵\n",
      "\n",
      "بسیج قم ۶ - هیئت جودو سید آباد ۱\n",
      "\n",
      "رعد پدافند سمنان ۶ - هیئت جودو البرز ۱\n",
      "\n",
      "تاسیسات ترخان نوشهر ۵ - هیئت جودو قم ۲\n",
      "\n",
      "شاهین تهران ۵ - شیخ الاسلام چالوس ۲\n",
      "\n",
      "هیئت جودو اصفهان ۱- خوشگوار مشهد ۶\n",
      "\n",
      "خانه جودو ملک۷ - هیئت جودو سید آباد صفر\n",
      "\n",
      "هیئت جودو همدان ۳ - برق تهران ۴\n",
      "\n",
      "خشگوار مشهد ۷ - شاهین تهران صفر\n",
      "\n",
      "هیئت جودو اصفهان ۴ - شیخ الاسلام ۳\n",
      "\n",
      "هیئت جودو همدان ۵ - هیئت جودو چناران ۲\n",
      "\n",
      "رعد پدافند هوایی ۷ - برق تهران صفر\n",
      "\n",
      "انتهای پیام\n",
      "\n",
      "\n",
      "category: culture\n",
      "content: \n",
      "به گزارش ایسنا، در اولین هفته از دور پایانی لیگ‌برتر فوتسال سه دیدار به طور\n",
      "همزمان برگزار شد که در مهمترین آن‌ها مس سونگون ورزقان در حالی که دو بر صفر از\n",
      "گیتی‌پسند عقب افتاده بود با کامبکی رویارویی توانست با نتیجه ۳ بر ۲ بازی فینال\n",
      "گونه دور رفت را به پایان ببرد تا همچنان تیم همیشه برنده در اصفهان و این بازی\n",
      "حساس باقی بماند.\n",
      "\n",
      "در مشهد هم تیم مجید مرتضایی، فرش‌آرا نتوانست تیم همیشگی خود باشد و در یک بازی\n",
      "پر حاشیه با ۵گل تن به شکست برابر تیم جوان مقاومت البرز داد.\n",
      "\n",
      "اما در سومین دیدار امروز سن‌ایچ ساوه در الوند دست به کاری بزرگ زد و در خانه\n",
      "حریف گل اول بازی را به سود خود به ثمر رساند. شاگردان جواد اصغری‌مقدم در عین\n",
      "اینکه در ادامه از تیم کهکشانی کراپ با دو گل عقب افتادند باز هم پا پس نگذاشته و\n",
      "در نهایت با گل تساوی این بازی را به پایان بردند.\n",
      "\n",
      "انتهای پیام\n",
      "\n",
      "\n",
      "category: culture\n",
      "content: \n",
      "به گزارش ایسنا، اولین مرحله لیگ کاراته وان در سال ۲۰۲۱ از فردا جمعه با حضور\n",
      "۵۸۴ کاراته کا از ۷۲ کشور در استانبول ترکیه آغاز می‌شود.\n",
      "\n",
      "بر اساس قرعه‌کشی انجام شده، نمایندگان ایران طبق زمانبندی اعلامی به مصاف\n",
      "رقبایشان می‌روند.\n",
      "\n",
      "در بخش کاتای انفرادی بانوان، فاطمه صادقی در گروه یک مقابل حریفانی از روسیه،\n",
      "سوئیس، دو نماینده از اسپانیا، ترکیه، پرتغال، اسلواکی، تایلند و ایتالیا به\n",
      "رقابت خواهد پرداخت.\n",
      "\n",
      "نگین باقری در گروه ۳ مقابل حریفانی از ترکیه، ایتالیا، اسلواکی، دو نماینده از\n",
      "اسپانیا، مصر، سوئد، جمهوری چک، کلمبیا، مصر به میدان می رود.\n",
      "\n",
      "مهسا افسانه در گروه ۴ با نمایندگانی از ترکیه دو نماینده از اسپانیا، اسلواکی،\n",
      "مونته نگرو، ایتالیا، اتریش، روسیه و مقدونیه مصاف خواهد داشت.\n",
      "\n",
      "در وزن منفی ۵۰ کیلوگرم، سارا بهمنیار پس از قرعه استراحت در دور دوم باید با\n",
      "برنده دیدار بلغارستان و روسیه دیدار کند.\n",
      "\n",
      "در وزن منفی ۵۵ کیلوگرم، طراوت خاکسار در گام نخست با هانا کوکلوا از اسلواکی\n",
      "دیدار خواهد کرد.\n",
      "\n",
      "در وزن منفی ۶۱ کیلوگرم، رزیتا علیپور در دیدار نخست با جیسا ریستیک از اسلوونی\n",
      "دیدار خواهد کرد. شیما آل سعدی در گام نخست فاطیما ناز ینن از ترکیه را پیش رو\n",
      "خواهد داشت و در صورت برد با سیلویا هرست از سوئیس دیدار خواهد کرد.\n",
      "\n",
      "در بخش کاتای انفرادی مردان، ابوالفضل شهرجردی در گروه ۴ با نمایندگانی از\n",
      "اسلواکی، ترکیه، مجارستان، آمریکا، اسپانیا و رومانی به رقابت خواهد پرداخت.\n",
      "\n",
      "کاتا تیمی ایران (میلاد فرازمهر، ابوالفضل شهرجردی، علی زند) در گروه ۲ در مقابل\n",
      "تیم هایی از اسپانیا، دو تیم از ترکیه و اوکراین دیدار خواهند کرد.\n",
      "\n",
      "در وزن منفی ۶۷ کیلوگرم، امیر مهدی زاده در دور اول با جیوان لی از کره جنوبی\n",
      "روبرو خواهد شد و در صورت برد در دور دوم با دانیل دانیلو از روسیه به رقابت\n",
      "خواهد پرداخت.\n",
      "\n",
      "همچنین امیررضا میرزایی در دور نخست به مصاف یوینی دیشلونکو از اوکراین خواهد رفت\n",
      "و در صورت پیروزی با دیوید کوهن از آلمان دیدار خواهد کرد.\n",
      "\n",
      "در وزن منفی ۷۵ کیلوگرم، بهمن عسگری در دور نخست با یوسف الامانی از قطر به رقابت\n",
      "خواهد پرداخت.\n",
      "\n",
      "همچنین علی اصغر آسیابری دیگر نماینده ایران در دور نخست، کاریل کازنتکو از روسیه\n",
      "را پیش رو خواهد داشت و در صورت پیروزی به مصاف هنری وکوا از گرجستان می رود.\n",
      "\n",
      "در وزن منفی ۸۴ کیلوگرم، ذبیح اله پورشیب در گام نخست دانیل جورجی از مجارستان را\n",
      "پیش رو خواهد داشت.\n",
      "\n",
      "در وزن مثبت ۸۴ کیلوگرم، سجاد گنج زاده در رقابت نخست به مصاف طارق طاها محمود از\n",
      "مصر خواهد رفت و در صورت پیروزی با برنده بلژیک و مجارستان دیدار خواهد کرد.\n",
      "\n",
      "این رقابتها به مدت سه روز تا روز یکشنبه ۲۴ اسفند ماه ادامه دارد و در نخستین\n",
      "روز مسابقات کاتای انفرادی بانوان ، کاتای تیمی آقایان و رقابتهای اوزان ۶۰- ،\n",
      "۶۷- و ۷۵- کیلوگرم آقایان و اوزان ۵۰- و ۵۵- کیلوگرم بانوان انجام خواهد شد.\n",
      "\n",
      "در روز دوم کاتا انفرادی آقایان، کاتا تیمی بانوان، اوزان ۸۴- و ۸۴+ آقایان و\n",
      "اوزان ۶۱- ، ۶۸- و ۶۸+ بانوان برگزار می شود. رقابت های کسب مدال برنز و فینال\n",
      "نیز روز سوم مسابقات(یکشنبه) انجام می شود.\n",
      "\n",
      "انتهای پیام\n",
      "\n",
      "\n",
      "category: culture\n",
      "content: \n",
      "به گزارش ایسنا، مسعود سلطانی فر در واکنش به انتشار برخی اخبار در خصوص احتمال\n",
      "میزبانی یکی از کشورهای حوزه جنوبی خلیج فارس در رقابت های مقدماتی جام جهانی و\n",
      "انتخاب عربستان بعنوان میزبان یکی از گروه های حاضر در لیگ قهرمانان آسیا، این\n",
      "تصمیم را ناعادلانه دانست.\n",
      "\n",
      "سلطانی‌فر در این نامه ها خواستار جلوگیری از برخی نگاه های سیاسی شد و تصمیم\n",
      "گیری های سیاسی را باعث خدشه به جایگاه کنفدراسیون فوتبال آسیا و فیفا دانست که\n",
      "باعث می شود فوتبال نقش غیرسیاسی خود را فراموش کند.\n",
      "\n",
      "همچنین وزارت ورزش و جوانان با همکاری فدراسیون فوتبال و وزارت امور خارجه در حال\n",
      "بررسی وضعیت تیمهای باشگاهی ایران در رقابت های لیگ قهرمانان آسیا در صورت تغییر\n",
      "نیافتن میزبانی عربستان در این رقابت هاست.\n",
      "\n",
      "انتهای پیام\n",
      "\n",
      "\n"
     ]
    }
   ],
   "source": [
    "for i in range(len(test_dataset)):\n",
    "    print('category: {}'.format(test_dataset['category'].iloc[i]))\n",
    "    print('content: \\n{}'.format(test_dataset['content'].iloc[i]))"
   ]
  },
  {
   "cell_type": "markdown",
   "metadata": {},
   "source": [
    "Did not work :(  \n",
    "(I do not know what is the bug here)"
   ]
  },
  {
   "cell_type": "markdown",
   "metadata": {},
   "source": [
    "# Saving our results "
   ]
  },
  {
   "cell_type": "code",
   "execution_count": 64,
   "metadata": {},
   "outputs": [],
   "source": [
    "test_dataset.to_pickle('data-set/test_dataset_categorized.pickle')"
   ]
  },
  {
   "cell_type": "markdown",
   "metadata": {},
   "source": [
    "---"
   ]
  }
 ],
 "metadata": {
  "colab": {
   "collapsed_sections": [],
   "name": "Copy of knn.ipynb",
   "provenance": []
  },
  "kernelspec": {
   "display_name": "Python 3 (ipykernel)",
   "language": "python",
   "name": "python3"
  },
  "language_info": {
   "codemirror_mode": {
    "name": "ipython",
    "version": 3
   },
   "file_extension": ".py",
   "mimetype": "text/x-python",
   "name": "python",
   "nbconvert_exporter": "python",
   "pygments_lexer": "ipython3",
   "version": "3.9.7"
  }
 },
 "nbformat": 4,
 "nbformat_minor": 1
}
