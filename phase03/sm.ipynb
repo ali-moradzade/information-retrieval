{
 "cells": [
  {
   "cell_type": "markdown",
   "metadata": {},
   "source": [
    "# By Ali Moradzade 9831058"
   ]
  },
  {
   "cell_type": "code",
   "execution_count": 1,
   "metadata": {},
   "outputs": [
    {
     "name": "stdout",
     "output_type": "stream",
     "text": [
      "Today's date: 2022-06-30\n"
     ]
    }
   ],
   "source": [
    "from datetime import date\n",
    "\n",
    "today = date.today()\n",
    "print(\"Today's date:\", today)"
   ]
  },
  {
   "cell_type": "markdown",
   "metadata": {
    "id": "y5vthoJMuBpn",
    "tags": []
   },
   "source": [
    "# Similarity Modulation"
   ]
  },
  {
   "cell_type": "markdown",
   "metadata": {
    "id": "-_FPiNrFMYmY"
   },
   "source": [
    "Here we are going to implement another similarity other that the BM25 which is the default in Elastic. We want you to implement a tf-idf similarity and test it with same queries in phase2 so that you can get a sense of how well your Elastic tf-idf works. Follow the instructions and fill where ever it says # TODO.  <br>\n",
    "You can contact me in case of any problems via Telegram: @mahvash_sp"
   ]
  },
  {
   "cell_type": "code",
   "execution_count": 2,
   "metadata": {
    "id": "EbwCj28juBps"
   },
   "outputs": [],
   "source": [
    "from elasticsearch import Elasticsearch, helpers\n",
    "import json\n",
    "import warnings"
   ]
  },
  {
   "cell_type": "code",
   "execution_count": 3,
   "metadata": {},
   "outputs": [],
   "source": [
    "import numpy as np\n",
    "import pandas as pd"
   ]
  },
  {
   "cell_type": "code",
   "execution_count": 4,
   "metadata": {
    "id": "y4xg-Rhk5ub0"
   },
   "outputs": [],
   "source": [
    "# Filter warnings\n",
    "warnings.filterwarnings('ignore')"
   ]
  },
  {
   "cell_type": "markdown",
   "metadata": {
    "id": "tJ3Kf58zuBpv"
   },
   "source": [
    "After starting your Elasticsearch on your pc (localhost:9200 is the default) we have to connect to it via the following piece of code\n"
   ]
  },
  {
   "cell_type": "code",
   "execution_count": 5,
   "metadata": {
    "id": "_yyuk50M5ub2"
   },
   "outputs": [],
   "source": [
    "# Here we try to connect to Elastic\n",
    "es = Elasticsearch(\"http://localhost:9200\")"
   ]
  },
  {
   "cell_type": "code",
   "execution_count": 6,
   "metadata": {},
   "outputs": [
    {
     "data": {
      "text/plain": [
       "True"
      ]
     },
     "execution_count": 6,
     "metadata": {},
     "output_type": "execute_result"
    }
   ],
   "source": [
    "es.ping()"
   ]
  },
  {
   "cell_type": "markdown",
   "metadata": {
    "id": "fCY5fnsd5ub5",
    "tags": []
   },
   "source": [
    "## Create tf-idf Index"
   ]
  },
  {
   "cell_type": "markdown",
   "metadata": {
    "id": "8mA8caevuBpx",
    "tags": []
   },
   "source": [
    "### Create Index"
   ]
  },
  {
   "cell_type": "code",
   "execution_count": 7,
   "metadata": {
    "id": "KGcQKuO6uBpx"
   },
   "outputs": [],
   "source": [
    "# Name of index \n",
    "sm_index_name = 'tfidf_index'"
   ]
  },
  {
   "cell_type": "code",
   "execution_count": 8,
   "metadata": {
    "id": "jAO61WFi5ub6"
   },
   "outputs": [
    {
     "data": {
      "text/plain": [
       "ObjectApiResponse({'acknowledged': True, 'shards_acknowledged': True, 'index': 'tfidf_index'})"
      ]
     },
     "execution_count": 8,
     "metadata": {},
     "output_type": "execute_result"
    }
   ],
   "source": [
    "# Delete index if one does exist\n",
    "if es.indices.exists(index=sm_index_name):\n",
    "    es.indices.delete(index=sm_index_name)\n",
    "\n",
    "# Create index    \n",
    "es.indices.create(index=sm_index_name)"
   ]
  },
  {
   "cell_type": "markdown",
   "metadata": {
    "id": "nMipnzi9uBpy",
    "tags": []
   },
   "source": [
    "### Add documents"
   ]
  },
  {
   "cell_type": "markdown",
   "metadata": {
    "id": "zwRjta2P85gJ"
   },
   "source": [
    "#### Load Processed Data"
   ]
  },
  {
   "cell_type": "code",
   "execution_count": 9,
   "metadata": {},
   "outputs": [],
   "source": [
    "df = pd.read_pickle('../results/preprocessed-phase02.pickle')"
   ]
  },
  {
   "cell_type": "code",
   "execution_count": 10,
   "metadata": {},
   "outputs": [
    {
     "data": {
      "text/html": [
       "<div>\n",
       "<style scoped>\n",
       "    .dataframe tbody tr th:only-of-type {\n",
       "        vertical-align: middle;\n",
       "    }\n",
       "\n",
       "    .dataframe tbody tr th {\n",
       "        vertical-align: top;\n",
       "    }\n",
       "\n",
       "    .dataframe thead th {\n",
       "        text-align: right;\n",
       "    }\n",
       "</style>\n",
       "<table border=\"1\" class=\"dataframe\">\n",
       "  <thead>\n",
       "    <tr style=\"text-align: right;\">\n",
       "      <th></th>\n",
       "      <th>id</th>\n",
       "      <th>title</th>\n",
       "      <th>content</th>\n",
       "      <th>tags</th>\n",
       "      <th>date</th>\n",
       "      <th>url</th>\n",
       "      <th>category</th>\n",
       "      <th>preprocessed</th>\n",
       "    </tr>\n",
       "  </thead>\n",
       "  <tbody>\n",
       "    <tr>\n",
       "      <th>0</th>\n",
       "      <td>0</td>\n",
       "      <td>اعلام زمان قرعه کشی جام باشگاه های فوتسال آسیا</td>\n",
       "      <td>\\nبه گزارش خبرگزاری فارس، کنفدراسیون فوتبال آس...</td>\n",
       "      <td>[اعلام زمان, قرعه‌کشی, قرعه‌کشی جام, قرعه‌کشی ...</td>\n",
       "      <td>3/15/2022 5:59:27 PM</td>\n",
       "      <td>https://www.farsnews.ir/news/14001224001005/اع...</td>\n",
       "      <td>sports</td>\n",
       "      <td>{'گزارش': 1, 'خبرگزاری': 1, 'فارس': 1, 'کنفدرا...</td>\n",
       "    </tr>\n",
       "    <tr>\n",
       "      <th>1</th>\n",
       "      <td>1</td>\n",
       "      <td>سجادی :حضور تماشاگران در  لیگ برتر فوتبال تابع...</td>\n",
       "      <td>\\nبه گزارش خبرگزاری فارس، سید حمید سجادی در حا...</td>\n",
       "      <td>[سجادی, لیگ, فدراسیون, وزیر ورزش]</td>\n",
       "      <td>3/15/2022 5:30:07 PM</td>\n",
       "      <td>https://www.farsnews.ir/news/14001224000982/سج...</td>\n",
       "      <td>sports</td>\n",
       "      <td>{'گزارش': 1, 'خبرگزاری': 1, 'فارس': 1, 'سید': ...</td>\n",
       "    </tr>\n",
       "    <tr>\n",
       "      <th>2</th>\n",
       "      <td>2</td>\n",
       "      <td>محل برگزاری نشست‌های خبری سرخابی‌ها؛ مجیدی در ...</td>\n",
       "      <td>\\nبه گزارش خبرگزاری فارس، نشست خبری پیش از مسا...</td>\n",
       "      <td>[دربی 94, محل برگزاری, خبری سرخابی‌ها, مجیدی, ...</td>\n",
       "      <td>3/15/2022 5:20:01 PM</td>\n",
       "      <td>https://www.farsnews.ir/news/14001224000971/مح...</td>\n",
       "      <td>sports</td>\n",
       "      <td>{'گزارش': 1, 'خبرگزاری': 1, 'فارس': 1, 'خبری':...</td>\n",
       "    </tr>\n",
       "    <tr>\n",
       "      <th>3</th>\n",
       "      <td>3</td>\n",
       "      <td>ماجدی در نشست با صالحی امیری: امیدوارم در این ...</td>\n",
       "      <td>\\nبه گزارش خبرگزاری فارس،  سید رضا صالحی امیری...</td>\n",
       "      <td>[کمیته امداد امام خمینی (ره), کمیته ملی المپیک...</td>\n",
       "      <td>3/15/2022 5:18:00 PM</td>\n",
       "      <td>https://www.farsnews.ir/news/14001224000964/ما...</td>\n",
       "      <td>sports</td>\n",
       "      <td>{'گزارش': 1, 'خبرگزاری': 1, 'فارس': 1, 'سید': ...</td>\n",
       "    </tr>\n",
       "    <tr>\n",
       "      <th>4</th>\n",
       "      <td>4</td>\n",
       "      <td>لیگ‌برتر بسکتبال|‌ نخستین پیروزی شهرداری گرگان...</td>\n",
       "      <td>\\nبه گزارش خبرنگار ورزشی خبرگزاری فارس، در نخس...</td>\n",
       "      <td>[بسکتبال, لیگ برتر بسکتبال, شهرداری گرگان, تیم...</td>\n",
       "      <td>3/15/2022 5:16:41 PM</td>\n",
       "      <td>https://www.farsnews.ir/news/14001224000947/لی...</td>\n",
       "      <td>sports</td>\n",
       "      <td>{'گزارش': 1, 'خبرنگار': 1, 'ورزشی': 1, 'خبرگزا...</td>\n",
       "    </tr>\n",
       "  </tbody>\n",
       "</table>\n",
       "</div>"
      ],
      "text/plain": [
       "   id                                              title  \\\n",
       "0   0     اعلام زمان قرعه کشی جام باشگاه های فوتسال آسیا   \n",
       "1   1  سجادی :حضور تماشاگران در  لیگ برتر فوتبال تابع...   \n",
       "2   2  محل برگزاری نشست‌های خبری سرخابی‌ها؛ مجیدی در ...   \n",
       "3   3  ماجدی در نشست با صالحی امیری: امیدوارم در این ...   \n",
       "4   4  لیگ‌برتر بسکتبال|‌ نخستین پیروزی شهرداری گرگان...   \n",
       "\n",
       "                                             content  \\\n",
       "0  \\nبه گزارش خبرگزاری فارس، کنفدراسیون فوتبال آس...   \n",
       "1  \\nبه گزارش خبرگزاری فارس، سید حمید سجادی در حا...   \n",
       "2  \\nبه گزارش خبرگزاری فارس، نشست خبری پیش از مسا...   \n",
       "3  \\nبه گزارش خبرگزاری فارس،  سید رضا صالحی امیری...   \n",
       "4  \\nبه گزارش خبرنگار ورزشی خبرگزاری فارس، در نخس...   \n",
       "\n",
       "                                                tags                  date  \\\n",
       "0  [اعلام زمان, قرعه‌کشی, قرعه‌کشی جام, قرعه‌کشی ...  3/15/2022 5:59:27 PM   \n",
       "1                  [سجادی, لیگ, فدراسیون, وزیر ورزش]  3/15/2022 5:30:07 PM   \n",
       "2  [دربی 94, محل برگزاری, خبری سرخابی‌ها, مجیدی, ...  3/15/2022 5:20:01 PM   \n",
       "3  [کمیته امداد امام خمینی (ره), کمیته ملی المپیک...  3/15/2022 5:18:00 PM   \n",
       "4  [بسکتبال, لیگ برتر بسکتبال, شهرداری گرگان, تیم...  3/15/2022 5:16:41 PM   \n",
       "\n",
       "                                                 url category  \\\n",
       "0  https://www.farsnews.ir/news/14001224001005/اع...   sports   \n",
       "1  https://www.farsnews.ir/news/14001224000982/سج...   sports   \n",
       "2  https://www.farsnews.ir/news/14001224000971/مح...   sports   \n",
       "3  https://www.farsnews.ir/news/14001224000964/ما...   sports   \n",
       "4  https://www.farsnews.ir/news/14001224000947/لی...   sports   \n",
       "\n",
       "                                        preprocessed  \n",
       "0  {'گزارش': 1, 'خبرگزاری': 1, 'فارس': 1, 'کنفدرا...  \n",
       "1  {'گزارش': 1, 'خبرگزاری': 1, 'فارس': 1, 'سید': ...  \n",
       "2  {'گزارش': 1, 'خبرگزاری': 1, 'فارس': 1, 'خبری':...  \n",
       "3  {'گزارش': 1, 'خبرگزاری': 1, 'فارس': 1, 'سید': ...  \n",
       "4  {'گزارش': 1, 'خبرنگار': 1, 'ورزشی': 1, 'خبرگزا...  "
      ]
     },
     "execution_count": 10,
     "metadata": {},
     "output_type": "execute_result"
    }
   ],
   "source": [
    "df.head()"
   ]
  },
  {
   "cell_type": "markdown",
   "metadata": {},
   "source": [
    "#### Making preprocessed column string"
   ]
  },
  {
   "cell_type": "code",
   "execution_count": 11,
   "metadata": {},
   "outputs": [],
   "source": [
    "def join_spacewise(dictionary):\n",
    "    result = ''\n",
    "    for term in dictionary.keys():\n",
    "        result += ' ' + term\n",
    "        \n",
    "    return result"
   ]
  },
  {
   "cell_type": "code",
   "execution_count": 12,
   "metadata": {},
   "outputs": [],
   "source": [
    "df['preprocessed'] = df['preprocessed'].apply(join_spacewise)"
   ]
  },
  {
   "cell_type": "markdown",
   "metadata": {},
   "source": [
    "#### Converting dataframe to dictionary"
   ]
  },
  {
   "cell_type": "code",
   "execution_count": 13,
   "metadata": {},
   "outputs": [],
   "source": [
    "dict_df = df.to_dict('records')"
   ]
  },
  {
   "cell_type": "markdown",
   "metadata": {},
   "source": [
    "#### Converting dictionary to elastic search format"
   ]
  },
  {
   "cell_type": "code",
   "execution_count": 14,
   "metadata": {},
   "outputs": [
    {
     "data": {
      "text/plain": [
       "Index(['id', 'title', 'content', 'tags', 'date', 'url', 'category',\n",
       "       'preprocessed'],\n",
       "      dtype='object')"
      ]
     },
     "execution_count": 14,
     "metadata": {},
     "output_type": "execute_result"
    }
   ],
   "source": [
    "df.columns"
   ]
  },
  {
   "cell_type": "code",
   "execution_count": 15,
   "metadata": {},
   "outputs": [],
   "source": [
    "def generator(df2):\n",
    "    for c, row in enumerate(dict_df):\n",
    "        yield {\n",
    "            '_index': sm_index_name,\n",
    "            '_id': row.get('id', None),\n",
    "            '_source': {\n",
    "                'title': row.get('title', None),\n",
    "                'content': row.get('content', None),\n",
    "                'tags': row.get('tags', None),\n",
    "                'date': row.get('date', None),\n",
    "                'url': row.get('url', None),\n",
    "                'category': row.get('category', None),\n",
    "                'preprocessed': row.get('preprocessed', None),\n",
    "            }\n",
    "        }\n",
    "    raise StopIteration"
   ]
  },
  {
   "cell_type": "markdown",
   "metadata": {},
   "source": [
    "#### Uploading data to index"
   ]
  },
  {
   "cell_type": "markdown",
   "metadata": {
    "id": "hiv35Uj3OTK2"
   },
   "source": [
    "#####  Bulk API"
   ]
  },
  {
   "cell_type": "markdown",
   "metadata": {},
   "source": [
    "Running below cell takes:\n",
    "```\n",
    "    CPU times: user 1.14 s, sys: 8.78 ms, total: 1.15 s\n",
    "    Wall time: 14 s\n",
    "```"
   ]
  },
  {
   "cell_type": "code",
   "execution_count": 16,
   "metadata": {},
   "outputs": [
    {
     "name": "stdout",
     "output_type": "stream",
     "text": [
      "CPU times: user 1.15 s, sys: 29.1 ms, total: 1.17 s\n",
      "Wall time: 13.9 s\n"
     ]
    }
   ],
   "source": [
    "%%time\n",
    "\n",
    "try:\n",
    "    res = helpers.bulk(es, generator(dict_df))\n",
    "    print('working ...')\n",
    "except Exception as e:\n",
    "    pass"
   ]
  },
  {
   "cell_type": "code",
   "execution_count": 17,
   "metadata": {
    "id": "KxmyyKf9uBp0",
    "outputId": "633e18c6-3886-4161-c919-99afa7f13e92"
   },
   "outputs": [
    {
     "data": {
      "text/plain": [
       "ObjectApiResponse({'count': 11500, '_shards': {'total': 1, 'successful': 1, 'skipped': 0, 'failed': 0}})"
      ]
     },
     "execution_count": 17,
     "metadata": {},
     "output_type": "execute_result"
    }
   ],
   "source": [
    "# Check index\n",
    "es.count(index = sm_index_name)"
   ]
  },
  {
   "cell_type": "markdown",
   "metadata": {
    "id": "csyy2vtEuBp0",
    "tags": []
   },
   "source": [
    "### Configuring a similarity"
   ]
  },
  {
   "cell_type": "markdown",
   "metadata": {
    "id": "a2wum2BOuBp0"
   },
   "source": [
    "In order to configure a new similarity function you have to change the similarity from the settings api of the index. This can be done via the function 'put_settings' in python. What we do is to change the 'default' similarity function in Elastic so that it uses the replaced similarity instead. Type of this similarity is set to 'scripted' because tf-idf is not among the pre-defined similarity functions in Elastic anymore. As this similarity is a scripted type the source code of it must be written **by you** and passed to it.<br>\n",
    "> In order for the changes to be applied, first we close the index and change the settings and then reopen it<br>\n",
    "\n",
    "Write the tf-idf code in a string and pass it as a value to the \"source\" key. <br>\n",
    "You can find the variables needed in your code in [Here](https://www.elastic.co/guide/en/elasticsearch/painless/current/painless-similarity-context.html)."
   ]
  },
  {
   "cell_type": "code",
   "execution_count": 18,
   "metadata": {
    "id": "YzQJGr24uBp1"
   },
   "outputs": [],
   "source": [
    "source_code = \"double tf = Math.sqrt(doc.freq); double idf = Math.log((field.docCount+1.0)/(term.docFreq+1.0)) + 1.0; double norm = 1/Math.sqrt(doc.length); return query.boost * tf * idf * norm;\"                                 "
   ]
  },
  {
   "cell_type": "markdown",
   "metadata": {},
   "source": [
    "You should run the bellow cell two times, otherwise you get error."
   ]
  },
  {
   "cell_type": "code",
   "execution_count": 20,
   "metadata": {
    "id": "Wjdp3J3T5ub7",
    "outputId": "b41302cd-777d-4c80-ad4e-ca9865c271e9"
   },
   "outputs": [
    {
     "data": {
      "text/plain": [
       "ObjectApiResponse({'acknowledged': True, 'shards_acknowledged': True})"
      ]
     },
     "execution_count": 20,
     "metadata": {},
     "output_type": "execute_result"
    }
   ],
   "source": [
    "# closing the index\n",
    "es.indices.close(index=sm_index_name)\n",
    "\n",
    "# applying the settings\n",
    "es.indices.put_settings(index=sm_index_name, \n",
    "                            settings={\n",
    "                                \"similarity\": {\n",
    "                                      \"default\": {\n",
    "                                        \"type\": \"scripted\",\n",
    "                                        \"script\": {\n",
    "                                             \"source\": source_code}\n",
    "                                      }\n",
    "                                }\n",
    "                            }\n",
    "                       )\n",
    "\n",
    "# reopening the index\n",
    "es.indices.open(index=sm_index_name)"
   ]
  },
  {
   "cell_type": "markdown",
   "metadata": {
    "id": "ghBUm8V8uBp1",
    "tags": []
   },
   "source": [
    "### Query"
   ]
  },
  {
   "cell_type": "markdown",
   "metadata": {
    "id": "XfMeKtYiN-fu"
   },
   "source": [
    "In this section you have to test your index with same queries you tested phase2. The goal here is to observe how different or simillar your tf-idf Elastic implementation works."
   ]
  },
  {
   "cell_type": "code",
   "execution_count": 21,
   "metadata": {
    "executionInfo": {
     "elapsed": 4,
     "status": "ok",
     "timestamp": 1654237270680,
     "user": {
      "displayName": "Mahvash Siavashpour",
      "userId": "18425997334276185054"
     },
     "user_tz": -270
    },
    "id": "YWJ5w3unuBp2"
   },
   "outputs": [],
   "source": [
    "# A function that creates appropriate body for our match content type query\n",
    "def get_query(text):\n",
    "    query = {\n",
    "        \"match\": {\n",
    "            \"preprocessed\": text\n",
    "        }\n",
    "    }\n",
    "    return query"
   ]
  },
  {
   "cell_type": "code",
   "execution_count": 22,
   "metadata": {
    "id": "7UJKTdWuuBp2"
   },
   "outputs": [],
   "source": [
    "queries = [\n",
    "    'کنفدراسیون',\n",
    "    'ورزشگاه آزادی',\n",
    "    'مرحله‌پلی‌آف‌لیگ 2',\n",
    "    'آسترازنکا',\n",
    "    'مرحله‌پلی‌آف‌لیگ فیدر ‌ندا‌شهسواری',\n",
    "    'میقولی',\n",
    "    'آسترازنکا میقولی؟'\n",
    "]"
   ]
  },
  {
   "cell_type": "code",
   "execution_count": 23,
   "metadata": {
    "id": "d2jhW3twuBp2"
   },
   "outputs": [],
   "source": [
    "all_res_tfidf = []\n",
    "\n",
    "\n",
    "for q in queries:\n",
    "    res_tfidf = es.search(index=sm_index_name, query=get_query(q), explain=True, size=5)\n",
    "    all_res_tfidf.append(dict(res_tfidf))"
   ]
  },
  {
   "cell_type": "code",
   "execution_count": 24,
   "metadata": {
    "id": "gesmaSYHuBp3"
   },
   "outputs": [
    {
     "name": "stdout",
     "output_type": "stream",
     "text": [
      "کنفدراسیون\n",
      "https://www.farsnews.ir/news/14001104000657/بازدید-ناظران-AFC-از-استادیوم-آزادی-عکس\n",
      "https://www.farsnews.ir/news/14001212000268/میزبان-لیگ-قهرمانان-در-غرب-آسیا-مشخص-شد\n",
      "https://www.farsnews.ir/news/14001027000611/اعلام-ساعت-دیدارهای-تیم-ملی-مقابل-عراق-و-امارات\n",
      "https://www.farsnews.ir/news/14001020000675/موافقت-AFC-با-درخواست-پرسپولیس\n",
      "https://www.farsnews.ir/news/14001112000993/واکنش-AFC-به-پیروزی-تیم-ملی-مقابل-شاگردان-مارویک-اماراتی-ها-با-گل\n",
      "----------------------------\n",
      "ورزشگاه آزادی\n",
      "https://www.farsnews.ir/news/14001104000657/بازدید-ناظران-AFC-از-استادیوم-آزادی-عکس\n",
      "https://www.farsnews.ir/news/14001106000296/برخلاف-شایعات-مطرح-شده-بازی-ایران-و-عراق-با-حضور-0-هزار-تماشاگر\n",
      "https://www.farsnews.ir/news/14001107000649/بهترین-بازیکن-دیدار-تیم-ملی-مقابل-عراق-معرفی-شد\n",
      "https://www.farsnews.ir/news/14001007000217/پخش-زنده-نشست-خبری-فرهاد-مجیدی-پیش-از-دیدار-استقلال-و-فولاد\n",
      "https://www.farsnews.ir/news/14001107000561/حضور-وزیر-ورزش-در-ورزشگاه-آزادی-برای-تماشای-بازی-ایران-و-عراق\n",
      "----------------------------\n",
      "مرحله‌پلی‌آف‌لیگ 2\n",
      "https://www.farsnews.ir/news/14001224000947/لیگ‌برتر-بسکتبال|‌-نخستین-پیروزی-شهرداری-گرگان-و-ذوب‌آهن-در-پلی‌آف\n",
      "https://www.farsnews.ir/news/14001125000437/برنامه-بازی‌های-پلی‌آف-لیگ-برتر-والیبال-مشخص-شد\n",
      "https://www.farsnews.ir/news/14001219000880/لیگ-کنفرانس-اروپا|-پیروزی-پرگل-یاران-جهانبخش-برابر-پارتیزان\n",
      "https://www.farsnews.ir/news/14001028000330/برگزاری-مراسم-تشییع-دو-شهید-گمنام-با-حضور-اهالی-ورزش-فیلم\n",
      "https://www.farsnews.ir/news/14001008000385/اتفاق-عجیب-در-لیگ-دسته-اول-قربانی-به-خاطر-یک-مصاحبه-از-رایکا-برکنار\n",
      "----------------------------\n",
      "آسترازنکا\n",
      "----------------------------\n",
      "مرحله‌پلی‌آف‌لیگ فیدر ‌ندا‌شهسواری\n",
      "https://www.farsnews.ir/news/14001222000537/مسابقات-تنیس-روی-میز-قطر|-شکست-تیم-دو-نفره-بانوان-در-گام-نخست\n",
      "https://www.farsnews.ir/news/14001224000916/مسابقات-تنیس-روی-میز-فیدر-قطر|-هر4-بانوی-ملی-پوش-ایران-حذف-شدند\n",
      "https://www.farsnews.ir/news/14001224000947/لیگ‌برتر-بسکتبال|‌-نخستین-پیروزی-شهرداری-گرگان-و-ذوب‌آهن-در-پلی‌آف\n",
      "https://www.farsnews.ir/news/14001211000910/درخشش-دوباره-بازیکن-36-ساله-اعضای-تیم‌ملی-تنیس-روی-میز-مشخص-شدند\n",
      "https://www.farsnews.ir/news/14001112000231/سقوط-برادران-عالمیان-در-رنکینگ-جهانی-حاصل-غیبت-در-تورهای-بین-المللی\n",
      "----------------------------\n",
      "میقولی\n",
      "----------------------------\n",
      "آسترازنکا میقولی؟\n",
      "----------------------------\n"
     ]
    }
   ],
   "source": [
    "for res, q in zip(all_res_tfidf, queries):\n",
    "    print(q)\n",
    "    for doc in res['hits']['hits']:\n",
    "        print(doc['_source']['url'])\n",
    "    print(\"----------------------------\")"
   ]
  },
  {
   "cell_type": "markdown",
   "metadata": {},
   "source": [
    "# Deleting our created index"
   ]
  },
  {
   "cell_type": "code",
   "execution_count": 25,
   "metadata": {},
   "outputs": [],
   "source": [
    "if es.indices.exists(index=sm_index_name):\n",
    "    es.indices.delete(index=sm_index_name)"
   ]
  },
  {
   "cell_type": "markdown",
   "metadata": {},
   "source": [
    "---"
   ]
  }
 ],
 "metadata": {
  "colab": {
   "collapsed_sections": [],
   "name": "SM.ipynb",
   "provenance": []
  },
  "kernelspec": {
   "display_name": "Python 3 (ipykernel)",
   "language": "python",
   "name": "python3"
  },
  "language_info": {
   "codemirror_mode": {
    "name": "ipython",
    "version": 3
   },
   "file_extension": ".py",
   "mimetype": "text/x-python",
   "name": "python",
   "nbconvert_exporter": "python",
   "pygments_lexer": "ipython3",
   "version": "3.9.7"
  }
 },
 "nbformat": 4,
 "nbformat_minor": 1
}
